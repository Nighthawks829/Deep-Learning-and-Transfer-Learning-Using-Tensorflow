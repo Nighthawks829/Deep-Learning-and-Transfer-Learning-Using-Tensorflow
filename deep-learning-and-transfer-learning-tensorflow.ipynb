{
 "cells": [
  {
   "cell_type": "code",
   "execution_count": 1,
   "id": "ee79e404",
   "metadata": {
    "execution": {
     "iopub.execute_input": "2023-01-11T12:14:53.451525Z",
     "iopub.status.busy": "2023-01-11T12:14:53.450011Z",
     "iopub.status.idle": "2023-01-11T12:15:04.365563Z",
     "shell.execute_reply": "2023-01-11T12:15:04.364530Z",
     "shell.execute_reply.started": "2023-01-11T11:28:00.611264Z"
    },
    "papermill": {
     "duration": 10.989496,
     "end_time": "2023-01-11T12:15:04.365749",
     "exception": false,
     "start_time": "2023-01-11T12:14:53.376253",
     "status": "completed"
    },
    "tags": []
   },
   "outputs": [
    {
     "name": "stderr",
     "output_type": "stream",
     "text": [
      "2023-01-11 12:14:56.016094: I tensorflow/stream_executor/platform/default/dso_loader.cc:49] Successfully opened dynamic library libcudart.so.11.0\n"
     ]
    }
   ],
   "source": [
    "# Python ≥3.5 is required\n",
    "import sys\n",
    "assert sys.version_info >= (3, 5)\n",
    "\n",
    "# Scikit-Learn ≥0.20 is required\n",
    "import sklearn\n",
    "assert sklearn.__version__ >= \"0.20\"\n",
    "\n",
    "try:\n",
    "    # %tensorflow_version only exists in Colab.\n",
    "    %tensorflow_version 2.x\n",
    "except Exception:\n",
    "    pass\n",
    "\n",
    "# TensorFlow ≥2.0 is required\n",
    "import tensorflow as tf\n",
    "from tensorflow import keras\n",
    "assert tf.__version__ >= \"2.0\"\n",
    "\n",
    "%load_ext tensorboard\n",
    "\n",
    "# Common imports\n",
    "import numpy as np\n",
    "import os\n",
    "\n",
    "# to make this notebook's output stable across runs\n",
    "np.random.seed(42)\n",
    "\n",
    "# To plot pretty figures\n",
    "%matplotlib inline\n",
    "import matplotlib as mpl\n",
    "import matplotlib.pyplot as plt\n",
    "mpl.rc('axes', labelsize=14)\n",
    "mpl.rc('xtick', labelsize=12)\n",
    "mpl.rc('ytick', labelsize=12)\n",
    "\n",
    "\n",
    "import keras_tuner as kt\n",
    "import pandas as pd\n",
    "\n",
    "import warnings\n",
    "warnings.filterwarnings('ignore')"
   ]
  },
  {
   "cell_type": "code",
   "execution_count": 2,
   "id": "7cc5b023",
   "metadata": {
    "execution": {
     "iopub.execute_input": "2023-01-11T12:15:04.507563Z",
     "iopub.status.busy": "2023-01-11T12:15:04.506593Z",
     "iopub.status.idle": "2023-01-11T12:15:04.509012Z",
     "shell.execute_reply": "2023-01-11T12:15:04.508482Z",
     "shell.execute_reply.started": "2023-01-11T11:28:06.976102Z"
    },
    "papermill": {
     "duration": 0.074489,
     "end_time": "2023-01-11T12:15:04.509142",
     "exception": false,
     "start_time": "2023-01-11T12:15:04.434653",
     "status": "completed"
    },
    "tags": []
   },
   "outputs": [],
   "source": [
    "tf.random.set_seed(42)\n",
    "np.random.seed(42)"
   ]
  },
  {
   "cell_type": "markdown",
   "id": "7f5c9e11",
   "metadata": {
    "papermill": {
     "duration": 0.068454,
     "end_time": "2023-01-11T12:15:04.645670",
     "exception": false,
     "start_time": "2023-01-11T12:15:04.577216",
     "status": "completed"
    },
    "tags": []
   },
   "source": [
    "# Deep Learning"
   ]
  },
  {
   "cell_type": "markdown",
   "id": "aadbc0fb",
   "metadata": {
    "papermill": {
     "duration": 0.066722,
     "end_time": "2023-01-11T12:15:04.779408",
     "exception": false,
     "start_time": "2023-01-11T12:15:04.712686",
     "status": "completed"
    },
    "tags": []
   },
   "source": [
    "Import MNIST dataset "
   ]
  },
  {
   "cell_type": "code",
   "execution_count": 3,
   "id": "625d7af6",
   "metadata": {
    "execution": {
     "iopub.execute_input": "2023-01-11T12:15:04.917939Z",
     "iopub.status.busy": "2023-01-11T12:15:04.917110Z",
     "iopub.status.idle": "2023-01-11T12:15:05.405801Z",
     "shell.execute_reply": "2023-01-11T12:15:05.405271Z",
     "shell.execute_reply.started": "2023-01-11T11:28:06.983470Z"
    },
    "papermill": {
     "duration": 0.559875,
     "end_time": "2023-01-11T12:15:05.405941",
     "exception": false,
     "start_time": "2023-01-11T12:15:04.846066",
     "status": "completed"
    },
    "tags": []
   },
   "outputs": [
    {
     "name": "stdout",
     "output_type": "stream",
     "text": [
      "Downloading data from https://storage.googleapis.com/tensorflow/tf-keras-datasets/mnist.npz\n",
      "11493376/11490434 [==============================] - 0s 0us/step\n"
     ]
    }
   ],
   "source": [
    "(X_train_full,y_train_full),(X_test,y_test)=keras.datasets.mnist.load_data()"
   ]
  },
  {
   "cell_type": "markdown",
   "id": "514c1ffc",
   "metadata": {
    "papermill": {
     "duration": 0.067093,
     "end_time": "2023-01-11T12:15:05.540749",
     "exception": false,
     "start_time": "2023-01-11T12:15:05.473656",
     "status": "completed"
    },
    "tags": []
   },
   "source": [
    "Check the data shape and plot the image of the dataset"
   ]
  },
  {
   "cell_type": "code",
   "execution_count": 4,
   "id": "10a09fff",
   "metadata": {
    "execution": {
     "iopub.execute_input": "2023-01-11T12:15:05.682331Z",
     "iopub.status.busy": "2023-01-11T12:15:05.681661Z",
     "iopub.status.idle": "2023-01-11T12:15:05.685425Z",
     "shell.execute_reply": "2023-01-11T12:15:05.684664Z",
     "shell.execute_reply.started": "2023-01-11T11:28:07.386339Z"
    },
    "papermill": {
     "duration": 0.076937,
     "end_time": "2023-01-11T12:15:05.685584",
     "exception": false,
     "start_time": "2023-01-11T12:15:05.608647",
     "status": "completed"
    },
    "tags": []
   },
   "outputs": [
    {
     "name": "stdout",
     "output_type": "stream",
     "text": [
      "Training data size:  (60000, 28, 28)\n",
      "Testing data size:  (10000, 28, 28)\n"
     ]
    }
   ],
   "source": [
    "print(\"Training data size: \",X_train_full.shape)\n",
    "print(\"Testing data size: \",X_test.shape)\n"
   ]
  },
  {
   "cell_type": "code",
   "execution_count": 5,
   "id": "cd3d43f5",
   "metadata": {
    "execution": {
     "iopub.execute_input": "2023-01-11T12:15:05.842306Z",
     "iopub.status.busy": "2023-01-11T12:15:05.841763Z",
     "iopub.status.idle": "2023-01-11T12:15:05.966027Z",
     "shell.execute_reply": "2023-01-11T12:15:05.967171Z",
     "shell.execute_reply.started": "2023-01-11T11:28:07.393831Z"
    },
    "papermill": {
     "duration": 0.210893,
     "end_time": "2023-01-11T12:15:05.967483",
     "exception": false,
     "start_time": "2023-01-11T12:15:05.756590",
     "status": "completed"
    },
    "tags": []
   },
   "outputs": [
    {
     "data": {
      "image/png": "[encoded data removed]",
      "text/plain": [
       "<Figure size 432x288 with 1 Axes>"
      ]
     },
     "metadata": {
      "needs_background": "light"
     },
     "output_type": "display_data"
    }
   ],
   "source": [
    "plt.imshow(X_train_full[0],cmap='binary')\n",
    "plt.axis('off')\n",
    "plt.show()"
   ]
  },
  {
   "cell_type": "code",
   "execution_count": 6,
   "id": "66d9b50c",
   "metadata": {
    "execution": {
     "iopub.execute_input": "2023-01-11T12:15:06.192813Z",
     "iopub.status.busy": "2023-01-11T12:15:06.144651Z",
     "iopub.status.idle": "2023-01-11T12:15:07.696129Z",
     "shell.execute_reply": "2023-01-11T12:15:07.696665Z",
     "shell.execute_reply.started": "2023-01-11T11:28:07.560336Z"
    },
    "papermill": {
     "duration": 1.643958,
     "end_time": "2023-01-11T12:15:07.696839",
     "exception": false,
     "start_time": "2023-01-11T12:15:06.052881",
     "status": "completed"
    },
    "tags": []
   },
   "outputs": [
    {
     "data": {
      "image/png": "[encoded data removed]",
      "text/plain": [
       "<Figure size 864x345.6 with 40 Axes>"
      ]
     },
     "metadata": {
      "needs_background": "light"
     },
     "output_type": "display_data"
    }
   ],
   "source": [
    "n_rows = 4\n",
    "n_cols = 10\n",
    "plt.figure(figsize=(n_cols * 1.2, n_rows * 1.2))\n",
    "for row in range(n_rows):\n",
    "    for col in range(n_cols):\n",
    "        index = n_cols * row + col\n",
    "        plt.subplot(n_rows, n_cols, index + 1)\n",
    "        plt.imshow(X_train_full[index], cmap=\"binary\", interpolation=\"nearest\")\n",
    "        plt.axis('off')\n",
    "plt.subplots_adjust(wspace=0.2, hspace=0.5)\n",
    "plt.show()"
   ]
  },
  {
   "cell_type": "markdown",
   "id": "0d0ffa27",
   "metadata": {
    "papermill": {
     "duration": 0.077191,
     "end_time": "2023-01-11T12:15:07.851459",
     "exception": false,
     "start_time": "2023-01-11T12:15:07.774268",
     "status": "completed"
    },
    "tags": []
   },
   "source": [
    "Split the full training set into a validation set (20% of the training dataset) and a training set. Then Scale the pixel intensities down to the 0-1 range and convert them to floats, by dividing by 255."
   ]
  },
  {
   "cell_type": "code",
   "execution_count": 7,
   "id": "e910b8f0",
   "metadata": {
    "execution": {
     "iopub.execute_input": "2023-01-11T12:15:08.006978Z",
     "iopub.status.busy": "2023-01-11T12:15:08.005959Z",
     "iopub.status.idle": "2023-01-11T12:15:08.010817Z",
     "shell.execute_reply": "2023-01-11T12:15:08.010350Z",
     "shell.execute_reply.started": "2023-01-11T11:28:09.479296Z"
    },
    "papermill": {
     "duration": 0.083288,
     "end_time": "2023-01-11T12:15:08.010936",
     "exception": false,
     "start_time": "2023-01-11T12:15:07.927648",
     "status": "completed"
    },
    "tags": []
   },
   "outputs": [
    {
     "data": {
      "text/plain": [
       "60000"
      ]
     },
     "execution_count": 7,
     "metadata": {},
     "output_type": "execute_result"
    }
   ],
   "source": [
    "X_train_full.shape[0]"
   ]
  },
  {
   "cell_type": "code",
   "execution_count": 8,
   "id": "21bfc9bb",
   "metadata": {
    "execution": {
     "iopub.execute_input": "2023-01-11T12:15:08.163751Z",
     "iopub.status.busy": "2023-01-11T12:15:08.162668Z",
     "iopub.status.idle": "2023-01-11T12:15:08.304343Z",
     "shell.execute_reply": "2023-01-11T12:15:08.303834Z",
     "shell.execute_reply.started": "2023-01-11T11:28:09.488710Z"
    },
    "papermill": {
     "duration": 0.217601,
     "end_time": "2023-01-11T12:15:08.304492",
     "exception": false,
     "start_time": "2023-01-11T12:15:08.086891",
     "status": "completed"
    },
    "tags": []
   },
   "outputs": [],
   "source": [
    "X_valid,X_train=X_train_full[:int(X_train_full.shape[0]*0.2)]/255.,X_train_full[int(X_train_full.shape[0]*0.2):]/255.0\n",
    "y_valid,y_train=y_train_full[:int(y_train_full.shape[0]*0.2)],y_train_full[int(y_train_full.shape[0]*0.2):]\n",
    "X_test=X_test/255."
   ]
  },
  {
   "cell_type": "code",
   "execution_count": 9,
   "id": "793531b7",
   "metadata": {
    "execution": {
     "iopub.execute_input": "2023-01-11T12:15:08.455612Z",
     "iopub.status.busy": "2023-01-11T12:15:08.454782Z",
     "iopub.status.idle": "2023-01-11T12:15:08.459147Z",
     "shell.execute_reply": "2023-01-11T12:15:08.458453Z",
     "shell.execute_reply.started": "2023-01-11T11:28:09.637778Z"
    },
    "papermill": {
     "duration": 0.083978,
     "end_time": "2023-01-11T12:15:08.459324",
     "exception": false,
     "start_time": "2023-01-11T12:15:08.375346",
     "status": "completed"
    },
    "tags": []
   },
   "outputs": [
    {
     "name": "stdout",
     "output_type": "stream",
     "text": [
      "Training data size:  (48000, 28, 28)\n",
      "Validation data size:  (12000, 28, 28)\n"
     ]
    }
   ],
   "source": [
    "print(\"Training data size: \",X_train.shape)\n",
    "print(\"Validation data size: \",X_valid.shape)"
   ]
  },
  {
   "cell_type": "code",
   "execution_count": 10,
   "id": "eef215bd",
   "metadata": {
    "execution": {
     "iopub.execute_input": "2023-01-11T12:15:08.630009Z",
     "iopub.status.busy": "2023-01-11T12:15:08.604022Z",
     "iopub.status.idle": "2023-01-11T12:15:10.247684Z",
     "shell.execute_reply": "2023-01-11T12:15:10.248102Z",
     "shell.execute_reply.started": "2023-01-11T11:28:09.649544Z"
    },
    "papermill": {
     "duration": 1.717057,
     "end_time": "2023-01-11T12:15:10.248318",
     "exception": false,
     "start_time": "2023-01-11T12:15:08.531261",
     "status": "completed"
    },
    "tags": []
   },
   "outputs": [
    {
     "data": {
      "image/png": "[encoded data removed]",
      "text/plain": [
       "<Figure size 864x345.6 with 40 Axes>"
      ]
     },
     "metadata": {
      "needs_background": "light"
     },
     "output_type": "display_data"
    }
   ],
   "source": [
    "n_rows = 4\n",
    "n_cols = 10\n",
    "plt.figure(figsize=(n_cols * 1.2, n_rows * 1.2))\n",
    "for row in range(n_rows):\n",
    "    for col in range(n_cols):\n",
    "        index = n_cols * row + col\n",
    "        plt.subplot(n_rows, n_cols, index + 1)\n",
    "        plt.imshow(X_train[index], cmap=\"binary\", interpolation=\"nearest\")\n",
    "        plt.axis('off')\n",
    "        plt.title(y_train[index], fontsize=12)\n",
    "plt.subplots_adjust(wspace=0.2, hspace=0.5)\n",
    "plt.show()"
   ]
  },
  {
   "cell_type": "markdown",
   "id": "d2c39606",
   "metadata": {
    "papermill": {
     "duration": 0.071522,
     "end_time": "2023-01-11T12:15:10.392782",
     "exception": false,
     "start_time": "2023-01-11T12:15:10.321260",
     "status": "completed"
    },
    "tags": []
   },
   "source": [
    "Let's split the fashion MNIST training set in two:\n",
    "- X_train_A : All images of digits 0 to 4\n",
    "- X_train_B : All images of digits 5 to 9 (use transfer learning in further)"
   ]
  },
  {
   "cell_type": "code",
   "execution_count": 11,
   "id": "c0383487",
   "metadata": {
    "execution": {
     "iopub.execute_input": "2023-01-11T12:15:10.550124Z",
     "iopub.status.busy": "2023-01-11T12:15:10.549260Z",
     "iopub.status.idle": "2023-01-11T12:15:10.551849Z",
     "shell.execute_reply": "2023-01-11T12:15:10.551398Z",
     "shell.execute_reply.started": "2023-01-11T11:28:11.257597Z"
    },
    "papermill": {
     "duration": 0.082625,
     "end_time": "2023-01-11T12:15:10.551962",
     "exception": false,
     "start_time": "2023-01-11T12:15:10.469337",
     "status": "completed"
    },
    "tags": []
   },
   "outputs": [],
   "source": [
    "def split_dataset(X,y):\n",
    "    # Select the digit from 0 to 4\n",
    "    y_0_to_4=(y==0)  | (y == 1)  | (y == 2)  | (y == 3)  | (y == 4)\n",
    "    \n",
    "    # Inverse the y_0_to_4 to get the digits from 5 to 9\n",
    "    y_5_to_9=y[~y_0_to_4]\n",
    "    \n",
    "    return ((X[y_0_to_4],y[y_0_to_4]),(X[y_5_to_9],y_5_to_9))"
   ]
  },
  {
   "cell_type": "code",
   "execution_count": 12,
   "id": "3f2a1d2d",
   "metadata": {
    "execution": {
     "iopub.execute_input": "2023-01-11T12:15:10.707966Z",
     "iopub.status.busy": "2023-01-11T12:15:10.706496Z",
     "iopub.status.idle": "2023-01-11T12:15:10.831054Z",
     "shell.execute_reply": "2023-01-11T12:15:10.830425Z",
     "shell.execute_reply.started": "2023-01-11T11:28:11.268054Z"
    },
    "papermill": {
     "duration": 0.204724,
     "end_time": "2023-01-11T12:15:10.831219",
     "exception": false,
     "start_time": "2023-01-11T12:15:10.626495",
     "status": "completed"
    },
    "tags": []
   },
   "outputs": [],
   "source": [
    "(X_train_A, y_train_A), (X_train_B, y_train_B) = split_dataset(X_train, y_train)\n",
    "(X_valid_A, y_valid_A), (X_valid_B, y_valid_B) = split_dataset(X_valid, y_valid)\n",
    "(X_test_A, y_test_A), (X_test_B, y_test_B) = split_dataset(X_test, y_test)"
   ]
  },
  {
   "cell_type": "code",
   "execution_count": 13,
   "id": "8984d055",
   "metadata": {
    "execution": {
     "iopub.execute_input": "2023-01-11T12:15:10.982261Z",
     "iopub.status.busy": "2023-01-11T12:15:10.981456Z",
     "iopub.status.idle": "2023-01-11T12:15:10.984524Z",
     "shell.execute_reply": "2023-01-11T12:15:10.984925Z",
     "shell.execute_reply.started": "2023-01-11T11:28:11.398849Z"
    },
    "papermill": {
     "duration": 0.081381,
     "end_time": "2023-01-11T12:15:10.985057",
     "exception": false,
     "start_time": "2023-01-11T12:15:10.903676",
     "status": "completed"
    },
    "tags": []
   },
   "outputs": [
    {
     "data": {
      "text/plain": [
       "(24451, 28, 28)"
      ]
     },
     "execution_count": 13,
     "metadata": {},
     "output_type": "execute_result"
    }
   ],
   "source": [
    "X_train_A.shape"
   ]
  },
  {
   "cell_type": "code",
   "execution_count": 14,
   "id": "5dc8e418",
   "metadata": {
    "execution": {
     "iopub.execute_input": "2023-01-11T12:15:11.138501Z",
     "iopub.status.busy": "2023-01-11T12:15:11.137795Z",
     "iopub.status.idle": "2023-01-11T12:15:11.140617Z",
     "shell.execute_reply": "2023-01-11T12:15:11.141071Z",
     "shell.execute_reply.started": "2023-01-11T11:28:11.406877Z"
    },
    "papermill": {
     "duration": 0.082746,
     "end_time": "2023-01-11T12:15:11.141235",
     "exception": false,
     "start_time": "2023-01-11T12:15:11.058489",
     "status": "completed"
    },
    "tags": []
   },
   "outputs": [
    {
     "data": {
      "text/plain": [
       "(23549, 28, 28)"
      ]
     },
     "execution_count": 14,
     "metadata": {},
     "output_type": "execute_result"
    }
   ],
   "source": [
    "X_train_B.shape"
   ]
  },
  {
   "cell_type": "code",
   "execution_count": 15,
   "id": "6a4a838f",
   "metadata": {
    "execution": {
     "iopub.execute_input": "2023-01-11T12:15:11.290467Z",
     "iopub.status.busy": "2023-01-11T12:15:11.289808Z",
     "iopub.status.idle": "2023-01-11T12:15:11.292483Z",
     "shell.execute_reply": "2023-01-11T12:15:11.292894Z",
     "shell.execute_reply.started": "2023-01-11T11:28:11.418548Z"
    },
    "papermill": {
     "duration": 0.079605,
     "end_time": "2023-01-11T12:15:11.293026",
     "exception": false,
     "start_time": "2023-01-11T12:15:11.213421",
     "status": "completed"
    },
    "tags": []
   },
   "outputs": [
    {
     "data": {
      "text/plain": [
       "array([4, 0, 0, 0, 3, 1, 2, 3, 4, 0, 3, 3, 4, 1, 4, 4, 3, 4, 1, 1, 1, 1,\n",
       "       3, 1, 4, 2, 4, 1, 0, 4], dtype=uint8)"
      ]
     },
     "execution_count": 15,
     "metadata": {},
     "output_type": "execute_result"
    }
   ],
   "source": [
    "y_train_A[:30]"
   ]
  },
  {
   "cell_type": "code",
   "execution_count": 16,
   "id": "f22756b5",
   "metadata": {
    "execution": {
     "iopub.execute_input": "2023-01-11T12:15:11.530815Z",
     "iopub.status.busy": "2023-01-11T12:15:11.530005Z",
     "iopub.status.idle": "2023-01-11T12:15:11.545762Z",
     "shell.execute_reply": "2023-01-11T12:15:11.546458Z",
     "shell.execute_reply.started": "2023-01-11T11:28:11.429321Z"
    },
    "papermill": {
     "duration": 0.138622,
     "end_time": "2023-01-11T12:15:11.546738",
     "exception": false,
     "start_time": "2023-01-11T12:15:11.408116",
     "status": "completed"
    },
    "tags": []
   },
   "outputs": [
    {
     "data": {
      "text/plain": [
       "array([7, 6, 5, 6, 9, 7, 8, 8, 8, 5, 7, 5, 6, 7, 8, 8, 9, 7, 8, 8, 5, 8,\n",
       "       8, 5, 6, 7, 9, 9, 8, 9], dtype=uint8)"
      ]
     },
     "execution_count": 16,
     "metadata": {},
     "output_type": "execute_result"
    }
   ],
   "source": [
    "y_train_B[:30]"
   ]
  },
  {
   "cell_type": "code",
   "execution_count": 17,
   "id": "4d999fc2",
   "metadata": {
    "execution": {
     "iopub.execute_input": "2023-01-11T12:15:11.804390Z",
     "iopub.status.busy": "2023-01-11T12:15:11.803543Z",
     "iopub.status.idle": "2023-01-11T12:15:11.806996Z",
     "shell.execute_reply": "2023-01-11T12:15:11.805084Z",
     "shell.execute_reply.started": "2023-01-11T11:28:11.440987Z"
    },
    "papermill": {
     "duration": 0.125718,
     "end_time": "2023-01-11T12:15:11.807185",
     "exception": false,
     "start_time": "2023-01-11T12:15:11.681467",
     "status": "completed"
    },
    "tags": []
   },
   "outputs": [
    {
     "data": {
      "text/plain": [
       "(5139, 28, 28)"
      ]
     },
     "execution_count": 17,
     "metadata": {},
     "output_type": "execute_result"
    }
   ],
   "source": [
    "X_test_A.shape"
   ]
  },
  {
   "cell_type": "code",
   "execution_count": 18,
   "id": "2e4a6605",
   "metadata": {
    "execution": {
     "iopub.execute_input": "2023-01-11T12:15:12.048464Z",
     "iopub.status.busy": "2023-01-11T12:15:12.040541Z",
     "iopub.status.idle": "2023-01-11T12:15:12.052055Z",
     "shell.execute_reply": "2023-01-11T12:15:12.049461Z",
     "shell.execute_reply.started": "2023-01-11T11:28:11.449097Z"
    },
    "papermill": {
     "duration": 0.136259,
     "end_time": "2023-01-11T12:15:12.052230",
     "exception": false,
     "start_time": "2023-01-11T12:15:11.915971",
     "status": "completed"
    },
    "tags": []
   },
   "outputs": [
    {
     "data": {
      "text/plain": [
       "(4861, 28, 28)"
      ]
     },
     "execution_count": 18,
     "metadata": {},
     "output_type": "execute_result"
    }
   ],
   "source": [
    "X_test_B.shape"
   ]
  },
  {
   "cell_type": "code",
   "execution_count": 19,
   "id": "ab1733a0",
   "metadata": {
    "execution": {
     "iopub.execute_input": "2023-01-11T12:15:12.216156Z",
     "iopub.status.busy": "2023-01-11T12:15:12.215305Z",
     "iopub.status.idle": "2023-01-11T12:15:12.218288Z",
     "shell.execute_reply": "2023-01-11T12:15:12.218687Z",
     "shell.execute_reply.started": "2023-01-11T11:28:11.459174Z"
    },
    "papermill": {
     "duration": 0.083227,
     "end_time": "2023-01-11T12:15:12.218822",
     "exception": false,
     "start_time": "2023-01-11T12:15:12.135595",
     "status": "completed"
    },
    "tags": []
   },
   "outputs": [
    {
     "data": {
      "text/plain": [
       "array([2, 1, 0, 4, 1, 4, 0, 0, 1, 3, 4, 4, 0, 4, 0, 1, 3, 1, 3, 4, 2, 1,\n",
       "       2, 1, 1, 4, 2, 3, 1, 2], dtype=uint8)"
      ]
     },
     "execution_count": 19,
     "metadata": {},
     "output_type": "execute_result"
    }
   ],
   "source": [
    "y_test_A[:30]"
   ]
  },
  {
   "cell_type": "code",
   "execution_count": 20,
   "id": "1cfcadc1",
   "metadata": {
    "execution": {
     "iopub.execute_input": "2023-01-11T12:15:12.371514Z",
     "iopub.status.busy": "2023-01-11T12:15:12.370859Z",
     "iopub.status.idle": "2023-01-11T12:15:12.373488Z",
     "shell.execute_reply": "2023-01-11T12:15:12.373888Z",
     "shell.execute_reply.started": "2023-01-11T11:28:11.469974Z"
    },
    "papermill": {
     "duration": 0.081819,
     "end_time": "2023-01-11T12:15:12.374018",
     "exception": false,
     "start_time": "2023-01-11T12:15:12.292199",
     "status": "completed"
    },
    "tags": []
   },
   "outputs": [
    {
     "data": {
      "text/plain": [
       "array([7, 9, 5, 9, 6, 9, 5, 9, 7, 9, 6, 6, 5, 7, 7, 7, 7, 5, 6, 5, 5, 6,\n",
       "       9, 5, 7, 8, 9, 7, 6, 7], dtype=uint8)"
      ]
     },
     "execution_count": 20,
     "metadata": {},
     "output_type": "execute_result"
    }
   ],
   "source": [
    "y_test_B[:30]"
   ]
  },
  {
   "cell_type": "code",
   "execution_count": 21,
   "id": "6d1dc3b6",
   "metadata": {
    "execution": {
     "iopub.execute_input": "2023-01-11T12:15:12.530428Z",
     "iopub.status.busy": "2023-01-11T12:15:12.529838Z",
     "iopub.status.idle": "2023-01-11T12:15:12.533102Z",
     "shell.execute_reply": "2023-01-11T12:15:12.532677Z",
     "shell.execute_reply.started": "2023-01-11T11:28:11.479774Z"
    },
    "papermill": {
     "duration": 0.085072,
     "end_time": "2023-01-11T12:15:12.533250",
     "exception": false,
     "start_time": "2023-01-11T12:15:12.448178",
     "status": "completed"
    },
    "tags": []
   },
   "outputs": [],
   "source": [
    "evaluation = pd.DataFrame({'Model': [],\n",
    "                           'Loss':[],\n",
    "                           \"Accuracy\":[],\n",
    "                           'Epochs':[]\n",
    "                           })"
   ]
  },
  {
   "cell_type": "markdown",
   "id": "7bb9b46b",
   "metadata": {
    "papermill": {
     "duration": 0.076444,
     "end_time": "2023-01-11T12:15:12.685940",
     "exception": false,
     "start_time": "2023-01-11T12:15:12.609496",
     "status": "completed"
    },
    "tags": []
   },
   "source": [
    "Build a DNN with five hidden layers of 100 neurons each, He initialization,\n",
    "and the ELU activation function."
   ]
  },
  {
   "cell_type": "code",
   "execution_count": 22,
   "id": "dabae2b8",
   "metadata": {
    "execution": {
     "iopub.execute_input": "2023-01-11T12:15:12.840240Z",
     "iopub.status.busy": "2023-01-11T12:15:12.839689Z",
     "iopub.status.idle": "2023-01-11T12:15:16.955769Z",
     "shell.execute_reply": "2023-01-11T12:15:16.955293Z",
     "shell.execute_reply.started": "2023-01-11T11:28:11.490757Z"
    },
    "papermill": {
     "duration": 4.195261,
     "end_time": "2023-01-11T12:15:16.955924",
     "exception": false,
     "start_time": "2023-01-11T12:15:12.760663",
     "status": "completed"
    },
    "tags": []
   },
   "outputs": [
    {
     "name": "stderr",
     "output_type": "stream",
     "text": [
      "2023-01-11 12:15:12.856194: I tensorflow/compiler/jit/xla_cpu_device.cc:41] Not creating XLA devices, tf_xla_enable_xla_devices not set\n",
      "2023-01-11 12:15:12.861713: I tensorflow/stream_executor/platform/default/dso_loader.cc:49] Successfully opened dynamic library libcuda.so.1\n",
      "2023-01-11 12:15:12.978543: I tensorflow/stream_executor/cuda/cuda_gpu_executor.cc:941] successful NUMA node read from SysFS had negative value (-1), but there must be at least one NUMA node, so returning NUMA node zero\n",
      "2023-01-11 12:15:12.979369: I tensorflow/core/common_runtime/gpu/gpu_device.cc:1720] Found device 0 with properties: \n",
      "pciBusID: 0000:00:04.0 name: Tesla T4 computeCapability: 7.5\n",
      "coreClock: 1.59GHz coreCount: 40 deviceMemorySize: 14.75GiB deviceMemoryBandwidth: 298.08GiB/s\n",
      "2023-01-11 12:15:12.979547: I tensorflow/stream_executor/cuda/cuda_gpu_executor.cc:941] successful NUMA node read from SysFS had negative value (-1), but there must be at least one NUMA node, so returning NUMA node zero\n",
      "2023-01-11 12:15:12.980337: I tensorflow/core/common_runtime/gpu/gpu_device.cc:1720] Found device 1 with properties: \n",
      "pciBusID: 0000:00:05.0 name: Tesla T4 computeCapability: 7.5\n",
      "coreClock: 1.59GHz coreCount: 40 deviceMemorySize: 14.75GiB deviceMemoryBandwidth: 298.08GiB/s\n",
      "2023-01-11 12:15:12.980434: I tensorflow/stream_executor/platform/default/dso_loader.cc:49] Successfully opened dynamic library libcudart.so.11.0\n",
      "2023-01-11 12:15:13.066079: I tensorflow/stream_executor/platform/default/dso_loader.cc:49] Successfully opened dynamic library libcublas.so.11\n",
      "2023-01-11 12:15:13.066209: I tensorflow/stream_executor/platform/default/dso_loader.cc:49] Successfully opened dynamic library libcublasLt.so.11\n",
      "2023-01-11 12:15:13.116598: I tensorflow/stream_executor/platform/default/dso_loader.cc:49] Successfully opened dynamic library libcufft.so.10\n",
      "2023-01-11 12:15:13.147225: I tensorflow/stream_executor/platform/default/dso_loader.cc:49] Successfully opened dynamic library libcurand.so.10\n",
      "2023-01-11 12:15:13.217677: I tensorflow/stream_executor/platform/default/dso_loader.cc:49] Successfully opened dynamic library libcusolver.so.10\n",
      "2023-01-11 12:15:13.250918: I tensorflow/stream_executor/platform/default/dso_loader.cc:49] Successfully opened dynamic library libcusparse.so.11\n",
      "2023-01-11 12:15:13.262724: I tensorflow/stream_executor/platform/default/dso_loader.cc:49] Successfully opened dynamic library libcudnn.so.8\n",
      "2023-01-11 12:15:13.262913: I tensorflow/stream_executor/cuda/cuda_gpu_executor.cc:941] successful NUMA node read from SysFS had negative value (-1), but there must be at least one NUMA node, so returning NUMA node zero\n",
      "2023-01-11 12:15:13.263826: I tensorflow/stream_executor/cuda/cuda_gpu_executor.cc:941] successful NUMA node read from SysFS had negative value (-1), but there must be at least one NUMA node, so returning NUMA node zero\n",
      "2023-01-11 12:15:13.264665: I tensorflow/stream_executor/cuda/cuda_gpu_executor.cc:941] successful NUMA node read from SysFS had negative value (-1), but there must be at least one NUMA node, so returning NUMA node zero\n",
      "2023-01-11 12:15:13.267619: I tensorflow/stream_executor/cuda/cuda_gpu_executor.cc:941] successful NUMA node read from SysFS had negative value (-1), but there must be at least one NUMA node, so returning NUMA node zero\n",
      "2023-01-11 12:15:13.268437: I tensorflow/core/common_runtime/gpu/gpu_device.cc:1862] Adding visible gpu devices: 0, 1\n",
      "2023-01-11 12:15:13.270690: I tensorflow/core/platform/cpu_feature_guard.cc:142] This TensorFlow binary is optimized with oneAPI Deep Neural Network Library (oneDNN) to use the following CPU instructions in performance-critical operations:  AVX2 AVX512F FMA\n",
      "To enable them in other operations, rebuild TensorFlow with the appropriate compiler flags.\n",
      "2023-01-11 12:15:13.270947: I tensorflow/compiler/jit/xla_gpu_device.cc:99] Not creating XLA devices, tf_xla_enable_xla_devices not set\n",
      "2023-01-11 12:15:13.522200: I tensorflow/stream_executor/cuda/cuda_gpu_executor.cc:941] successful NUMA node read from SysFS had negative value (-1), but there must be at least one NUMA node, so returning NUMA node zero\n",
      "2023-01-11 12:15:13.522914: I tensorflow/core/common_runtime/gpu/gpu_device.cc:1720] Found device 0 with properties: \n",
      "pciBusID: 0000:00:04.0 name: Tesla T4 computeCapability: 7.5\n",
      "coreClock: 1.59GHz coreCount: 40 deviceMemorySize: 14.75GiB deviceMemoryBandwidth: 298.08GiB/s\n",
      "2023-01-11 12:15:13.523098: I tensorflow/stream_executor/cuda/cuda_gpu_executor.cc:941] successful NUMA node read from SysFS had negative value (-1), but there must be at least one NUMA node, so returning NUMA node zero\n",
      "2023-01-11 12:15:13.523786: I tensorflow/core/common_runtime/gpu/gpu_device.cc:1720] Found device 1 with properties: \n",
      "pciBusID: 0000:00:05.0 name: Tesla T4 computeCapability: 7.5\n",
      "coreClock: 1.59GHz coreCount: 40 deviceMemorySize: 14.75GiB deviceMemoryBandwidth: 298.08GiB/s\n",
      "2023-01-11 12:15:13.523871: I tensorflow/stream_executor/platform/default/dso_loader.cc:49] Successfully opened dynamic library libcudart.so.11.0\n",
      "2023-01-11 12:15:13.523904: I tensorflow/stream_executor/platform/default/dso_loader.cc:49] Successfully opened dynamic library libcublas.so.11\n",
      "2023-01-11 12:15:13.523934: I tensorflow/stream_executor/platform/default/dso_loader.cc:49] Successfully opened dynamic library libcublasLt.so.11\n",
      "2023-01-11 12:15:13.523952: I tensorflow/stream_executor/platform/default/dso_loader.cc:49] Successfully opened dynamic library libcufft.so.10\n",
      "2023-01-11 12:15:13.523969: I tensorflow/stream_executor/platform/default/dso_loader.cc:49] Successfully opened dynamic library libcurand.so.10\n",
      "2023-01-11 12:15:13.523987: I tensorflow/stream_executor/platform/default/dso_loader.cc:49] Successfully opened dynamic library libcusolver.so.10\n",
      "2023-01-11 12:15:13.524004: I tensorflow/stream_executor/platform/default/dso_loader.cc:49] Successfully opened dynamic library libcusparse.so.11\n",
      "2023-01-11 12:15:13.524022: I tensorflow/stream_executor/platform/default/dso_loader.cc:49] Successfully opened dynamic library libcudnn.so.8\n",
      "2023-01-11 12:15:13.524138: I tensorflow/stream_executor/cuda/cuda_gpu_executor.cc:941] successful NUMA node read from SysFS had negative value (-1), but there must be at least one NUMA node, so returning NUMA node zero\n",
      "2023-01-11 12:15:13.524916: I tensorflow/stream_executor/cuda/cuda_gpu_executor.cc:941] successful NUMA node read from SysFS had negative value (-1), but there must be at least one NUMA node, so returning NUMA node zero\n",
      "2023-01-11 12:15:13.525673: I tensorflow/stream_executor/cuda/cuda_gpu_executor.cc:941] successful NUMA node read from SysFS had negative value (-1), but there must be at least one NUMA node, so returning NUMA node zero\n",
      "2023-01-11 12:15:13.526392: I tensorflow/stream_executor/cuda/cuda_gpu_executor.cc:941] successful NUMA node read from SysFS had negative value (-1), but there must be at least one NUMA node, so returning NUMA node zero\n",
      "2023-01-11 12:15:13.527078: I tensorflow/core/common_runtime/gpu/gpu_device.cc:1862] Adding visible gpu devices: 0, 1\n",
      "2023-01-11 12:15:13.529283: I tensorflow/stream_executor/platform/default/dso_loader.cc:49] Successfully opened dynamic library libcudart.so.11.0\n",
      "2023-01-11 12:15:16.524478: I tensorflow/core/common_runtime/gpu/gpu_device.cc:1261] Device interconnect StreamExecutor with strength 1 edge matrix:\n",
      "2023-01-11 12:15:16.524529: I tensorflow/core/common_runtime/gpu/gpu_device.cc:1267]      0 1 \n",
      "2023-01-11 12:15:16.524540: I tensorflow/core/common_runtime/gpu/gpu_device.cc:1280] 0:   N Y \n",
      "2023-01-11 12:15:16.524547: I tensorflow/core/common_runtime/gpu/gpu_device.cc:1280] 1:   Y N \n",
      "2023-01-11 12:15:16.528542: I tensorflow/stream_executor/cuda/cuda_gpu_executor.cc:941] successful NUMA node read from SysFS had negative value (-1), but there must be at least one NUMA node, so returning NUMA node zero\n",
      "2023-01-11 12:15:16.529509: I tensorflow/stream_executor/cuda/cuda_gpu_executor.cc:941] successful NUMA node read from SysFS had negative value (-1), but there must be at least one NUMA node, so returning NUMA node zero\n",
      "2023-01-11 12:15:16.530237: I tensorflow/stream_executor/cuda/cuda_gpu_executor.cc:941] successful NUMA node read from SysFS had negative value (-1), but there must be at least one NUMA node, so returning NUMA node zero\n",
      "2023-01-11 12:15:16.530919: I tensorflow/stream_executor/cuda/cuda_gpu_executor.cc:941] successful NUMA node read from SysFS had negative value (-1), but there must be at least one NUMA node, so returning NUMA node zero\n",
      "2023-01-11 12:15:16.531615: I tensorflow/core/common_runtime/gpu/gpu_device.cc:1406] Created TensorFlow device (/job:localhost/replica:0/task:0/device:GPU:0 with 13970 MB memory) -> physical GPU (device: 0, name: Tesla T4, pci bus id: 0000:00:04.0, compute capability: 7.5)\n",
      "2023-01-11 12:15:16.537798: I tensorflow/stream_executor/cuda/cuda_gpu_executor.cc:941] successful NUMA node read from SysFS had negative value (-1), but there must be at least one NUMA node, so returning NUMA node zero\n",
      "2023-01-11 12:15:16.538622: I tensorflow/stream_executor/cuda/cuda_gpu_executor.cc:941] successful NUMA node read from SysFS had negative value (-1), but there must be at least one NUMA node, so returning NUMA node zero\n",
      "2023-01-11 12:15:16.539329: I tensorflow/core/common_runtime/gpu/gpu_device.cc:1406] Created TensorFlow device (/job:localhost/replica:0/task:0/device:GPU:1 with 13970 MB memory) -> physical GPU (device: 1, name: Tesla T4, pci bus id: 0000:00:05.0, compute capability: 7.5)\n"
     ]
    }
   ],
   "source": [
    "model=keras.models.Sequential()\n",
    "model.add(keras.layers.Flatten(input_shape=[28,28]))\n",
    "for _ in range(5):\n",
    "    model.add(keras.layers.Dense(100,activation='elu',kernel_initializer='he_normal'))\n",
    "    "
   ]
  },
  {
   "cell_type": "markdown",
   "id": "c7e217d0",
   "metadata": {
    "papermill": {
     "duration": 0.075728,
     "end_time": "2023-01-11T12:15:17.110984",
     "exception": false,
     "start_time": "2023-01-11T12:15:17.035256",
     "status": "completed"
    },
    "tags": []
   },
   "source": [
    "Add the softmax output layer to the model.</br>\n",
    "Since we just need to classifier the digits from 0 to 4 therefore I just add the 5 neurons to the output layer"
   ]
  },
  {
   "cell_type": "code",
   "execution_count": 23,
   "id": "ffd3bff2",
   "metadata": {
    "execution": {
     "iopub.execute_input": "2023-01-11T12:15:17.267064Z",
     "iopub.status.busy": "2023-01-11T12:15:17.265937Z",
     "iopub.status.idle": "2023-01-11T12:15:17.284142Z",
     "shell.execute_reply": "2023-01-11T12:15:17.283616Z",
     "shell.execute_reply.started": "2023-01-11T11:28:14.469761Z"
    },
    "papermill": {
     "duration": 0.098551,
     "end_time": "2023-01-11T12:15:17.284294",
     "exception": false,
     "start_time": "2023-01-11T12:15:17.185743",
     "status": "completed"
    },
    "tags": []
   },
   "outputs": [],
   "source": [
    "model.add(keras.layers.Dense(5,activation='softmax'))"
   ]
  },
  {
   "cell_type": "code",
   "execution_count": 24,
   "id": "f0e6f029",
   "metadata": {
    "execution": {
     "iopub.execute_input": "2023-01-11T12:15:17.447187Z",
     "iopub.status.busy": "2023-01-11T12:15:17.446256Z",
     "iopub.status.idle": "2023-01-11T12:15:17.452727Z",
     "shell.execute_reply": "2023-01-11T12:15:17.454256Z",
     "shell.execute_reply.started": "2023-01-11T11:28:14.487579Z"
    },
    "papermill": {
     "duration": 0.095403,
     "end_time": "2023-01-11T12:15:17.454626",
     "exception": false,
     "start_time": "2023-01-11T12:15:17.359223",
     "status": "completed"
    },
    "tags": []
   },
   "outputs": [
    {
     "name": "stdout",
     "output_type": "stream",
     "text": [
      "Model: \"sequential\"\n",
      "_________________________________________________________________\n",
      "Layer (type)                 Output Shape              Param #   \n",
      "=================================================================\n",
      "flatten (Flatten)            (None, 784)               0         \n",
      "_________________________________________________________________\n",
      "dense (Dense)                (None, 100)               78500     \n",
      "_________________________________________________________________\n",
      "dense_1 (Dense)              (None, 100)               10100     \n",
      "_________________________________________________________________\n",
      "dense_2 (Dense)              (None, 100)               10100     \n",
      "_________________________________________________________________\n",
      "dense_3 (Dense)              (None, 100)               10100     \n",
      "_________________________________________________________________\n",
      "dense_4 (Dense)              (None, 100)               10100     \n",
      "_________________________________________________________________\n",
      "dense_5 (Dense)              (None, 5)                 505       \n",
      "=================================================================\n",
      "Total params: 119,405\n",
      "Trainable params: 119,405\n",
      "Non-trainable params: 0\n",
      "_________________________________________________________________\n"
     ]
    }
   ],
   "source": [
    "model.summary()"
   ]
  },
  {
   "cell_type": "markdown",
   "id": "6c638b10",
   "metadata": {
    "papermill": {
     "duration": 0.074783,
     "end_time": "2023-01-11T12:15:17.606094",
     "exception": false,
     "start_time": "2023-01-11T12:15:17.531311",
     "status": "completed"
    },
    "tags": []
   },
   "source": [
    "Compile the model with Adam optimization and set the loss to sparse_categorical_crossentropy"
   ]
  },
  {
   "cell_type": "code",
   "execution_count": 25,
   "id": "a266f82f",
   "metadata": {
    "execution": {
     "iopub.execute_input": "2023-01-11T12:15:17.765390Z",
     "iopub.status.busy": "2023-01-11T12:15:17.764551Z",
     "iopub.status.idle": "2023-01-11T12:15:17.770283Z",
     "shell.execute_reply": "2023-01-11T12:15:17.770699Z",
     "shell.execute_reply.started": "2023-01-11T11:28:14.499450Z"
    },
    "papermill": {
     "duration": 0.090529,
     "end_time": "2023-01-11T12:15:17.770834",
     "exception": false,
     "start_time": "2023-01-11T12:15:17.680305",
     "status": "completed"
    },
    "tags": []
   },
   "outputs": [],
   "source": [
    "optimizer=keras.optimizers.Adam(learning_rate=1e-3)\n",
    "model.compile(loss='sparse_categorical_crossentropy',\n",
    "              optimizer=optimizer,\n",
    "              metrics=['accuracy'])"
   ]
  },
  {
   "cell_type": "markdown",
   "id": "40a641a0",
   "metadata": {
    "papermill": {
     "duration": 0.07475,
     "end_time": "2023-01-11T12:15:17.919666",
     "exception": false,
     "start_time": "2023-01-11T12:15:17.844916",
     "status": "completed"
    },
    "tags": []
   },
   "source": [
    "Using callbacks to saves checkpoints of model at regular intervals during training, by default at the end of each epoch</br>\n",
    "Then use the early stopping when it measures no progress on the validation set for a number of epochs 10\n",
    "Using callback"
   ]
  },
  {
   "cell_type": "code",
   "execution_count": 26,
   "id": "774b9ae8",
   "metadata": {
    "execution": {
     "iopub.execute_input": "2023-01-11T12:15:18.076663Z",
     "iopub.status.busy": "2023-01-11T12:15:18.075632Z",
     "iopub.status.idle": "2023-01-11T12:15:18.077790Z",
     "shell.execute_reply": "2023-01-11T12:15:18.078310Z",
     "shell.execute_reply.started": "2023-01-11T11:28:14.514282Z"
    },
    "papermill": {
     "duration": 0.083165,
     "end_time": "2023-01-11T12:15:18.078462",
     "exception": false,
     "start_time": "2023-01-11T12:15:17.995297",
     "status": "completed"
    },
    "tags": []
   },
   "outputs": [],
   "source": [
    "early_stopping=keras.callbacks.EarlyStopping(patience=10)\n",
    "checkpoint_cb=keras.callbacks.ModelCheckpoint('model_digit0To4',save_best_only=True)"
   ]
  },
  {
   "cell_type": "markdown",
   "id": "0b57edd7",
   "metadata": {
    "papermill": {
     "duration": 0.080375,
     "end_time": "2023-01-11T12:15:18.241559",
     "exception": false,
     "start_time": "2023-01-11T12:15:18.161184",
     "status": "completed"
    },
    "tags": []
   },
   "source": [
    "Use the TensorflowBoard to view the learning curves during training, compare learning curves between multiple runs,"
   ]
  },
  {
   "cell_type": "code",
   "execution_count": 27,
   "id": "de9036d4",
   "metadata": {
    "execution": {
     "iopub.execute_input": "2023-01-11T12:15:19.013789Z",
     "iopub.status.busy": "2023-01-11T12:15:18.393296Z",
     "iopub.status.idle": "2023-01-11T12:15:19.017956Z",
     "shell.execute_reply": "2023-01-11T12:15:19.018610Z",
     "shell.execute_reply.started": "2023-01-11T11:28:14.520771Z"
    },
    "papermill": {
     "duration": 0.703663,
     "end_time": "2023-01-11T12:15:19.018816",
     "exception": false,
     "start_time": "2023-01-11T12:15:18.315153",
     "status": "completed"
    },
    "tags": []
   },
   "outputs": [
    {
     "name": "stderr",
     "output_type": "stream",
     "text": [
      "2023-01-11 12:15:18.396834: I tensorflow/core/profiler/lib/profiler_session.cc:136] Profiler session initializing.\n",
      "2023-01-11 12:15:18.396875: I tensorflow/core/profiler/lib/profiler_session.cc:155] Profiler session started.\n",
      "2023-01-11 12:15:18.398722: I tensorflow/core/profiler/internal/gpu/cupti_tracer.cc:1365] Profiler found 2 GPUs\n",
      "2023-01-11 12:15:18.444060: I tensorflow/stream_executor/platform/default/dso_loader.cc:49] Successfully opened dynamic library libcupti.so.11.0\n",
      "2023-01-11 12:15:18.871632: I tensorflow/core/profiler/lib/profiler_session.cc:172] Profiler session tear down.\n",
      "2023-01-11 12:15:18.871841: I tensorflow/core/profiler/internal/gpu/cupti_tracer.cc:1487] CUPTI activity buffer flushed\n"
     ]
    }
   ],
   "source": [
    "root_logdir = os.path.join(os.curdir, \"my_logs\")\n",
    "def get_run_logdir():\n",
    "    import time\n",
    "    run_id = time.strftime(\"run_%Y_%m_%d-%H_%M_%S\")\n",
    "    return os.path.join(root_logdir, run_id)\n",
    "tensorboard_cv=keras.callbacks.TensorBoard(get_run_logdir())"
   ]
  },
  {
   "cell_type": "markdown",
   "id": "57bdaadc",
   "metadata": {
    "papermill": {
     "duration": 0.075586,
     "end_time": "2023-01-11T12:15:19.176951",
     "exception": false,
     "start_time": "2023-01-11T12:15:19.101365",
     "status": "completed"
    },
    "tags": []
   },
   "source": [
    "Train the model at epochs 30"
   ]
  },
  {
   "cell_type": "code",
   "execution_count": 28,
   "id": "3cae74ab",
   "metadata": {
    "execution": {
     "iopub.execute_input": "2023-01-11T12:15:19.329401Z",
     "iopub.status.busy": "2023-01-11T12:15:19.328838Z",
     "iopub.status.idle": "2023-01-11T12:16:02.355884Z",
     "shell.execute_reply": "2023-01-11T12:16:02.355444Z",
     "shell.execute_reply.started": "2023-01-11T11:28:15.087630Z"
    },
    "papermill": {
     "duration": 43.104552,
     "end_time": "2023-01-11T12:16:02.356017",
     "exception": false,
     "start_time": "2023-01-11T12:15:19.251465",
     "status": "completed"
    },
    "tags": []
   },
   "outputs": [
    {
     "name": "stderr",
     "output_type": "stream",
     "text": [
      "2023-01-11 12:15:19.521534: I tensorflow/compiler/mlir/mlir_graph_optimization_pass.cc:116] None of the MLIR optimization passes are enabled (registered 2)\n",
      "2023-01-11 12:15:19.543659: I tensorflow/core/platform/profile_utils/cpu_utils.cc:112] CPU Frequency: 2000120000 Hz\n"
     ]
    },
    {
     "name": "stdout",
     "output_type": "stream",
     "text": [
      "Epoch 1/100\n"
     ]
    },
    {
     "name": "stderr",
     "output_type": "stream",
     "text": [
      "2023-01-11 12:15:20.037425: I tensorflow/stream_executor/platform/default/dso_loader.cc:49] Successfully opened dynamic library libcublas.so.11\n"
     ]
    },
    {
     "name": "stdout",
     "output_type": "stream",
     "text": [
      "  1/765 [..............................] - ETA: 30:51 - loss: 2.0097 - accuracy: 0.2500"
     ]
    },
    {
     "name": "stderr",
     "output_type": "stream",
     "text": [
      "2023-01-11 12:15:21.903878: I tensorflow/stream_executor/platform/default/dso_loader.cc:49] Successfully opened dynamic library libcublasLt.so.11\n"
     ]
    },
    {
     "name": "stdout",
     "output_type": "stream",
     "text": [
      " 44/765 [>.............................] - ETA: 16s - loss: 0.7356 - accuracy: 0.7355"
     ]
    },
    {
     "name": "stderr",
     "output_type": "stream",
     "text": [
      "2023-01-11 12:15:22.049903: I tensorflow/core/profiler/lib/profiler_session.cc:136] Profiler session initializing.\n",
      "2023-01-11 12:15:22.049971: I tensorflow/core/profiler/lib/profiler_session.cc:155] Profiler session started.\n",
      "2023-01-11 12:15:22.637765: I tensorflow/core/profiler/lib/profiler_session.cc:71] Profiler session collecting data.\n",
      "2023-01-11 12:15:22.638175: I tensorflow/core/profiler/internal/gpu/cupti_tracer.cc:1487] CUPTI activity buffer flushed\n",
      "2023-01-11 12:15:22.801445: I tensorflow/core/profiler/internal/gpu/cupti_collector.cc:228]  GpuTracer has collected 111 callback api events and 99 activity events. \n",
      "2023-01-11 12:15:22.811256: I tensorflow/core/profiler/lib/profiler_session.cc:172] Profiler session tear down.\n",
      "2023-01-11 12:15:22.831293: I tensorflow/core/profiler/rpc/client/save_profile.cc:137] Creating directory: ./my_logs/run_2023_01_11-12_15_18/train/plugins/profile/2023_01_11_12_15_22\n",
      "2023-01-11 12:15:22.837142: I tensorflow/core/profiler/rpc/client/save_profile.cc:143] Dumped gzipped tool data for trace.json.gz to ./my_logs/run_2023_01_11-12_15_18/train/plugins/profile/2023_01_11_12_15_22/c9ea16180903.trace.json.gz\n",
      "2023-01-11 12:15:22.860845: I tensorflow/core/profiler/rpc/client/save_profile.cc:137] Creating directory: ./my_logs/run_2023_01_11-12_15_18/train/plugins/profile/2023_01_11_12_15_22\n",
      "2023-01-11 12:15:22.861977: I tensorflow/core/profiler/rpc/client/save_profile.cc:143] Dumped gzipped tool data for memory_profile.json.gz to ./my_logs/run_2023_01_11-12_15_18/train/plugins/profile/2023_01_11_12_15_22/c9ea16180903.memory_profile.json.gz\n",
      "2023-01-11 12:15:22.862617: I tensorflow/core/profiler/rpc/client/capture_profile.cc:251] Creating directory: ./my_logs/run_2023_01_11-12_15_18/train/plugins/profile/2023_01_11_12_15_22Dumped tool data for xplane.pb to ./my_logs/run_2023_01_11-12_15_18/train/plugins/profile/2023_01_11_12_15_22/c9ea16180903.xplane.pb\n",
      "Dumped tool data for overview_page.pb to ./my_logs/run_2023_01_11-12_15_18/train/plugins/profile/2023_01_11_12_15_22/c9ea16180903.overview_page.pb\n",
      "Dumped tool data for input_pipeline.pb to ./my_logs/run_2023_01_11-12_15_18/train/plugins/profile/2023_01_11_12_15_22/c9ea16180903.input_pipeline.pb\n",
      "Dumped tool data for tensorflow_stats.pb to ./my_logs/run_2023_01_11-12_15_18/train/plugins/profile/2023_01_11_12_15_22/c9ea16180903.tensorflow_stats.pb\n",
      "Dumped tool data for kernel_stats.pb to ./my_logs/run_2023_01_11-12_15_18/train/plugins/profile/2023_01_11_12_15_22/c9ea16180903.kernel_stats.pb\n",
      "\n"
     ]
    },
    {
     "name": "stdout",
     "output_type": "stream",
     "text": [
      "765/765 [==============================] - 6s 5ms/step - loss: 0.2024 - accuracy: 0.9350 - val_loss: 0.0824 - val_accuracy: 0.9762\n"
     ]
    },
    {
     "name": "stderr",
     "output_type": "stream",
     "text": [
      "2023-01-11 12:15:26.305215: W tensorflow/python/util/util.cc:348] Sets are not currently considered sequences, but this may change in the future, so consider avoiding using them.\n"
     ]
    },
    {
     "name": "stdout",
     "output_type": "stream",
     "text": [
      "Epoch 2/100\n",
      "765/765 [==============================] - 2s 3ms/step - loss: 0.0526 - accuracy: 0.9832 - val_loss: 0.0717 - val_accuracy: 0.9787\n",
      "Epoch 3/100\n",
      "765/765 [==============================] - 2s 3ms/step - loss: 0.0396 - accuracy: 0.9887 - val_loss: 0.0690 - val_accuracy: 0.9798\n",
      "Epoch 4/100\n",
      "765/765 [==============================] - 2s 3ms/step - loss: 0.0341 - accuracy: 0.9877 - val_loss: 0.0507 - val_accuracy: 0.9844\n",
      "Epoch 5/100\n",
      "765/765 [==============================] - 2s 3ms/step - loss: 0.0268 - accuracy: 0.9920 - val_loss: 0.0420 - val_accuracy: 0.9876\n",
      "Epoch 6/100\n",
      "765/765 [==============================] - 2s 3ms/step - loss: 0.0228 - accuracy: 0.9925 - val_loss: 0.0460 - val_accuracy: 0.9858\n",
      "Epoch 7/100\n",
      "765/765 [==============================] - 2s 3ms/step - loss: 0.0138 - accuracy: 0.9955 - val_loss: 0.0590 - val_accuracy: 0.9855\n",
      "Epoch 8/100\n",
      "765/765 [==============================] - 2s 3ms/step - loss: 0.0160 - accuracy: 0.9950 - val_loss: 0.0452 - val_accuracy: 0.9878\n",
      "Epoch 9/100\n",
      "765/765 [==============================] - 2s 3ms/step - loss: 0.0142 - accuracy: 0.9955 - val_loss: 0.0768 - val_accuracy: 0.9816\n",
      "Epoch 10/100\n",
      "765/765 [==============================] - 2s 3ms/step - loss: 0.0115 - accuracy: 0.9961 - val_loss: 0.0679 - val_accuracy: 0.9831\n",
      "Epoch 11/100\n",
      "765/765 [==============================] - 2s 3ms/step - loss: 0.0116 - accuracy: 0.9959 - val_loss: 0.0511 - val_accuracy: 0.9893\n",
      "Epoch 12/100\n",
      "765/765 [==============================] - 2s 3ms/step - loss: 0.0093 - accuracy: 0.9972 - val_loss: 0.0536 - val_accuracy: 0.9876\n",
      "Epoch 13/100\n",
      "765/765 [==============================] - 3s 4ms/step - loss: 0.0104 - accuracy: 0.9972 - val_loss: 0.0481 - val_accuracy: 0.9893\n",
      "Epoch 14/100\n",
      "765/765 [==============================] - 2s 3ms/step - loss: 0.0089 - accuracy: 0.9973 - val_loss: 0.0758 - val_accuracy: 0.9860\n",
      "Epoch 15/100\n",
      "765/765 [==============================] - 2s 3ms/step - loss: 0.0152 - accuracy: 0.9952 - val_loss: 0.0510 - val_accuracy: 0.9899\n"
     ]
    }
   ],
   "source": [
    "history=model.fit(X_train_A,y_train_A,\n",
    "                  epochs=100,\n",
    "                  validation_data=(X_valid_A,y_valid_A),\n",
    "                  callbacks=[checkpoint_cb,early_stopping,tensorboard_cv])"
   ]
  },
  {
   "cell_type": "markdown",
   "id": "1c750f7e",
   "metadata": {
    "papermill": {
     "duration": 0.215744,
     "end_time": "2023-01-11T12:16:02.789538",
     "exception": false,
     "start_time": "2023-01-11T12:16:02.573794",
     "status": "completed"
    },
    "tags": []
   },
   "source": [
    "Model stop training at epochs 14 because of early stopping"
   ]
  },
  {
   "cell_type": "code",
   "execution_count": 29,
   "id": "80275cfd",
   "metadata": {
    "execution": {
     "iopub.execute_input": "2023-01-11T12:16:03.234081Z",
     "iopub.status.busy": "2023-01-11T12:16:03.233283Z",
     "iopub.status.idle": "2023-01-11T12:16:03.684473Z",
     "shell.execute_reply": "2023-01-11T12:16:03.683833Z",
     "shell.execute_reply.started": "2023-01-11T11:29:03.055559Z"
    },
    "papermill": {
     "duration": 0.680389,
     "end_time": "2023-01-11T12:16:03.684620",
     "exception": false,
     "start_time": "2023-01-11T12:16:03.004231",
     "status": "completed"
    },
    "tags": []
   },
   "outputs": [
    {
     "data": {
      "image/png": "[encoded data removed]",
      "text/plain": [
       "<Figure size 432x288 with 1 Axes>"
      ]
     },
     "metadata": {
      "needs_background": "light"
     },
     "output_type": "display_data"
    },
    {
     "data": {
      "image/png": "[encoded data removed]",
      "text/plain": [
       "<Figure size 432x288 with 1 Axes>"
      ]
     },
     "metadata": {
      "needs_background": "light"
     },
     "output_type": "display_data"
    }
   ],
   "source": [
    "# summarize history for accuracy\n",
    "plt.plot(history.history['accuracy'])\n",
    "plt.plot(history.history['val_accuracy'])\n",
    "plt.title('model accuracy')\n",
    "plt.ylabel('accuracy')\n",
    "plt.xlabel('epoch')\n",
    "plt.legend(['train', 'test'], loc='upper left')\n",
    "plt.show()\n",
    "# summarize history for loss\n",
    "plt.plot(history.history['loss'])\n",
    "plt.plot(history.history['val_loss'])\n",
    "plt.title('model loss')\n",
    "plt.ylabel('loss')\n",
    "plt.xlabel('epoch')\n",
    "plt.legend(['train', 'test'], loc='upper left')\n",
    "plt.show()"
   ]
  },
  {
   "cell_type": "markdown",
   "id": "9f168cce",
   "metadata": {
    "papermill": {
     "duration": 0.223305,
     "end_time": "2023-01-11T12:16:04.129559",
     "exception": false,
     "start_time": "2023-01-11T12:16:03.906254",
     "status": "completed"
    },
    "tags": []
   },
   "source": [
    "Loss curve show the model is little overfit"
   ]
  },
  {
   "cell_type": "markdown",
   "id": "5e4ba281",
   "metadata": {
    "papermill": {
     "duration": 0.219559,
     "end_time": "2023-01-11T12:16:04.570615",
     "exception": false,
     "start_time": "2023-01-11T12:16:04.351056",
     "status": "completed"
    },
    "tags": []
   },
   "source": [
    "Evaluate the model"
   ]
  },
  {
   "cell_type": "code",
   "execution_count": 30,
   "id": "4343179c",
   "metadata": {
    "execution": {
     "iopub.execute_input": "2023-01-11T12:16:05.023157Z",
     "iopub.status.busy": "2023-01-11T12:16:05.022071Z",
     "iopub.status.idle": "2023-01-11T12:16:05.361933Z",
     "shell.execute_reply": "2023-01-11T12:16:05.362567Z",
     "shell.execute_reply.started": "2023-01-11T11:29:03.520562Z"
    },
    "papermill": {
     "duration": 0.565147,
     "end_time": "2023-01-11T12:16:05.362752",
     "exception": false,
     "start_time": "2023-01-11T12:16:04.797605",
     "status": "completed"
    },
    "tags": []
   },
   "outputs": [
    {
     "name": "stdout",
     "output_type": "stream",
     "text": [
      "161/161 [==============================] - 0s 2ms/step - loss: 0.0348 - accuracy: 0.9936\n"
     ]
    }
   ],
   "source": [
    "loss,accuracy=model.evaluate(X_test_A,y_test_A)"
   ]
  },
  {
   "cell_type": "code",
   "execution_count": 31,
   "id": "172606a7",
   "metadata": {
    "execution": {
     "iopub.execute_input": "2023-01-11T12:16:05.826507Z",
     "iopub.status.busy": "2023-01-11T12:16:05.825630Z",
     "iopub.status.idle": "2023-01-11T12:16:05.831750Z",
     "shell.execute_reply": "2023-01-11T12:16:05.832851Z",
     "shell.execute_reply.started": "2023-01-11T11:29:03.887159Z"
    },
    "papermill": {
     "duration": 0.236559,
     "end_time": "2023-01-11T12:16:05.833039",
     "exception": false,
     "start_time": "2023-01-11T12:16:05.596480",
     "status": "completed"
    },
    "tags": []
   },
   "outputs": [
    {
     "name": "stdout",
     "output_type": "stream",
     "text": [
      "Loss:  0.034804265946149826\n",
      "Accuracy:  0.9935784935951233\n"
     ]
    }
   ],
   "source": [
    "print(\"Loss: \",loss)\n",
    "print(\"Accuracy: \",accuracy)"
   ]
  },
  {
   "cell_type": "code",
   "execution_count": 32,
   "id": "ceb40467",
   "metadata": {
    "execution": {
     "iopub.execute_input": "2023-01-11T12:16:06.287765Z",
     "iopub.status.busy": "2023-01-11T12:16:06.287236Z",
     "iopub.status.idle": "2023-01-11T12:16:06.301292Z",
     "shell.execute_reply": "2023-01-11T12:16:06.300792Z",
     "shell.execute_reply.started": "2023-01-11T11:29:03.896530Z"
    },
    "papermill": {
     "duration": 0.250032,
     "end_time": "2023-01-11T12:16:06.301419",
     "exception": false,
     "start_time": "2023-01-11T12:16:06.051387",
     "status": "completed"
    },
    "tags": []
   },
   "outputs": [
    {
     "data": {
      "text/html": [
       "<div>\n",
       "<style scoped>\n",
       "    .dataframe tbody tr th:only-of-type {\n",
       "        vertical-align: middle;\n",
       "    }\n",
       "\n",
       "    .dataframe tbody tr th {\n",
       "        vertical-align: top;\n",
       "    }\n",
       "\n",
       "    .dataframe thead th {\n",
       "        text-align: right;\n",
       "    }\n",
       "</style>\n",
       "<table border=\"1\" class=\"dataframe\">\n",
       "  <thead>\n",
       "    <tr style=\"text-align: right;\">\n",
       "      <th></th>\n",
       "      <th>Model</th>\n",
       "      <th>Loss</th>\n",
       "      <th>Accuracy</th>\n",
       "      <th>Epochs</th>\n",
       "    </tr>\n",
       "  </thead>\n",
       "  <tbody>\n",
       "    <tr>\n",
       "      <th>0</th>\n",
       "      <td>Basic Model</td>\n",
       "      <td>0.034804</td>\n",
       "      <td>0.993578</td>\n",
       "      <td>15.0</td>\n",
       "    </tr>\n",
       "  </tbody>\n",
       "</table>\n",
       "</div>"
      ],
      "text/plain": [
       "         Model      Loss  Accuracy  Epochs\n",
       "0  Basic Model  0.034804  0.993578    15.0"
      ]
     },
     "execution_count": 32,
     "metadata": {},
     "output_type": "execute_result"
    }
   ],
   "source": [
    "r = evaluation.shape[0]\n",
    "evaluation.loc[r] = ['Basic Model',loss,accuracy,len(history.history['loss'])]\n",
    "evaluation"
   ]
  },
  {
   "cell_type": "markdown",
   "id": "060cf4e6",
   "metadata": {
    "papermill": {
     "duration": 0.341741,
     "end_time": "2023-01-11T12:16:06.959570",
     "exception": false,
     "start_time": "2023-01-11T12:16:06.617829",
     "status": "completed"
    },
    "tags": []
   },
   "source": [
    "Saving the model"
   ]
  },
  {
   "cell_type": "code",
   "execution_count": 33,
   "id": "a2527945",
   "metadata": {
    "execution": {
     "iopub.execute_input": "2023-01-11T12:16:07.464670Z",
     "iopub.status.busy": "2023-01-11T12:16:07.463862Z",
     "iopub.status.idle": "2023-01-11T12:16:08.417568Z",
     "shell.execute_reply": "2023-01-11T12:16:08.416818Z",
     "shell.execute_reply.started": "2023-01-11T11:29:03.927095Z"
    },
    "papermill": {
     "duration": 1.188181,
     "end_time": "2023-01-11T12:16:08.417768",
     "exception": false,
     "start_time": "2023-01-11T12:16:07.229587",
     "status": "completed"
    },
    "tags": []
   },
   "outputs": [],
   "source": [
    "model.save('model0To4')"
   ]
  },
  {
   "cell_type": "markdown",
   "id": "1a63d737",
   "metadata": {
    "papermill": {
     "duration": 0.221981,
     "end_time": "2023-01-11T12:16:08.864616",
     "exception": false,
     "start_time": "2023-01-11T12:16:08.642635",
     "status": "completed"
    },
    "tags": []
   },
   "source": [
    "Test the saved model"
   ]
  },
  {
   "cell_type": "code",
   "execution_count": 34,
   "id": "f1f047e4",
   "metadata": {
    "execution": {
     "iopub.execute_input": "2023-01-11T12:16:09.318264Z",
     "iopub.status.busy": "2023-01-11T12:16:09.317470Z",
     "iopub.status.idle": "2023-01-11T12:16:10.139068Z",
     "shell.execute_reply": "2023-01-11T12:16:10.139773Z",
     "shell.execute_reply.started": "2023-01-11T11:29:04.878873Z"
    },
    "papermill": {
     "duration": 1.046256,
     "end_time": "2023-01-11T12:16:10.139963",
     "exception": false,
     "start_time": "2023-01-11T12:16:09.093707",
     "status": "completed"
    },
    "tags": []
   },
   "outputs": [
    {
     "name": "stdout",
     "output_type": "stream",
     "text": [
      "161/161 [==============================] - 0s 2ms/step - loss: 0.0348 - accuracy: 0.9936\n"
     ]
    }
   ],
   "source": [
    "saved_model=keras.models.load_model('model0To4')\n",
    "loss,accuracy=saved_model.evaluate(X_test_A,y_test_A)"
   ]
  },
  {
   "cell_type": "markdown",
   "id": "e288e15e",
   "metadata": {
    "papermill": {
     "duration": 0.228657,
     "end_time": "2023-01-11T12:16:10.608771",
     "exception": false,
     "start_time": "2023-01-11T12:16:10.380114",
     "status": "completed"
    },
    "tags": []
   },
   "source": [
    "# Tune the hyperparameters using cross-validation"
   ]
  },
  {
   "cell_type": "code",
   "execution_count": 35,
   "id": "e08d2630",
   "metadata": {
    "execution": {
     "iopub.execute_input": "2023-01-11T12:16:11.069651Z",
     "iopub.status.busy": "2023-01-11T12:16:11.067760Z",
     "iopub.status.idle": "2023-01-11T12:16:11.070318Z",
     "shell.execute_reply": "2023-01-11T12:16:11.070797Z",
     "shell.execute_reply.started": "2023-01-11T11:29:05.694689Z"
    },
    "papermill": {
     "duration": 0.234533,
     "end_time": "2023-01-11T12:16:11.070955",
     "exception": false,
     "start_time": "2023-01-11T12:16:10.836422",
     "status": "completed"
    },
    "tags": []
   },
   "outputs": [],
   "source": [
    "optimizer=keras.optimizers.Adam(learning_rate=1e-3)\n",
    "def build_model(n_hidden=1,n_neurons=30,learning_rate=1e-3,input_shape=[28,28]):\n",
    "    model=keras.models.Sequential()\n",
    "    model.add(keras.layers.Flatten(input_shape=[28,28])) \n",
    "    for layer in range(n_hidden):\n",
    "        model.add(keras.layers.Dense(n_neurons,activation='elu',kernel_initializer='he_normal'))\n",
    "    model.add(keras.layers.Dense(5,activation='softmax'))\n",
    "    optimizer=keras.optimizers.Adam(learning_rate=learning_rate)\n",
    "    model.compile(loss='sparse_categorical_crossentropy',\n",
    "              optimizer=optimizer,\n",
    "              metrics=['accuracy'])\n",
    "    return model"
   ]
  },
  {
   "cell_type": "code",
   "execution_count": 36,
   "id": "b5c6a91c",
   "metadata": {
    "execution": {
     "iopub.execute_input": "2023-01-11T12:16:11.531819Z",
     "iopub.status.busy": "2023-01-11T12:16:11.529921Z",
     "iopub.status.idle": "2023-01-11T12:16:11.532490Z",
     "shell.execute_reply": "2023-01-11T12:16:11.532922Z",
     "shell.execute_reply.started": "2023-01-11T11:29:05.704597Z"
    },
    "papermill": {
     "duration": 0.236137,
     "end_time": "2023-01-11T12:16:11.533070",
     "exception": false,
     "start_time": "2023-01-11T12:16:11.296933",
     "status": "completed"
    },
    "tags": []
   },
   "outputs": [],
   "source": [
    "keras_reg=keras.wrappers.scikit_learn.KerasClassifier(build_model)"
   ]
  },
  {
   "cell_type": "code",
   "execution_count": 37,
   "id": "675f80dd",
   "metadata": {
    "execution": {
     "iopub.execute_input": "2023-01-11T12:16:12.217484Z",
     "iopub.status.busy": "2023-01-11T12:16:12.216846Z",
     "iopub.status.idle": "2023-01-11T12:16:12.362412Z",
     "shell.execute_reply": "2023-01-11T12:16:12.362827Z",
     "shell.execute_reply.started": "2023-01-11T11:29:05.714952Z"
    },
    "papermill": {
     "duration": 0.601826,
     "end_time": "2023-01-11T12:16:12.362998",
     "exception": false,
     "start_time": "2023-01-11T12:16:11.761172",
     "status": "completed"
    },
    "tags": []
   },
   "outputs": [
    {
     "name": "stderr",
     "output_type": "stream",
     "text": [
      "2023-01-11 12:16:11.993205: I tensorflow/core/profiler/lib/profiler_session.cc:136] Profiler session initializing.\n",
      "2023-01-11 12:16:11.993248: I tensorflow/core/profiler/lib/profiler_session.cc:155] Profiler session started.\n",
      "2023-01-11 12:16:12.216287: I tensorflow/core/profiler/lib/profiler_session.cc:172] Profiler session tear down.\n",
      "2023-01-11 12:16:12.216448: I tensorflow/core/profiler/internal/gpu/cupti_tracer.cc:1487] CUPTI activity buffer flushed\n"
     ]
    }
   ],
   "source": [
    "tensorboard_cv=keras.callbacks.TensorBoard(get_run_logdir())\n",
    "checkpoint_cb=keras.callbacks.ModelCheckpoint('rndModel_digit0To4',save_best_only=True)"
   ]
  },
  {
   "cell_type": "code",
   "execution_count": 38,
   "id": "200e31ac",
   "metadata": {
    "execution": {
     "iopub.execute_input": "2023-01-11T12:16:12.829456Z",
     "iopub.status.busy": "2023-01-11T12:16:12.828566Z",
     "iopub.status.idle": "2023-01-11T12:40:40.250932Z",
     "shell.execute_reply": "2023-01-11T12:40:40.251439Z",
     "shell.execute_reply.started": "2023-01-11T11:29:06.089518Z"
    },
    "papermill": {
     "duration": 1467.656393,
     "end_time": "2023-01-11T12:40:40.251640",
     "exception": false,
     "start_time": "2023-01-11T12:16:12.595247",
     "status": "completed"
    },
    "tags": []
   },
   "outputs": [
    {
     "name": "stdout",
     "output_type": "stream",
     "text": [
      "Fitting 3 folds for each of 10 candidates, totalling 30 fits\n",
      "[CV] n_neurons=4, n_hidden=3, learning_rate=0.0003123893385107206 ....\n"
     ]
    },
    {
     "name": "stderr",
     "output_type": "stream",
     "text": [
      "[Parallel(n_jobs=1)]: Using backend SequentialBackend with 1 concurrent workers.\n"
     ]
    },
    {
     "name": "stdout",
     "output_type": "stream",
     "text": [
      "Epoch 1/100\n",
      "  2/510 [..............................] - ETA: 2:23 - loss: 1.6005 - accuracy: 0.1797"
     ]
    },
    {
     "name": "stderr",
     "output_type": "stream",
     "text": [
      "2023-01-11 12:16:13.677018: I tensorflow/core/profiler/lib/profiler_session.cc:136] Profiler session initializing.\n",
      "2023-01-11 12:16:13.677070: I tensorflow/core/profiler/lib/profiler_session.cc:155] Profiler session started.\n"
     ]
    },
    {
     "name": "stdout",
     "output_type": "stream",
     "text": [
      " 79/510 [===>..........................] - ETA: 3s - loss: 1.5713 - accuracy: 0.2708"
     ]
    },
    {
     "name": "stderr",
     "output_type": "stream",
     "text": [
      "2023-01-11 12:16:13.989225: I tensorflow/core/profiler/lib/profiler_session.cc:71] Profiler session collecting data.\n",
      "2023-01-11 12:16:13.989454: I tensorflow/core/profiler/internal/gpu/cupti_tracer.cc:1487] CUPTI activity buffer flushed\n",
      "2023-01-11 12:16:14.132301: I tensorflow/core/profiler/internal/gpu/cupti_collector.cc:228]  GpuTracer has collected 91 callback api events and 79 activity events. \n",
      "2023-01-11 12:16:14.136534: I tensorflow/core/profiler/lib/profiler_session.cc:172] Profiler session tear down.\n",
      "2023-01-11 12:16:14.140304: I tensorflow/core/profiler/rpc/client/save_profile.cc:137] Creating directory: ./my_logs/run_2023_01_11-12_16_11/train/plugins/profile/2023_01_11_12_16_14\n",
      "2023-01-11 12:16:14.142975: I tensorflow/core/profiler/rpc/client/save_profile.cc:143] Dumped gzipped tool data for trace.json.gz to ./my_logs/run_2023_01_11-12_16_11/train/plugins/profile/2023_01_11_12_16_14/c9ea16180903.trace.json.gz\n",
      "2023-01-11 12:16:14.147518: I tensorflow/core/profiler/rpc/client/save_profile.cc:137] Creating directory: ./my_logs/run_2023_01_11-12_16_11/train/plugins/profile/2023_01_11_12_16_14\n",
      "2023-01-11 12:16:14.148315: I tensorflow/core/profiler/rpc/client/save_profile.cc:143] Dumped gzipped tool data for memory_profile.json.gz to ./my_logs/run_2023_01_11-12_16_11/train/plugins/profile/2023_01_11_12_16_14/c9ea16180903.memory_profile.json.gz\n",
      "2023-01-11 12:16:14.148769: I tensorflow/core/profiler/rpc/client/capture_profile.cc:251] Creating directory: ./my_logs/run_2023_01_11-12_16_11/train/plugins/profile/2023_01_11_12_16_14Dumped tool data for xplane.pb to ./my_logs/run_2023_01_11-12_16_11/train/plugins/profile/2023_01_11_12_16_14/c9ea16180903.xplane.pb\n",
      "Dumped tool data for overview_page.pb to ./my_logs/run_2023_01_11-12_16_11/train/plugins/profile/2023_01_11_12_16_14/c9ea16180903.overview_page.pb\n",
      "Dumped tool data for input_pipeline.pb to ./my_logs/run_2023_01_11-12_16_11/train/plugins/profile/2023_01_11_12_16_14/c9ea16180903.input_pipeline.pb\n",
      "Dumped tool data for tensorflow_stats.pb to ./my_logs/run_2023_01_11-12_16_11/train/plugins/profile/2023_01_11_12_16_14/c9ea16180903.tensorflow_stats.pb\n",
      "Dumped tool data for kernel_stats.pb to ./my_logs/run_2023_01_11-12_16_11/train/plugins/profile/2023_01_11_12_16_14/c9ea16180903.kernel_stats.pb\n",
      "\n"
     ]
    },
    {
     "name": "stdout",
     "output_type": "stream",
     "text": [
      "510/510 [==============================] - 2s 4ms/step - loss: 1.3194 - accuracy: 0.4846 - val_loss: 0.8586 - val_accuracy: 0.7543\n",
      "Epoch 2/100\n",
      "510/510 [==============================] - 2s 3ms/step - loss: 0.7838 - accuracy: 0.7635 - val_loss: 0.6208 - val_accuracy: 0.7878\n",
      "Epoch 3/100\n",
      "510/510 [==============================] - 1s 3ms/step - loss: 0.5739 - accuracy: 0.7935 - val_loss: 0.4719 - val_accuracy: 0.8461\n",
      "Epoch 4/100\n",
      "510/510 [==============================] - 1s 3ms/step - loss: 0.4293 - accuracy: 0.8640 - val_loss: 0.3485 - val_accuracy: 0.9077\n",
      "Epoch 5/100\n",
      "510/510 [==============================] - 1s 3ms/step - loss: 0.3197 - accuracy: 0.9150 - val_loss: 0.2807 - val_accuracy: 0.9240\n",
      "Epoch 6/100\n",
      "510/510 [==============================] - 1s 3ms/step - loss: 0.2521 - accuracy: 0.9323 - val_loss: 0.2443 - val_accuracy: 0.9318\n",
      "Epoch 7/100\n",
      "510/510 [==============================] - 2s 4ms/step - loss: 0.2193 - accuracy: 0.9411 - val_loss: 0.2235 - val_accuracy: 0.9370\n",
      "Epoch 8/100\n",
      "510/510 [==============================] - 1s 3ms/step - loss: 0.1911 - accuracy: 0.9487 - val_loss: 0.2089 - val_accuracy: 0.9401\n",
      "Epoch 9/100\n",
      "510/510 [==============================] - 1s 3ms/step - loss: 0.1830 - accuracy: 0.9509 - val_loss: 0.1981 - val_accuracy: 0.9434\n",
      "Epoch 10/100\n",
      "510/510 [==============================] - 1s 3ms/step - loss: 0.1612 - accuracy: 0.9575 - val_loss: 0.1901 - val_accuracy: 0.9466\n",
      "Epoch 11/100\n",
      "510/510 [==============================] - 1s 3ms/step - loss: 0.1509 - accuracy: 0.9605 - val_loss: 0.1837 - val_accuracy: 0.9499\n",
      "Epoch 12/100\n",
      "510/510 [==============================] - 2s 3ms/step - loss: 0.1507 - accuracy: 0.9587 - val_loss: 0.1824 - val_accuracy: 0.9487\n",
      "Epoch 13/100\n",
      "510/510 [==============================] - 1s 3ms/step - loss: 0.1413 - accuracy: 0.9609 - val_loss: 0.1768 - val_accuracy: 0.9512\n",
      "Epoch 14/100\n",
      "510/510 [==============================] - 2s 3ms/step - loss: 0.1427 - accuracy: 0.9598 - val_loss: 0.1729 - val_accuracy: 0.9515\n",
      "Epoch 15/100\n",
      "510/510 [==============================] - 1s 3ms/step - loss: 0.1319 - accuracy: 0.9634 - val_loss: 0.1718 - val_accuracy: 0.9531\n",
      "Epoch 16/100\n",
      "510/510 [==============================] - 1s 3ms/step - loss: 0.1326 - accuracy: 0.9633 - val_loss: 0.1718 - val_accuracy: 0.9533\n",
      "Epoch 17/100\n",
      "510/510 [==============================] - 2s 3ms/step - loss: 0.1235 - accuracy: 0.9660 - val_loss: 0.1674 - val_accuracy: 0.9536\n",
      "Epoch 18/100\n",
      "510/510 [==============================] - 1s 3ms/step - loss: 0.1106 - accuracy: 0.9697 - val_loss: 0.1656 - val_accuracy: 0.9539\n",
      "Epoch 19/100\n",
      "510/510 [==============================] - 1s 3ms/step - loss: 0.1166 - accuracy: 0.9694 - val_loss: 0.1622 - val_accuracy: 0.9548\n",
      "Epoch 20/100\n",
      "510/510 [==============================] - 1s 3ms/step - loss: 0.1118 - accuracy: 0.9710 - val_loss: 0.1616 - val_accuracy: 0.9549\n",
      "Epoch 21/100\n",
      "510/510 [==============================] - 2s 4ms/step - loss: 0.1090 - accuracy: 0.9696 - val_loss: 0.1605 - val_accuracy: 0.9552\n",
      "Epoch 22/100\n",
      "510/510 [==============================] - 2s 3ms/step - loss: 0.1093 - accuracy: 0.9722 - val_loss: 0.1581 - val_accuracy: 0.9567\n",
      "Epoch 23/100\n",
      "510/510 [==============================] - 1s 3ms/step - loss: 0.1053 - accuracy: 0.9711 - val_loss: 0.1571 - val_accuracy: 0.9577\n",
      "Epoch 24/100\n",
      "510/510 [==============================] - 1s 3ms/step - loss: 0.1017 - accuracy: 0.9724 - val_loss: 0.1574 - val_accuracy: 0.9570\n",
      "Epoch 25/100\n",
      "510/510 [==============================] - 1s 3ms/step - loss: 0.1013 - accuracy: 0.9735 - val_loss: 0.1564 - val_accuracy: 0.9569\n",
      "Epoch 26/100\n",
      "510/510 [==============================] - 1s 3ms/step - loss: 0.1024 - accuracy: 0.9727 - val_loss: 0.1560 - val_accuracy: 0.9574\n",
      "Epoch 27/100\n",
      "510/510 [==============================] - 2s 3ms/step - loss: 0.1019 - accuracy: 0.9723 - val_loss: 0.1557 - val_accuracy: 0.9582\n",
      "Epoch 28/100\n",
      "510/510 [==============================] - 2s 3ms/step - loss: 0.0950 - accuracy: 0.9746 - val_loss: 0.1552 - val_accuracy: 0.9577\n",
      "Epoch 29/100\n",
      "510/510 [==============================] - 1s 3ms/step - loss: 0.0955 - accuracy: 0.9734 - val_loss: 0.1556 - val_accuracy: 0.9575\n",
      "Epoch 30/100\n",
      "510/510 [==============================] - 1s 3ms/step - loss: 0.0915 - accuracy: 0.9762 - val_loss: 0.1540 - val_accuracy: 0.9582\n",
      "Epoch 31/100\n",
      "510/510 [==============================] - 1s 3ms/step - loss: 0.0886 - accuracy: 0.9761 - val_loss: 0.1542 - val_accuracy: 0.9574\n",
      "Epoch 32/100\n",
      "510/510 [==============================] - 1s 3ms/step - loss: 0.0880 - accuracy: 0.9765 - val_loss: 0.1551 - val_accuracy: 0.9577\n",
      "Epoch 33/100\n",
      "510/510 [==============================] - 1s 3ms/step - loss: 0.0890 - accuracy: 0.9770 - val_loss: 0.1553 - val_accuracy: 0.9585\n",
      "Epoch 34/100\n",
      "510/510 [==============================] - 2s 3ms/step - loss: 0.0923 - accuracy: 0.9749 - val_loss: 0.1551 - val_accuracy: 0.9579\n",
      "Epoch 35/100\n",
      "510/510 [==============================] - 1s 3ms/step - loss: 0.0884 - accuracy: 0.9761 - val_loss: 0.1561 - val_accuracy: 0.9580\n",
      "Epoch 36/100\n",
      "510/510 [==============================] - 1s 3ms/step - loss: 0.0810 - accuracy: 0.9778 - val_loss: 0.1548 - val_accuracy: 0.9574\n",
      "Epoch 37/100\n",
      "510/510 [==============================] - 1s 3ms/step - loss: 0.0834 - accuracy: 0.9768 - val_loss: 0.1554 - val_accuracy: 0.9590\n",
      "Epoch 38/100\n",
      "510/510 [==============================] - 2s 3ms/step - loss: 0.0903 - accuracy: 0.9762 - val_loss: 0.1551 - val_accuracy: 0.9585\n",
      "Epoch 39/100\n",
      "510/510 [==============================] - 2s 3ms/step - loss: 0.0810 - accuracy: 0.9778 - val_loss: 0.1564 - val_accuracy: 0.9579\n",
      "Epoch 40/100\n",
      "510/510 [==============================] - 1s 3ms/step - loss: 0.0820 - accuracy: 0.9800 - val_loss: 0.1572 - val_accuracy: 0.9577\n",
      "255/255 [==============================] - 1s 2ms/step - loss: 0.1593 - accuracy: 0.9567\n",
      "[CV]  n_neurons=4, n_hidden=3, learning_rate=0.0003123893385107206, total= 1.4min\n",
      "[CV] n_neurons=4, n_hidden=3, learning_rate=0.0003123893385107206 ....\n",
      "Epoch 1/100\n"
     ]
    },
    {
     "name": "stderr",
     "output_type": "stream",
     "text": [
      "[Parallel(n_jobs=1)]: Done   1 out of   1 | elapsed:  1.4min remaining:    0.0s\n"
     ]
    },
    {
     "name": "stdout",
     "output_type": "stream",
     "text": [
      "  2/510 [..............................] - ETA: 2:44 - loss: 1.7107 - accuracy: 0.3516"
     ]
    },
    {
     "name": "stderr",
     "output_type": "stream",
     "text": [
      "2023-01-11 12:17:34.811210: I tensorflow/core/profiler/lib/profiler_session.cc:136] Profiler session initializing.\n",
      "2023-01-11 12:17:34.811265: I tensorflow/core/profiler/lib/profiler_session.cc:155] Profiler session started.\n"
     ]
    },
    {
     "name": "stdout",
     "output_type": "stream",
     "text": [
      " 80/510 [===>..........................] - ETA: 3s - loss: 1.5346 - accuracy: 0.3817"
     ]
    },
    {
     "name": "stderr",
     "output_type": "stream",
     "text": [
      "2023-01-11 12:17:35.159209: I tensorflow/core/profiler/lib/profiler_session.cc:71] Profiler session collecting data.\n",
      "2023-01-11 12:17:35.159490: I tensorflow/core/profiler/internal/gpu/cupti_tracer.cc:1487] CUPTI activity buffer flushed\n",
      "2023-01-11 12:17:35.301268: I tensorflow/core/profiler/internal/gpu/cupti_collector.cc:228]  GpuTracer has collected 91 callback api events and 79 activity events. \n",
      "2023-01-11 12:17:35.305284: I tensorflow/core/profiler/lib/profiler_session.cc:172] Profiler session tear down.\n",
      "2023-01-11 12:17:35.308951: I tensorflow/core/profiler/rpc/client/save_profile.cc:137] Creating directory: ./my_logs/run_2023_01_11-12_16_11/train/plugins/profile/2023_01_11_12_17_35\n",
      "2023-01-11 12:17:35.311356: I tensorflow/core/profiler/rpc/client/save_profile.cc:143] Dumped gzipped tool data for trace.json.gz to ./my_logs/run_2023_01_11-12_16_11/train/plugins/profile/2023_01_11_12_17_35/c9ea16180903.trace.json.gz\n",
      "2023-01-11 12:17:35.315649: I tensorflow/core/profiler/rpc/client/save_profile.cc:137] Creating directory: ./my_logs/run_2023_01_11-12_16_11/train/plugins/profile/2023_01_11_12_17_35\n",
      "2023-01-11 12:17:35.316463: I tensorflow/core/profiler/rpc/client/save_profile.cc:143] Dumped gzipped tool data for memory_profile.json.gz to ./my_logs/run_2023_01_11-12_16_11/train/plugins/profile/2023_01_11_12_17_35/c9ea16180903.memory_profile.json.gz\n",
      "2023-01-11 12:17:35.316929: I tensorflow/core/profiler/rpc/client/capture_profile.cc:251] Creating directory: ./my_logs/run_2023_01_11-12_16_11/train/plugins/profile/2023_01_11_12_17_35Dumped tool data for xplane.pb to ./my_logs/run_2023_01_11-12_16_11/train/plugins/profile/2023_01_11_12_17_35/c9ea16180903.xplane.pb\n",
      "Dumped tool data for overview_page.pb to ./my_logs/run_2023_01_11-12_16_11/train/plugins/profile/2023_01_11_12_17_35/c9ea16180903.overview_page.pb\n",
      "Dumped tool data for input_pipeline.pb to ./my_logs/run_2023_01_11-12_16_11/train/plugins/profile/2023_01_11_12_17_35/c9ea16180903.input_pipeline.pb\n",
      "Dumped tool data for tensorflow_stats.pb to ./my_logs/run_2023_01_11-12_16_11/train/plugins/profile/2023_01_11_12_17_35/c9ea16180903.tensorflow_stats.pb\n",
      "Dumped tool data for kernel_stats.pb to ./my_logs/run_2023_01_11-12_16_11/train/plugins/profile/2023_01_11_12_17_35/c9ea16180903.kernel_stats.pb\n",
      "\n"
     ]
    },
    {
     "name": "stdout",
     "output_type": "stream",
     "text": [
      "510/510 [==============================] - 2s 4ms/step - loss: 1.2206 - accuracy: 0.5501 - val_loss: 0.5570 - val_accuracy: 0.8885\n",
      "Epoch 2/100\n",
      "510/510 [==============================] - 1s 3ms/step - loss: 0.4854 - accuracy: 0.9002 - val_loss: 0.3373 - val_accuracy: 0.9255\n",
      "Epoch 3/100\n",
      "510/510 [==============================] - 1s 3ms/step - loss: 0.3109 - accuracy: 0.9320 - val_loss: 0.2596 - val_accuracy: 0.9344\n",
      "Epoch 4/100\n",
      "510/510 [==============================] - 1s 3ms/step - loss: 0.2455 - accuracy: 0.9405 - val_loss: 0.2265 - val_accuracy: 0.9375\n",
      "Epoch 5/100\n",
      "510/510 [==============================] - 1s 3ms/step - loss: 0.2113 - accuracy: 0.9435 - val_loss: 0.2051 - val_accuracy: 0.9417\n",
      "Epoch 6/100\n",
      "510/510 [==============================] - 1s 3ms/step - loss: 0.1894 - accuracy: 0.9478 - val_loss: 0.1929 - val_accuracy: 0.9453\n",
      "Epoch 7/100\n",
      "510/510 [==============================] - 1s 3ms/step - loss: 0.1725 - accuracy: 0.9516 - val_loss: 0.1856 - val_accuracy: 0.9455\n",
      "Epoch 8/100\n",
      "510/510 [==============================] - 2s 4ms/step - loss: 0.1645 - accuracy: 0.9538 - val_loss: 0.1767 - val_accuracy: 0.9497\n",
      "Epoch 9/100\n",
      "510/510 [==============================] - 1s 3ms/step - loss: 0.1525 - accuracy: 0.9555 - val_loss: 0.1698 - val_accuracy: 0.9504\n",
      "Epoch 10/100\n",
      "510/510 [==============================] - 1s 3ms/step - loss: 0.1422 - accuracy: 0.9577 - val_loss: 0.1621 - val_accuracy: 0.9517\n",
      "Epoch 11/100\n",
      "510/510 [==============================] - 1s 3ms/step - loss: 0.1338 - accuracy: 0.9614 - val_loss: 0.1593 - val_accuracy: 0.9538\n",
      "Epoch 12/100\n",
      "510/510 [==============================] - 1s 3ms/step - loss: 0.1227 - accuracy: 0.9655 - val_loss: 0.1579 - val_accuracy: 0.9536\n",
      "Epoch 13/100\n",
      "510/510 [==============================] - 1s 3ms/step - loss: 0.1270 - accuracy: 0.9651 - val_loss: 0.1512 - val_accuracy: 0.9549\n",
      "Epoch 14/100\n",
      "510/510 [==============================] - 1s 3ms/step - loss: 0.1120 - accuracy: 0.9694 - val_loss: 0.1502 - val_accuracy: 0.9566\n",
      "Epoch 15/100\n",
      "510/510 [==============================] - 2s 3ms/step - loss: 0.1105 - accuracy: 0.9681 - val_loss: 0.1451 - val_accuracy: 0.9587\n",
      "Epoch 16/100\n",
      "510/510 [==============================] - 1s 3ms/step - loss: 0.1129 - accuracy: 0.9689 - val_loss: 0.1458 - val_accuracy: 0.9575\n",
      "Epoch 17/100\n",
      "510/510 [==============================] - 2s 3ms/step - loss: 0.1153 - accuracy: 0.9670 - val_loss: 0.1440 - val_accuracy: 0.9580\n",
      "Epoch 18/100\n",
      "510/510 [==============================] - 1s 3ms/step - loss: 0.1014 - accuracy: 0.9711 - val_loss: 0.1451 - val_accuracy: 0.9595\n",
      "Epoch 19/100\n",
      "510/510 [==============================] - 1s 3ms/step - loss: 0.1036 - accuracy: 0.9714 - val_loss: 0.1399 - val_accuracy: 0.9596\n",
      "Epoch 20/100\n",
      "510/510 [==============================] - 2s 3ms/step - loss: 0.0979 - accuracy: 0.9720 - val_loss: 0.1401 - val_accuracy: 0.9601\n",
      "Epoch 21/100\n",
      "510/510 [==============================] - 1s 3ms/step - loss: 0.0973 - accuracy: 0.9729 - val_loss: 0.1396 - val_accuracy: 0.9603\n",
      "Epoch 22/100\n",
      "510/510 [==============================] - 1s 3ms/step - loss: 0.0924 - accuracy: 0.9739 - val_loss: 0.1388 - val_accuracy: 0.9606\n",
      "Epoch 23/100\n",
      "510/510 [==============================] - 1s 3ms/step - loss: 0.0969 - accuracy: 0.9720 - val_loss: 0.1389 - val_accuracy: 0.9593\n",
      "Epoch 24/100\n",
      "510/510 [==============================] - 1s 3ms/step - loss: 0.0925 - accuracy: 0.9720 - val_loss: 0.1406 - val_accuracy: 0.9598\n",
      "Epoch 25/100\n",
      "510/510 [==============================] - 1s 3ms/step - loss: 0.0894 - accuracy: 0.9729 - val_loss: 0.1401 - val_accuracy: 0.9603\n",
      "Epoch 26/100\n",
      "510/510 [==============================] - 2s 4ms/step - loss: 0.0818 - accuracy: 0.9760 - val_loss: 0.1369 - val_accuracy: 0.9614\n",
      "Epoch 27/100\n",
      "510/510 [==============================] - 1s 3ms/step - loss: 0.0799 - accuracy: 0.9764 - val_loss: 0.1371 - val_accuracy: 0.9622\n",
      "Epoch 28/100\n",
      "510/510 [==============================] - 1s 3ms/step - loss: 0.0872 - accuracy: 0.9762 - val_loss: 0.1356 - val_accuracy: 0.9618\n",
      "Epoch 29/100\n",
      "510/510 [==============================] - 1s 3ms/step - loss: 0.0830 - accuracy: 0.9755 - val_loss: 0.1378 - val_accuracy: 0.9605\n",
      "Epoch 30/100\n",
      "510/510 [==============================] - 1s 3ms/step - loss: 0.0797 - accuracy: 0.9771 - val_loss: 0.1356 - val_accuracy: 0.9626\n",
      "Epoch 31/100\n",
      "510/510 [==============================] - 1s 3ms/step - loss: 0.0780 - accuracy: 0.9773 - val_loss: 0.1374 - val_accuracy: 0.9613\n",
      "Epoch 32/100\n",
      "510/510 [==============================] - 1s 3ms/step - loss: 0.0769 - accuracy: 0.9785 - val_loss: 0.1380 - val_accuracy: 0.9613\n",
      "Epoch 33/100\n",
      "510/510 [==============================] - 2s 3ms/step - loss: 0.0714 - accuracy: 0.9802 - val_loss: 0.1402 - val_accuracy: 0.9637\n",
      "Epoch 34/100\n",
      "510/510 [==============================] - 1s 3ms/step - loss: 0.0737 - accuracy: 0.9798 - val_loss: 0.1377 - val_accuracy: 0.9619\n",
      "Epoch 35/100\n",
      "510/510 [==============================] - 2s 3ms/step - loss: 0.0696 - accuracy: 0.9805 - val_loss: 0.1390 - val_accuracy: 0.9605\n",
      "Epoch 36/100\n",
      "510/510 [==============================] - 2s 3ms/step - loss: 0.0692 - accuracy: 0.9813 - val_loss: 0.1388 - val_accuracy: 0.9618\n",
      "Epoch 37/100\n",
      "510/510 [==============================] - 1s 3ms/step - loss: 0.0754 - accuracy: 0.9796 - val_loss: 0.1355 - val_accuracy: 0.9629\n",
      "Epoch 38/100\n",
      "510/510 [==============================] - 1s 3ms/step - loss: 0.0695 - accuracy: 0.9815 - val_loss: 0.1370 - val_accuracy: 0.9621\n",
      "Epoch 39/100\n",
      "510/510 [==============================] - 1s 3ms/step - loss: 0.0656 - accuracy: 0.9812 - val_loss: 0.1386 - val_accuracy: 0.9618\n",
      "Epoch 40/100\n",
      "510/510 [==============================] - 2s 3ms/step - loss: 0.0697 - accuracy: 0.9806 - val_loss: 0.1350 - val_accuracy: 0.9626\n",
      "Epoch 41/100\n",
      "510/510 [==============================] - 1s 3ms/step - loss: 0.0615 - accuracy: 0.9828 - val_loss: 0.1387 - val_accuracy: 0.9618\n",
      "Epoch 42/100\n",
      "510/510 [==============================] - 1s 3ms/step - loss: 0.0669 - accuracy: 0.9801 - val_loss: 0.1378 - val_accuracy: 0.9639\n",
      "Epoch 43/100\n",
      "510/510 [==============================] - 1s 3ms/step - loss: 0.0657 - accuracy: 0.9795 - val_loss: 0.1401 - val_accuracy: 0.9621\n",
      "Epoch 44/100\n",
      "510/510 [==============================] - 1s 3ms/step - loss: 0.0646 - accuracy: 0.9811 - val_loss: 0.1380 - val_accuracy: 0.9626\n",
      "Epoch 45/100\n",
      "510/510 [==============================] - 2s 4ms/step - loss: 0.0626 - accuracy: 0.9830 - val_loss: 0.1395 - val_accuracy: 0.9624\n",
      "Epoch 46/100\n",
      "510/510 [==============================] - 1s 3ms/step - loss: 0.0636 - accuracy: 0.9825 - val_loss: 0.1382 - val_accuracy: 0.9621\n",
      "Epoch 47/100\n",
      "510/510 [==============================] - 2s 3ms/step - loss: 0.0569 - accuracy: 0.9836 - val_loss: 0.1425 - val_accuracy: 0.9627\n",
      "Epoch 48/100\n",
      "510/510 [==============================] - 1s 3ms/step - loss: 0.0639 - accuracy: 0.9815 - val_loss: 0.1400 - val_accuracy: 0.9624\n",
      "Epoch 49/100\n",
      "510/510 [==============================] - 1s 3ms/step - loss: 0.0599 - accuracy: 0.9837 - val_loss: 0.1486 - val_accuracy: 0.9616\n",
      "Epoch 50/100\n",
      "510/510 [==============================] - 1s 3ms/step - loss: 0.0634 - accuracy: 0.9820 - val_loss: 0.1468 - val_accuracy: 0.9619\n",
      "255/255 [==============================] - 1s 2ms/step - loss: 0.1353 - accuracy: 0.9644\n",
      "[CV]  n_neurons=4, n_hidden=3, learning_rate=0.0003123893385107206, total= 1.4min\n",
      "[CV] n_neurons=4, n_hidden=3, learning_rate=0.0003123893385107206 ....\n",
      "Epoch 1/100\n",
      "  2/510 [..............................] - ETA: 1:49 - loss: 1.7156 - accuracy: 0.2578"
     ]
    },
    {
     "name": "stderr",
     "output_type": "stream",
     "text": [
      "2023-01-11 12:18:57.842186: I tensorflow/core/profiler/lib/profiler_session.cc:136] Profiler session initializing.\n",
      "2023-01-11 12:18:57.842229: I tensorflow/core/profiler/lib/profiler_session.cc:155] Profiler session started.\n"
     ]
    },
    {
     "name": "stdout",
     "output_type": "stream",
     "text": [
      " 80/510 [===>..........................] - ETA: 3s - loss: 1.4290 - accuracy: 0.4132"
     ]
    },
    {
     "name": "stderr",
     "output_type": "stream",
     "text": [
      "2023-01-11 12:18:58.088499: I tensorflow/core/profiler/lib/profiler_session.cc:71] Profiler session collecting data.\n",
      "2023-01-11 12:18:58.088751: I tensorflow/core/profiler/internal/gpu/cupti_tracer.cc:1487] CUPTI activity buffer flushed\n",
      "2023-01-11 12:18:58.231524: I tensorflow/core/profiler/internal/gpu/cupti_collector.cc:228]  GpuTracer has collected 91 callback api events and 79 activity events. \n",
      "2023-01-11 12:18:58.235591: I tensorflow/core/profiler/lib/profiler_session.cc:172] Profiler session tear down.\n",
      "2023-01-11 12:18:58.239208: I tensorflow/core/profiler/rpc/client/save_profile.cc:137] Creating directory: ./my_logs/run_2023_01_11-12_16_11/train/plugins/profile/2023_01_11_12_18_58\n",
      "2023-01-11 12:18:58.241868: I tensorflow/core/profiler/rpc/client/save_profile.cc:143] Dumped gzipped tool data for trace.json.gz to ./my_logs/run_2023_01_11-12_16_11/train/plugins/profile/2023_01_11_12_18_58/c9ea16180903.trace.json.gz\n",
      "2023-01-11 12:18:58.246391: I tensorflow/core/profiler/rpc/client/save_profile.cc:137] Creating directory: ./my_logs/run_2023_01_11-12_16_11/train/plugins/profile/2023_01_11_12_18_58\n",
      "2023-01-11 12:18:58.247092: I tensorflow/core/profiler/rpc/client/save_profile.cc:143] Dumped gzipped tool data for memory_profile.json.gz to ./my_logs/run_2023_01_11-12_16_11/train/plugins/profile/2023_01_11_12_18_58/c9ea16180903.memory_profile.json.gz\n",
      "2023-01-11 12:18:58.247547: I tensorflow/core/profiler/rpc/client/capture_profile.cc:251] Creating directory: ./my_logs/run_2023_01_11-12_16_11/train/plugins/profile/2023_01_11_12_18_58Dumped tool data for xplane.pb to ./my_logs/run_2023_01_11-12_16_11/train/plugins/profile/2023_01_11_12_18_58/c9ea16180903.xplane.pb\n",
      "Dumped tool data for overview_page.pb to ./my_logs/run_2023_01_11-12_16_11/train/plugins/profile/2023_01_11_12_18_58/c9ea16180903.overview_page.pb\n",
      "Dumped tool data for input_pipeline.pb to ./my_logs/run_2023_01_11-12_16_11/train/plugins/profile/2023_01_11_12_18_58/c9ea16180903.input_pipeline.pb\n",
      "Dumped tool data for tensorflow_stats.pb to ./my_logs/run_2023_01_11-12_16_11/train/plugins/profile/2023_01_11_12_18_58/c9ea16180903.tensorflow_stats.pb\n",
      "Dumped tool data for kernel_stats.pb to ./my_logs/run_2023_01_11-12_16_11/train/plugins/profile/2023_01_11_12_18_58/c9ea16180903.kernel_stats.pb\n",
      "\n"
     ]
    },
    {
     "name": "stdout",
     "output_type": "stream",
     "text": [
      "510/510 [==============================] - 2s 4ms/step - loss: 1.1071 - accuracy: 0.5967 - val_loss: 0.6519 - val_accuracy: 0.8090\n",
      "Epoch 2/100\n",
      "510/510 [==============================] - 1s 3ms/step - loss: 0.5826 - accuracy: 0.8360 - val_loss: 0.4098 - val_accuracy: 0.9116\n",
      "Epoch 3/100\n",
      "510/510 [==============================] - 1s 3ms/step - loss: 0.3750 - accuracy: 0.9195 - val_loss: 0.2790 - val_accuracy: 0.9413\n",
      "Epoch 4/100\n",
      "510/510 [==============================] - 2s 3ms/step - loss: 0.2617 - accuracy: 0.9406 - val_loss: 0.2225 - val_accuracy: 0.9505\n",
      "Epoch 5/100\n",
      "510/510 [==============================] - 2s 4ms/step - loss: 0.2185 - accuracy: 0.9490 - val_loss: 0.1974 - val_accuracy: 0.9554\n",
      "Epoch 6/100\n",
      "510/510 [==============================] - 1s 3ms/step - loss: 0.1881 - accuracy: 0.9555 - val_loss: 0.1821 - val_accuracy: 0.9552\n",
      "Epoch 7/100\n",
      "510/510 [==============================] - 1s 3ms/step - loss: 0.1699 - accuracy: 0.9582 - val_loss: 0.1698 - val_accuracy: 0.9583\n",
      "Epoch 8/100\n",
      "510/510 [==============================] - 1s 3ms/step - loss: 0.1603 - accuracy: 0.9585 - val_loss: 0.1621 - val_accuracy: 0.9593\n",
      "Epoch 9/100\n",
      "510/510 [==============================] - 1s 3ms/step - loss: 0.1516 - accuracy: 0.9594 - val_loss: 0.1634 - val_accuracy: 0.9585\n",
      "Epoch 10/100\n",
      "510/510 [==============================] - 1s 3ms/step - loss: 0.1342 - accuracy: 0.9656 - val_loss: 0.1578 - val_accuracy: 0.9613\n",
      "Epoch 11/100\n",
      "510/510 [==============================] - 2s 3ms/step - loss: 0.1342 - accuracy: 0.9642 - val_loss: 0.1515 - val_accuracy: 0.9629\n",
      "Epoch 12/100\n",
      "510/510 [==============================] - 1s 3ms/step - loss: 0.1299 - accuracy: 0.9665 - val_loss: 0.1465 - val_accuracy: 0.9634\n",
      "Epoch 13/100\n",
      "510/510 [==============================] - 1s 3ms/step - loss: 0.1253 - accuracy: 0.9677 - val_loss: 0.1450 - val_accuracy: 0.9629\n",
      "Epoch 14/100\n",
      "510/510 [==============================] - 1s 3ms/step - loss: 0.1112 - accuracy: 0.9728 - val_loss: 0.1505 - val_accuracy: 0.9634\n",
      "Epoch 15/100\n",
      "510/510 [==============================] - 1s 3ms/step - loss: 0.1129 - accuracy: 0.9732 - val_loss: 0.1401 - val_accuracy: 0.9655\n",
      "Epoch 16/100\n",
      "510/510 [==============================] - 2s 4ms/step - loss: 0.1003 - accuracy: 0.9745 - val_loss: 0.1416 - val_accuracy: 0.9639\n",
      "Epoch 17/100\n",
      "510/510 [==============================] - 1s 3ms/step - loss: 0.1036 - accuracy: 0.9745 - val_loss: 0.1393 - val_accuracy: 0.9655\n",
      "Epoch 18/100\n",
      "510/510 [==============================] - 1s 3ms/step - loss: 0.1043 - accuracy: 0.9723 - val_loss: 0.1374 - val_accuracy: 0.9657\n",
      "Epoch 19/100\n",
      "510/510 [==============================] - 2s 3ms/step - loss: 0.1020 - accuracy: 0.9749 - val_loss: 0.1384 - val_accuracy: 0.9653\n",
      "Epoch 20/100\n",
      "510/510 [==============================] - 1s 3ms/step - loss: 0.0995 - accuracy: 0.9741 - val_loss: 0.1367 - val_accuracy: 0.9660\n",
      "Epoch 21/100\n",
      "510/510 [==============================] - 1s 3ms/step - loss: 0.0941 - accuracy: 0.9761 - val_loss: 0.1383 - val_accuracy: 0.9648\n",
      "Epoch 22/100\n",
      "510/510 [==============================] - 1s 3ms/step - loss: 0.0965 - accuracy: 0.9770 - val_loss: 0.1337 - val_accuracy: 0.9655\n",
      "Epoch 23/100\n",
      "510/510 [==============================] - 1s 3ms/step - loss: 0.0849 - accuracy: 0.9790 - val_loss: 0.1392 - val_accuracy: 0.9653\n",
      "Epoch 24/100\n",
      "510/510 [==============================] - 1s 3ms/step - loss: 0.0871 - accuracy: 0.9780 - val_loss: 0.1344 - val_accuracy: 0.9676\n",
      "Epoch 25/100\n",
      "510/510 [==============================] - 1s 3ms/step - loss: 0.0850 - accuracy: 0.9786 - val_loss: 0.1330 - val_accuracy: 0.9670\n",
      "Epoch 26/100\n",
      "510/510 [==============================] - 2s 4ms/step - loss: 0.0801 - accuracy: 0.9804 - val_loss: 0.1363 - val_accuracy: 0.9635\n",
      "Epoch 27/100\n",
      "510/510 [==============================] - 1s 3ms/step - loss: 0.0847 - accuracy: 0.9802 - val_loss: 0.1343 - val_accuracy: 0.9673\n",
      "Epoch 28/100\n",
      "510/510 [==============================] - 1s 3ms/step - loss: 0.0812 - accuracy: 0.9795 - val_loss: 0.1336 - val_accuracy: 0.9666\n",
      "Epoch 29/100\n",
      "510/510 [==============================] - 1s 2ms/step - loss: 0.0800 - accuracy: 0.9810 - val_loss: 0.1331 - val_accuracy: 0.9663\n",
      "Epoch 30/100\n",
      "510/510 [==============================] - 1s 3ms/step - loss: 0.0765 - accuracy: 0.9818 - val_loss: 0.1379 - val_accuracy: 0.9640\n",
      "Epoch 31/100\n",
      "510/510 [==============================] - 1s 3ms/step - loss: 0.0712 - accuracy: 0.9821 - val_loss: 0.1346 - val_accuracy: 0.9662\n",
      "Epoch 32/100\n",
      "510/510 [==============================] - 1s 3ms/step - loss: 0.0786 - accuracy: 0.9793 - val_loss: 0.1341 - val_accuracy: 0.9652\n",
      "Epoch 33/100\n",
      "510/510 [==============================] - 2s 3ms/step - loss: 0.0697 - accuracy: 0.9823 - val_loss: 0.1349 - val_accuracy: 0.9650\n",
      "Epoch 34/100\n",
      "510/510 [==============================] - 1s 3ms/step - loss: 0.0685 - accuracy: 0.9830 - val_loss: 0.1350 - val_accuracy: 0.9662\n",
      "Epoch 35/100\n",
      "510/510 [==============================] - 1s 3ms/step - loss: 0.0669 - accuracy: 0.9842 - val_loss: 0.1389 - val_accuracy: 0.9650\n",
      "255/255 [==============================] - 1s 2ms/step - loss: 0.1194 - accuracy: 0.9671\n",
      "[CV]  n_neurons=4, n_hidden=3, learning_rate=0.0003123893385107206, total=  53.2s\n",
      "[CV] n_neurons=94, n_hidden=0, learning_rate=0.001298980180933063 ....\n",
      "Epoch 1/100\n",
      "  2/510 [..............................] - ETA: 1:44 - loss: 1.6015 - accuracy: 0.2109"
     ]
    },
    {
     "name": "stderr",
     "output_type": "stream",
     "text": [
      "2023-01-11 12:19:50.944939: I tensorflow/core/profiler/lib/profiler_session.cc:136] Profiler session initializing.\n",
      "2023-01-11 12:19:50.945001: I tensorflow/core/profiler/lib/profiler_session.cc:155] Profiler session started.\n"
     ]
    },
    {
     "name": "stdout",
     "output_type": "stream",
     "text": [
      " 66/510 [==>...........................] - ETA: 3s - loss: 1.0444 - accuracy: 0.6818"
     ]
    },
    {
     "name": "stderr",
     "output_type": "stream",
     "text": [
      "2023-01-11 12:19:51.175244: I tensorflow/core/profiler/lib/profiler_session.cc:71] Profiler session collecting data.\n",
      "2023-01-11 12:19:51.175483: I tensorflow/core/profiler/internal/gpu/cupti_tracer.cc:1487] CUPTI activity buffer flushed\n",
      "2023-01-11 12:19:51.333551: I tensorflow/core/profiler/internal/gpu/cupti_collector.cc:228]  GpuTracer has collected 64 callback api events and 52 activity events. \n",
      "2023-01-11 12:19:51.338936: I tensorflow/core/profiler/lib/profiler_session.cc:172] Profiler session tear down.\n",
      "2023-01-11 12:19:51.342762: I tensorflow/core/profiler/rpc/client/save_profile.cc:137] Creating directory: ./my_logs/run_2023_01_11-12_16_11/train/plugins/profile/2023_01_11_12_19_51\n",
      "2023-01-11 12:19:51.345383: I tensorflow/core/profiler/rpc/client/save_profile.cc:143] Dumped gzipped tool data for trace.json.gz to ./my_logs/run_2023_01_11-12_16_11/train/plugins/profile/2023_01_11_12_19_51/c9ea16180903.trace.json.gz\n",
      "2023-01-11 12:19:51.350969: I tensorflow/core/profiler/rpc/client/save_profile.cc:137] Creating directory: ./my_logs/run_2023_01_11-12_16_11/train/plugins/profile/2023_01_11_12_19_51\n",
      "2023-01-11 12:19:51.351726: I tensorflow/core/profiler/rpc/client/save_profile.cc:143] Dumped gzipped tool data for memory_profile.json.gz to ./my_logs/run_2023_01_11-12_16_11/train/plugins/profile/2023_01_11_12_19_51/c9ea16180903.memory_profile.json.gz\n",
      "2023-01-11 12:19:51.352259: I tensorflow/core/profiler/rpc/client/capture_profile.cc:251] Creating directory: ./my_logs/run_2023_01_11-12_16_11/train/plugins/profile/2023_01_11_12_19_51Dumped tool data for xplane.pb to ./my_logs/run_2023_01_11-12_16_11/train/plugins/profile/2023_01_11_12_19_51/c9ea16180903.xplane.pb\n",
      "Dumped tool data for overview_page.pb to ./my_logs/run_2023_01_11-12_16_11/train/plugins/profile/2023_01_11_12_19_51/c9ea16180903.overview_page.pb\n",
      "Dumped tool data for input_pipeline.pb to ./my_logs/run_2023_01_11-12_16_11/train/plugins/profile/2023_01_11_12_19_51/c9ea16180903.input_pipeline.pb\n",
      "Dumped tool data for tensorflow_stats.pb to ./my_logs/run_2023_01_11-12_16_11/train/plugins/profile/2023_01_11_12_19_51/c9ea16180903.tensorflow_stats.pb\n",
      "Dumped tool data for kernel_stats.pb to ./my_logs/run_2023_01_11-12_16_11/train/plugins/profile/2023_01_11_12_19_51/c9ea16180903.kernel_stats.pb\n",
      "\n"
     ]
    },
    {
     "name": "stdout",
     "output_type": "stream",
     "text": [
      "510/510 [==============================] - 3s 5ms/step - loss: 0.4786 - accuracy: 0.8782 - val_loss: 0.1488 - val_accuracy: 0.9580\n",
      "Epoch 2/100\n",
      "510/510 [==============================] - 1s 2ms/step - loss: 0.1362 - accuracy: 0.9634 - val_loss: 0.1284 - val_accuracy: 0.9606\n",
      "Epoch 3/100\n",
      "510/510 [==============================] - 1s 2ms/step - loss: 0.1073 - accuracy: 0.9674 - val_loss: 0.1156 - val_accuracy: 0.9631\n",
      "Epoch 4/100\n",
      "510/510 [==============================] - 1s 3ms/step - loss: 0.1031 - accuracy: 0.9718 - val_loss: 0.1116 - val_accuracy: 0.9663\n",
      "Epoch 5/100\n",
      "510/510 [==============================] - 1s 2ms/step - loss: 0.0950 - accuracy: 0.9724 - val_loss: 0.1087 - val_accuracy: 0.9658\n",
      "Epoch 6/100\n",
      "510/510 [==============================] - 1s 2ms/step - loss: 0.0911 - accuracy: 0.9745 - val_loss: 0.1046 - val_accuracy: 0.9671\n",
      "Epoch 7/100\n",
      "510/510 [==============================] - 1s 2ms/step - loss: 0.0857 - accuracy: 0.9743 - val_loss: 0.1031 - val_accuracy: 0.9679\n",
      "Epoch 8/100\n",
      "510/510 [==============================] - 1s 2ms/step - loss: 0.0810 - accuracy: 0.9751 - val_loss: 0.1024 - val_accuracy: 0.9694\n",
      "Epoch 9/100\n",
      "510/510 [==============================] - 1s 2ms/step - loss: 0.0844 - accuracy: 0.9754 - val_loss: 0.1050 - val_accuracy: 0.9683\n",
      "Epoch 10/100\n",
      "510/510 [==============================] - 1s 3ms/step - loss: 0.0723 - accuracy: 0.9790 - val_loss: 0.1036 - val_accuracy: 0.9688\n",
      "Epoch 11/100\n",
      "510/510 [==============================] - 2s 3ms/step - loss: 0.0740 - accuracy: 0.9792 - val_loss: 0.1026 - val_accuracy: 0.9684\n",
      "Epoch 12/100\n",
      "510/510 [==============================] - 1s 3ms/step - loss: 0.0732 - accuracy: 0.9799 - val_loss: 0.1056 - val_accuracy: 0.9686\n",
      "Epoch 13/100\n",
      "510/510 [==============================] - 1s 2ms/step - loss: 0.0704 - accuracy: 0.9805 - val_loss: 0.1058 - val_accuracy: 0.9684\n",
      "Epoch 14/100\n",
      "510/510 [==============================] - 1s 2ms/step - loss: 0.0722 - accuracy: 0.9769 - val_loss: 0.1031 - val_accuracy: 0.9679\n",
      "Epoch 15/100\n",
      "510/510 [==============================] - 1s 2ms/step - loss: 0.0717 - accuracy: 0.9789 - val_loss: 0.1056 - val_accuracy: 0.9681\n",
      "Epoch 16/100\n",
      "510/510 [==============================] - 1s 2ms/step - loss: 0.0701 - accuracy: 0.9791 - val_loss: 0.1086 - val_accuracy: 0.9681\n",
      "Epoch 17/100\n",
      "510/510 [==============================] - 1s 2ms/step - loss: 0.0696 - accuracy: 0.9797 - val_loss: 0.1048 - val_accuracy: 0.9678\n",
      "Epoch 18/100\n",
      "510/510 [==============================] - 1s 2ms/step - loss: 0.0621 - accuracy: 0.9834 - val_loss: 0.1077 - val_accuracy: 0.9660\n",
      "255/255 [==============================] - 1s 2ms/step - loss: 0.1218 - accuracy: 0.9658\n",
      "[CV]  n_neurons=94, n_hidden=0, learning_rate=0.001298980180933063, total=  27.2s\n",
      "[CV] n_neurons=94, n_hidden=0, learning_rate=0.001298980180933063 ....\n",
      "Epoch 1/100\n",
      "  3/510 [..............................] - ETA: 1:39 - loss: 1.6653 - accuracy: 0.3056"
     ]
    },
    {
     "name": "stderr",
     "output_type": "stream",
     "text": [
      "2023-01-11 12:20:18.127665: I tensorflow/core/profiler/lib/profiler_session.cc:136] Profiler session initializing.\n",
      "2023-01-11 12:20:18.127707: I tensorflow/core/profiler/lib/profiler_session.cc:155] Profiler session started.\n",
      "2023-01-11 12:20:18.352371: I tensorflow/core/profiler/lib/profiler_session.cc:71] Profiler session collecting data.\n",
      "2023-01-11 12:20:18.352578: I tensorflow/core/profiler/internal/gpu/cupti_tracer.cc:1487] CUPTI activity buffer flushed\n",
      "2023-01-11 12:20:18.494896: I tensorflow/core/profiler/internal/gpu/cupti_collector.cc:228]  GpuTracer has collected 64 callback api events and 52 activity events. \n",
      "2023-01-11 12:20:18.498293: I tensorflow/core/profiler/lib/profiler_session.cc:172] Profiler session tear down.\n",
      "2023-01-11 12:20:18.500821: I tensorflow/core/profiler/rpc/client/save_profile.cc:137] Creating directory: ./my_logs/run_2023_01_11-12_16_11/train/plugins/profile/2023_01_11_12_20_18\n",
      "2023-01-11 12:20:18.502563: I tensorflow/core/profiler/rpc/client/save_profile.cc:143] Dumped gzipped tool data for trace.json.gz to ./my_logs/run_2023_01_11-12_16_11/train/plugins/profile/2023_01_11_12_20_18/c9ea16180903.trace.json.gz\n",
      "2023-01-11 12:20:18.505900: I tensorflow/core/profiler/rpc/client/save_profile.cc:137] Creating directory: ./my_logs/run_2023_01_11-12_16_11/train/plugins/profile/2023_01_11_12_20_18\n",
      "2023-01-11 12:20:18.506547: I tensorflow/core/profiler/rpc/client/save_profile.cc:143] Dumped gzipped tool data for memory_profile.json.gz to ./my_logs/run_2023_01_11-12_16_11/train/plugins/profile/2023_01_11_12_20_18/c9ea16180903.memory_profile.json.gz\n",
      "2023-01-11 12:20:18.506935: I tensorflow/core/profiler/rpc/client/capture_profile.cc:251] Creating directory: ./my_logs/run_2023_01_11-12_16_11/train/plugins/profile/2023_01_11_12_20_18Dumped tool data for xplane.pb to ./my_logs/run_2023_01_11-12_16_11/train/plugins/profile/2023_01_11_12_20_18/c9ea16180903.xplane.pb\n",
      "Dumped tool data for overview_page.pb to ./my_logs/run_2023_01_11-12_16_11/train/plugins/profile/2023_01_11_12_20_18/c9ea16180903.overview_page.pb\n",
      "Dumped tool data for input_pipeline.pb to ./my_logs/run_2023_01_11-12_16_11/train/plugins/profile/2023_01_11_12_20_18/c9ea16180903.input_pipeline.pb\n",
      "Dumped tool data for tensorflow_stats.pb to ./my_logs/run_2023_01_11-12_16_11/train/plugins/profile/2023_01_11_12_20_18/c9ea16180903.tensorflow_stats.pb\n",
      "Dumped tool data for kernel_stats.pb to ./my_logs/run_2023_01_11-12_16_11/train/plugins/profile/2023_01_11_12_20_18/c9ea16180903.kernel_stats.pb\n",
      "\n"
     ]
    },
    {
     "name": "stdout",
     "output_type": "stream",
     "text": [
      "510/510 [==============================] - 2s 4ms/step - loss: 0.5000 - accuracy: 0.8658 - val_loss: 0.1484 - val_accuracy: 0.9577\n",
      "Epoch 2/100\n",
      "510/510 [==============================] - 1s 2ms/step - loss: 0.1260 - accuracy: 0.9649 - val_loss: 0.1263 - val_accuracy: 0.9601\n",
      "Epoch 3/100\n",
      "510/510 [==============================] - 1s 2ms/step - loss: 0.1047 - accuracy: 0.9721 - val_loss: 0.1159 - val_accuracy: 0.9634\n",
      "Epoch 4/100\n",
      "510/510 [==============================] - 2s 3ms/step - loss: 0.1019 - accuracy: 0.9694 - val_loss: 0.1140 - val_accuracy: 0.9645\n",
      "Epoch 5/100\n",
      "510/510 [==============================] - 2s 3ms/step - loss: 0.0970 - accuracy: 0.9737 - val_loss: 0.1140 - val_accuracy: 0.9637\n",
      "Epoch 6/100\n",
      "510/510 [==============================] - 1s 2ms/step - loss: 0.0914 - accuracy: 0.9723 - val_loss: 0.1077 - val_accuracy: 0.9673\n",
      "Epoch 7/100\n",
      "510/510 [==============================] - 1s 2ms/step - loss: 0.0832 - accuracy: 0.9757 - val_loss: 0.1060 - val_accuracy: 0.9676\n",
      "Epoch 8/100\n",
      "510/510 [==============================] - 1s 2ms/step - loss: 0.0823 - accuracy: 0.9758 - val_loss: 0.1078 - val_accuracy: 0.9670\n",
      "Epoch 9/100\n",
      "510/510 [==============================] - 1s 2ms/step - loss: 0.0810 - accuracy: 0.9766 - val_loss: 0.1061 - val_accuracy: 0.9675\n",
      "Epoch 10/100\n",
      "510/510 [==============================] - 1s 3ms/step - loss: 0.0791 - accuracy: 0.9767 - val_loss: 0.1082 - val_accuracy: 0.9676\n",
      "Epoch 11/100\n",
      "510/510 [==============================] - 1s 2ms/step - loss: 0.0766 - accuracy: 0.9794 - val_loss: 0.1080 - val_accuracy: 0.9655\n",
      "Epoch 12/100\n",
      "510/510 [==============================] - 1s 2ms/step - loss: 0.0724 - accuracy: 0.9789 - val_loss: 0.1082 - val_accuracy: 0.9662\n",
      "Epoch 13/100\n",
      "510/510 [==============================] - 1s 2ms/step - loss: 0.0757 - accuracy: 0.9793 - val_loss: 0.1051 - val_accuracy: 0.9668\n",
      "Epoch 14/100\n",
      "510/510 [==============================] - 1s 2ms/step - loss: 0.0702 - accuracy: 0.9790 - val_loss: 0.1071 - val_accuracy: 0.9663\n",
      "Epoch 15/100\n",
      "510/510 [==============================] - 1s 2ms/step - loss: 0.0692 - accuracy: 0.9810 - val_loss: 0.1067 - val_accuracy: 0.9673\n",
      "Epoch 16/100\n",
      "510/510 [==============================] - 2s 3ms/step - loss: 0.0743 - accuracy: 0.9782 - val_loss: 0.1076 - val_accuracy: 0.9663\n",
      "Epoch 17/100\n",
      "510/510 [==============================] - 1s 2ms/step - loss: 0.0770 - accuracy: 0.9787 - val_loss: 0.1077 - val_accuracy: 0.9670\n",
      "Epoch 18/100\n",
      "510/510 [==============================] - 1s 3ms/step - loss: 0.0706 - accuracy: 0.9797 - val_loss: 0.1071 - val_accuracy: 0.9671\n",
      "Epoch 19/100\n",
      "510/510 [==============================] - 1s 2ms/step - loss: 0.0757 - accuracy: 0.9809 - val_loss: 0.1085 - val_accuracy: 0.9665\n",
      "Epoch 20/100\n",
      "510/510 [==============================] - 1s 2ms/step - loss: 0.0662 - accuracy: 0.9808 - val_loss: 0.1077 - val_accuracy: 0.9673\n",
      "Epoch 21/100\n",
      "510/510 [==============================] - 1s 2ms/step - loss: 0.0698 - accuracy: 0.9802 - val_loss: 0.1084 - val_accuracy: 0.9665\n",
      "Epoch 22/100\n",
      "510/510 [==============================] - 1s 2ms/step - loss: 0.0660 - accuracy: 0.9831 - val_loss: 0.1095 - val_accuracy: 0.9675\n",
      "Epoch 23/100\n",
      "510/510 [==============================] - 1s 2ms/step - loss: 0.0658 - accuracy: 0.9817 - val_loss: 0.1097 - val_accuracy: 0.9668\n",
      "255/255 [==============================] - 1s 2ms/step - loss: 0.1194 - accuracy: 0.9675\n",
      "[CV]  n_neurons=94, n_hidden=0, learning_rate=0.001298980180933063, total=  30.9s\n",
      "[CV] n_neurons=94, n_hidden=0, learning_rate=0.001298980180933063 ....\n",
      "Epoch 1/100\n",
      "  3/510 [..............................] - ETA: 1:49 - loss: 1.6387 - accuracy: 0.2587"
     ]
    },
    {
     "name": "stderr",
     "output_type": "stream",
     "text": [
      "2023-01-11 12:20:48.986999: I tensorflow/core/profiler/lib/profiler_session.cc:136] Profiler session initializing.\n",
      "2023-01-11 12:20:48.987042: I tensorflow/core/profiler/lib/profiler_session.cc:155] Profiler session started.\n",
      "2023-01-11 12:20:49.249833: I tensorflow/core/profiler/lib/profiler_session.cc:71] Profiler session collecting data.\n",
      "2023-01-11 12:20:49.250076: I tensorflow/core/profiler/internal/gpu/cupti_tracer.cc:1487] CUPTI activity buffer flushed\n",
      "2023-01-11 12:20:49.392763: I tensorflow/core/profiler/internal/gpu/cupti_collector.cc:228]  GpuTracer has collected 64 callback api events and 52 activity events. \n",
      "2023-01-11 12:20:49.395903: I tensorflow/core/profiler/lib/profiler_session.cc:172] Profiler session tear down.\n",
      "2023-01-11 12:20:49.398687: I tensorflow/core/profiler/rpc/client/save_profile.cc:137] Creating directory: ./my_logs/run_2023_01_11-12_16_11/train/plugins/profile/2023_01_11_12_20_49\n",
      "2023-01-11 12:20:49.400527: I tensorflow/core/profiler/rpc/client/save_profile.cc:143] Dumped gzipped tool data for trace.json.gz to ./my_logs/run_2023_01_11-12_16_11/train/plugins/profile/2023_01_11_12_20_49/c9ea16180903.trace.json.gz\n",
      "2023-01-11 12:20:49.403774: I tensorflow/core/profiler/rpc/client/save_profile.cc:137] Creating directory: ./my_logs/run_2023_01_11-12_16_11/train/plugins/profile/2023_01_11_12_20_49\n",
      "2023-01-11 12:20:49.404327: I tensorflow/core/profiler/rpc/client/save_profile.cc:143] Dumped gzipped tool data for memory_profile.json.gz to ./my_logs/run_2023_01_11-12_16_11/train/plugins/profile/2023_01_11_12_20_49/c9ea16180903.memory_profile.json.gz\n",
      "2023-01-11 12:20:49.404688: I tensorflow/core/profiler/rpc/client/capture_profile.cc:251] Creating directory: ./my_logs/run_2023_01_11-12_16_11/train/plugins/profile/2023_01_11_12_20_49Dumped tool data for xplane.pb to ./my_logs/run_2023_01_11-12_16_11/train/plugins/profile/2023_01_11_12_20_49/c9ea16180903.xplane.pb\n",
      "Dumped tool data for overview_page.pb to ./my_logs/run_2023_01_11-12_16_11/train/plugins/profile/2023_01_11_12_20_49/c9ea16180903.overview_page.pb\n",
      "Dumped tool data for input_pipeline.pb to ./my_logs/run_2023_01_11-12_16_11/train/plugins/profile/2023_01_11_12_20_49/c9ea16180903.input_pipeline.pb\n",
      "Dumped tool data for tensorflow_stats.pb to ./my_logs/run_2023_01_11-12_16_11/train/plugins/profile/2023_01_11_12_20_49/c9ea16180903.tensorflow_stats.pb\n",
      "Dumped tool data for kernel_stats.pb to ./my_logs/run_2023_01_11-12_16_11/train/plugins/profile/2023_01_11_12_20_49/c9ea16180903.kernel_stats.pb\n",
      "\n"
     ]
    },
    {
     "name": "stdout",
     "output_type": "stream",
     "text": [
      "510/510 [==============================] - 2s 3ms/step - loss: 0.5235 - accuracy: 0.8581 - val_loss: 0.1471 - val_accuracy: 0.9619\n",
      "Epoch 2/100\n",
      "510/510 [==============================] - 1s 2ms/step - loss: 0.1386 - accuracy: 0.9609 - val_loss: 0.1243 - val_accuracy: 0.9634\n",
      "Epoch 3/100\n",
      "510/510 [==============================] - 1s 3ms/step - loss: 0.1172 - accuracy: 0.9662 - val_loss: 0.1155 - val_accuracy: 0.9647\n",
      "Epoch 4/100\n",
      "510/510 [==============================] - 1s 2ms/step - loss: 0.1037 - accuracy: 0.9710 - val_loss: 0.1117 - val_accuracy: 0.9668\n",
      "Epoch 5/100\n",
      "510/510 [==============================] - 1s 3ms/step - loss: 0.1028 - accuracy: 0.9702 - val_loss: 0.1100 - val_accuracy: 0.9668\n",
      "Epoch 6/100\n",
      "510/510 [==============================] - 2s 4ms/step - loss: 0.0996 - accuracy: 0.9706 - val_loss: 0.1089 - val_accuracy: 0.9675\n",
      "Epoch 7/100\n",
      "510/510 [==============================] - 1s 2ms/step - loss: 0.0930 - accuracy: 0.9719 - val_loss: 0.1068 - val_accuracy: 0.9668\n",
      "Epoch 8/100\n",
      "510/510 [==============================] - 1s 2ms/step - loss: 0.0904 - accuracy: 0.9725 - val_loss: 0.1082 - val_accuracy: 0.9670\n",
      "Epoch 9/100\n",
      "510/510 [==============================] - 1s 2ms/step - loss: 0.0921 - accuracy: 0.9733 - val_loss: 0.1081 - val_accuracy: 0.9676\n",
      "Epoch 10/100\n",
      "510/510 [==============================] - 1s 2ms/step - loss: 0.0841 - accuracy: 0.9768 - val_loss: 0.1120 - val_accuracy: 0.9663\n",
      "Epoch 11/100\n",
      "510/510 [==============================] - 1s 2ms/step - loss: 0.0881 - accuracy: 0.9736 - val_loss: 0.1076 - val_accuracy: 0.9668\n",
      "Epoch 12/100\n",
      "510/510 [==============================] - 1s 3ms/step - loss: 0.0854 - accuracy: 0.9739 - val_loss: 0.1093 - val_accuracy: 0.9670\n",
      "Epoch 13/100\n",
      "510/510 [==============================] - 1s 2ms/step - loss: 0.0897 - accuracy: 0.9745 - val_loss: 0.1060 - val_accuracy: 0.9686\n",
      "Epoch 14/100\n",
      "510/510 [==============================] - 1s 2ms/step - loss: 0.0803 - accuracy: 0.9777 - val_loss: 0.1097 - val_accuracy: 0.9666\n",
      "Epoch 15/100\n",
      "510/510 [==============================] - 1s 2ms/step - loss: 0.0852 - accuracy: 0.9763 - val_loss: 0.1097 - val_accuracy: 0.9671\n",
      "Epoch 16/100\n",
      "510/510 [==============================] - 1s 2ms/step - loss: 0.0790 - accuracy: 0.9773 - val_loss: 0.1110 - val_accuracy: 0.9648\n",
      "Epoch 17/100\n",
      "510/510 [==============================] - 2s 3ms/step - loss: 0.0830 - accuracy: 0.9754 - val_loss: 0.1106 - val_accuracy: 0.9666\n",
      "Epoch 18/100\n",
      "510/510 [==============================] - 1s 2ms/step - loss: 0.0810 - accuracy: 0.9778 - val_loss: 0.1119 - val_accuracy: 0.9645\n",
      "Epoch 19/100\n",
      "510/510 [==============================] - 1s 2ms/step - loss: 0.0855 - accuracy: 0.9761 - val_loss: 0.1143 - val_accuracy: 0.9645\n",
      "Epoch 20/100\n",
      "510/510 [==============================] - 1s 3ms/step - loss: 0.0771 - accuracy: 0.9772 - val_loss: 0.1101 - val_accuracy: 0.9666\n",
      "Epoch 21/100\n",
      "510/510 [==============================] - 1s 2ms/step - loss: 0.0839 - accuracy: 0.9763 - val_loss: 0.1095 - val_accuracy: 0.9666\n",
      "Epoch 22/100\n",
      "510/510 [==============================] - 1s 2ms/step - loss: 0.0764 - accuracy: 0.9781 - val_loss: 0.1108 - val_accuracy: 0.9663\n",
      "Epoch 23/100\n",
      "510/510 [==============================] - 1s 2ms/step - loss: 0.0721 - accuracy: 0.9793 - val_loss: 0.1105 - val_accuracy: 0.9663\n",
      "255/255 [==============================] - 1s 2ms/step - loss: 0.0997 - accuracy: 0.9708\n",
      "[CV]  n_neurons=94, n_hidden=0, learning_rate=0.001298980180933063, total=  30.7s\n",
      "[CV] n_neurons=30, n_hidden=3, learning_rate=0.0016276073362367094 ...\n",
      "Epoch 1/100\n",
      "  3/510 [..............................] - ETA: 1:50 - loss: 1.5435 - accuracy: 0.3889"
     ]
    },
    {
     "name": "stderr",
     "output_type": "stream",
     "text": [
      "2023-01-11 12:21:19.772934: I tensorflow/core/profiler/lib/profiler_session.cc:136] Profiler session initializing.\n",
      "2023-01-11 12:21:19.772980: I tensorflow/core/profiler/lib/profiler_session.cc:155] Profiler session started.\n",
      "2023-01-11 12:21:20.035683: I tensorflow/core/profiler/lib/profiler_session.cc:71] Profiler session collecting data.\n",
      "2023-01-11 12:21:20.035948: I tensorflow/core/profiler/internal/gpu/cupti_tracer.cc:1487] CUPTI activity buffer flushed\n",
      "2023-01-11 12:21:20.177915: I tensorflow/core/profiler/internal/gpu/cupti_collector.cc:228]  GpuTracer has collected 91 callback api events and 79 activity events. \n",
      "2023-01-11 12:21:20.181950: I tensorflow/core/profiler/lib/profiler_session.cc:172] Profiler session tear down.\n",
      "2023-01-11 12:21:20.185431: I tensorflow/core/profiler/rpc/client/save_profile.cc:137] Creating directory: ./my_logs/run_2023_01_11-12_16_11/train/plugins/profile/2023_01_11_12_21_20\n",
      "2023-01-11 12:21:20.187815: I tensorflow/core/profiler/rpc/client/save_profile.cc:143] Dumped gzipped tool data for trace.json.gz to ./my_logs/run_2023_01_11-12_16_11/train/plugins/profile/2023_01_11_12_21_20/c9ea16180903.trace.json.gz\n",
      "2023-01-11 12:21:20.192148: I tensorflow/core/profiler/rpc/client/save_profile.cc:137] Creating directory: ./my_logs/run_2023_01_11-12_16_11/train/plugins/profile/2023_01_11_12_21_20\n",
      "2023-01-11 12:21:20.192868: I tensorflow/core/profiler/rpc/client/save_profile.cc:143] Dumped gzipped tool data for memory_profile.json.gz to ./my_logs/run_2023_01_11-12_16_11/train/plugins/profile/2023_01_11_12_21_20/c9ea16180903.memory_profile.json.gz\n",
      "2023-01-11 12:21:20.193306: I tensorflow/core/profiler/rpc/client/capture_profile.cc:251] Creating directory: ./my_logs/run_2023_01_11-12_16_11/train/plugins/profile/2023_01_11_12_21_20Dumped tool data for xplane.pb to ./my_logs/run_2023_01_11-12_16_11/train/plugins/profile/2023_01_11_12_21_20/c9ea16180903.xplane.pb\n",
      "Dumped tool data for overview_page.pb to ./my_logs/run_2023_01_11-12_16_11/train/plugins/profile/2023_01_11_12_21_20/c9ea16180903.overview_page.pb\n",
      "Dumped tool data for input_pipeline.pb to ./my_logs/run_2023_01_11-12_16_11/train/plugins/profile/2023_01_11_12_21_20/c9ea16180903.input_pipeline.pb\n",
      "Dumped tool data for tensorflow_stats.pb to ./my_logs/run_2023_01_11-12_16_11/train/plugins/profile/2023_01_11_12_21_20/c9ea16180903.tensorflow_stats.pb\n",
      "Dumped tool data for kernel_stats.pb to ./my_logs/run_2023_01_11-12_16_11/train/plugins/profile/2023_01_11_12_21_20/c9ea16180903.kernel_stats.pb\n",
      "\n"
     ]
    },
    {
     "name": "stdout",
     "output_type": "stream",
     "text": [
      "510/510 [==============================] - 2s 4ms/step - loss: 0.2408 - accuracy: 0.9230 - val_loss: 0.0805 - val_accuracy: 0.9758\n",
      "Epoch 2/100\n",
      "510/510 [==============================] - 1s 3ms/step - loss: 0.0701 - accuracy: 0.9794 - val_loss: 0.0640 - val_accuracy: 0.9798\n",
      "Epoch 3/100\n",
      "510/510 [==============================] - 2s 3ms/step - loss: 0.0388 - accuracy: 0.9882 - val_loss: 0.0673 - val_accuracy: 0.9771\n",
      "Epoch 4/100\n",
      "510/510 [==============================] - 1s 3ms/step - loss: 0.0329 - accuracy: 0.9889 - val_loss: 0.0643 - val_accuracy: 0.9801\n",
      "Epoch 5/100\n",
      "510/510 [==============================] - 2s 4ms/step - loss: 0.0252 - accuracy: 0.9922 - val_loss: 0.0613 - val_accuracy: 0.9805\n",
      "Epoch 6/100\n",
      "510/510 [==============================] - 1s 3ms/step - loss: 0.0195 - accuracy: 0.9937 - val_loss: 0.0720 - val_accuracy: 0.9782\n",
      "Epoch 7/100\n",
      "510/510 [==============================] - 1s 3ms/step - loss: 0.0124 - accuracy: 0.9958 - val_loss: 0.0702 - val_accuracy: 0.9816\n",
      "Epoch 8/100\n",
      "510/510 [==============================] - 1s 3ms/step - loss: 0.0149 - accuracy: 0.9957 - val_loss: 0.1079 - val_accuracy: 0.9727\n",
      "Epoch 9/100\n",
      "510/510 [==============================] - 1s 3ms/step - loss: 0.0113 - accuracy: 0.9971 - val_loss: 0.0650 - val_accuracy: 0.9831\n",
      "Epoch 10/100\n",
      "510/510 [==============================] - 2s 3ms/step - loss: 0.0051 - accuracy: 0.9985 - val_loss: 0.0744 - val_accuracy: 0.9828\n",
      "Epoch 11/100\n",
      "510/510 [==============================] - 1s 3ms/step - loss: 0.0069 - accuracy: 0.9978 - val_loss: 0.0827 - val_accuracy: 0.9813\n",
      "Epoch 12/100\n",
      "510/510 [==============================] - 1s 3ms/step - loss: 0.0095 - accuracy: 0.9969 - val_loss: 0.0785 - val_accuracy: 0.9819\n",
      "Epoch 13/100\n",
      "510/510 [==============================] - 2s 3ms/step - loss: 0.0093 - accuracy: 0.9970 - val_loss: 0.1004 - val_accuracy: 0.9797\n",
      "Epoch 14/100\n",
      "510/510 [==============================] - 2s 3ms/step - loss: 0.0081 - accuracy: 0.9973 - val_loss: 0.0718 - val_accuracy: 0.9847\n",
      "Epoch 15/100\n",
      "510/510 [==============================] - 1s 3ms/step - loss: 0.0035 - accuracy: 0.9988 - val_loss: 0.0798 - val_accuracy: 0.9839\n",
      "255/255 [==============================] - 1s 2ms/step - loss: 0.0749 - accuracy: 0.9855\n",
      "[CV]  n_neurons=30, n_hidden=3, learning_rate=0.0016276073362367094, total=  25.9s\n",
      "[CV] n_neurons=30, n_hidden=3, learning_rate=0.0016276073362367094 ...\n",
      "Epoch 1/100\n",
      "  2/510 [..............................] - ETA: 2:04 - loss: 1.7107 - accuracy: 0.2969"
     ]
    },
    {
     "name": "stderr",
     "output_type": "stream",
     "text": [
      "2023-01-11 12:21:45.634935: I tensorflow/core/profiler/lib/profiler_session.cc:136] Profiler session initializing.\n",
      "2023-01-11 12:21:45.634981: I tensorflow/core/profiler/lib/profiler_session.cc:155] Profiler session started.\n",
      "2023-01-11 12:21:45.907288: I tensorflow/core/profiler/lib/profiler_session.cc:71] Profiler session collecting data.\n"
     ]
    },
    {
     "name": "stdout",
     "output_type": "stream",
     "text": [
      " 80/510 [===>..........................] - ETA: 3s - loss: 0.6784 - accuracy: 0.7706"
     ]
    },
    {
     "name": "stderr",
     "output_type": "stream",
     "text": [
      "2023-01-11 12:21:45.907527: I tensorflow/core/profiler/internal/gpu/cupti_tracer.cc:1487] CUPTI activity buffer flushed\n",
      "2023-01-11 12:21:46.050295: I tensorflow/core/profiler/internal/gpu/cupti_collector.cc:228]  GpuTracer has collected 91 callback api events and 79 activity events. \n",
      "2023-01-11 12:21:46.054641: I tensorflow/core/profiler/lib/profiler_session.cc:172] Profiler session tear down.\n",
      "2023-01-11 12:21:46.058320: I tensorflow/core/profiler/rpc/client/save_profile.cc:137] Creating directory: ./my_logs/run_2023_01_11-12_16_11/train/plugins/profile/2023_01_11_12_21_46\n",
      "2023-01-11 12:21:46.060702: I tensorflow/core/profiler/rpc/client/save_profile.cc:143] Dumped gzipped tool data for trace.json.gz to ./my_logs/run_2023_01_11-12_16_11/train/plugins/profile/2023_01_11_12_21_46/c9ea16180903.trace.json.gz\n",
      "2023-01-11 12:21:46.065330: I tensorflow/core/profiler/rpc/client/save_profile.cc:137] Creating directory: ./my_logs/run_2023_01_11-12_16_11/train/plugins/profile/2023_01_11_12_21_46\n",
      "2023-01-11 12:21:46.066096: I tensorflow/core/profiler/rpc/client/save_profile.cc:143] Dumped gzipped tool data for memory_profile.json.gz to ./my_logs/run_2023_01_11-12_16_11/train/plugins/profile/2023_01_11_12_21_46/c9ea16180903.memory_profile.json.gz\n",
      "2023-01-11 12:21:46.066554: I tensorflow/core/profiler/rpc/client/capture_profile.cc:251] Creating directory: ./my_logs/run_2023_01_11-12_16_11/train/plugins/profile/2023_01_11_12_21_46Dumped tool data for xplane.pb to ./my_logs/run_2023_01_11-12_16_11/train/plugins/profile/2023_01_11_12_21_46/c9ea16180903.xplane.pb\n",
      "Dumped tool data for overview_page.pb to ./my_logs/run_2023_01_11-12_16_11/train/plugins/profile/2023_01_11_12_21_46/c9ea16180903.overview_page.pb\n",
      "Dumped tool data for input_pipeline.pb to ./my_logs/run_2023_01_11-12_16_11/train/plugins/profile/2023_01_11_12_21_46/c9ea16180903.input_pipeline.pb\n",
      "Dumped tool data for tensorflow_stats.pb to ./my_logs/run_2023_01_11-12_16_11/train/plugins/profile/2023_01_11_12_21_46/c9ea16180903.tensorflow_stats.pb\n",
      "Dumped tool data for kernel_stats.pb to ./my_logs/run_2023_01_11-12_16_11/train/plugins/profile/2023_01_11_12_21_46/c9ea16180903.kernel_stats.pb\n",
      "\n"
     ]
    },
    {
     "name": "stdout",
     "output_type": "stream",
     "text": [
      "510/510 [==============================] - 2s 4ms/step - loss: 0.2738 - accuracy: 0.9125 - val_loss: 0.1015 - val_accuracy: 0.9675\n",
      "Epoch 2/100\n",
      "510/510 [==============================] - 1s 3ms/step - loss: 0.0655 - accuracy: 0.9796 - val_loss: 0.0785 - val_accuracy: 0.9748\n",
      "Epoch 3/100\n",
      "510/510 [==============================] - 1s 3ms/step - loss: 0.0440 - accuracy: 0.9868 - val_loss: 0.0701 - val_accuracy: 0.9767\n",
      "Epoch 4/100\n",
      "510/510 [==============================] - 1s 3ms/step - loss: 0.0314 - accuracy: 0.9907 - val_loss: 0.0863 - val_accuracy: 0.9771\n",
      "Epoch 5/100\n",
      "510/510 [==============================] - 1s 3ms/step - loss: 0.0282 - accuracy: 0.9895 - val_loss: 0.0821 - val_accuracy: 0.9767\n",
      "Epoch 6/100\n",
      "510/510 [==============================] - 1s 3ms/step - loss: 0.0177 - accuracy: 0.9951 - val_loss: 0.0557 - val_accuracy: 0.9850\n",
      "Epoch 7/100\n",
      "510/510 [==============================] - 1s 3ms/step - loss: 0.0138 - accuracy: 0.9960 - val_loss: 0.0753 - val_accuracy: 0.9803\n",
      "Epoch 8/100\n",
      "510/510 [==============================] - 1s 3ms/step - loss: 0.0159 - accuracy: 0.9945 - val_loss: 0.0671 - val_accuracy: 0.9847\n",
      "Epoch 9/100\n",
      "510/510 [==============================] - 2s 3ms/step - loss: 0.0092 - accuracy: 0.9965 - val_loss: 0.0712 - val_accuracy: 0.9832\n",
      "Epoch 10/100\n",
      "510/510 [==============================] - 2s 4ms/step - loss: 0.0078 - accuracy: 0.9972 - val_loss: 0.0927 - val_accuracy: 0.9800\n",
      "Epoch 11/100\n",
      "510/510 [==============================] - 2s 3ms/step - loss: 0.0044 - accuracy: 0.9983 - val_loss: 0.0731 - val_accuracy: 0.9832\n",
      "Epoch 12/100\n",
      "510/510 [==============================] - 1s 3ms/step - loss: 0.0096 - accuracy: 0.9970 - val_loss: 0.0920 - val_accuracy: 0.9821\n",
      "Epoch 13/100\n",
      "510/510 [==============================] - 1s 3ms/step - loss: 0.0050 - accuracy: 0.9984 - val_loss: 0.0595 - val_accuracy: 0.9876\n",
      "Epoch 14/100\n",
      "510/510 [==============================] - 1s 3ms/step - loss: 0.0061 - accuracy: 0.9982 - val_loss: 0.0807 - val_accuracy: 0.9850\n",
      "Epoch 15/100\n",
      "510/510 [==============================] - 1s 3ms/step - loss: 0.0041 - accuracy: 0.9989 - val_loss: 0.0845 - val_accuracy: 0.9849\n",
      "Epoch 16/100\n",
      "510/510 [==============================] - 2s 3ms/step - loss: 0.0035 - accuracy: 0.9986 - val_loss: 0.0968 - val_accuracy: 0.9832\n",
      "255/255 [==============================] - 1s 2ms/step - loss: 0.1045 - accuracy: 0.9815\n",
      "[CV]  n_neurons=30, n_hidden=3, learning_rate=0.0016276073362367094, total=  26.3s\n",
      "[CV] n_neurons=30, n_hidden=3, learning_rate=0.0016276073362367094 ...\n",
      "Epoch 1/100\n",
      "  2/510 [..............................] - ETA: 2:14 - loss: 1.7311 - accuracy: 0.1875"
     ]
    },
    {
     "name": "stderr",
     "output_type": "stream",
     "text": [
      "2023-01-11 12:22:11.963240: I tensorflow/core/profiler/lib/profiler_session.cc:136] Profiler session initializing.\n",
      "2023-01-11 12:22:11.963287: I tensorflow/core/profiler/lib/profiler_session.cc:155] Profiler session started.\n"
     ]
    },
    {
     "name": "stdout",
     "output_type": "stream",
     "text": [
      " 53/510 [==>...........................] - ETA: 5s - loss: 0.7992 - accuracy: 0.7160"
     ]
    },
    {
     "name": "stderr",
     "output_type": "stream",
     "text": [
      "2023-01-11 12:22:12.281647: I tensorflow/core/profiler/lib/profiler_session.cc:71] Profiler session collecting data.\n",
      "2023-01-11 12:22:12.281964: I tensorflow/core/profiler/internal/gpu/cupti_tracer.cc:1487] CUPTI activity buffer flushed\n",
      "2023-01-11 12:22:12.440312: I tensorflow/core/profiler/internal/gpu/cupti_collector.cc:228]  GpuTracer has collected 91 callback api events and 79 activity events. \n",
      "2023-01-11 12:22:12.446541: I tensorflow/core/profiler/lib/profiler_session.cc:172] Profiler session tear down.\n",
      "2023-01-11 12:22:12.451744: I tensorflow/core/profiler/rpc/client/save_profile.cc:137] Creating directory: ./my_logs/run_2023_01_11-12_16_11/train/plugins/profile/2023_01_11_12_22_12\n",
      "2023-01-11 12:22:12.455015: I tensorflow/core/profiler/rpc/client/save_profile.cc:143] Dumped gzipped tool data for trace.json.gz to ./my_logs/run_2023_01_11-12_16_11/train/plugins/profile/2023_01_11_12_22_12/c9ea16180903.trace.json.gz\n",
      "2023-01-11 12:22:12.462623: I tensorflow/core/profiler/rpc/client/save_profile.cc:137] Creating directory: ./my_logs/run_2023_01_11-12_16_11/train/plugins/profile/2023_01_11_12_22_12\n",
      "2023-01-11 12:22:12.463753: I tensorflow/core/profiler/rpc/client/save_profile.cc:143] Dumped gzipped tool data for memory_profile.json.gz to ./my_logs/run_2023_01_11-12_16_11/train/plugins/profile/2023_01_11_12_22_12/c9ea16180903.memory_profile.json.gz\n",
      "2023-01-11 12:22:12.464320: I tensorflow/core/profiler/rpc/client/capture_profile.cc:251] Creating directory: ./my_logs/run_2023_01_11-12_16_11/train/plugins/profile/2023_01_11_12_22_12Dumped tool data for xplane.pb to ./my_logs/run_2023_01_11-12_16_11/train/plugins/profile/2023_01_11_12_22_12/c9ea16180903.xplane.pb\n",
      "Dumped tool data for overview_page.pb to ./my_logs/run_2023_01_11-12_16_11/train/plugins/profile/2023_01_11_12_22_12/c9ea16180903.overview_page.pb\n",
      "Dumped tool data for input_pipeline.pb to ./my_logs/run_2023_01_11-12_16_11/train/plugins/profile/2023_01_11_12_22_12/c9ea16180903.input_pipeline.pb\n",
      "Dumped tool data for tensorflow_stats.pb to ./my_logs/run_2023_01_11-12_16_11/train/plugins/profile/2023_01_11_12_22_12/c9ea16180903.tensorflow_stats.pb\n",
      "Dumped tool data for kernel_stats.pb to ./my_logs/run_2023_01_11-12_16_11/train/plugins/profile/2023_01_11_12_22_12/c9ea16180903.kernel_stats.pb\n",
      "\n"
     ]
    },
    {
     "name": "stdout",
     "output_type": "stream",
     "text": [
      "510/510 [==============================] - 3s 4ms/step - loss: 0.2753 - accuracy: 0.9119 - val_loss: 0.0873 - val_accuracy: 0.9733\n",
      "Epoch 2/100\n",
      "510/510 [==============================] - 1s 3ms/step - loss: 0.0740 - accuracy: 0.9778 - val_loss: 0.0792 - val_accuracy: 0.9774\n",
      "Epoch 3/100\n",
      "510/510 [==============================] - 1s 3ms/step - loss: 0.0498 - accuracy: 0.9842 - val_loss: 0.0638 - val_accuracy: 0.9813\n",
      "Epoch 4/100\n",
      "510/510 [==============================] - 1s 3ms/step - loss: 0.0326 - accuracy: 0.9900 - val_loss: 0.0821 - val_accuracy: 0.9759\n",
      "Epoch 5/100\n",
      "510/510 [==============================] - 1s 3ms/step - loss: 0.0216 - accuracy: 0.9931 - val_loss: 0.0844 - val_accuracy: 0.9782\n",
      "Epoch 6/100\n",
      "510/510 [==============================] - 2s 3ms/step - loss: 0.0194 - accuracy: 0.9940 - val_loss: 0.0735 - val_accuracy: 0.9787\n",
      "Epoch 7/100\n",
      "510/510 [==============================] - 1s 3ms/step - loss: 0.0153 - accuracy: 0.9949 - val_loss: 0.0644 - val_accuracy: 0.9818\n",
      "Epoch 8/100\n",
      "510/510 [==============================] - 1s 3ms/step - loss: 0.0121 - accuracy: 0.9959 - val_loss: 0.0826 - val_accuracy: 0.9821\n",
      "Epoch 9/100\n",
      "510/510 [==============================] - 1s 3ms/step - loss: 0.0082 - accuracy: 0.9972 - val_loss: 0.0763 - val_accuracy: 0.9823\n",
      "Epoch 10/100\n",
      "510/510 [==============================] - 1s 3ms/step - loss: 0.0105 - accuracy: 0.9967 - val_loss: 0.1141 - val_accuracy: 0.9782\n",
      "Epoch 11/100\n",
      "510/510 [==============================] - 1s 3ms/step - loss: 0.0115 - accuracy: 0.9969 - val_loss: 0.0826 - val_accuracy: 0.9842\n",
      "Epoch 12/100\n",
      "510/510 [==============================] - 1s 3ms/step - loss: 0.0024 - accuracy: 0.9992 - val_loss: 0.1088 - val_accuracy: 0.9801\n",
      "Epoch 13/100\n",
      "510/510 [==============================] - 1s 3ms/step - loss: 0.0082 - accuracy: 0.9971 - val_loss: 0.1016 - val_accuracy: 0.9803\n",
      "255/255 [==============================] - 1s 2ms/step - loss: 0.0914 - accuracy: 0.9815\n",
      "[CV]  n_neurons=30, n_hidden=3, learning_rate=0.0016276073362367094, total=  19.8s\n",
      "[CV] n_neurons=49, n_hidden=5, learning_rate=0.0009621255553195554 ...\n",
      "Epoch 1/100\n",
      "  2/510 [..............................] - ETA: 1:44 - loss: 1.8809 - accuracy: 0.1406"
     ]
    },
    {
     "name": "stderr",
     "output_type": "stream",
     "text": [
      "2023-01-11 12:22:32.057646: I tensorflow/core/profiler/lib/profiler_session.cc:136] Profiler session initializing.\n",
      "2023-01-11 12:22:32.057689: I tensorflow/core/profiler/lib/profiler_session.cc:155] Profiler session started.\n"
     ]
    },
    {
     "name": "stdout",
     "output_type": "stream",
     "text": [
      " 78/510 [===>..........................] - ETA: 3s - loss: 0.6528 - accuracy: 0.7605"
     ]
    },
    {
     "name": "stderr",
     "output_type": "stream",
     "text": [
      "2023-01-11 12:22:32.290070: I tensorflow/core/profiler/lib/profiler_session.cc:71] Profiler session collecting data.\n",
      "2023-01-11 12:22:32.290346: I tensorflow/core/profiler/internal/gpu/cupti_tracer.cc:1487] CUPTI activity buffer flushed\n",
      "2023-01-11 12:22:32.437252: I tensorflow/core/profiler/internal/gpu/cupti_collector.cc:228]  GpuTracer has collected 109 callback api events and 97 activity events. \n",
      "2023-01-11 12:22:32.442183: I tensorflow/core/profiler/lib/profiler_session.cc:172] Profiler session tear down.\n",
      "2023-01-11 12:22:32.447260: I tensorflow/core/profiler/rpc/client/save_profile.cc:137] Creating directory: ./my_logs/run_2023_01_11-12_16_11/train/plugins/profile/2023_01_11_12_22_32\n",
      "2023-01-11 12:22:32.450545: I tensorflow/core/profiler/rpc/client/save_profile.cc:143] Dumped gzipped tool data for trace.json.gz to ./my_logs/run_2023_01_11-12_16_11/train/plugins/profile/2023_01_11_12_22_32/c9ea16180903.trace.json.gz\n",
      "2023-01-11 12:22:32.456230: I tensorflow/core/profiler/rpc/client/save_profile.cc:137] Creating directory: ./my_logs/run_2023_01_11-12_16_11/train/plugins/profile/2023_01_11_12_22_32\n",
      "2023-01-11 12:22:32.457059: I tensorflow/core/profiler/rpc/client/save_profile.cc:143] Dumped gzipped tool data for memory_profile.json.gz to ./my_logs/run_2023_01_11-12_16_11/train/plugins/profile/2023_01_11_12_22_32/c9ea16180903.memory_profile.json.gz\n",
      "2023-01-11 12:22:32.457521: I tensorflow/core/profiler/rpc/client/capture_profile.cc:251] Creating directory: ./my_logs/run_2023_01_11-12_16_11/train/plugins/profile/2023_01_11_12_22_32Dumped tool data for xplane.pb to ./my_logs/run_2023_01_11-12_16_11/train/plugins/profile/2023_01_11_12_22_32/c9ea16180903.xplane.pb\n",
      "Dumped tool data for overview_page.pb to ./my_logs/run_2023_01_11-12_16_11/train/plugins/profile/2023_01_11_12_22_32/c9ea16180903.overview_page.pb\n",
      "Dumped tool data for input_pipeline.pb to ./my_logs/run_2023_01_11-12_16_11/train/plugins/profile/2023_01_11_12_22_32/c9ea16180903.input_pipeline.pb\n",
      "Dumped tool data for tensorflow_stats.pb to ./my_logs/run_2023_01_11-12_16_11/train/plugins/profile/2023_01_11_12_22_32/c9ea16180903.tensorflow_stats.pb\n",
      "Dumped tool data for kernel_stats.pb to ./my_logs/run_2023_01_11-12_16_11/train/plugins/profile/2023_01_11_12_22_32/c9ea16180903.kernel_stats.pb\n",
      "\n"
     ]
    },
    {
     "name": "stdout",
     "output_type": "stream",
     "text": [
      "510/510 [==============================] - 3s 5ms/step - loss: 0.2658 - accuracy: 0.9093 - val_loss: 0.0937 - val_accuracy: 0.9722\n",
      "Epoch 2/100\n",
      "510/510 [==============================] - 2s 4ms/step - loss: 0.0636 - accuracy: 0.9796 - val_loss: 0.0698 - val_accuracy: 0.9766\n",
      "Epoch 3/100\n",
      "510/510 [==============================] - 1s 3ms/step - loss: 0.0378 - accuracy: 0.9874 - val_loss: 0.0696 - val_accuracy: 0.9788\n",
      "Epoch 4/100\n",
      "510/510 [==============================] - 1s 3ms/step - loss: 0.0295 - accuracy: 0.9910 - val_loss: 0.0690 - val_accuracy: 0.9811\n",
      "Epoch 5/100\n",
      "510/510 [==============================] - 1s 3ms/step - loss: 0.0237 - accuracy: 0.9921 - val_loss: 0.0879 - val_accuracy: 0.9746\n",
      "Epoch 6/100\n",
      "510/510 [==============================] - 1s 3ms/step - loss: 0.0248 - accuracy: 0.9907 - val_loss: 0.0740 - val_accuracy: 0.9811\n",
      "Epoch 7/100\n",
      "510/510 [==============================] - 2s 4ms/step - loss: 0.0113 - accuracy: 0.9963 - val_loss: 0.0767 - val_accuracy: 0.9826\n",
      "Epoch 8/100\n",
      "510/510 [==============================] - 2s 3ms/step - loss: 0.0126 - accuracy: 0.9954 - val_loss: 0.0616 - val_accuracy: 0.9847\n",
      "Epoch 9/100\n",
      "510/510 [==============================] - 1s 3ms/step - loss: 0.0126 - accuracy: 0.9963 - val_loss: 0.0741 - val_accuracy: 0.9839\n",
      "Epoch 10/100\n",
      "510/510 [==============================] - 1s 3ms/step - loss: 0.0096 - accuracy: 0.9968 - val_loss: 0.0797 - val_accuracy: 0.9826\n",
      "Epoch 11/100\n",
      "510/510 [==============================] - 1s 3ms/step - loss: 0.0172 - accuracy: 0.9948 - val_loss: 0.0795 - val_accuracy: 0.9814\n",
      "Epoch 12/100\n",
      "510/510 [==============================] - 1s 3ms/step - loss: 0.0055 - accuracy: 0.9985 - val_loss: 0.0649 - val_accuracy: 0.9873\n",
      "Epoch 13/100\n",
      "510/510 [==============================] - 1s 3ms/step - loss: 0.0010 - accuracy: 0.9998 - val_loss: 0.0763 - val_accuracy: 0.9847\n",
      "Epoch 14/100\n",
      "510/510 [==============================] - 2s 3ms/step - loss: 0.0011 - accuracy: 0.9997 - val_loss: 0.0931 - val_accuracy: 0.9829\n",
      "Epoch 15/100\n",
      "510/510 [==============================] - 1s 3ms/step - loss: 0.0433 - accuracy: 0.9893 - val_loss: 0.0685 - val_accuracy: 0.9854\n",
      "Epoch 16/100\n",
      "510/510 [==============================] - 1s 3ms/step - loss: 0.0051 - accuracy: 0.9984 - val_loss: 0.0731 - val_accuracy: 0.9852\n",
      "Epoch 17/100\n",
      "510/510 [==============================] - 1s 3ms/step - loss: 0.0015 - accuracy: 0.9997 - val_loss: 0.0657 - val_accuracy: 0.9883\n",
      "Epoch 18/100\n",
      "510/510 [==============================] - 1s 3ms/step - loss: 0.0011 - accuracy: 0.9997 - val_loss: 0.0672 - val_accuracy: 0.9862\n",
      "255/255 [==============================] - 1s 2ms/step - loss: 0.0588 - accuracy: 0.9883\n",
      "[CV]  n_neurons=49, n_hidden=5, learning_rate=0.0009621255553195554, total=  29.8s\n",
      "[CV] n_neurons=49, n_hidden=5, learning_rate=0.0009621255553195554 ...\n",
      "Epoch 1/100\n",
      "  2/510 [..............................] - ETA: 1:44 - loss: 1.7789 - accuracy: 0.1953"
     ]
    },
    {
     "name": "stderr",
     "output_type": "stream",
     "text": [
      "2023-01-11 12:23:01.601863: I tensorflow/core/profiler/lib/profiler_session.cc:136] Profiler session initializing.\n",
      "2023-01-11 12:23:01.601910: I tensorflow/core/profiler/lib/profiler_session.cc:155] Profiler session started.\n"
     ]
    },
    {
     "name": "stdout",
     "output_type": "stream",
     "text": [
      " 76/510 [===>..........................] - ETA: 3s - loss: 0.5921 - accuracy: 0.7910"
     ]
    },
    {
     "name": "stderr",
     "output_type": "stream",
     "text": [
      "2023-01-11 12:23:01.840022: I tensorflow/core/profiler/lib/profiler_session.cc:71] Profiler session collecting data.\n",
      "2023-01-11 12:23:01.840300: I tensorflow/core/profiler/internal/gpu/cupti_tracer.cc:1487] CUPTI activity buffer flushed\n",
      "2023-01-11 12:23:01.983598: I tensorflow/core/profiler/internal/gpu/cupti_collector.cc:228]  GpuTracer has collected 109 callback api events and 97 activity events. \n",
      "2023-01-11 12:23:01.988548: I tensorflow/core/profiler/lib/profiler_session.cc:172] Profiler session tear down.\n",
      "2023-01-11 12:23:01.993035: I tensorflow/core/profiler/rpc/client/save_profile.cc:137] Creating directory: ./my_logs/run_2023_01_11-12_16_11/train/plugins/profile/2023_01_11_12_23_01\n",
      "2023-01-11 12:23:01.995952: I tensorflow/core/profiler/rpc/client/save_profile.cc:143] Dumped gzipped tool data for trace.json.gz to ./my_logs/run_2023_01_11-12_16_11/train/plugins/profile/2023_01_11_12_23_01/c9ea16180903.trace.json.gz\n",
      "2023-01-11 12:23:02.001227: I tensorflow/core/profiler/rpc/client/save_profile.cc:137] Creating directory: ./my_logs/run_2023_01_11-12_16_11/train/plugins/profile/2023_01_11_12_23_01\n",
      "2023-01-11 12:23:02.002064: I tensorflow/core/profiler/rpc/client/save_profile.cc:143] Dumped gzipped tool data for memory_profile.json.gz to ./my_logs/run_2023_01_11-12_16_11/train/plugins/profile/2023_01_11_12_23_01/c9ea16180903.memory_profile.json.gz\n",
      "2023-01-11 12:23:02.002536: I tensorflow/core/profiler/rpc/client/capture_profile.cc:251] Creating directory: ./my_logs/run_2023_01_11-12_16_11/train/plugins/profile/2023_01_11_12_23_01Dumped tool data for xplane.pb to ./my_logs/run_2023_01_11-12_16_11/train/plugins/profile/2023_01_11_12_23_01/c9ea16180903.xplane.pb\n",
      "Dumped tool data for overview_page.pb to ./my_logs/run_2023_01_11-12_16_11/train/plugins/profile/2023_01_11_12_23_01/c9ea16180903.overview_page.pb\n",
      "Dumped tool data for input_pipeline.pb to ./my_logs/run_2023_01_11-12_16_11/train/plugins/profile/2023_01_11_12_23_01/c9ea16180903.input_pipeline.pb\n",
      "Dumped tool data for tensorflow_stats.pb to ./my_logs/run_2023_01_11-12_16_11/train/plugins/profile/2023_01_11_12_23_01/c9ea16180903.tensorflow_stats.pb\n",
      "Dumped tool data for kernel_stats.pb to ./my_logs/run_2023_01_11-12_16_11/train/plugins/profile/2023_01_11_12_23_01/c9ea16180903.kernel_stats.pb\n",
      "\n"
     ]
    },
    {
     "name": "stdout",
     "output_type": "stream",
     "text": [
      "510/510 [==============================] - 2s 4ms/step - loss: 0.2408 - accuracy: 0.9193 - val_loss: 0.0977 - val_accuracy: 0.9692\n",
      "Epoch 2/100\n",
      "510/510 [==============================] - 2s 3ms/step - loss: 0.0564 - accuracy: 0.9814 - val_loss: 0.0768 - val_accuracy: 0.9777\n",
      "Epoch 3/100\n",
      "510/510 [==============================] - 2s 4ms/step - loss: 0.0418 - accuracy: 0.9854 - val_loss: 0.0609 - val_accuracy: 0.9806\n",
      "Epoch 4/100\n",
      "510/510 [==============================] - 2s 4ms/step - loss: 0.0337 - accuracy: 0.9872 - val_loss: 0.1169 - val_accuracy: 0.9728\n",
      "Epoch 5/100\n",
      "510/510 [==============================] - 1s 3ms/step - loss: 0.0228 - accuracy: 0.9929 - val_loss: 0.0785 - val_accuracy: 0.9777\n",
      "Epoch 6/100\n",
      "510/510 [==============================] - 1s 3ms/step - loss: 0.0227 - accuracy: 0.9927 - val_loss: 0.0532 - val_accuracy: 0.9841\n",
      "Epoch 7/100\n",
      "510/510 [==============================] - 1s 3ms/step - loss: 0.0170 - accuracy: 0.9952 - val_loss: 0.0889 - val_accuracy: 0.9748\n",
      "Epoch 8/100\n",
      "510/510 [==============================] - 2s 4ms/step - loss: 0.0100 - accuracy: 0.9968 - val_loss: 0.0602 - val_accuracy: 0.9837\n",
      "Epoch 9/100\n",
      "510/510 [==============================] - 1s 3ms/step - loss: 0.0115 - accuracy: 0.9965 - val_loss: 0.0991 - val_accuracy: 0.9797\n",
      "Epoch 10/100\n",
      "510/510 [==============================] - 1s 3ms/step - loss: 0.0135 - accuracy: 0.9958 - val_loss: 0.0604 - val_accuracy: 0.9857\n",
      "Epoch 11/100\n",
      "510/510 [==============================] - 1s 3ms/step - loss: 0.0076 - accuracy: 0.9972 - val_loss: 0.0750 - val_accuracy: 0.9862\n",
      "Epoch 12/100\n",
      "510/510 [==============================] - 1s 3ms/step - loss: 0.0032 - accuracy: 0.9985 - val_loss: 0.0671 - val_accuracy: 0.9868\n",
      "Epoch 13/100\n",
      "510/510 [==============================] - 1s 3ms/step - loss: 0.0099 - accuracy: 0.9976 - val_loss: 0.0981 - val_accuracy: 0.9784\n",
      "Epoch 14/100\n",
      "510/510 [==============================] - 1s 3ms/step - loss: 0.0141 - accuracy: 0.9949 - val_loss: 0.0854 - val_accuracy: 0.9836\n",
      "Epoch 15/100\n",
      "510/510 [==============================] - 1s 3ms/step - loss: 0.0045 - accuracy: 0.9988 - val_loss: 0.0858 - val_accuracy: 0.9855\n",
      "Epoch 16/100\n",
      "510/510 [==============================] - 2s 3ms/step - loss: 0.0121 - accuracy: 0.9962 - val_loss: 0.0966 - val_accuracy: 0.9829\n",
      "255/255 [==============================] - 1s 2ms/step - loss: 0.1025 - accuracy: 0.9806\n",
      "[CV]  n_neurons=49, n_hidden=5, learning_rate=0.0009621255553195554, total=  27.7s\n",
      "[CV] n_neurons=49, n_hidden=5, learning_rate=0.0009621255553195554 ...\n",
      "Epoch 1/100\n",
      "  2/510 [..............................] - ETA: 1:44 - loss: 1.9078 - accuracy: 0.3125"
     ]
    },
    {
     "name": "stderr",
     "output_type": "stream",
     "text": [
      "2023-01-11 12:23:29.262023: I tensorflow/core/profiler/lib/profiler_session.cc:136] Profiler session initializing.\n",
      "2023-01-11 12:23:29.262068: I tensorflow/core/profiler/lib/profiler_session.cc:155] Profiler session started.\n"
     ]
    },
    {
     "name": "stdout",
     "output_type": "stream",
     "text": [
      " 75/510 [===>..........................] - ETA: 3s - loss: 0.7281 - accuracy: 0.7596"
     ]
    },
    {
     "name": "stderr",
     "output_type": "stream",
     "text": [
      "2023-01-11 12:23:29.496736: I tensorflow/core/profiler/lib/profiler_session.cc:71] Profiler session collecting data.\n",
      "2023-01-11 12:23:29.497006: I tensorflow/core/profiler/internal/gpu/cupti_tracer.cc:1487] CUPTI activity buffer flushed\n",
      "2023-01-11 12:23:29.640753: I tensorflow/core/profiler/internal/gpu/cupti_collector.cc:228]  GpuTracer has collected 109 callback api events and 97 activity events. \n",
      "2023-01-11 12:23:29.645161: I tensorflow/core/profiler/lib/profiler_session.cc:172] Profiler session tear down.\n",
      "2023-01-11 12:23:29.649492: I tensorflow/core/profiler/rpc/client/save_profile.cc:137] Creating directory: ./my_logs/run_2023_01_11-12_16_11/train/plugins/profile/2023_01_11_12_23_29\n",
      "2023-01-11 12:23:29.652307: I tensorflow/core/profiler/rpc/client/save_profile.cc:143] Dumped gzipped tool data for trace.json.gz to ./my_logs/run_2023_01_11-12_16_11/train/plugins/profile/2023_01_11_12_23_29/c9ea16180903.trace.json.gz\n",
      "2023-01-11 12:23:29.657632: I tensorflow/core/profiler/rpc/client/save_profile.cc:137] Creating directory: ./my_logs/run_2023_01_11-12_16_11/train/plugins/profile/2023_01_11_12_23_29\n",
      "2023-01-11 12:23:29.658715: I tensorflow/core/profiler/rpc/client/save_profile.cc:143] Dumped gzipped tool data for memory_profile.json.gz to ./my_logs/run_2023_01_11-12_16_11/train/plugins/profile/2023_01_11_12_23_29/c9ea16180903.memory_profile.json.gz\n",
      "2023-01-11 12:23:29.659212: I tensorflow/core/profiler/rpc/client/capture_profile.cc:251] Creating directory: ./my_logs/run_2023_01_11-12_16_11/train/plugins/profile/2023_01_11_12_23_29Dumped tool data for xplane.pb to ./my_logs/run_2023_01_11-12_16_11/train/plugins/profile/2023_01_11_12_23_29/c9ea16180903.xplane.pb\n",
      "Dumped tool data for overview_page.pb to ./my_logs/run_2023_01_11-12_16_11/train/plugins/profile/2023_01_11_12_23_29/c9ea16180903.overview_page.pb\n",
      "Dumped tool data for input_pipeline.pb to ./my_logs/run_2023_01_11-12_16_11/train/plugins/profile/2023_01_11_12_23_29/c9ea16180903.input_pipeline.pb\n",
      "Dumped tool data for tensorflow_stats.pb to ./my_logs/run_2023_01_11-12_16_11/train/plugins/profile/2023_01_11_12_23_29/c9ea16180903.tensorflow_stats.pb\n",
      "Dumped tool data for kernel_stats.pb to ./my_logs/run_2023_01_11-12_16_11/train/plugins/profile/2023_01_11_12_23_29/c9ea16180903.kernel_stats.pb\n",
      "\n"
     ]
    },
    {
     "name": "stdout",
     "output_type": "stream",
     "text": [
      "510/510 [==============================] - 2s 4ms/step - loss: 0.2836 - accuracy: 0.9101 - val_loss: 0.0920 - val_accuracy: 0.9694\n",
      "Epoch 2/100\n",
      "510/510 [==============================] - 1s 3ms/step - loss: 0.0635 - accuracy: 0.9802 - val_loss: 0.0691 - val_accuracy: 0.9790\n",
      "Epoch 3/100\n",
      "510/510 [==============================] - 1s 3ms/step - loss: 0.0377 - accuracy: 0.9879 - val_loss: 0.0519 - val_accuracy: 0.9842\n",
      "Epoch 4/100\n",
      "510/510 [==============================] - 1s 3ms/step - loss: 0.0278 - accuracy: 0.9906 - val_loss: 0.0666 - val_accuracy: 0.9798\n",
      "Epoch 5/100\n",
      "510/510 [==============================] - 2s 3ms/step - loss: 0.0176 - accuracy: 0.9948 - val_loss: 0.0656 - val_accuracy: 0.9821\n",
      "Epoch 6/100\n",
      "510/510 [==============================] - 2s 4ms/step - loss: 0.0172 - accuracy: 0.9942 - val_loss: 0.0720 - val_accuracy: 0.9816\n",
      "Epoch 7/100\n",
      "510/510 [==============================] - 2s 4ms/step - loss: 0.0158 - accuracy: 0.9947 - val_loss: 0.0596 - val_accuracy: 0.9837\n",
      "Epoch 8/100\n",
      "510/510 [==============================] - 1s 3ms/step - loss: 0.0135 - accuracy: 0.9953 - val_loss: 0.0745 - val_accuracy: 0.9832\n",
      "Epoch 9/100\n",
      "510/510 [==============================] - 1s 3ms/step - loss: 0.0127 - accuracy: 0.9950 - val_loss: 0.0871 - val_accuracy: 0.9803\n",
      "Epoch 10/100\n",
      "510/510 [==============================] - 2s 3ms/step - loss: 0.0154 - accuracy: 0.9952 - val_loss: 0.1069 - val_accuracy: 0.9784\n",
      "Epoch 11/100\n",
      "510/510 [==============================] - 2s 3ms/step - loss: 0.0172 - accuracy: 0.9954 - val_loss: 0.0471 - val_accuracy: 0.9884\n",
      "Epoch 12/100\n",
      "510/510 [==============================] - 1s 3ms/step - loss: 0.0033 - accuracy: 0.9991 - val_loss: 0.0616 - val_accuracy: 0.9881\n",
      "Epoch 13/100\n",
      "510/510 [==============================] - 1s 3ms/step - loss: 0.0040 - accuracy: 0.9987 - val_loss: 0.0983 - val_accuracy: 0.9819\n",
      "Epoch 14/100\n",
      "510/510 [==============================] - 1s 3ms/step - loss: 0.0186 - accuracy: 0.9944 - val_loss: 0.0653 - val_accuracy: 0.9862\n",
      "Epoch 15/100\n",
      "510/510 [==============================] - 1s 3ms/step - loss: 0.0046 - accuracy: 0.9983 - val_loss: 0.0754 - val_accuracy: 0.9862\n",
      "Epoch 16/100\n",
      "510/510 [==============================] - 1s 3ms/step - loss: 0.0074 - accuracy: 0.9979 - val_loss: 0.0689 - val_accuracy: 0.9867\n",
      "Epoch 17/100\n",
      "510/510 [==============================] - 1s 3ms/step - loss: 0.0029 - accuracy: 0.9990 - val_loss: 0.0940 - val_accuracy: 0.9829\n",
      "Epoch 18/100\n",
      "510/510 [==============================] - 1s 3ms/step - loss: 0.0164 - accuracy: 0.9950 - val_loss: 0.0875 - val_accuracy: 0.9811\n",
      "Epoch 19/100\n",
      "510/510 [==============================] - 2s 3ms/step - loss: 0.0090 - accuracy: 0.9972 - val_loss: 0.0644 - val_accuracy: 0.9886\n",
      "Epoch 20/100\n",
      "510/510 [==============================] - 1s 3ms/step - loss: 0.0083 - accuracy: 0.9974 - val_loss: 0.1184 - val_accuracy: 0.9780\n",
      "Epoch 21/100\n",
      "510/510 [==============================] - 1s 3ms/step - loss: 0.0054 - accuracy: 0.9985 - val_loss: 0.0702 - val_accuracy: 0.9880\n",
      "255/255 [==============================] - 1s 2ms/step - loss: 0.0589 - accuracy: 0.9897\n",
      "[CV]  n_neurons=49, n_hidden=5, learning_rate=0.0009621255553195554, total=  35.7s\n",
      "[CV] n_neurons=74, n_hidden=1, learning_rate=0.008088298191148199 ....\n",
      "Epoch 1/100\n",
      "  3/510 [..............................] - ETA: 1:40 - loss: 1.6417 - accuracy: 0.3247"
     ]
    },
    {
     "name": "stderr",
     "output_type": "stream",
     "text": [
      "2023-01-11 12:24:04.811349: I tensorflow/core/profiler/lib/profiler_session.cc:136] Profiler session initializing.\n",
      "2023-01-11 12:24:04.811394: I tensorflow/core/profiler/lib/profiler_session.cc:155] Profiler session started.\n",
      "2023-01-11 12:24:05.039609: I tensorflow/core/profiler/lib/profiler_session.cc:71] Profiler session collecting data.\n",
      "2023-01-11 12:24:05.039880: I tensorflow/core/profiler/internal/gpu/cupti_tracer.cc:1487] CUPTI activity buffer flushed\n",
      "2023-01-11 12:24:05.181448: I tensorflow/core/profiler/internal/gpu/cupti_collector.cc:228]  GpuTracer has collected 73 callback api events and 61 activity events. \n",
      "2023-01-11 12:24:05.185022: I tensorflow/core/profiler/lib/profiler_session.cc:172] Profiler session tear down.\n",
      "2023-01-11 12:24:05.187900: I tensorflow/core/profiler/rpc/client/save_profile.cc:137] Creating directory: ./my_logs/run_2023_01_11-12_16_11/train/plugins/profile/2023_01_11_12_24_05\n",
      "2023-01-11 12:24:05.189949: I tensorflow/core/profiler/rpc/client/save_profile.cc:143] Dumped gzipped tool data for trace.json.gz to ./my_logs/run_2023_01_11-12_16_11/train/plugins/profile/2023_01_11_12_24_05/c9ea16180903.trace.json.gz\n",
      "2023-01-11 12:24:05.193738: I tensorflow/core/profiler/rpc/client/save_profile.cc:137] Creating directory: ./my_logs/run_2023_01_11-12_16_11/train/plugins/profile/2023_01_11_12_24_05\n",
      "2023-01-11 12:24:05.194344: I tensorflow/core/profiler/rpc/client/save_profile.cc:143] Dumped gzipped tool data for memory_profile.json.gz to ./my_logs/run_2023_01_11-12_16_11/train/plugins/profile/2023_01_11_12_24_05/c9ea16180903.memory_profile.json.gz\n",
      "2023-01-11 12:24:05.194718: I tensorflow/core/profiler/rpc/client/capture_profile.cc:251] Creating directory: ./my_logs/run_2023_01_11-12_16_11/train/plugins/profile/2023_01_11_12_24_05Dumped tool data for xplane.pb to ./my_logs/run_2023_01_11-12_16_11/train/plugins/profile/2023_01_11_12_24_05/c9ea16180903.xplane.pb\n",
      "Dumped tool data for overview_page.pb to ./my_logs/run_2023_01_11-12_16_11/train/plugins/profile/2023_01_11_12_24_05/c9ea16180903.overview_page.pb\n",
      "Dumped tool data for input_pipeline.pb to ./my_logs/run_2023_01_11-12_16_11/train/plugins/profile/2023_01_11_12_24_05/c9ea16180903.input_pipeline.pb\n",
      "Dumped tool data for tensorflow_stats.pb to ./my_logs/run_2023_01_11-12_16_11/train/plugins/profile/2023_01_11_12_24_05/c9ea16180903.tensorflow_stats.pb\n",
      "Dumped tool data for kernel_stats.pb to ./my_logs/run_2023_01_11-12_16_11/train/plugins/profile/2023_01_11_12_24_05/c9ea16180903.kernel_stats.pb\n",
      "\n"
     ]
    },
    {
     "name": "stdout",
     "output_type": "stream",
     "text": [
      "510/510 [==============================] - 2s 3ms/step - loss: 0.2064 - accuracy: 0.9303 - val_loss: 0.0738 - val_accuracy: 0.9808\n",
      "Epoch 2/100\n",
      "510/510 [==============================] - 1s 2ms/step - loss: 0.0588 - accuracy: 0.9820 - val_loss: 0.0649 - val_accuracy: 0.9792\n",
      "Epoch 3/100\n",
      "510/510 [==============================] - 1s 2ms/step - loss: 0.0389 - accuracy: 0.9859 - val_loss: 0.1010 - val_accuracy: 0.9746\n",
      "Epoch 4/100\n",
      "510/510 [==============================] - 1s 2ms/step - loss: 0.0290 - accuracy: 0.9911 - val_loss: 0.0657 - val_accuracy: 0.9857\n",
      "Epoch 5/100\n",
      "510/510 [==============================] - 1s 3ms/step - loss: 0.0200 - accuracy: 0.9939 - val_loss: 0.2238 - val_accuracy: 0.9611\n",
      "Epoch 6/100\n",
      "510/510 [==============================] - 2s 3ms/step - loss: 0.0452 - accuracy: 0.9890 - val_loss: 0.1104 - val_accuracy: 0.9816\n",
      "Epoch 7/100\n",
      "510/510 [==============================] - 2s 3ms/step - loss: 0.0228 - accuracy: 0.9933 - val_loss: 0.1065 - val_accuracy: 0.9823\n",
      "Epoch 8/100\n",
      "510/510 [==============================] - 2s 3ms/step - loss: 0.0283 - accuracy: 0.9922 - val_loss: 0.1769 - val_accuracy: 0.9753\n",
      "Epoch 9/100\n",
      "510/510 [==============================] - 2s 3ms/step - loss: 0.0206 - accuracy: 0.9947 - val_loss: 0.1269 - val_accuracy: 0.9792\n",
      "Epoch 10/100\n",
      "510/510 [==============================] - 1s 3ms/step - loss: 0.0159 - accuracy: 0.9955 - val_loss: 0.2016 - val_accuracy: 0.9745\n",
      "Epoch 11/100\n",
      "510/510 [==============================] - 1s 2ms/step - loss: 0.0282 - accuracy: 0.9946 - val_loss: 0.1241 - val_accuracy: 0.9844\n",
      "Epoch 12/100\n",
      "510/510 [==============================] - 1s 3ms/step - loss: 0.0173 - accuracy: 0.9954 - val_loss: 0.2074 - val_accuracy: 0.9782\n",
      "255/255 [==============================] - 1s 2ms/step - loss: 0.2032 - accuracy: 0.9821\n",
      "[CV]  n_neurons=74, n_hidden=1, learning_rate=0.008088298191148199, total=  18.5s\n",
      "[CV] n_neurons=74, n_hidden=1, learning_rate=0.008088298191148199 ....\n",
      "Epoch 1/100\n",
      "  3/510 [..............................] - ETA: 1:39 - loss: 1.6917 - accuracy: 0.2465"
     ]
    },
    {
     "name": "stderr",
     "output_type": "stream",
     "text": [
      "2023-01-11 12:24:23.368917: I tensorflow/core/profiler/lib/profiler_session.cc:136] Profiler session initializing.\n",
      "2023-01-11 12:24:23.368959: I tensorflow/core/profiler/lib/profiler_session.cc:155] Profiler session started.\n",
      "2023-01-11 12:24:23.590327: I tensorflow/core/profiler/lib/profiler_session.cc:71] Profiler session collecting data.\n",
      "2023-01-11 12:24:23.590556: I tensorflow/core/profiler/internal/gpu/cupti_tracer.cc:1487] CUPTI activity buffer flushed\n",
      "2023-01-11 12:24:23.733503: I tensorflow/core/profiler/internal/gpu/cupti_collector.cc:228]  GpuTracer has collected 73 callback api events and 61 activity events. \n",
      "2023-01-11 12:24:23.736956: I tensorflow/core/profiler/lib/profiler_session.cc:172] Profiler session tear down.\n",
      "2023-01-11 12:24:23.739991: I tensorflow/core/profiler/rpc/client/save_profile.cc:137] Creating directory: ./my_logs/run_2023_01_11-12_16_11/train/plugins/profile/2023_01_11_12_24_23\n",
      "2023-01-11 12:24:23.742246: I tensorflow/core/profiler/rpc/client/save_profile.cc:143] Dumped gzipped tool data for trace.json.gz to ./my_logs/run_2023_01_11-12_16_11/train/plugins/profile/2023_01_11_12_24_23/c9ea16180903.trace.json.gz\n",
      "2023-01-11 12:24:23.745992: I tensorflow/core/profiler/rpc/client/save_profile.cc:137] Creating directory: ./my_logs/run_2023_01_11-12_16_11/train/plugins/profile/2023_01_11_12_24_23\n",
      "2023-01-11 12:24:23.746653: I tensorflow/core/profiler/rpc/client/save_profile.cc:143] Dumped gzipped tool data for memory_profile.json.gz to ./my_logs/run_2023_01_11-12_16_11/train/plugins/profile/2023_01_11_12_24_23/c9ea16180903.memory_profile.json.gz\n",
      "2023-01-11 12:24:23.747021: I tensorflow/core/profiler/rpc/client/capture_profile.cc:251] Creating directory: ./my_logs/run_2023_01_11-12_16_11/train/plugins/profile/2023_01_11_12_24_23Dumped tool data for xplane.pb to ./my_logs/run_2023_01_11-12_16_11/train/plugins/profile/2023_01_11_12_24_23/c9ea16180903.xplane.pb\n",
      "Dumped tool data for overview_page.pb to ./my_logs/run_2023_01_11-12_16_11/train/plugins/profile/2023_01_11_12_24_23/c9ea16180903.overview_page.pb\n",
      "Dumped tool data for input_pipeline.pb to ./my_logs/run_2023_01_11-12_16_11/train/plugins/profile/2023_01_11_12_24_23/c9ea16180903.input_pipeline.pb\n",
      "Dumped tool data for tensorflow_stats.pb to ./my_logs/run_2023_01_11-12_16_11/train/plugins/profile/2023_01_11_12_24_23/c9ea16180903.tensorflow_stats.pb\n",
      "Dumped tool data for kernel_stats.pb to ./my_logs/run_2023_01_11-12_16_11/train/plugins/profile/2023_01_11_12_24_23/c9ea16180903.kernel_stats.pb\n",
      "\n"
     ]
    },
    {
     "name": "stdout",
     "output_type": "stream",
     "text": [
      "510/510 [==============================] - 2s 3ms/step - loss: 0.2140 - accuracy: 0.9332 - val_loss: 0.0926 - val_accuracy: 0.9720\n",
      "Epoch 2/100\n",
      "510/510 [==============================] - 1s 2ms/step - loss: 0.0559 - accuracy: 0.9829 - val_loss: 0.0794 - val_accuracy: 0.9788\n",
      "Epoch 3/100\n",
      "510/510 [==============================] - 1s 2ms/step - loss: 0.0409 - accuracy: 0.9872 - val_loss: 0.0782 - val_accuracy: 0.9784\n",
      "Epoch 4/100\n",
      "510/510 [==============================] - 1s 2ms/step - loss: 0.0366 - accuracy: 0.9880 - val_loss: 0.0933 - val_accuracy: 0.9780\n",
      "Epoch 5/100\n",
      "510/510 [==============================] - 1s 2ms/step - loss: 0.0215 - accuracy: 0.9924 - val_loss: 0.1068 - val_accuracy: 0.9766\n",
      "Epoch 6/100\n",
      "510/510 [==============================] - 1s 2ms/step - loss: 0.0231 - accuracy: 0.9924 - val_loss: 0.1050 - val_accuracy: 0.9829\n",
      "Epoch 7/100\n",
      "510/510 [==============================] - 1s 2ms/step - loss: 0.0208 - accuracy: 0.9940 - val_loss: 0.0943 - val_accuracy: 0.9813\n",
      "Epoch 8/100\n",
      "510/510 [==============================] - 1s 3ms/step - loss: 0.0209 - accuracy: 0.9941 - val_loss: 0.1210 - val_accuracy: 0.9793\n",
      "Epoch 9/100\n",
      "510/510 [==============================] - 1s 2ms/step - loss: 0.0285 - accuracy: 0.9930 - val_loss: 0.1033 - val_accuracy: 0.9847\n",
      "Epoch 10/100\n",
      "510/510 [==============================] - 1s 2ms/step - loss: 0.0111 - accuracy: 0.9960 - val_loss: 0.1110 - val_accuracy: 0.9841\n",
      "Epoch 11/100\n",
      "510/510 [==============================] - 1s 2ms/step - loss: 0.0115 - accuracy: 0.9969 - val_loss: 0.1127 - val_accuracy: 0.9845\n",
      "Epoch 12/100\n",
      "510/510 [==============================] - 1s 2ms/step - loss: 0.0163 - accuracy: 0.9965 - val_loss: 0.1392 - val_accuracy: 0.9837\n",
      "Epoch 13/100\n",
      "510/510 [==============================] - 1s 2ms/step - loss: 0.0165 - accuracy: 0.9955 - val_loss: 0.1497 - val_accuracy: 0.9828\n",
      "255/255 [==============================] - 1s 2ms/step - loss: 0.1670 - accuracy: 0.9828\n",
      "[CV]  n_neurons=74, n_hidden=1, learning_rate=0.008088298191148199, total=  17.6s\n",
      "[CV] n_neurons=74, n_hidden=1, learning_rate=0.008088298191148199 ....\n",
      "Epoch 1/100\n",
      "  3/510 [..............................] - ETA: 1:43 - loss: 1.4632 - accuracy: 0.3003"
     ]
    },
    {
     "name": "stderr",
     "output_type": "stream",
     "text": [
      "2023-01-11 12:24:40.999013: I tensorflow/core/profiler/lib/profiler_session.cc:136] Profiler session initializing.\n",
      "2023-01-11 12:24:40.999066: I tensorflow/core/profiler/lib/profiler_session.cc:155] Profiler session started.\n",
      "2023-01-11 12:24:41.238383: I tensorflow/core/profiler/lib/profiler_session.cc:71] Profiler session collecting data.\n",
      "2023-01-11 12:24:41.238650: I tensorflow/core/profiler/internal/gpu/cupti_tracer.cc:1487] CUPTI activity buffer flushed\n",
      "2023-01-11 12:24:41.381156: I tensorflow/core/profiler/internal/gpu/cupti_collector.cc:228]  GpuTracer has collected 73 callback api events and 61 activity events. \n",
      "2023-01-11 12:24:41.384746: I tensorflow/core/profiler/lib/profiler_session.cc:172] Profiler session tear down.\n",
      "2023-01-11 12:24:41.387630: I tensorflow/core/profiler/rpc/client/save_profile.cc:137] Creating directory: ./my_logs/run_2023_01_11-12_16_11/train/plugins/profile/2023_01_11_12_24_41\n",
      "2023-01-11 12:24:41.389831: I tensorflow/core/profiler/rpc/client/save_profile.cc:143] Dumped gzipped tool data for trace.json.gz to ./my_logs/run_2023_01_11-12_16_11/train/plugins/profile/2023_01_11_12_24_41/c9ea16180903.trace.json.gz\n",
      "2023-01-11 12:24:41.393538: I tensorflow/core/profiler/rpc/client/save_profile.cc:137] Creating directory: ./my_logs/run_2023_01_11-12_16_11/train/plugins/profile/2023_01_11_12_24_41\n",
      "2023-01-11 12:24:41.394122: I tensorflow/core/profiler/rpc/client/save_profile.cc:143] Dumped gzipped tool data for memory_profile.json.gz to ./my_logs/run_2023_01_11-12_16_11/train/plugins/profile/2023_01_11_12_24_41/c9ea16180903.memory_profile.json.gz\n",
      "2023-01-11 12:24:41.394481: I tensorflow/core/profiler/rpc/client/capture_profile.cc:251] Creating directory: ./my_logs/run_2023_01_11-12_16_11/train/plugins/profile/2023_01_11_12_24_41Dumped tool data for xplane.pb to ./my_logs/run_2023_01_11-12_16_11/train/plugins/profile/2023_01_11_12_24_41/c9ea16180903.xplane.pb\n",
      "Dumped tool data for overview_page.pb to ./my_logs/run_2023_01_11-12_16_11/train/plugins/profile/2023_01_11_12_24_41/c9ea16180903.overview_page.pb\n",
      "Dumped tool data for input_pipeline.pb to ./my_logs/run_2023_01_11-12_16_11/train/plugins/profile/2023_01_11_12_24_41/c9ea16180903.input_pipeline.pb\n",
      "Dumped tool data for tensorflow_stats.pb to ./my_logs/run_2023_01_11-12_16_11/train/plugins/profile/2023_01_11_12_24_41/c9ea16180903.tensorflow_stats.pb\n",
      "Dumped tool data for kernel_stats.pb to ./my_logs/run_2023_01_11-12_16_11/train/plugins/profile/2023_01_11_12_24_41/c9ea16180903.kernel_stats.pb\n",
      "\n"
     ]
    },
    {
     "name": "stdout",
     "output_type": "stream",
     "text": [
      "510/510 [==============================] - 2s 4ms/step - loss: 0.2055 - accuracy: 0.9278 - val_loss: 0.0916 - val_accuracy: 0.9725\n",
      "Epoch 2/100\n",
      "510/510 [==============================] - 1s 3ms/step - loss: 0.0591 - accuracy: 0.9831 - val_loss: 0.0790 - val_accuracy: 0.9792\n",
      "Epoch 3/100\n",
      "510/510 [==============================] - 1s 2ms/step - loss: 0.0408 - accuracy: 0.9885 - val_loss: 0.0898 - val_accuracy: 0.9749\n",
      "Epoch 4/100\n",
      "510/510 [==============================] - 2s 4ms/step - loss: 0.0343 - accuracy: 0.9894 - val_loss: 0.1189 - val_accuracy: 0.9704\n",
      "Epoch 5/100\n",
      "510/510 [==============================] - 2s 5ms/step - loss: 0.0196 - accuracy: 0.9937 - val_loss: 0.1453 - val_accuracy: 0.9701\n",
      "Epoch 6/100\n",
      "510/510 [==============================] - 2s 3ms/step - loss: 0.0317 - accuracy: 0.9913 - val_loss: 0.1074 - val_accuracy: 0.9797\n",
      "Epoch 7/100\n",
      "510/510 [==============================] - 1s 2ms/step - loss: 0.0200 - accuracy: 0.9949 - val_loss: 0.0841 - val_accuracy: 0.9852\n",
      "Epoch 8/100\n",
      "510/510 [==============================] - 1s 2ms/step - loss: 0.0214 - accuracy: 0.9941 - val_loss: 0.0990 - val_accuracy: 0.9816\n",
      "Epoch 9/100\n",
      "510/510 [==============================] - 2s 3ms/step - loss: 0.0214 - accuracy: 0.9947 - val_loss: 0.1264 - val_accuracy: 0.9819\n",
      "Epoch 10/100\n",
      "510/510 [==============================] - 1s 2ms/step - loss: 0.0222 - accuracy: 0.9938 - val_loss: 0.1608 - val_accuracy: 0.9800\n",
      "Epoch 11/100\n",
      "510/510 [==============================] - 1s 2ms/step - loss: 0.0276 - accuracy: 0.9945 - val_loss: 0.1111 - val_accuracy: 0.9845\n",
      "Epoch 12/100\n",
      "510/510 [==============================] - 1s 2ms/step - loss: 0.0120 - accuracy: 0.9974 - val_loss: 0.1289 - val_accuracy: 0.9842\n",
      "255/255 [==============================] - 1s 2ms/step - loss: 0.1203 - accuracy: 0.9870\n",
      "[CV]  n_neurons=74, n_hidden=1, learning_rate=0.008088298191148199, total=  19.4s\n",
      "[CV] n_neurons=59, n_hidden=0, learning_rate=0.0003823475224675185 ...\n",
      "Epoch 1/100\n",
      "  3/510 [..............................] - ETA: 1:40 - loss: 1.6877 - accuracy: 0.1858"
     ]
    },
    {
     "name": "stderr",
     "output_type": "stream",
     "text": [
      "2023-01-11 12:25:00.314641: I tensorflow/core/profiler/lib/profiler_session.cc:136] Profiler session initializing.\n",
      "2023-01-11 12:25:00.314686: I tensorflow/core/profiler/lib/profiler_session.cc:155] Profiler session started.\n",
      "2023-01-11 12:25:00.539990: I tensorflow/core/profiler/lib/profiler_session.cc:71] Profiler session collecting data.\n",
      "2023-01-11 12:25:00.540224: I tensorflow/core/profiler/internal/gpu/cupti_tracer.cc:1487] CUPTI activity buffer flushed\n",
      "2023-01-11 12:25:00.685788: I tensorflow/core/profiler/internal/gpu/cupti_collector.cc:228]  GpuTracer has collected 64 callback api events and 52 activity events. \n",
      "2023-01-11 12:25:00.689038: I tensorflow/core/profiler/lib/profiler_session.cc:172] Profiler session tear down.\n",
      "2023-01-11 12:25:00.691636: I tensorflow/core/profiler/rpc/client/save_profile.cc:137] Creating directory: ./my_logs/run_2023_01_11-12_16_11/train/plugins/profile/2023_01_11_12_25_00\n",
      "2023-01-11 12:25:00.693452: I tensorflow/core/profiler/rpc/client/save_profile.cc:143] Dumped gzipped tool data for trace.json.gz to ./my_logs/run_2023_01_11-12_16_11/train/plugins/profile/2023_01_11_12_25_00/c9ea16180903.trace.json.gz\n",
      "2023-01-11 12:25:00.697047: I tensorflow/core/profiler/rpc/client/save_profile.cc:137] Creating directory: ./my_logs/run_2023_01_11-12_16_11/train/plugins/profile/2023_01_11_12_25_00\n",
      "2023-01-11 12:25:00.697638: I tensorflow/core/profiler/rpc/client/save_profile.cc:143] Dumped gzipped tool data for memory_profile.json.gz to ./my_logs/run_2023_01_11-12_16_11/train/plugins/profile/2023_01_11_12_25_00/c9ea16180903.memory_profile.json.gz\n",
      "2023-01-11 12:25:00.697983: I tensorflow/core/profiler/rpc/client/capture_profile.cc:251] Creating directory: ./my_logs/run_2023_01_11-12_16_11/train/plugins/profile/2023_01_11_12_25_00Dumped tool data for xplane.pb to ./my_logs/run_2023_01_11-12_16_11/train/plugins/profile/2023_01_11_12_25_00/c9ea16180903.xplane.pb\n",
      "Dumped tool data for overview_page.pb to ./my_logs/run_2023_01_11-12_16_11/train/plugins/profile/2023_01_11_12_25_00/c9ea16180903.overview_page.pb\n",
      "Dumped tool data for input_pipeline.pb to ./my_logs/run_2023_01_11-12_16_11/train/plugins/profile/2023_01_11_12_25_00/c9ea16180903.input_pipeline.pb\n",
      "Dumped tool data for tensorflow_stats.pb to ./my_logs/run_2023_01_11-12_16_11/train/plugins/profile/2023_01_11_12_25_00/c9ea16180903.tensorflow_stats.pb\n",
      "Dumped tool data for kernel_stats.pb to ./my_logs/run_2023_01_11-12_16_11/train/plugins/profile/2023_01_11_12_25_00/c9ea16180903.kernel_stats.pb\n",
      "\n"
     ]
    },
    {
     "name": "stdout",
     "output_type": "stream",
     "text": [
      "510/510 [==============================] - 2s 3ms/step - loss: 0.8800 - accuracy: 0.7229 - val_loss: 0.2552 - val_accuracy: 0.9419\n",
      "Epoch 2/100\n",
      "510/510 [==============================] - 1s 2ms/step - loss: 0.2302 - accuracy: 0.9461 - val_loss: 0.1811 - val_accuracy: 0.9509\n",
      "Epoch 3/100\n",
      "510/510 [==============================] - 1s 2ms/step - loss: 0.1628 - accuracy: 0.9588 - val_loss: 0.1538 - val_accuracy: 0.9570\n",
      "Epoch 4/100\n",
      "510/510 [==============================] - 1s 2ms/step - loss: 0.1427 - accuracy: 0.9632 - val_loss: 0.1395 - val_accuracy: 0.9600\n",
      "Epoch 5/100\n",
      "510/510 [==============================] - 1s 3ms/step - loss: 0.1286 - accuracy: 0.9657 - val_loss: 0.1325 - val_accuracy: 0.9593\n",
      "Epoch 6/100\n",
      "510/510 [==============================] - 1s 2ms/step - loss: 0.1188 - accuracy: 0.9672 - val_loss: 0.1247 - val_accuracy: 0.9619\n",
      "Epoch 7/100\n",
      "510/510 [==============================] - 1s 2ms/step - loss: 0.1115 - accuracy: 0.9688 - val_loss: 0.1197 - val_accuracy: 0.9624\n",
      "Epoch 8/100\n",
      "510/510 [==============================] - 1s 2ms/step - loss: 0.1031 - accuracy: 0.9718 - val_loss: 0.1170 - val_accuracy: 0.9635\n",
      "Epoch 9/100\n",
      "510/510 [==============================] - 1s 2ms/step - loss: 0.1066 - accuracy: 0.9693 - val_loss: 0.1146 - val_accuracy: 0.9657\n",
      "Epoch 10/100\n",
      "510/510 [==============================] - 1s 2ms/step - loss: 0.0930 - accuracy: 0.9750 - val_loss: 0.1118 - val_accuracy: 0.9658\n",
      "Epoch 11/100\n",
      "510/510 [==============================] - 1s 2ms/step - loss: 0.0942 - accuracy: 0.9739 - val_loss: 0.1109 - val_accuracy: 0.9668\n",
      "Epoch 12/100\n",
      "510/510 [==============================] - 1s 2ms/step - loss: 0.0933 - accuracy: 0.9727 - val_loss: 0.1094 - val_accuracy: 0.9653\n",
      "Epoch 13/100\n",
      "510/510 [==============================] - 1s 2ms/step - loss: 0.0882 - accuracy: 0.9752 - val_loss: 0.1088 - val_accuracy: 0.9665\n",
      "Epoch 14/100\n",
      "510/510 [==============================] - 1s 3ms/step - loss: 0.0911 - accuracy: 0.9732 - val_loss: 0.1067 - val_accuracy: 0.9673\n",
      "Epoch 15/100\n",
      "510/510 [==============================] - 1s 2ms/step - loss: 0.0894 - accuracy: 0.9726 - val_loss: 0.1066 - val_accuracy: 0.9666\n",
      "Epoch 16/100\n",
      "510/510 [==============================] - 1s 3ms/step - loss: 0.0868 - accuracy: 0.9738 - val_loss: 0.1068 - val_accuracy: 0.9670\n",
      "Epoch 17/100\n",
      "510/510 [==============================] - 2s 4ms/step - loss: 0.0865 - accuracy: 0.9743 - val_loss: 0.1048 - val_accuracy: 0.9679\n",
      "Epoch 18/100\n",
      "510/510 [==============================] - 2s 3ms/step - loss: 0.0777 - accuracy: 0.9781 - val_loss: 0.1043 - val_accuracy: 0.9681\n",
      "Epoch 19/100\n",
      "510/510 [==============================] - 2s 3ms/step - loss: 0.0859 - accuracy: 0.9760 - val_loss: 0.1038 - val_accuracy: 0.9675\n",
      "Epoch 20/100\n",
      "510/510 [==============================] - 1s 2ms/step - loss: 0.0809 - accuracy: 0.9762 - val_loss: 0.1036 - val_accuracy: 0.9686\n",
      "Epoch 21/100\n",
      "510/510 [==============================] - 1s 3ms/step - loss: 0.0849 - accuracy: 0.9762 - val_loss: 0.1037 - val_accuracy: 0.9676\n",
      "Epoch 22/100\n",
      "510/510 [==============================] - 1s 2ms/step - loss: 0.0816 - accuracy: 0.9770 - val_loss: 0.1027 - val_accuracy: 0.9678\n",
      "Epoch 23/100\n",
      "510/510 [==============================] - 1s 2ms/step - loss: 0.0845 - accuracy: 0.9760 - val_loss: 0.1030 - val_accuracy: 0.9686\n",
      "Epoch 24/100\n",
      "510/510 [==============================] - 1s 2ms/step - loss: 0.0769 - accuracy: 0.9794 - val_loss: 0.1024 - val_accuracy: 0.9686\n",
      "Epoch 25/100\n",
      "510/510 [==============================] - 1s 2ms/step - loss: 0.0783 - accuracy: 0.9785 - val_loss: 0.1032 - val_accuracy: 0.9684\n",
      "Epoch 26/100\n",
      "510/510 [==============================] - 1s 2ms/step - loss: 0.0812 - accuracy: 0.9762 - val_loss: 0.1021 - val_accuracy: 0.9683\n",
      "Epoch 27/100\n",
      "510/510 [==============================] - 1s 2ms/step - loss: 0.0816 - accuracy: 0.9770 - val_loss: 0.1030 - val_accuracy: 0.9686\n",
      "Epoch 28/100\n",
      "510/510 [==============================] - 1s 2ms/step - loss: 0.0773 - accuracy: 0.9780 - val_loss: 0.1021 - val_accuracy: 0.9688\n",
      "Epoch 29/100\n",
      "510/510 [==============================] - 1s 2ms/step - loss: 0.0796 - accuracy: 0.9789 - val_loss: 0.1035 - val_accuracy: 0.9681\n",
      "Epoch 30/100\n",
      "510/510 [==============================] - 1s 3ms/step - loss: 0.0770 - accuracy: 0.9775 - val_loss: 0.1020 - val_accuracy: 0.9689\n",
      "Epoch 31/100\n",
      "510/510 [==============================] - 1s 2ms/step - loss: 0.0739 - accuracy: 0.9792 - val_loss: 0.1022 - val_accuracy: 0.9688\n",
      "Epoch 32/100\n",
      "510/510 [==============================] - 1s 2ms/step - loss: 0.0720 - accuracy: 0.9797 - val_loss: 0.1032 - val_accuracy: 0.9679\n",
      "Epoch 33/100\n",
      "510/510 [==============================] - 1s 2ms/step - loss: 0.0748 - accuracy: 0.9808 - val_loss: 0.1027 - val_accuracy: 0.9688\n",
      "Epoch 34/100\n",
      "510/510 [==============================] - 1s 2ms/step - loss: 0.0785 - accuracy: 0.9785 - val_loss: 0.1020 - val_accuracy: 0.9692\n",
      "Epoch 35/100\n",
      "510/510 [==============================] - 1s 2ms/step - loss: 0.0766 - accuracy: 0.9785 - val_loss: 0.1023 - val_accuracy: 0.9697\n",
      "Epoch 36/100\n",
      "510/510 [==============================] - 1s 2ms/step - loss: 0.0701 - accuracy: 0.9810 - val_loss: 0.1034 - val_accuracy: 0.9686\n",
      "Epoch 37/100\n",
      "510/510 [==============================] - 1s 2ms/step - loss: 0.0679 - accuracy: 0.9806 - val_loss: 0.1025 - val_accuracy: 0.9692\n",
      "Epoch 38/100\n",
      "510/510 [==============================] - 1s 2ms/step - loss: 0.0755 - accuracy: 0.9785 - val_loss: 0.1020 - val_accuracy: 0.9686\n",
      "Epoch 39/100\n",
      "510/510 [==============================] - 1s 3ms/step - loss: 0.0680 - accuracy: 0.9816 - val_loss: 0.1033 - val_accuracy: 0.9699\n",
      "Epoch 40/100\n",
      "510/510 [==============================] - 1s 2ms/step - loss: 0.0709 - accuracy: 0.9806 - val_loss: 0.1028 - val_accuracy: 0.9694\n",
      "Epoch 41/100\n",
      "510/510 [==============================] - 2s 3ms/step - loss: 0.0720 - accuracy: 0.9796 - val_loss: 0.1031 - val_accuracy: 0.9692\n",
      "Epoch 42/100\n",
      "510/510 [==============================] - 1s 2ms/step - loss: 0.0670 - accuracy: 0.9822 - val_loss: 0.1026 - val_accuracy: 0.9692\n",
      "Epoch 43/100\n",
      "510/510 [==============================] - 1s 2ms/step - loss: 0.0716 - accuracy: 0.9800 - val_loss: 0.1025 - val_accuracy: 0.9691\n",
      "Epoch 44/100\n",
      "510/510 [==============================] - 1s 3ms/step - loss: 0.0686 - accuracy: 0.9788 - val_loss: 0.1033 - val_accuracy: 0.9679\n",
      "Epoch 45/100\n",
      "510/510 [==============================] - 2s 3ms/step - loss: 0.0667 - accuracy: 0.9798 - val_loss: 0.1027 - val_accuracy: 0.9684\n",
      "Epoch 46/100\n",
      "510/510 [==============================] - 2s 3ms/step - loss: 0.0708 - accuracy: 0.9797 - val_loss: 0.1029 - val_accuracy: 0.9696\n",
      "Epoch 47/100\n",
      "510/510 [==============================] - 2s 3ms/step - loss: 0.0749 - accuracy: 0.9777 - val_loss: 0.1038 - val_accuracy: 0.9697\n",
      "Epoch 48/100\n",
      "510/510 [==============================] - 1s 2ms/step - loss: 0.0726 - accuracy: 0.9792 - val_loss: 0.1038 - val_accuracy: 0.9696\n",
      "255/255 [==============================] - 1s 2ms/step - loss: 0.1176 - accuracy: 0.9660\n",
      "[CV]  n_neurons=59, n_hidden=0, learning_rate=0.0003823475224675185, total= 1.1min\n",
      "[CV] n_neurons=59, n_hidden=0, learning_rate=0.0003823475224675185 ...\n",
      "Epoch 1/100\n",
      "  3/510 [..............................] - ETA: 1:40 - loss: 1.5690 - accuracy: 0.3299"
     ]
    },
    {
     "name": "stderr",
     "output_type": "stream",
     "text": [
      "2023-01-11 12:26:03.963043: I tensorflow/core/profiler/lib/profiler_session.cc:136] Profiler session initializing.\n",
      "2023-01-11 12:26:03.963085: I tensorflow/core/profiler/lib/profiler_session.cc:155] Profiler session started.\n",
      "2023-01-11 12:26:04.191080: I tensorflow/core/profiler/lib/profiler_session.cc:71] Profiler session collecting data.\n",
      "2023-01-11 12:26:04.191304: I tensorflow/core/profiler/internal/gpu/cupti_tracer.cc:1487] CUPTI activity buffer flushed\n",
      "2023-01-11 12:26:04.334909: I tensorflow/core/profiler/internal/gpu/cupti_collector.cc:228]  GpuTracer has collected 64 callback api events and 52 activity events. \n",
      "2023-01-11 12:26:04.338302: I tensorflow/core/profiler/lib/profiler_session.cc:172] Profiler session tear down.\n",
      "2023-01-11 12:26:04.341016: I tensorflow/core/profiler/rpc/client/save_profile.cc:137] Creating directory: ./my_logs/run_2023_01_11-12_16_11/train/plugins/profile/2023_01_11_12_26_04\n",
      "2023-01-11 12:26:04.342750: I tensorflow/core/profiler/rpc/client/save_profile.cc:143] Dumped gzipped tool data for trace.json.gz to ./my_logs/run_2023_01_11-12_16_11/train/plugins/profile/2023_01_11_12_26_04/c9ea16180903.trace.json.gz\n",
      "2023-01-11 12:26:04.346118: I tensorflow/core/profiler/rpc/client/save_profile.cc:137] Creating directory: ./my_logs/run_2023_01_11-12_16_11/train/plugins/profile/2023_01_11_12_26_04\n",
      "2023-01-11 12:26:04.346680: I tensorflow/core/profiler/rpc/client/save_profile.cc:143] Dumped gzipped tool data for memory_profile.json.gz to ./my_logs/run_2023_01_11-12_16_11/train/plugins/profile/2023_01_11_12_26_04/c9ea16180903.memory_profile.json.gz\n",
      "2023-01-11 12:26:04.347079: I tensorflow/core/profiler/rpc/client/capture_profile.cc:251] Creating directory: ./my_logs/run_2023_01_11-12_16_11/train/plugins/profile/2023_01_11_12_26_04Dumped tool data for xplane.pb to ./my_logs/run_2023_01_11-12_16_11/train/plugins/profile/2023_01_11_12_26_04/c9ea16180903.xplane.pb\n",
      "Dumped tool data for overview_page.pb to ./my_logs/run_2023_01_11-12_16_11/train/plugins/profile/2023_01_11_12_26_04/c9ea16180903.overview_page.pb\n",
      "Dumped tool data for input_pipeline.pb to ./my_logs/run_2023_01_11-12_16_11/train/plugins/profile/2023_01_11_12_26_04/c9ea16180903.input_pipeline.pb\n",
      "Dumped tool data for tensorflow_stats.pb to ./my_logs/run_2023_01_11-12_16_11/train/plugins/profile/2023_01_11_12_26_04/c9ea16180903.tensorflow_stats.pb\n",
      "Dumped tool data for kernel_stats.pb to ./my_logs/run_2023_01_11-12_16_11/train/plugins/profile/2023_01_11_12_26_04/c9ea16180903.kernel_stats.pb\n",
      "\n"
     ]
    },
    {
     "name": "stdout",
     "output_type": "stream",
     "text": [
      "510/510 [==============================] - 2s 3ms/step - loss: 0.8140 - accuracy: 0.7979 - val_loss: 0.2475 - val_accuracy: 0.9434\n",
      "Epoch 2/100\n",
      "510/510 [==============================] - 1s 2ms/step - loss: 0.2143 - accuracy: 0.9528 - val_loss: 0.1775 - val_accuracy: 0.9530\n",
      "Epoch 3/100\n",
      "510/510 [==============================] - 1s 2ms/step - loss: 0.1547 - accuracy: 0.9617 - val_loss: 0.1521 - val_accuracy: 0.9569\n",
      "Epoch 4/100\n",
      "510/510 [==============================] - 1s 2ms/step - loss: 0.1384 - accuracy: 0.9632 - val_loss: 0.1391 - val_accuracy: 0.9605\n",
      "Epoch 5/100\n",
      "510/510 [==============================] - 1s 2ms/step - loss: 0.1266 - accuracy: 0.9678 - val_loss: 0.1321 - val_accuracy: 0.9611\n",
      "Epoch 6/100\n",
      "510/510 [==============================] - 1s 2ms/step - loss: 0.1171 - accuracy: 0.9665 - val_loss: 0.1258 - val_accuracy: 0.9626\n",
      "Epoch 7/100\n",
      "510/510 [==============================] - 1s 3ms/step - loss: 0.1090 - accuracy: 0.9700 - val_loss: 0.1213 - val_accuracy: 0.9637\n",
      "Epoch 8/100\n",
      "510/510 [==============================] - 1s 2ms/step - loss: 0.1061 - accuracy: 0.9695 - val_loss: 0.1189 - val_accuracy: 0.9647\n",
      "Epoch 9/100\n",
      "510/510 [==============================] - 1s 2ms/step - loss: 0.1020 - accuracy: 0.9700 - val_loss: 0.1161 - val_accuracy: 0.9635\n",
      "Epoch 10/100\n",
      "510/510 [==============================] - 1s 2ms/step - loss: 0.0981 - accuracy: 0.9723 - val_loss: 0.1146 - val_accuracy: 0.9652\n",
      "Epoch 11/100\n",
      "510/510 [==============================] - 1s 2ms/step - loss: 0.0951 - accuracy: 0.9725 - val_loss: 0.1131 - val_accuracy: 0.9653\n",
      "Epoch 12/100\n",
      "510/510 [==============================] - 1s 2ms/step - loss: 0.0915 - accuracy: 0.9725 - val_loss: 0.1126 - val_accuracy: 0.9655\n",
      "Epoch 13/100\n",
      "510/510 [==============================] - 1s 2ms/step - loss: 0.0937 - accuracy: 0.9734 - val_loss: 0.1101 - val_accuracy: 0.9663\n",
      "Epoch 14/100\n",
      "510/510 [==============================] - 1s 2ms/step - loss: 0.0868 - accuracy: 0.9746 - val_loss: 0.1093 - val_accuracy: 0.9666\n",
      "Epoch 15/100\n",
      "510/510 [==============================] - 1s 2ms/step - loss: 0.0855 - accuracy: 0.9762 - val_loss: 0.1087 - val_accuracy: 0.9668\n",
      "Epoch 16/100\n",
      "510/510 [==============================] - 2s 4ms/step - loss: 0.0916 - accuracy: 0.9727 - val_loss: 0.1092 - val_accuracy: 0.9663\n",
      "Epoch 17/100\n",
      "510/510 [==============================] - 1s 2ms/step - loss: 0.0948 - accuracy: 0.9721 - val_loss: 0.1084 - val_accuracy: 0.9673\n",
      "Epoch 18/100\n",
      "510/510 [==============================] - 1s 2ms/step - loss: 0.0875 - accuracy: 0.9754 - val_loss: 0.1072 - val_accuracy: 0.9673\n",
      "Epoch 19/100\n",
      "510/510 [==============================] - 1s 2ms/step - loss: 0.0909 - accuracy: 0.9755 - val_loss: 0.1069 - val_accuracy: 0.9676\n",
      "Epoch 20/100\n",
      "510/510 [==============================] - 1s 2ms/step - loss: 0.0837 - accuracy: 0.9750 - val_loss: 0.1064 - val_accuracy: 0.9670\n",
      "Epoch 21/100\n",
      "510/510 [==============================] - 1s 2ms/step - loss: 0.0850 - accuracy: 0.9762 - val_loss: 0.1062 - val_accuracy: 0.9678\n",
      "Epoch 22/100\n",
      "510/510 [==============================] - 1s 3ms/step - loss: 0.0819 - accuracy: 0.9776 - val_loss: 0.1055 - val_accuracy: 0.9671\n",
      "Epoch 23/100\n",
      "510/510 [==============================] - 2s 3ms/step - loss: 0.0821 - accuracy: 0.9766 - val_loss: 0.1058 - val_accuracy: 0.9678\n",
      "Epoch 24/100\n",
      "510/510 [==============================] - 2s 4ms/step - loss: 0.0813 - accuracy: 0.9763 - val_loss: 0.1063 - val_accuracy: 0.9676\n",
      "Epoch 25/100\n",
      "510/510 [==============================] - 2s 3ms/step - loss: 0.0842 - accuracy: 0.9763 - val_loss: 0.1053 - val_accuracy: 0.9676\n",
      "Epoch 26/100\n",
      "510/510 [==============================] - 1s 3ms/step - loss: 0.0756 - accuracy: 0.9782 - val_loss: 0.1051 - val_accuracy: 0.9676\n",
      "Epoch 27/100\n",
      "510/510 [==============================] - 1s 2ms/step - loss: 0.0743 - accuracy: 0.9799 - val_loss: 0.1051 - val_accuracy: 0.9678\n",
      "Epoch 28/100\n",
      "510/510 [==============================] - 1s 2ms/step - loss: 0.0809 - accuracy: 0.9772 - val_loss: 0.1045 - val_accuracy: 0.9676\n",
      "Epoch 29/100\n",
      "510/510 [==============================] - 1s 2ms/step - loss: 0.0819 - accuracy: 0.9783 - val_loss: 0.1054 - val_accuracy: 0.9670\n",
      "Epoch 30/100\n",
      "510/510 [==============================] - 1s 2ms/step - loss: 0.0743 - accuracy: 0.9785 - val_loss: 0.1055 - val_accuracy: 0.9683\n",
      "Epoch 31/100\n",
      "510/510 [==============================] - 1s 2ms/step - loss: 0.0772 - accuracy: 0.9786 - val_loss: 0.1054 - val_accuracy: 0.9676\n",
      "Epoch 32/100\n",
      "510/510 [==============================] - 1s 3ms/step - loss: 0.0724 - accuracy: 0.9817 - val_loss: 0.1063 - val_accuracy: 0.9679\n",
      "Epoch 33/100\n",
      "510/510 [==============================] - 1s 2ms/step - loss: 0.0695 - accuracy: 0.9803 - val_loss: 0.1051 - val_accuracy: 0.9670\n",
      "Epoch 34/100\n",
      "510/510 [==============================] - 1s 2ms/step - loss: 0.0761 - accuracy: 0.9795 - val_loss: 0.1053 - val_accuracy: 0.9679\n",
      "Epoch 35/100\n",
      "510/510 [==============================] - 1s 2ms/step - loss: 0.0703 - accuracy: 0.9809 - val_loss: 0.1051 - val_accuracy: 0.9675\n",
      "Epoch 36/100\n",
      "510/510 [==============================] - 1s 2ms/step - loss: 0.0711 - accuracy: 0.9821 - val_loss: 0.1049 - val_accuracy: 0.9676\n",
      "Epoch 37/100\n",
      "510/510 [==============================] - 1s 2ms/step - loss: 0.0768 - accuracy: 0.9800 - val_loss: 0.1051 - val_accuracy: 0.9678\n",
      "Epoch 38/100\n",
      "510/510 [==============================] - 1s 2ms/step - loss: 0.0754 - accuracy: 0.9803 - val_loss: 0.1058 - val_accuracy: 0.9668\n",
      "255/255 [==============================] - 1s 2ms/step - loss: 0.1152 - accuracy: 0.9667\n",
      "[CV]  n_neurons=59, n_hidden=0, learning_rate=0.0003823475224675185, total=  49.2s\n",
      "[CV] n_neurons=59, n_hidden=0, learning_rate=0.0003823475224675185 ...\n",
      "Epoch 1/100\n",
      "  3/510 [..............................] - ETA: 1:39 - loss: 1.7945 - accuracy: 0.2986"
     ]
    },
    {
     "name": "stderr",
     "output_type": "stream",
     "text": [
      "2023-01-11 12:26:53.144574: I tensorflow/core/profiler/lib/profiler_session.cc:136] Profiler session initializing.\n",
      "2023-01-11 12:26:53.144618: I tensorflow/core/profiler/lib/profiler_session.cc:155] Profiler session started.\n",
      "2023-01-11 12:26:53.366044: I tensorflow/core/profiler/lib/profiler_session.cc:71] Profiler session collecting data.\n",
      "2023-01-11 12:26:53.366271: I tensorflow/core/profiler/internal/gpu/cupti_tracer.cc:1487] CUPTI activity buffer flushed\n",
      "2023-01-11 12:26:53.509575: I tensorflow/core/profiler/internal/gpu/cupti_collector.cc:228]  GpuTracer has collected 64 callback api events and 52 activity events. \n",
      "2023-01-11 12:26:53.512922: I tensorflow/core/profiler/lib/profiler_session.cc:172] Profiler session tear down.\n",
      "2023-01-11 12:26:53.515497: I tensorflow/core/profiler/rpc/client/save_profile.cc:137] Creating directory: ./my_logs/run_2023_01_11-12_16_11/train/plugins/profile/2023_01_11_12_26_53\n",
      "2023-01-11 12:26:53.517294: I tensorflow/core/profiler/rpc/client/save_profile.cc:143] Dumped gzipped tool data for trace.json.gz to ./my_logs/run_2023_01_11-12_16_11/train/plugins/profile/2023_01_11_12_26_53/c9ea16180903.trace.json.gz\n",
      "2023-01-11 12:26:53.520709: I tensorflow/core/profiler/rpc/client/save_profile.cc:137] Creating directory: ./my_logs/run_2023_01_11-12_16_11/train/plugins/profile/2023_01_11_12_26_53\n",
      "2023-01-11 12:26:53.521313: I tensorflow/core/profiler/rpc/client/save_profile.cc:143] Dumped gzipped tool data for memory_profile.json.gz to ./my_logs/run_2023_01_11-12_16_11/train/plugins/profile/2023_01_11_12_26_53/c9ea16180903.memory_profile.json.gz\n",
      "2023-01-11 12:26:53.521662: I tensorflow/core/profiler/rpc/client/capture_profile.cc:251] Creating directory: ./my_logs/run_2023_01_11-12_16_11/train/plugins/profile/2023_01_11_12_26_53Dumped tool data for xplane.pb to ./my_logs/run_2023_01_11-12_16_11/train/plugins/profile/2023_01_11_12_26_53/c9ea16180903.xplane.pb\n",
      "Dumped tool data for overview_page.pb to ./my_logs/run_2023_01_11-12_16_11/train/plugins/profile/2023_01_11_12_26_53/c9ea16180903.overview_page.pb\n",
      "Dumped tool data for input_pipeline.pb to ./my_logs/run_2023_01_11-12_16_11/train/plugins/profile/2023_01_11_12_26_53/c9ea16180903.input_pipeline.pb\n",
      "Dumped tool data for tensorflow_stats.pb to ./my_logs/run_2023_01_11-12_16_11/train/plugins/profile/2023_01_11_12_26_53/c9ea16180903.tensorflow_stats.pb\n",
      "Dumped tool data for kernel_stats.pb to ./my_logs/run_2023_01_11-12_16_11/train/plugins/profile/2023_01_11_12_26_53/c9ea16180903.kernel_stats.pb\n",
      "\n"
     ]
    },
    {
     "name": "stdout",
     "output_type": "stream",
     "text": [
      "510/510 [==============================] - 2s 4ms/step - loss: 0.8781 - accuracy: 0.7608 - val_loss: 0.2521 - val_accuracy: 0.9453\n",
      "Epoch 2/100\n",
      "510/510 [==============================] - 2s 3ms/step - loss: 0.2320 - accuracy: 0.9474 - val_loss: 0.1764 - val_accuracy: 0.9551\n",
      "Epoch 3/100\n",
      "510/510 [==============================] - 1s 2ms/step - loss: 0.1706 - accuracy: 0.9577 - val_loss: 0.1503 - val_accuracy: 0.9592\n",
      "Epoch 4/100\n",
      "510/510 [==============================] - 1s 2ms/step - loss: 0.1440 - accuracy: 0.9617 - val_loss: 0.1372 - val_accuracy: 0.9611\n",
      "Epoch 5/100\n",
      "510/510 [==============================] - 1s 2ms/step - loss: 0.1353 - accuracy: 0.9642 - val_loss: 0.1289 - val_accuracy: 0.9624\n",
      "Epoch 6/100\n",
      "510/510 [==============================] - 1s 2ms/step - loss: 0.1275 - accuracy: 0.9639 - val_loss: 0.1233 - val_accuracy: 0.9645\n",
      "Epoch 7/100\n",
      "510/510 [==============================] - 1s 2ms/step - loss: 0.1175 - accuracy: 0.9690 - val_loss: 0.1194 - val_accuracy: 0.9653\n",
      "Epoch 8/100\n",
      "510/510 [==============================] - 1s 2ms/step - loss: 0.1143 - accuracy: 0.9666 - val_loss: 0.1172 - val_accuracy: 0.9660\n",
      "Epoch 9/100\n",
      "510/510 [==============================] - 1s 2ms/step - loss: 0.1145 - accuracy: 0.9675 - val_loss: 0.1147 - val_accuracy: 0.9673\n",
      "Epoch 10/100\n",
      "510/510 [==============================] - 1s 2ms/step - loss: 0.1038 - accuracy: 0.9697 - val_loss: 0.1136 - val_accuracy: 0.9673\n",
      "Epoch 11/100\n",
      "510/510 [==============================] - 2s 3ms/step - loss: 0.1059 - accuracy: 0.9690 - val_loss: 0.1119 - val_accuracy: 0.9678\n",
      "Epoch 12/100\n",
      "510/510 [==============================] - 2s 3ms/step - loss: 0.1044 - accuracy: 0.9688 - val_loss: 0.1113 - val_accuracy: 0.9678\n",
      "Epoch 13/100\n",
      "510/510 [==============================] - 2s 3ms/step - loss: 0.1084 - accuracy: 0.9682 - val_loss: 0.1098 - val_accuracy: 0.9679\n",
      "Epoch 14/100\n",
      "510/510 [==============================] - 2s 3ms/step - loss: 0.0972 - accuracy: 0.9716 - val_loss: 0.1094 - val_accuracy: 0.9678\n",
      "Epoch 15/100\n",
      "510/510 [==============================] - 1s 2ms/step - loss: 0.0999 - accuracy: 0.9721 - val_loss: 0.1088 - val_accuracy: 0.9675\n",
      "Epoch 16/100\n",
      "510/510 [==============================] - 1s 2ms/step - loss: 0.0951 - accuracy: 0.9727 - val_loss: 0.1088 - val_accuracy: 0.9676\n",
      "Epoch 17/100\n",
      "510/510 [==============================] - 1s 2ms/step - loss: 0.0988 - accuracy: 0.9716 - val_loss: 0.1083 - val_accuracy: 0.9675\n",
      "Epoch 18/100\n",
      "510/510 [==============================] - 1s 3ms/step - loss: 0.0974 - accuracy: 0.9713 - val_loss: 0.1090 - val_accuracy: 0.9671\n",
      "Epoch 19/100\n",
      "510/510 [==============================] - 1s 2ms/step - loss: 0.1016 - accuracy: 0.9718 - val_loss: 0.1081 - val_accuracy: 0.9673\n",
      "Epoch 20/100\n",
      "510/510 [==============================] - 1s 2ms/step - loss: 0.0930 - accuracy: 0.9721 - val_loss: 0.1068 - val_accuracy: 0.9679\n",
      "Epoch 21/100\n",
      "510/510 [==============================] - 1s 2ms/step - loss: 0.0984 - accuracy: 0.9712 - val_loss: 0.1068 - val_accuracy: 0.9679\n",
      "Epoch 22/100\n",
      "510/510 [==============================] - 1s 2ms/step - loss: 0.0937 - accuracy: 0.9719 - val_loss: 0.1063 - val_accuracy: 0.9681\n",
      "Epoch 23/100\n",
      "510/510 [==============================] - 1s 2ms/step - loss: 0.0858 - accuracy: 0.9755 - val_loss: 0.1062 - val_accuracy: 0.9681\n",
      "Epoch 24/100\n",
      "510/510 [==============================] - 1s 2ms/step - loss: 0.0918 - accuracy: 0.9715 - val_loss: 0.1076 - val_accuracy: 0.9671\n",
      "Epoch 25/100\n",
      "510/510 [==============================] - 2s 3ms/step - loss: 0.0884 - accuracy: 0.9750 - val_loss: 0.1062 - val_accuracy: 0.9684\n",
      "Epoch 26/100\n",
      "510/510 [==============================] - 1s 3ms/step - loss: 0.0853 - accuracy: 0.9745 - val_loss: 0.1064 - val_accuracy: 0.9678\n",
      "Epoch 27/100\n",
      "510/510 [==============================] - 1s 3ms/step - loss: 0.0926 - accuracy: 0.9749 - val_loss: 0.1065 - val_accuracy: 0.9666\n",
      "Epoch 28/100\n",
      "510/510 [==============================] - 1s 2ms/step - loss: 0.0884 - accuracy: 0.9754 - val_loss: 0.1059 - val_accuracy: 0.9679\n",
      "Epoch 29/100\n",
      "510/510 [==============================] - 1s 2ms/step - loss: 0.0887 - accuracy: 0.9730 - val_loss: 0.1061 - val_accuracy: 0.9681\n",
      "Epoch 30/100\n",
      "510/510 [==============================] - 1s 2ms/step - loss: 0.0860 - accuracy: 0.9752 - val_loss: 0.1067 - val_accuracy: 0.9683\n",
      "Epoch 31/100\n",
      "510/510 [==============================] - 1s 2ms/step - loss: 0.0840 - accuracy: 0.9766 - val_loss: 0.1063 - val_accuracy: 0.9681\n",
      "Epoch 32/100\n",
      "510/510 [==============================] - 1s 2ms/step - loss: 0.0849 - accuracy: 0.9747 - val_loss: 0.1058 - val_accuracy: 0.9676\n",
      "Epoch 33/100\n",
      "510/510 [==============================] - 1s 2ms/step - loss: 0.0801 - accuracy: 0.9771 - val_loss: 0.1062 - val_accuracy: 0.9670\n",
      "Epoch 34/100\n",
      "510/510 [==============================] - 1s 2ms/step - loss: 0.0826 - accuracy: 0.9775 - val_loss: 0.1064 - val_accuracy: 0.9675\n",
      "Epoch 35/100\n",
      "510/510 [==============================] - 1s 2ms/step - loss: 0.0801 - accuracy: 0.9790 - val_loss: 0.1065 - val_accuracy: 0.9673\n",
      "Epoch 36/100\n",
      "510/510 [==============================] - 1s 3ms/step - loss: 0.0879 - accuracy: 0.9766 - val_loss: 0.1069 - val_accuracy: 0.9673\n",
      "Epoch 37/100\n",
      "510/510 [==============================] - 1s 2ms/step - loss: 0.0851 - accuracy: 0.9757 - val_loss: 0.1079 - val_accuracy: 0.9673\n",
      "Epoch 38/100\n",
      "510/510 [==============================] - 1s 2ms/step - loss: 0.0821 - accuracy: 0.9770 - val_loss: 0.1069 - val_accuracy: 0.9681\n",
      "Epoch 39/100\n",
      "510/510 [==============================] - 1s 3ms/step - loss: 0.0856 - accuracy: 0.9752 - val_loss: 0.1070 - val_accuracy: 0.9676\n",
      "Epoch 40/100\n",
      "510/510 [==============================] - 2s 3ms/step - loss: 0.0840 - accuracy: 0.9755 - val_loss: 0.1075 - val_accuracy: 0.9670\n",
      "Epoch 41/100\n",
      "510/510 [==============================] - 2s 4ms/step - loss: 0.0788 - accuracy: 0.9773 - val_loss: 0.1079 - val_accuracy: 0.9668\n",
      "Epoch 42/100\n",
      "510/510 [==============================] - 2s 3ms/step - loss: 0.0875 - accuracy: 0.9760 - val_loss: 0.1071 - val_accuracy: 0.9676\n",
      "255/255 [==============================] - 1s 2ms/step - loss: 0.0961 - accuracy: 0.9730\n",
      "[CV]  n_neurons=59, n_hidden=0, learning_rate=0.0003823475224675185, total=  56.6s\n",
      "[CV] n_neurons=56, n_hidden=5, learning_rate=0.00015979564727084544 ..\n",
      "Epoch 1/100\n",
      "  2/510 [..............................] - ETA: 1:43 - loss: 1.6853 - accuracy: 0.2422"
     ]
    },
    {
     "name": "stderr",
     "output_type": "stream",
     "text": [
      "2023-01-11 12:27:49.886620: I tensorflow/core/profiler/lib/profiler_session.cc:136] Profiler session initializing.\n",
      "2023-01-11 12:27:49.886667: I tensorflow/core/profiler/lib/profiler_session.cc:155] Profiler session started.\n",
      "2023-01-11 12:27:50.113723: I tensorflow/core/profiler/lib/profiler_session.cc:71] Profiler session collecting data.\n"
     ]
    },
    {
     "name": "stdout",
     "output_type": "stream",
     "text": [
      " 74/510 [===>..........................] - ETA: 3s - loss: 1.1637 - accuracy: 0.5598"
     ]
    },
    {
     "name": "stderr",
     "output_type": "stream",
     "text": [
      "2023-01-11 12:27:50.113979: I tensorflow/core/profiler/internal/gpu/cupti_tracer.cc:1487] CUPTI activity buffer flushed\n",
      "2023-01-11 12:27:50.257220: I tensorflow/core/profiler/internal/gpu/cupti_collector.cc:228]  GpuTracer has collected 109 callback api events and 97 activity events. \n",
      "2023-01-11 12:27:50.261684: I tensorflow/core/profiler/lib/profiler_session.cc:172] Profiler session tear down.\n",
      "2023-01-11 12:27:50.266116: I tensorflow/core/profiler/rpc/client/save_profile.cc:137] Creating directory: ./my_logs/run_2023_01_11-12_16_11/train/plugins/profile/2023_01_11_12_27_50\n",
      "2023-01-11 12:27:50.269113: I tensorflow/core/profiler/rpc/client/save_profile.cc:143] Dumped gzipped tool data for trace.json.gz to ./my_logs/run_2023_01_11-12_16_11/train/plugins/profile/2023_01_11_12_27_50/c9ea16180903.trace.json.gz\n",
      "2023-01-11 12:27:50.274453: I tensorflow/core/profiler/rpc/client/save_profile.cc:137] Creating directory: ./my_logs/run_2023_01_11-12_16_11/train/plugins/profile/2023_01_11_12_27_50\n",
      "2023-01-11 12:27:50.275348: I tensorflow/core/profiler/rpc/client/save_profile.cc:143] Dumped gzipped tool data for memory_profile.json.gz to ./my_logs/run_2023_01_11-12_16_11/train/plugins/profile/2023_01_11_12_27_50/c9ea16180903.memory_profile.json.gz\n",
      "2023-01-11 12:27:50.275789: I tensorflow/core/profiler/rpc/client/capture_profile.cc:251] Creating directory: ./my_logs/run_2023_01_11-12_16_11/train/plugins/profile/2023_01_11_12_27_50Dumped tool data for xplane.pb to ./my_logs/run_2023_01_11-12_16_11/train/plugins/profile/2023_01_11_12_27_50/c9ea16180903.xplane.pb\n",
      "Dumped tool data for overview_page.pb to ./my_logs/run_2023_01_11-12_16_11/train/plugins/profile/2023_01_11_12_27_50/c9ea16180903.overview_page.pb\n",
      "Dumped tool data for input_pipeline.pb to ./my_logs/run_2023_01_11-12_16_11/train/plugins/profile/2023_01_11_12_27_50/c9ea16180903.input_pipeline.pb\n",
      "Dumped tool data for tensorflow_stats.pb to ./my_logs/run_2023_01_11-12_16_11/train/plugins/profile/2023_01_11_12_27_50/c9ea16180903.tensorflow_stats.pb\n",
      "Dumped tool data for kernel_stats.pb to ./my_logs/run_2023_01_11-12_16_11/train/plugins/profile/2023_01_11_12_27_50/c9ea16180903.kernel_stats.pb\n",
      "\n"
     ]
    },
    {
     "name": "stdout",
     "output_type": "stream",
     "text": [
      "510/510 [==============================] - 3s 4ms/step - loss: 0.5107 - accuracy: 0.8303 - val_loss: 0.1132 - val_accuracy: 0.9648\n",
      "Epoch 2/100\n",
      "510/510 [==============================] - 1s 3ms/step - loss: 0.0963 - accuracy: 0.9713 - val_loss: 0.0899 - val_accuracy: 0.9730\n",
      "Epoch 3/100\n",
      "510/510 [==============================] - 1s 3ms/step - loss: 0.0654 - accuracy: 0.9802 - val_loss: 0.0863 - val_accuracy: 0.9722\n",
      "Epoch 4/100\n",
      "510/510 [==============================] - 1s 3ms/step - loss: 0.0550 - accuracy: 0.9827 - val_loss: 0.0689 - val_accuracy: 0.9787\n",
      "Epoch 5/100\n",
      "510/510 [==============================] - 2s 4ms/step - loss: 0.0422 - accuracy: 0.9873 - val_loss: 0.0679 - val_accuracy: 0.9787\n",
      "Epoch 6/100\n",
      "510/510 [==============================] - 1s 3ms/step - loss: 0.0349 - accuracy: 0.9902 - val_loss: 0.0595 - val_accuracy: 0.9811\n",
      "Epoch 7/100\n",
      "510/510 [==============================] - 1s 3ms/step - loss: 0.0262 - accuracy: 0.9924 - val_loss: 0.0576 - val_accuracy: 0.9816\n",
      "Epoch 8/100\n",
      "510/510 [==============================] - 2s 3ms/step - loss: 0.0211 - accuracy: 0.9941 - val_loss: 0.0652 - val_accuracy: 0.9795\n",
      "Epoch 9/100\n",
      "510/510 [==============================] - 1s 3ms/step - loss: 0.0191 - accuracy: 0.9947 - val_loss: 0.0618 - val_accuracy: 0.9806\n",
      "Epoch 10/100\n",
      "510/510 [==============================] - 1s 3ms/step - loss: 0.0125 - accuracy: 0.9964 - val_loss: 0.0571 - val_accuracy: 0.9814\n",
      "Epoch 11/100\n",
      "510/510 [==============================] - 1s 3ms/step - loss: 0.0100 - accuracy: 0.9976 - val_loss: 0.0610 - val_accuracy: 0.9814\n",
      "Epoch 12/100\n",
      "510/510 [==============================] - 1s 3ms/step - loss: 0.0084 - accuracy: 0.9986 - val_loss: 0.0580 - val_accuracy: 0.9816\n",
      "Epoch 13/100\n",
      "510/510 [==============================] - 1s 3ms/step - loss: 0.0062 - accuracy: 0.9985 - val_loss: 0.0614 - val_accuracy: 0.9821\n",
      "Epoch 14/100\n",
      "510/510 [==============================] - 1s 3ms/step - loss: 0.0053 - accuracy: 0.9994 - val_loss: 0.0575 - val_accuracy: 0.9832\n",
      "Epoch 15/100\n",
      "510/510 [==============================] - 1s 3ms/step - loss: 0.0052 - accuracy: 0.9993 - val_loss: 0.0686 - val_accuracy: 0.9805\n",
      "Epoch 16/100\n",
      "510/510 [==============================] - 2s 3ms/step - loss: 0.0039 - accuracy: 0.9995 - val_loss: 0.0717 - val_accuracy: 0.9813\n",
      "Epoch 17/100\n",
      "510/510 [==============================] - 1s 3ms/step - loss: 0.0033 - accuracy: 0.9996 - val_loss: 0.0706 - val_accuracy: 0.9814\n",
      "Epoch 18/100\n",
      "510/510 [==============================] - 1s 3ms/step - loss: 0.0030 - accuracy: 0.9994 - val_loss: 0.0776 - val_accuracy: 0.9797\n",
      "Epoch 19/100\n",
      "510/510 [==============================] - 1s 3ms/step - loss: 0.0020 - accuracy: 0.9998 - val_loss: 0.0661 - val_accuracy: 0.9836\n",
      "Epoch 20/100\n",
      "510/510 [==============================] - 2s 4ms/step - loss: 0.0011 - accuracy: 1.0000 - val_loss: 0.0631 - val_accuracy: 0.9844\n",
      "255/255 [==============================] - 1s 3ms/step - loss: 0.0689 - accuracy: 0.9850\n",
      "[CV]  n_neurons=56, n_hidden=5, learning_rate=0.00015979564727084544, total=  32.0s\n",
      "[CV] n_neurons=56, n_hidden=5, learning_rate=0.00015979564727084544 ..\n",
      "Epoch 1/100\n",
      "  2/510 [..............................] - ETA: 2:24 - loss: 2.1075 - accuracy: 0.2266"
     ]
    },
    {
     "name": "stderr",
     "output_type": "stream",
     "text": [
      "2023-01-11 12:28:22.125531: I tensorflow/core/profiler/lib/profiler_session.cc:136] Profiler session initializing.\n",
      "2023-01-11 12:28:22.125613: I tensorflow/core/profiler/lib/profiler_session.cc:155] Profiler session started.\n"
     ]
    },
    {
     "name": "stdout",
     "output_type": "stream",
     "text": [
      "510/510 [==============================] - 3s 5ms/step - loss: 0.5142 - accuracy: 0.8298 - val_loss: 0.1219 - val_accuracy: 0.9618\n",
      "Epoch 2/100\n",
      "510/510 [==============================] - 1s 3ms/step - loss: 0.0911 - accuracy: 0.9731 - val_loss: 0.0965 - val_accuracy: 0.9709\n",
      "Epoch 3/100\n",
      "510/510 [==============================] - 1s 3ms/step - loss: 0.0668 - accuracy: 0.9800 - val_loss: 0.0835 - val_accuracy: 0.9733\n",
      "Epoch 4/100\n",
      "510/510 [==============================] - 2s 4ms/step - loss: 0.0565 - accuracy: 0.9822 - val_loss: 0.0783 - val_accuracy: 0.9751\n",
      "Epoch 5/100\n",
      "510/510 [==============================] - 1s 3ms/step - loss: 0.0453 - accuracy: 0.9865 - val_loss: 0.0788 - val_accuracy: 0.9756\n",
      "Epoch 6/100\n",
      "510/510 [==============================] - 1s 3ms/step - loss: 0.0349 - accuracy: 0.9890 - val_loss: 0.0658 - val_accuracy: 0.9782\n",
      "Epoch 7/100\n",
      "510/510 [==============================] - 1s 3ms/step - loss: 0.0263 - accuracy: 0.9933 - val_loss: 0.0639 - val_accuracy: 0.9813\n",
      "Epoch 8/100\n",
      "510/510 [==============================] - 2s 3ms/step - loss: 0.0227 - accuracy: 0.9929 - val_loss: 0.0630 - val_accuracy: 0.9792\n",
      "Epoch 9/100\n",
      "510/510 [==============================] - 1s 3ms/step - loss: 0.0190 - accuracy: 0.9946 - val_loss: 0.0632 - val_accuracy: 0.9819\n",
      "Epoch 10/100\n",
      "510/510 [==============================] - 1s 3ms/step - loss: 0.0148 - accuracy: 0.9961 - val_loss: 0.0707 - val_accuracy: 0.9800\n",
      "Epoch 11/100\n",
      "510/510 [==============================] - 1s 3ms/step - loss: 0.0135 - accuracy: 0.9968 - val_loss: 0.0640 - val_accuracy: 0.9810\n",
      "Epoch 12/100\n",
      "510/510 [==============================] - 1s 3ms/step - loss: 0.0079 - accuracy: 0.9990 - val_loss: 0.0642 - val_accuracy: 0.9814\n",
      "Epoch 13/100\n",
      "510/510 [==============================] - 1s 3ms/step - loss: 0.0089 - accuracy: 0.9977 - val_loss: 0.0611 - val_accuracy: 0.9844\n",
      "Epoch 14/100\n",
      "510/510 [==============================] - 1s 3ms/step - loss: 0.0074 - accuracy: 0.9982 - val_loss: 0.0670 - val_accuracy: 0.9823\n",
      "Epoch 15/100\n",
      "510/510 [==============================] - 1s 3ms/step - loss: 0.0052 - accuracy: 0.9990 - val_loss: 0.0677 - val_accuracy: 0.9823\n",
      "Epoch 16/100\n",
      "510/510 [==============================] - 2s 3ms/step - loss: 0.0037 - accuracy: 0.9994 - val_loss: 0.0924 - val_accuracy: 0.9782\n",
      "Epoch 17/100\n",
      "510/510 [==============================] - 1s 3ms/step - loss: 0.0096 - accuracy: 0.9971 - val_loss: 0.0736 - val_accuracy: 0.9824\n",
      "Epoch 18/100\n",
      "510/510 [==============================] - 1s 3ms/step - loss: 0.0027 - accuracy: 0.9999 - val_loss: 0.0691 - val_accuracy: 0.9852\n",
      "Epoch 19/100\n",
      "510/510 [==============================] - 1s 3ms/step - loss: 0.0020 - accuracy: 0.9997 - val_loss: 0.0737 - val_accuracy: 0.9841\n",
      "Epoch 20/100\n",
      "510/510 [==============================] - 1s 3ms/step - loss: 0.0011 - accuracy: 0.9999 - val_loss: 0.0750 - val_accuracy: 0.9828\n",
      "Epoch 21/100\n",
      "510/510 [==============================] - 2s 4ms/step - loss: 0.0010 - accuracy: 0.9999 - val_loss: 0.1178 - val_accuracy: 0.9780\n",
      "Epoch 22/100\n",
      "510/510 [==============================] - 2s 4ms/step - loss: 0.0075 - accuracy: 0.9981 - val_loss: 0.0786 - val_accuracy: 0.9837\n",
      "Epoch 23/100\n",
      "510/510 [==============================] - 2s 4ms/step - loss: 0.0011 - accuracy: 0.9999 - val_loss: 0.0746 - val_accuracy: 0.9849\n",
      "255/255 [==============================] - 1s 4ms/step - loss: 0.0902 - accuracy: 0.9825\n",
      "[CV]  n_neurons=56, n_hidden=5, learning_rate=0.00015979564727084544, total=  39.0s\n",
      "[CV] n_neurons=56, n_hidden=5, learning_rate=0.00015979564727084544 ..\n",
      "Epoch 1/100\n",
      "  2/510 [..............................] - ETA: 1:46 - loss: 1.8069 - accuracy: 0.2109"
     ]
    },
    {
     "name": "stderr",
     "output_type": "stream",
     "text": [
      "2023-01-11 12:28:22.464216: I tensorflow/core/profiler/lib/profiler_session.cc:71] Profiler session collecting data.\n",
      "2023-01-11 12:28:22.464454: I tensorflow/core/profiler/internal/gpu/cupti_tracer.cc:1487] CUPTI activity buffer flushed\n",
      "2023-01-11 12:28:22.618769: I tensorflow/core/profiler/internal/gpu/cupti_collector.cc:228]  GpuTracer has collected 109 callback api events and 97 activity events. \n",
      "2023-01-11 12:28:22.625734: I tensorflow/core/profiler/lib/profiler_session.cc:172] Profiler session tear down.\n",
      "2023-01-11 12:28:22.631819: I tensorflow/core/profiler/rpc/client/save_profile.cc:137] Creating directory: ./my_logs/run_2023_01_11-12_16_11/train/plugins/profile/2023_01_11_12_28_22\n",
      "2023-01-11 12:28:22.635760: I tensorflow/core/profiler/rpc/client/save_profile.cc:143] Dumped gzipped tool data for trace.json.gz to ./my_logs/run_2023_01_11-12_16_11/train/plugins/profile/2023_01_11_12_28_22/c9ea16180903.trace.json.gz\n",
      "2023-01-11 12:28:22.644045: I tensorflow/core/profiler/rpc/client/save_profile.cc:137] Creating directory: ./my_logs/run_2023_01_11-12_16_11/train/plugins/profile/2023_01_11_12_28_22\n",
      "2023-01-11 12:28:22.645150: I tensorflow/core/profiler/rpc/client/save_profile.cc:143] Dumped gzipped tool data for memory_profile.json.gz to ./my_logs/run_2023_01_11-12_16_11/train/plugins/profile/2023_01_11_12_28_22/c9ea16180903.memory_profile.json.gz\n",
      "2023-01-11 12:28:22.645824: I tensorflow/core/profiler/rpc/client/capture_profile.cc:251] Creating directory: ./my_logs/run_2023_01_11-12_16_11/train/plugins/profile/2023_01_11_12_28_22Dumped tool data for xplane.pb to ./my_logs/run_2023_01_11-12_16_11/train/plugins/profile/2023_01_11_12_28_22/c9ea16180903.xplane.pb\n",
      "Dumped tool data for overview_page.pb to ./my_logs/run_2023_01_11-12_16_11/train/plugins/profile/2023_01_11_12_28_22/c9ea16180903.overview_page.pb\n",
      "Dumped tool data for input_pipeline.pb to ./my_logs/run_2023_01_11-12_16_11/train/plugins/profile/2023_01_11_12_28_22/c9ea16180903.input_pipeline.pb\n",
      "Dumped tool data for tensorflow_stats.pb to ./my_logs/run_2023_01_11-12_16_11/train/plugins/profile/2023_01_11_12_28_22/c9ea16180903.tensorflow_stats.pb\n",
      "Dumped tool data for kernel_stats.pb to ./my_logs/run_2023_01_11-12_16_11/train/plugins/profile/2023_01_11_12_28_22/c9ea16180903.kernel_stats.pb\n",
      "\n",
      "2023-01-11 12:29:01.027588: I tensorflow/core/profiler/lib/profiler_session.cc:136] Profiler session initializing.\n",
      "2023-01-11 12:29:01.027633: I tensorflow/core/profiler/lib/profiler_session.cc:155] Profiler session started.\n"
     ]
    },
    {
     "name": "stdout",
     "output_type": "stream",
     "text": [
      " 76/510 [===>..........................] - ETA: 3s - loss: 1.1597 - accuracy: 0.5421"
     ]
    },
    {
     "name": "stderr",
     "output_type": "stream",
     "text": [
      "2023-01-11 12:29:01.268317: I tensorflow/core/profiler/lib/profiler_session.cc:71] Profiler session collecting data.\n",
      "2023-01-11 12:29:01.268578: I tensorflow/core/profiler/internal/gpu/cupti_tracer.cc:1487] CUPTI activity buffer flushed\n",
      "2023-01-11 12:29:01.411330: I tensorflow/core/profiler/internal/gpu/cupti_collector.cc:228]  GpuTracer has collected 109 callback api events and 97 activity events. \n",
      "2023-01-11 12:29:01.415759: I tensorflow/core/profiler/lib/profiler_session.cc:172] Profiler session tear down.\n",
      "2023-01-11 12:29:01.420244: I tensorflow/core/profiler/rpc/client/save_profile.cc:137] Creating directory: ./my_logs/run_2023_01_11-12_16_11/train/plugins/profile/2023_01_11_12_29_01\n",
      "2023-01-11 12:29:01.423163: I tensorflow/core/profiler/rpc/client/save_profile.cc:143] Dumped gzipped tool data for trace.json.gz to ./my_logs/run_2023_01_11-12_16_11/train/plugins/profile/2023_01_11_12_29_01/c9ea16180903.trace.json.gz\n",
      "2023-01-11 12:29:01.428601: I tensorflow/core/profiler/rpc/client/save_profile.cc:137] Creating directory: ./my_logs/run_2023_01_11-12_16_11/train/plugins/profile/2023_01_11_12_29_01\n",
      "2023-01-11 12:29:01.429488: I tensorflow/core/profiler/rpc/client/save_profile.cc:143] Dumped gzipped tool data for memory_profile.json.gz to ./my_logs/run_2023_01_11-12_16_11/train/plugins/profile/2023_01_11_12_29_01/c9ea16180903.memory_profile.json.gz\n",
      "2023-01-11 12:29:01.429941: I tensorflow/core/profiler/rpc/client/capture_profile.cc:251] Creating directory: ./my_logs/run_2023_01_11-12_16_11/train/plugins/profile/2023_01_11_12_29_01Dumped tool data for xplane.pb to ./my_logs/run_2023_01_11-12_16_11/train/plugins/profile/2023_01_11_12_29_01/c9ea16180903.xplane.pb\n",
      "Dumped tool data for overview_page.pb to ./my_logs/run_2023_01_11-12_16_11/train/plugins/profile/2023_01_11_12_29_01/c9ea16180903.overview_page.pb\n",
      "Dumped tool data for input_pipeline.pb to ./my_logs/run_2023_01_11-12_16_11/train/plugins/profile/2023_01_11_12_29_01/c9ea16180903.input_pipeline.pb\n",
      "Dumped tool data for tensorflow_stats.pb to ./my_logs/run_2023_01_11-12_16_11/train/plugins/profile/2023_01_11_12_29_01/c9ea16180903.tensorflow_stats.pb\n",
      "Dumped tool data for kernel_stats.pb to ./my_logs/run_2023_01_11-12_16_11/train/plugins/profile/2023_01_11_12_29_01/c9ea16180903.kernel_stats.pb\n",
      "\n"
     ]
    },
    {
     "name": "stdout",
     "output_type": "stream",
     "text": [
      "510/510 [==============================] - 2s 4ms/step - loss: 0.5125 - accuracy: 0.8197 - val_loss: 0.1185 - val_accuracy: 0.9640\n",
      "Epoch 2/100\n",
      "510/510 [==============================] - 1s 3ms/step - loss: 0.1012 - accuracy: 0.9663 - val_loss: 0.0942 - val_accuracy: 0.9714\n",
      "Epoch 3/100\n",
      "510/510 [==============================] - 1s 3ms/step - loss: 0.0739 - accuracy: 0.9757 - val_loss: 0.0828 - val_accuracy: 0.9743\n",
      "Epoch 4/100\n",
      "510/510 [==============================] - 1s 3ms/step - loss: 0.0544 - accuracy: 0.9830 - val_loss: 0.0757 - val_accuracy: 0.9772\n",
      "Epoch 5/100\n",
      "510/510 [==============================] - 2s 3ms/step - loss: 0.0443 - accuracy: 0.9868 - val_loss: 0.0707 - val_accuracy: 0.9766\n",
      "Epoch 6/100\n",
      "510/510 [==============================] - 1s 3ms/step - loss: 0.0360 - accuracy: 0.9902 - val_loss: 0.0728 - val_accuracy: 0.9779\n",
      "Epoch 7/100\n",
      "510/510 [==============================] - 1s 3ms/step - loss: 0.0298 - accuracy: 0.9906 - val_loss: 0.0597 - val_accuracy: 0.9805\n",
      "Epoch 8/100\n",
      "510/510 [==============================] - 1s 3ms/step - loss: 0.0229 - accuracy: 0.9934 - val_loss: 0.0566 - val_accuracy: 0.9824\n",
      "Epoch 9/100\n",
      "510/510 [==============================] - 1s 3ms/step - loss: 0.0191 - accuracy: 0.9951 - val_loss: 0.0584 - val_accuracy: 0.9821\n",
      "Epoch 10/100\n",
      "510/510 [==============================] - 1s 3ms/step - loss: 0.0133 - accuracy: 0.9964 - val_loss: 0.0709 - val_accuracy: 0.9798\n",
      "Epoch 11/100\n",
      "510/510 [==============================] - 1s 3ms/step - loss: 0.0140 - accuracy: 0.9962 - val_loss: 0.0600 - val_accuracy: 0.9816\n",
      "Epoch 12/100\n",
      "510/510 [==============================] - 2s 3ms/step - loss: 0.0078 - accuracy: 0.9986 - val_loss: 0.0605 - val_accuracy: 0.9841\n",
      "Epoch 13/100\n",
      "510/510 [==============================] - 1s 3ms/step - loss: 0.0070 - accuracy: 0.9986 - val_loss: 0.0607 - val_accuracy: 0.9832\n",
      "Epoch 14/100\n",
      "510/510 [==============================] - 1s 3ms/step - loss: 0.0072 - accuracy: 0.9979 - val_loss: 0.0623 - val_accuracy: 0.9824\n",
      "Epoch 15/100\n",
      "510/510 [==============================] - 1s 3ms/step - loss: 0.0052 - accuracy: 0.9991 - val_loss: 0.0659 - val_accuracy: 0.9824\n",
      "Epoch 16/100\n",
      "510/510 [==============================] - 1s 3ms/step - loss: 0.0044 - accuracy: 0.9991 - val_loss: 0.0604 - val_accuracy: 0.9831\n",
      "Epoch 17/100\n",
      "510/510 [==============================] - 1s 3ms/step - loss: 0.0022 - accuracy: 0.9998 - val_loss: 0.0589 - val_accuracy: 0.9841\n",
      "Epoch 18/100\n",
      "510/510 [==============================] - 1s 3ms/step - loss: 0.0019 - accuracy: 0.9999 - val_loss: 0.0632 - val_accuracy: 0.9837\n",
      "255/255 [==============================] - 1s 2ms/step - loss: 0.0695 - accuracy: 0.9847\n",
      "[CV]  n_neurons=56, n_hidden=5, learning_rate=0.00015979564727084544, total=  27.8s\n",
      "[CV] n_neurons=28, n_hidden=0, learning_rate=0.00018777478000514062 ..\n",
      "Epoch 1/100\n",
      "  3/510 [..............................] - ETA: 1:40 - loss: 1.5796 - accuracy: 0.2743"
     ]
    },
    {
     "name": "stderr",
     "output_type": "stream",
     "text": [
      "2023-01-11 12:29:28.572569: I tensorflow/core/profiler/lib/profiler_session.cc:136] Profiler session initializing.\n",
      "2023-01-11 12:29:28.572610: I tensorflow/core/profiler/lib/profiler_session.cc:155] Profiler session started.\n",
      "2023-01-11 12:29:28.799752: I tensorflow/core/profiler/lib/profiler_session.cc:71] Profiler session collecting data.\n",
      "2023-01-11 12:29:28.799988: I tensorflow/core/profiler/internal/gpu/cupti_tracer.cc:1487] CUPTI activity buffer flushed\n",
      "2023-01-11 12:29:28.943661: I tensorflow/core/profiler/internal/gpu/cupti_collector.cc:228]  GpuTracer has collected 64 callback api events and 52 activity events. \n",
      "2023-01-11 12:29:28.946877: I tensorflow/core/profiler/lib/profiler_session.cc:172] Profiler session tear down.\n",
      "2023-01-11 12:29:28.949553: I tensorflow/core/profiler/rpc/client/save_profile.cc:137] Creating directory: ./my_logs/run_2023_01_11-12_16_11/train/plugins/profile/2023_01_11_12_29_28\n",
      "2023-01-11 12:29:28.951421: I tensorflow/core/profiler/rpc/client/save_profile.cc:143] Dumped gzipped tool data for trace.json.gz to ./my_logs/run_2023_01_11-12_16_11/train/plugins/profile/2023_01_11_12_29_28/c9ea16180903.trace.json.gz\n",
      "2023-01-11 12:29:28.954826: I tensorflow/core/profiler/rpc/client/save_profile.cc:137] Creating directory: ./my_logs/run_2023_01_11-12_16_11/train/plugins/profile/2023_01_11_12_29_28\n",
      "2023-01-11 12:29:28.955377: I tensorflow/core/profiler/rpc/client/save_profile.cc:143] Dumped gzipped tool data for memory_profile.json.gz to ./my_logs/run_2023_01_11-12_16_11/train/plugins/profile/2023_01_11_12_29_28/c9ea16180903.memory_profile.json.gz\n",
      "2023-01-11 12:29:28.955725: I tensorflow/core/profiler/rpc/client/capture_profile.cc:251] Creating directory: ./my_logs/run_2023_01_11-12_16_11/train/plugins/profile/2023_01_11_12_29_28Dumped tool data for xplane.pb to ./my_logs/run_2023_01_11-12_16_11/train/plugins/profile/2023_01_11_12_29_28/c9ea16180903.xplane.pb\n",
      "Dumped tool data for overview_page.pb to ./my_logs/run_2023_01_11-12_16_11/train/plugins/profile/2023_01_11_12_29_28/c9ea16180903.overview_page.pb\n",
      "Dumped tool data for input_pipeline.pb to ./my_logs/run_2023_01_11-12_16_11/train/plugins/profile/2023_01_11_12_29_28/c9ea16180903.input_pipeline.pb\n",
      "Dumped tool data for tensorflow_stats.pb to ./my_logs/run_2023_01_11-12_16_11/train/plugins/profile/2023_01_11_12_29_28/c9ea16180903.tensorflow_stats.pb\n",
      "Dumped tool data for kernel_stats.pb to ./my_logs/run_2023_01_11-12_16_11/train/plugins/profile/2023_01_11_12_29_28/c9ea16180903.kernel_stats.pb\n",
      "\n"
     ]
    },
    {
     "name": "stdout",
     "output_type": "stream",
     "text": [
      "510/510 [==============================] - 3s 5ms/step - loss: 1.0500 - accuracy: 0.7031 - val_loss: 0.3895 - val_accuracy: 0.9284\n",
      "Epoch 2/100\n",
      "510/510 [==============================] - 2s 4ms/step - loss: 0.3447 - accuracy: 0.9343 - val_loss: 0.2504 - val_accuracy: 0.9437\n",
      "Epoch 3/100\n",
      "510/510 [==============================] - 2s 3ms/step - loss: 0.2310 - accuracy: 0.9482 - val_loss: 0.2006 - val_accuracy: 0.9496\n",
      "Epoch 4/100\n",
      "510/510 [==============================] - 2s 3ms/step - loss: 0.1883 - accuracy: 0.9555 - val_loss: 0.1746 - val_accuracy: 0.9544\n",
      "Epoch 5/100\n",
      "510/510 [==============================] - 1s 3ms/step - loss: 0.1654 - accuracy: 0.9574 - val_loss: 0.1591 - val_accuracy: 0.9556\n",
      "Epoch 6/100\n",
      "510/510 [==============================] - 1s 2ms/step - loss: 0.1477 - accuracy: 0.9617 - val_loss: 0.1481 - val_accuracy: 0.9587\n",
      "Epoch 7/100\n",
      "510/510 [==============================] - 1s 2ms/step - loss: 0.1373 - accuracy: 0.9627 - val_loss: 0.1398 - val_accuracy: 0.9601\n",
      "Epoch 8/100\n",
      "510/510 [==============================] - 1s 3ms/step - loss: 0.1245 - accuracy: 0.9675 - val_loss: 0.1343 - val_accuracy: 0.9603\n",
      "Epoch 9/100\n",
      "510/510 [==============================] - 1s 2ms/step - loss: 0.1266 - accuracy: 0.9657 - val_loss: 0.1293 - val_accuracy: 0.9619\n",
      "Epoch 10/100\n",
      "510/510 [==============================] - 1s 2ms/step - loss: 0.1114 - accuracy: 0.9709 - val_loss: 0.1257 - val_accuracy: 0.9621\n",
      "Epoch 11/100\n",
      "510/510 [==============================] - 1s 2ms/step - loss: 0.1112 - accuracy: 0.9695 - val_loss: 0.1229 - val_accuracy: 0.9627\n",
      "Epoch 12/100\n",
      "510/510 [==============================] - 1s 2ms/step - loss: 0.1099 - accuracy: 0.9704 - val_loss: 0.1204 - val_accuracy: 0.9632\n",
      "Epoch 13/100\n",
      "510/510 [==============================] - 1s 2ms/step - loss: 0.1026 - accuracy: 0.9709 - val_loss: 0.1181 - val_accuracy: 0.9647\n",
      "Epoch 14/100\n",
      "510/510 [==============================] - 1s 2ms/step - loss: 0.1057 - accuracy: 0.9691 - val_loss: 0.1162 - val_accuracy: 0.9652\n",
      "Epoch 15/100\n",
      "510/510 [==============================] - 1s 2ms/step - loss: 0.1030 - accuracy: 0.9692 - val_loss: 0.1152 - val_accuracy: 0.9657\n",
      "Epoch 16/100\n",
      "510/510 [==============================] - 1s 2ms/step - loss: 0.0999 - accuracy: 0.9696 - val_loss: 0.1141 - val_accuracy: 0.9666\n",
      "Epoch 17/100\n",
      "510/510 [==============================] - 1s 3ms/step - loss: 0.0998 - accuracy: 0.9698 - val_loss: 0.1126 - val_accuracy: 0.9660\n",
      "Epoch 18/100\n",
      "510/510 [==============================] - 1s 2ms/step - loss: 0.0903 - accuracy: 0.9739 - val_loss: 0.1111 - val_accuracy: 0.9666\n",
      "Epoch 19/100\n",
      "510/510 [==============================] - 1s 2ms/step - loss: 0.0975 - accuracy: 0.9716 - val_loss: 0.1103 - val_accuracy: 0.9663\n",
      "Epoch 20/100\n",
      "510/510 [==============================] - 1s 2ms/step - loss: 0.0932 - accuracy: 0.9727 - val_loss: 0.1098 - val_accuracy: 0.9668\n",
      "Epoch 21/100\n",
      "510/510 [==============================] - 1s 2ms/step - loss: 0.0970 - accuracy: 0.9714 - val_loss: 0.1089 - val_accuracy: 0.9668\n",
      "Epoch 22/100\n",
      "510/510 [==============================] - 1s 2ms/step - loss: 0.0922 - accuracy: 0.9743 - val_loss: 0.1082 - val_accuracy: 0.9665\n",
      "Epoch 23/100\n",
      "510/510 [==============================] - 1s 2ms/step - loss: 0.0963 - accuracy: 0.9707 - val_loss: 0.1078 - val_accuracy: 0.9668\n",
      "Epoch 24/100\n",
      "510/510 [==============================] - 1s 2ms/step - loss: 0.0893 - accuracy: 0.9738 - val_loss: 0.1069 - val_accuracy: 0.9668\n",
      "Epoch 25/100\n",
      "510/510 [==============================] - 1s 2ms/step - loss: 0.0893 - accuracy: 0.9741 - val_loss: 0.1068 - val_accuracy: 0.9670\n",
      "Epoch 26/100\n",
      "510/510 [==============================] - 2s 4ms/step - loss: 0.0921 - accuracy: 0.9725 - val_loss: 0.1061 - val_accuracy: 0.9678\n",
      "Epoch 27/100\n",
      "510/510 [==============================] - 1s 2ms/step - loss: 0.0926 - accuracy: 0.9722 - val_loss: 0.1059 - val_accuracy: 0.9665\n",
      "Epoch 28/100\n",
      "510/510 [==============================] - 1s 2ms/step - loss: 0.0880 - accuracy: 0.9735 - val_loss: 0.1053 - val_accuracy: 0.9663\n",
      "Epoch 29/100\n",
      "510/510 [==============================] - 1s 2ms/step - loss: 0.0902 - accuracy: 0.9750 - val_loss: 0.1057 - val_accuracy: 0.9666\n",
      "Epoch 30/100\n",
      "510/510 [==============================] - 2s 3ms/step - loss: 0.0881 - accuracy: 0.9733 - val_loss: 0.1046 - val_accuracy: 0.9673\n",
      "Epoch 31/100\n",
      "510/510 [==============================] - 2s 3ms/step - loss: 0.0835 - accuracy: 0.9760 - val_loss: 0.1045 - val_accuracy: 0.9666\n",
      "Epoch 32/100\n",
      "510/510 [==============================] - 2s 4ms/step - loss: 0.0826 - accuracy: 0.9767 - val_loss: 0.1048 - val_accuracy: 0.9673\n",
      "Epoch 33/100\n",
      "510/510 [==============================] - 2s 4ms/step - loss: 0.0845 - accuracy: 0.9765 - val_loss: 0.1041 - val_accuracy: 0.9668\n",
      "Epoch 34/100\n",
      "510/510 [==============================] - 1s 2ms/step - loss: 0.0894 - accuracy: 0.9739 - val_loss: 0.1034 - val_accuracy: 0.9670\n",
      "Epoch 35/100\n",
      "510/510 [==============================] - 1s 2ms/step - loss: 0.0873 - accuracy: 0.9752 - val_loss: 0.1035 - val_accuracy: 0.9673\n",
      "Epoch 36/100\n",
      "510/510 [==============================] - 1s 2ms/step - loss: 0.0797 - accuracy: 0.9769 - val_loss: 0.1036 - val_accuracy: 0.9670\n",
      "Epoch 37/100\n",
      "510/510 [==============================] - 1s 2ms/step - loss: 0.0789 - accuracy: 0.9767 - val_loss: 0.1033 - val_accuracy: 0.9678\n",
      "Epoch 38/100\n",
      "510/510 [==============================] - 1s 2ms/step - loss: 0.0855 - accuracy: 0.9764 - val_loss: 0.1027 - val_accuracy: 0.9670\n",
      "Epoch 39/100\n",
      "510/510 [==============================] - 1s 2ms/step - loss: 0.0780 - accuracy: 0.9783 - val_loss: 0.1031 - val_accuracy: 0.9675\n",
      "Epoch 40/100\n",
      "510/510 [==============================] - 1s 2ms/step - loss: 0.0809 - accuracy: 0.9770 - val_loss: 0.1027 - val_accuracy: 0.9671\n",
      "Epoch 41/100\n",
      "510/510 [==============================] - 1s 2ms/step - loss: 0.0828 - accuracy: 0.9753 - val_loss: 0.1027 - val_accuracy: 0.9671\n",
      "Epoch 42/100\n",
      "510/510 [==============================] - 1s 3ms/step - loss: 0.0772 - accuracy: 0.9789 - val_loss: 0.1024 - val_accuracy: 0.9679\n",
      "Epoch 43/100\n",
      "510/510 [==============================] - 1s 2ms/step - loss: 0.0834 - accuracy: 0.9758 - val_loss: 0.1023 - val_accuracy: 0.9676\n",
      "Epoch 44/100\n",
      "510/510 [==============================] - 1s 2ms/step - loss: 0.0789 - accuracy: 0.9759 - val_loss: 0.1025 - val_accuracy: 0.9671\n",
      "Epoch 45/100\n",
      "510/510 [==============================] - 1s 2ms/step - loss: 0.0776 - accuracy: 0.9748 - val_loss: 0.1021 - val_accuracy: 0.9675\n",
      "Epoch 46/100\n",
      "510/510 [==============================] - 1s 2ms/step - loss: 0.0806 - accuracy: 0.9770 - val_loss: 0.1020 - val_accuracy: 0.9678\n",
      "Epoch 47/100\n",
      "510/510 [==============================] - 1s 2ms/step - loss: 0.0864 - accuracy: 0.9736 - val_loss: 0.1021 - val_accuracy: 0.9678\n",
      "Epoch 48/100\n",
      "510/510 [==============================] - 1s 2ms/step - loss: 0.0817 - accuracy: 0.9767 - val_loss: 0.1021 - val_accuracy: 0.9683\n",
      "Epoch 49/100\n",
      "510/510 [==============================] - 1s 2ms/step - loss: 0.0782 - accuracy: 0.9783 - val_loss: 0.1020 - val_accuracy: 0.9681\n",
      "Epoch 50/100\n",
      "510/510 [==============================] - 2s 3ms/step - loss: 0.0786 - accuracy: 0.9779 - val_loss: 0.1016 - val_accuracy: 0.9684\n",
      "Epoch 51/100\n",
      "510/510 [==============================] - 1s 3ms/step - loss: 0.0779 - accuracy: 0.9791 - val_loss: 0.1017 - val_accuracy: 0.9683\n",
      "Epoch 52/100\n",
      "510/510 [==============================] - 1s 2ms/step - loss: 0.0826 - accuracy: 0.9779 - val_loss: 0.1020 - val_accuracy: 0.9676\n",
      "Epoch 53/100\n",
      "510/510 [==============================] - 1s 2ms/step - loss: 0.0828 - accuracy: 0.9763 - val_loss: 0.1017 - val_accuracy: 0.9688\n",
      "Epoch 54/100\n",
      "510/510 [==============================] - 1s 2ms/step - loss: 0.0790 - accuracy: 0.9786 - val_loss: 0.1019 - val_accuracy: 0.9684\n",
      "Epoch 55/100\n",
      "510/510 [==============================] - 1s 2ms/step - loss: 0.0800 - accuracy: 0.9767 - val_loss: 0.1016 - val_accuracy: 0.9686\n",
      "Epoch 56/100\n",
      "510/510 [==============================] - 1s 2ms/step - loss: 0.0779 - accuracy: 0.9780 - val_loss: 0.1017 - val_accuracy: 0.9683\n",
      "Epoch 57/100\n",
      "510/510 [==============================] - 1s 2ms/step - loss: 0.0786 - accuracy: 0.9780 - val_loss: 0.1016 - val_accuracy: 0.9686\n",
      "Epoch 58/100\n",
      "510/510 [==============================] - 1s 2ms/step - loss: 0.0784 - accuracy: 0.9773 - val_loss: 0.1016 - val_accuracy: 0.9689\n",
      "Epoch 59/100\n",
      "510/510 [==============================] - 2s 3ms/step - loss: 0.0741 - accuracy: 0.9785 - val_loss: 0.1016 - val_accuracy: 0.9691\n",
      "Epoch 60/100\n",
      "510/510 [==============================] - 2s 4ms/step - loss: 0.0790 - accuracy: 0.9780 - val_loss: 0.1019 - val_accuracy: 0.9689\n",
      "Epoch 61/100\n",
      "510/510 [==============================] - 2s 4ms/step - loss: 0.0752 - accuracy: 0.9782 - val_loss: 0.1016 - val_accuracy: 0.9692\n",
      "Epoch 62/100\n",
      "510/510 [==============================] - 2s 4ms/step - loss: 0.0747 - accuracy: 0.9796 - val_loss: 0.1017 - val_accuracy: 0.9697\n",
      "Epoch 63/100\n",
      "510/510 [==============================] - 1s 2ms/step - loss: 0.0762 - accuracy: 0.9801 - val_loss: 0.1017 - val_accuracy: 0.9697\n",
      "Epoch 64/100\n",
      "510/510 [==============================] - 1s 2ms/step - loss: 0.0778 - accuracy: 0.9779 - val_loss: 0.1016 - val_accuracy: 0.9692\n",
      "Epoch 65/100\n",
      "510/510 [==============================] - 1s 2ms/step - loss: 0.0703 - accuracy: 0.9804 - val_loss: 0.1017 - val_accuracy: 0.9694\n",
      "Epoch 66/100\n",
      "510/510 [==============================] - 1s 2ms/step - loss: 0.0809 - accuracy: 0.9764 - val_loss: 0.1019 - val_accuracy: 0.9688\n",
      "Epoch 67/100\n",
      "510/510 [==============================] - 1s 3ms/step - loss: 0.0685 - accuracy: 0.9809 - val_loss: 0.1017 - val_accuracy: 0.9696\n",
      "Epoch 68/100\n",
      "510/510 [==============================] - 1s 2ms/step - loss: 0.0737 - accuracy: 0.9789 - val_loss: 0.1020 - val_accuracy: 0.9696\n",
      "Epoch 69/100\n",
      "510/510 [==============================] - 1s 2ms/step - loss: 0.0742 - accuracy: 0.9790 - val_loss: 0.1020 - val_accuracy: 0.9692\n",
      "Epoch 70/100\n",
      "510/510 [==============================] - 1s 2ms/step - loss: 0.0737 - accuracy: 0.9797 - val_loss: 0.1022 - val_accuracy: 0.9692\n",
      "Epoch 71/100\n",
      "510/510 [==============================] - 1s 2ms/step - loss: 0.0722 - accuracy: 0.9793 - val_loss: 0.1020 - val_accuracy: 0.9696\n",
      "Epoch 72/100\n",
      "510/510 [==============================] - 1s 2ms/step - loss: 0.0720 - accuracy: 0.9803 - val_loss: 0.1019 - val_accuracy: 0.9688\n",
      "Epoch 73/100\n",
      "510/510 [==============================] - 1s 2ms/step - loss: 0.0702 - accuracy: 0.9794 - val_loss: 0.1019 - val_accuracy: 0.9696\n",
      "Epoch 74/100\n",
      "510/510 [==============================] - 2s 3ms/step - loss: 0.0740 - accuracy: 0.9788 - val_loss: 0.1019 - val_accuracy: 0.9689\n",
      "255/255 [==============================] - 1s 2ms/step - loss: 0.1143 - accuracy: 0.9675\n",
      "[CV]  n_neurons=28, n_hidden=0, learning_rate=0.00018777478000514062, total= 1.7min\n",
      "[CV] n_neurons=28, n_hidden=0, learning_rate=0.00018777478000514062 ..\n",
      "Epoch 1/100\n",
      "  3/510 [..............................] - ETA: 1:37 - loss: 1.5894 - accuracy: 0.3108"
     ]
    },
    {
     "name": "stderr",
     "output_type": "stream",
     "text": [
      "2023-01-11 12:31:07.596516: I tensorflow/core/profiler/lib/profiler_session.cc:136] Profiler session initializing.\n",
      "2023-01-11 12:31:07.596561: I tensorflow/core/profiler/lib/profiler_session.cc:155] Profiler session started.\n",
      "2023-01-11 12:31:07.814535: I tensorflow/core/profiler/lib/profiler_session.cc:71] Profiler session collecting data.\n",
      "2023-01-11 12:31:07.814775: I tensorflow/core/profiler/internal/gpu/cupti_tracer.cc:1487] CUPTI activity buffer flushed\n",
      "2023-01-11 12:31:07.957724: I tensorflow/core/profiler/internal/gpu/cupti_collector.cc:228]  GpuTracer has collected 64 callback api events and 52 activity events. \n",
      "2023-01-11 12:31:07.960854: I tensorflow/core/profiler/lib/profiler_session.cc:172] Profiler session tear down.\n",
      "2023-01-11 12:31:07.963464: I tensorflow/core/profiler/rpc/client/save_profile.cc:137] Creating directory: ./my_logs/run_2023_01_11-12_16_11/train/plugins/profile/2023_01_11_12_31_07\n",
      "2023-01-11 12:31:07.965200: I tensorflow/core/profiler/rpc/client/save_profile.cc:143] Dumped gzipped tool data for trace.json.gz to ./my_logs/run_2023_01_11-12_16_11/train/plugins/profile/2023_01_11_12_31_07/c9ea16180903.trace.json.gz\n",
      "2023-01-11 12:31:07.968698: I tensorflow/core/profiler/rpc/client/save_profile.cc:137] Creating directory: ./my_logs/run_2023_01_11-12_16_11/train/plugins/profile/2023_01_11_12_31_07\n",
      "2023-01-11 12:31:07.969266: I tensorflow/core/profiler/rpc/client/save_profile.cc:143] Dumped gzipped tool data for memory_profile.json.gz to ./my_logs/run_2023_01_11-12_16_11/train/plugins/profile/2023_01_11_12_31_07/c9ea16180903.memory_profile.json.gz\n",
      "2023-01-11 12:31:07.969597: I tensorflow/core/profiler/rpc/client/capture_profile.cc:251] Creating directory: ./my_logs/run_2023_01_11-12_16_11/train/plugins/profile/2023_01_11_12_31_07Dumped tool data for xplane.pb to ./my_logs/run_2023_01_11-12_16_11/train/plugins/profile/2023_01_11_12_31_07/c9ea16180903.xplane.pb\n",
      "Dumped tool data for overview_page.pb to ./my_logs/run_2023_01_11-12_16_11/train/plugins/profile/2023_01_11_12_31_07/c9ea16180903.overview_page.pb\n",
      "Dumped tool data for input_pipeline.pb to ./my_logs/run_2023_01_11-12_16_11/train/plugins/profile/2023_01_11_12_31_07/c9ea16180903.input_pipeline.pb\n",
      "Dumped tool data for tensorflow_stats.pb to ./my_logs/run_2023_01_11-12_16_11/train/plugins/profile/2023_01_11_12_31_07/c9ea16180903.tensorflow_stats.pb\n",
      "Dumped tool data for kernel_stats.pb to ./my_logs/run_2023_01_11-12_16_11/train/plugins/profile/2023_01_11_12_31_07/c9ea16180903.kernel_stats.pb\n",
      "\n"
     ]
    },
    {
     "name": "stdout",
     "output_type": "stream",
     "text": [
      "510/510 [==============================] - 2s 4ms/step - loss: 1.0724 - accuracy: 0.6655 - val_loss: 0.3958 - val_accuracy: 0.9260\n",
      "Epoch 2/100\n",
      "510/510 [==============================] - 1s 2ms/step - loss: 0.3422 - accuracy: 0.9335 - val_loss: 0.2546 - val_accuracy: 0.9411\n",
      "Epoch 3/100\n",
      "510/510 [==============================] - 1s 2ms/step - loss: 0.2275 - accuracy: 0.9490 - val_loss: 0.2041 - val_accuracy: 0.9486\n",
      "Epoch 4/100\n",
      "510/510 [==============================] - 1s 2ms/step - loss: 0.1895 - accuracy: 0.9548 - val_loss: 0.1778 - val_accuracy: 0.9526\n",
      "Epoch 5/100\n",
      "510/510 [==============================] - 1s 2ms/step - loss: 0.1657 - accuracy: 0.9585 - val_loss: 0.1624 - val_accuracy: 0.9548\n",
      "Epoch 6/100\n",
      "510/510 [==============================] - 1s 2ms/step - loss: 0.1490 - accuracy: 0.9602 - val_loss: 0.1515 - val_accuracy: 0.9564\n",
      "Epoch 7/100\n",
      "510/510 [==============================] - 1s 2ms/step - loss: 0.1366 - accuracy: 0.9649 - val_loss: 0.1432 - val_accuracy: 0.9587\n",
      "Epoch 8/100\n",
      "510/510 [==============================] - 1s 2ms/step - loss: 0.1316 - accuracy: 0.9623 - val_loss: 0.1375 - val_accuracy: 0.9596\n",
      "Epoch 9/100\n",
      "510/510 [==============================] - 1s 2ms/step - loss: 0.1232 - accuracy: 0.9658 - val_loss: 0.1328 - val_accuracy: 0.9603\n",
      "Epoch 10/100\n",
      "510/510 [==============================] - 1s 3ms/step - loss: 0.1176 - accuracy: 0.9676 - val_loss: 0.1295 - val_accuracy: 0.9613\n",
      "Epoch 11/100\n",
      "510/510 [==============================] - 1s 2ms/step - loss: 0.1130 - accuracy: 0.9691 - val_loss: 0.1261 - val_accuracy: 0.9622\n",
      "Epoch 12/100\n",
      "510/510 [==============================] - 1s 2ms/step - loss: 0.1076 - accuracy: 0.9698 - val_loss: 0.1247 - val_accuracy: 0.9622\n",
      "Epoch 13/100\n",
      "510/510 [==============================] - 1s 2ms/step - loss: 0.1106 - accuracy: 0.9684 - val_loss: 0.1217 - val_accuracy: 0.9632\n",
      "Epoch 14/100\n",
      "510/510 [==============================] - 1s 2ms/step - loss: 0.1016 - accuracy: 0.9704 - val_loss: 0.1199 - val_accuracy: 0.9637\n",
      "Epoch 15/100\n",
      "510/510 [==============================] - 1s 2ms/step - loss: 0.1000 - accuracy: 0.9720 - val_loss: 0.1184 - val_accuracy: 0.9644\n",
      "Epoch 16/100\n",
      "510/510 [==============================] - 1s 2ms/step - loss: 0.1056 - accuracy: 0.9709 - val_loss: 0.1178 - val_accuracy: 0.9647\n",
      "Epoch 17/100\n",
      "510/510 [==============================] - 1s 2ms/step - loss: 0.1092 - accuracy: 0.9668 - val_loss: 0.1165 - val_accuracy: 0.9648\n",
      "Epoch 18/100\n",
      "510/510 [==============================] - 1s 2ms/step - loss: 0.1012 - accuracy: 0.9707 - val_loss: 0.1152 - val_accuracy: 0.9657\n",
      "Epoch 19/100\n",
      "510/510 [==============================] - 1s 3ms/step - loss: 0.1030 - accuracy: 0.9723 - val_loss: 0.1143 - val_accuracy: 0.9660\n",
      "Epoch 20/100\n",
      "510/510 [==============================] - 1s 2ms/step - loss: 0.0969 - accuracy: 0.9718 - val_loss: 0.1136 - val_accuracy: 0.9662\n",
      "Epoch 21/100\n",
      "510/510 [==============================] - 1s 2ms/step - loss: 0.0971 - accuracy: 0.9720 - val_loss: 0.1128 - val_accuracy: 0.9658\n",
      "Epoch 22/100\n",
      "510/510 [==============================] - 1s 2ms/step - loss: 0.0937 - accuracy: 0.9730 - val_loss: 0.1119 - val_accuracy: 0.9665\n",
      "Epoch 23/100\n",
      "510/510 [==============================] - 1s 2ms/step - loss: 0.0931 - accuracy: 0.9734 - val_loss: 0.1114 - val_accuracy: 0.9662\n",
      "Epoch 24/100\n",
      "510/510 [==============================] - 2s 3ms/step - loss: 0.0928 - accuracy: 0.9731 - val_loss: 0.1115 - val_accuracy: 0.9657\n",
      "Epoch 25/100\n",
      "510/510 [==============================] - 1s 3ms/step - loss: 0.0955 - accuracy: 0.9722 - val_loss: 0.1106 - val_accuracy: 0.9666\n",
      "Epoch 26/100\n",
      "510/510 [==============================] - 1s 2ms/step - loss: 0.0875 - accuracy: 0.9738 - val_loss: 0.1100 - val_accuracy: 0.9665\n",
      "Epoch 27/100\n",
      "510/510 [==============================] - 1s 2ms/step - loss: 0.0858 - accuracy: 0.9757 - val_loss: 0.1095 - val_accuracy: 0.9676\n",
      "Epoch 28/100\n",
      "510/510 [==============================] - 1s 3ms/step - loss: 0.0926 - accuracy: 0.9738 - val_loss: 0.1090 - val_accuracy: 0.9670\n",
      "Epoch 29/100\n",
      "510/510 [==============================] - 1s 2ms/step - loss: 0.0940 - accuracy: 0.9726 - val_loss: 0.1092 - val_accuracy: 0.9673\n",
      "Epoch 30/100\n",
      "510/510 [==============================] - 1s 2ms/step - loss: 0.0858 - accuracy: 0.9742 - val_loss: 0.1090 - val_accuracy: 0.9663\n",
      "Epoch 31/100\n",
      "510/510 [==============================] - 1s 2ms/step - loss: 0.0887 - accuracy: 0.9736 - val_loss: 0.1086 - val_accuracy: 0.9671\n",
      "Epoch 32/100\n",
      "510/510 [==============================] - 1s 2ms/step - loss: 0.0837 - accuracy: 0.9775 - val_loss: 0.1085 - val_accuracy: 0.9675\n",
      "Epoch 33/100\n",
      "510/510 [==============================] - 1s 2ms/step - loss: 0.0794 - accuracy: 0.9764 - val_loss: 0.1078 - val_accuracy: 0.9676\n",
      "Epoch 34/100\n",
      "510/510 [==============================] - 1s 2ms/step - loss: 0.0859 - accuracy: 0.9760 - val_loss: 0.1078 - val_accuracy: 0.9678\n",
      "Epoch 35/100\n",
      "510/510 [==============================] - 1s 2ms/step - loss: 0.0813 - accuracy: 0.9764 - val_loss: 0.1075 - val_accuracy: 0.9679\n",
      "Epoch 36/100\n",
      "510/510 [==============================] - 1s 2ms/step - loss: 0.0822 - accuracy: 0.9774 - val_loss: 0.1071 - val_accuracy: 0.9683\n",
      "Epoch 37/100\n",
      "510/510 [==============================] - 2s 3ms/step - loss: 0.0872 - accuracy: 0.9754 - val_loss: 0.1070 - val_accuracy: 0.9675\n",
      "Epoch 38/100\n",
      "510/510 [==============================] - 2s 4ms/step - loss: 0.0857 - accuracy: 0.9759 - val_loss: 0.1071 - val_accuracy: 0.9681\n",
      "Epoch 39/100\n",
      "510/510 [==============================] - 2s 4ms/step - loss: 0.0818 - accuracy: 0.9773 - val_loss: 0.1071 - val_accuracy: 0.9676\n",
      "Epoch 40/100\n",
      "510/510 [==============================] - 2s 3ms/step - loss: 0.0861 - accuracy: 0.9737 - val_loss: 0.1070 - val_accuracy: 0.9681\n",
      "Epoch 41/100\n",
      "510/510 [==============================] - 2s 3ms/step - loss: 0.0779 - accuracy: 0.9776 - val_loss: 0.1065 - val_accuracy: 0.9681\n",
      "Epoch 42/100\n",
      "510/510 [==============================] - 1s 2ms/step - loss: 0.0847 - accuracy: 0.9753 - val_loss: 0.1064 - val_accuracy: 0.9683\n",
      "Epoch 43/100\n",
      "510/510 [==============================] - 1s 2ms/step - loss: 0.0814 - accuracy: 0.9765 - val_loss: 0.1065 - val_accuracy: 0.9684\n",
      "Epoch 44/100\n",
      "510/510 [==============================] - 1s 3ms/step - loss: 0.0818 - accuracy: 0.9780 - val_loss: 0.1061 - val_accuracy: 0.9686\n",
      "Epoch 45/100\n",
      "510/510 [==============================] - 1s 2ms/step - loss: 0.0831 - accuracy: 0.9769 - val_loss: 0.1060 - val_accuracy: 0.9686\n",
      "Epoch 46/100\n",
      "510/510 [==============================] - 1s 2ms/step - loss: 0.0804 - accuracy: 0.9768 - val_loss: 0.1057 - val_accuracy: 0.9689\n",
      "Epoch 47/100\n",
      "510/510 [==============================] - 1s 2ms/step - loss: 0.0745 - accuracy: 0.9789 - val_loss: 0.1057 - val_accuracy: 0.9689\n",
      "Epoch 48/100\n",
      "510/510 [==============================] - 2s 3ms/step - loss: 0.0855 - accuracy: 0.9751 - val_loss: 0.1055 - val_accuracy: 0.9684\n",
      "Epoch 49/100\n",
      "510/510 [==============================] - 1s 2ms/step - loss: 0.0798 - accuracy: 0.9793 - val_loss: 0.1059 - val_accuracy: 0.9679\n",
      "Epoch 50/100\n",
      "510/510 [==============================] - 1s 2ms/step - loss: 0.0824 - accuracy: 0.9771 - val_loss: 0.1061 - val_accuracy: 0.9683\n",
      "Epoch 51/100\n",
      "510/510 [==============================] - 1s 2ms/step - loss: 0.0832 - accuracy: 0.9771 - val_loss: 0.1058 - val_accuracy: 0.9683\n",
      "Epoch 52/100\n",
      "510/510 [==============================] - 1s 2ms/step - loss: 0.0787 - accuracy: 0.9785 - val_loss: 0.1055 - val_accuracy: 0.9683\n",
      "Epoch 53/100\n",
      "510/510 [==============================] - 1s 3ms/step - loss: 0.0821 - accuracy: 0.9775 - val_loss: 0.1052 - val_accuracy: 0.9681\n",
      "Epoch 54/100\n",
      "510/510 [==============================] - 1s 2ms/step - loss: 0.0761 - accuracy: 0.9780 - val_loss: 0.1056 - val_accuracy: 0.9683\n",
      "Epoch 55/100\n",
      "510/510 [==============================] - 1s 2ms/step - loss: 0.0717 - accuracy: 0.9793 - val_loss: 0.1051 - val_accuracy: 0.9689\n",
      "Epoch 56/100\n",
      "510/510 [==============================] - 1s 2ms/step - loss: 0.0764 - accuracy: 0.9785 - val_loss: 0.1054 - val_accuracy: 0.9681\n",
      "Epoch 57/100\n",
      "510/510 [==============================] - 1s 2ms/step - loss: 0.0763 - accuracy: 0.9787 - val_loss: 0.1050 - val_accuracy: 0.9681\n",
      "Epoch 58/100\n",
      "510/510 [==============================] - 1s 2ms/step - loss: 0.0772 - accuracy: 0.9781 - val_loss: 0.1053 - val_accuracy: 0.9683\n",
      "Epoch 59/100\n",
      "510/510 [==============================] - 1s 2ms/step - loss: 0.0744 - accuracy: 0.9786 - val_loss: 0.1054 - val_accuracy: 0.9683\n",
      "Epoch 60/100\n",
      "510/510 [==============================] - 1s 2ms/step - loss: 0.0712 - accuracy: 0.9789 - val_loss: 0.1052 - val_accuracy: 0.9689\n",
      "Epoch 61/100\n",
      "510/510 [==============================] - 1s 2ms/step - loss: 0.0732 - accuracy: 0.9796 - val_loss: 0.1052 - val_accuracy: 0.9686\n",
      "Epoch 62/100\n",
      "510/510 [==============================] - 1s 3ms/step - loss: 0.0737 - accuracy: 0.9785 - val_loss: 0.1056 - val_accuracy: 0.9683\n",
      "Epoch 63/100\n",
      "510/510 [==============================] - 1s 2ms/step - loss: 0.0762 - accuracy: 0.9793 - val_loss: 0.1051 - val_accuracy: 0.9679\n",
      "Epoch 64/100\n",
      "510/510 [==============================] - 1s 2ms/step - loss: 0.0725 - accuracy: 0.9799 - val_loss: 0.1053 - val_accuracy: 0.9684\n",
      "Epoch 65/100\n",
      "510/510 [==============================] - 1s 2ms/step - loss: 0.0732 - accuracy: 0.9794 - val_loss: 0.1048 - val_accuracy: 0.9688\n",
      "Epoch 66/100\n",
      "510/510 [==============================] - 1s 2ms/step - loss: 0.0723 - accuracy: 0.9796 - val_loss: 0.1054 - val_accuracy: 0.9681\n",
      "Epoch 67/100\n",
      "510/510 [==============================] - 1s 2ms/step - loss: 0.0747 - accuracy: 0.9796 - val_loss: 0.1053 - val_accuracy: 0.9686\n",
      "Epoch 68/100\n",
      "510/510 [==============================] - 1s 2ms/step - loss: 0.0723 - accuracy: 0.9793 - val_loss: 0.1053 - val_accuracy: 0.9688\n",
      "Epoch 69/100\n",
      "510/510 [==============================] - 1s 2ms/step - loss: 0.0725 - accuracy: 0.9803 - val_loss: 0.1052 - val_accuracy: 0.9678\n",
      "Epoch 70/100\n",
      "510/510 [==============================] - 1s 2ms/step - loss: 0.0750 - accuracy: 0.9800 - val_loss: 0.1055 - val_accuracy: 0.9683\n",
      "Epoch 71/100\n",
      "510/510 [==============================] - 1s 2ms/step - loss: 0.0721 - accuracy: 0.9809 - val_loss: 0.1051 - val_accuracy: 0.9684\n",
      "Epoch 72/100\n",
      "510/510 [==============================] - 1s 3ms/step - loss: 0.0748 - accuracy: 0.9804 - val_loss: 0.1054 - val_accuracy: 0.9688\n",
      "Epoch 73/100\n",
      "510/510 [==============================] - 1s 3ms/step - loss: 0.0675 - accuracy: 0.9811 - val_loss: 0.1051 - val_accuracy: 0.9681\n",
      "Epoch 74/100\n",
      "510/510 [==============================] - 1s 3ms/step - loss: 0.0699 - accuracy: 0.9807 - val_loss: 0.1055 - val_accuracy: 0.9681\n",
      "Epoch 75/100\n",
      "510/510 [==============================] - 1s 2ms/step - loss: 0.0688 - accuracy: 0.9810 - val_loss: 0.1053 - val_accuracy: 0.9678\n",
      "255/255 [==============================] - 1s 2ms/step - loss: 0.1143 - accuracy: 0.9664\n",
      "[CV]  n_neurons=28, n_hidden=0, learning_rate=0.00018777478000514062, total= 1.6min\n",
      "[CV] n_neurons=28, n_hidden=0, learning_rate=0.00018777478000514062 ..\n",
      "Epoch 1/100\n",
      "  3/510 [..............................] - ETA: 1:40 - loss: 1.6623 - accuracy: 0.2899"
     ]
    },
    {
     "name": "stderr",
     "output_type": "stream",
     "text": [
      "2023-01-11 12:32:42.898625: I tensorflow/core/profiler/lib/profiler_session.cc:136] Profiler session initializing.\n",
      "2023-01-11 12:32:42.898670: I tensorflow/core/profiler/lib/profiler_session.cc:155] Profiler session started.\n",
      "2023-01-11 12:32:43.129625: I tensorflow/core/profiler/lib/profiler_session.cc:71] Profiler session collecting data.\n",
      "2023-01-11 12:32:43.129835: I tensorflow/core/profiler/internal/gpu/cupti_tracer.cc:1487] CUPTI activity buffer flushed\n",
      "2023-01-11 12:32:43.272087: I tensorflow/core/profiler/internal/gpu/cupti_collector.cc:228]  GpuTracer has collected 64 callback api events and 52 activity events. \n",
      "2023-01-11 12:32:43.275294: I tensorflow/core/profiler/lib/profiler_session.cc:172] Profiler session tear down.\n",
      "2023-01-11 12:32:43.277804: I tensorflow/core/profiler/rpc/client/save_profile.cc:137] Creating directory: ./my_logs/run_2023_01_11-12_16_11/train/plugins/profile/2023_01_11_12_32_43\n",
      "2023-01-11 12:32:43.279575: I tensorflow/core/profiler/rpc/client/save_profile.cc:143] Dumped gzipped tool data for trace.json.gz to ./my_logs/run_2023_01_11-12_16_11/train/plugins/profile/2023_01_11_12_32_43/c9ea16180903.trace.json.gz\n",
      "2023-01-11 12:32:43.282959: I tensorflow/core/profiler/rpc/client/save_profile.cc:137] Creating directory: ./my_logs/run_2023_01_11-12_16_11/train/plugins/profile/2023_01_11_12_32_43\n",
      "2023-01-11 12:32:43.283517: I tensorflow/core/profiler/rpc/client/save_profile.cc:143] Dumped gzipped tool data for memory_profile.json.gz to ./my_logs/run_2023_01_11-12_16_11/train/plugins/profile/2023_01_11_12_32_43/c9ea16180903.memory_profile.json.gz\n",
      "2023-01-11 12:32:43.283850: I tensorflow/core/profiler/rpc/client/capture_profile.cc:251] Creating directory: ./my_logs/run_2023_01_11-12_16_11/train/plugins/profile/2023_01_11_12_32_43Dumped tool data for xplane.pb to ./my_logs/run_2023_01_11-12_16_11/train/plugins/profile/2023_01_11_12_32_43/c9ea16180903.xplane.pb\n",
      "Dumped tool data for overview_page.pb to ./my_logs/run_2023_01_11-12_16_11/train/plugins/profile/2023_01_11_12_32_43/c9ea16180903.overview_page.pb\n",
      "Dumped tool data for input_pipeline.pb to ./my_logs/run_2023_01_11-12_16_11/train/plugins/profile/2023_01_11_12_32_43/c9ea16180903.input_pipeline.pb\n",
      "Dumped tool data for tensorflow_stats.pb to ./my_logs/run_2023_01_11-12_16_11/train/plugins/profile/2023_01_11_12_32_43/c9ea16180903.tensorflow_stats.pb\n",
      "Dumped tool data for kernel_stats.pb to ./my_logs/run_2023_01_11-12_16_11/train/plugins/profile/2023_01_11_12_32_43/c9ea16180903.kernel_stats.pb\n",
      "\n"
     ]
    },
    {
     "name": "stdout",
     "output_type": "stream",
     "text": [
      "510/510 [==============================] - 2s 3ms/step - loss: 1.1112 - accuracy: 0.6415 - val_loss: 0.4042 - val_accuracy: 0.9260\n",
      "Epoch 2/100\n",
      "510/510 [==============================] - 1s 2ms/step - loss: 0.3643 - accuracy: 0.9330 - val_loss: 0.2567 - val_accuracy: 0.9417\n",
      "Epoch 3/100\n",
      "510/510 [==============================] - 1s 2ms/step - loss: 0.2477 - accuracy: 0.9447 - val_loss: 0.2046 - val_accuracy: 0.9497\n",
      "Epoch 4/100\n",
      "510/510 [==============================] - 1s 3ms/step - loss: 0.2011 - accuracy: 0.9524 - val_loss: 0.1778 - val_accuracy: 0.9528\n",
      "Epoch 5/100\n",
      "510/510 [==============================] - 1s 2ms/step - loss: 0.1775 - accuracy: 0.9568 - val_loss: 0.1607 - val_accuracy: 0.9575\n",
      "Epoch 6/100\n",
      "510/510 [==============================] - 1s 2ms/step - loss: 0.1607 - accuracy: 0.9568 - val_loss: 0.1494 - val_accuracy: 0.9598\n",
      "Epoch 7/100\n",
      "510/510 [==============================] - 1s 2ms/step - loss: 0.1478 - accuracy: 0.9599 - val_loss: 0.1411 - val_accuracy: 0.9619\n",
      "Epoch 8/100\n",
      "510/510 [==============================] - 1s 2ms/step - loss: 0.1410 - accuracy: 0.9596 - val_loss: 0.1353 - val_accuracy: 0.9631\n",
      "Epoch 9/100\n",
      "510/510 [==============================] - 1s 2ms/step - loss: 0.1379 - accuracy: 0.9620 - val_loss: 0.1305 - val_accuracy: 0.9639\n",
      "Epoch 10/100\n",
      "510/510 [==============================] - 1s 2ms/step - loss: 0.1238 - accuracy: 0.9665 - val_loss: 0.1271 - val_accuracy: 0.9644\n",
      "Epoch 11/100\n",
      "510/510 [==============================] - 1s 2ms/step - loss: 0.1238 - accuracy: 0.9643 - val_loss: 0.1241 - val_accuracy: 0.9653\n",
      "Epoch 12/100\n",
      "510/510 [==============================] - 1s 2ms/step - loss: 0.1216 - accuracy: 0.9649 - val_loss: 0.1219 - val_accuracy: 0.9658\n",
      "Epoch 13/100\n",
      "510/510 [==============================] - 1s 3ms/step - loss: 0.1251 - accuracy: 0.9642 - val_loss: 0.1196 - val_accuracy: 0.9663\n",
      "Epoch 14/100\n",
      "510/510 [==============================] - 1s 2ms/step - loss: 0.1112 - accuracy: 0.9689 - val_loss: 0.1180 - val_accuracy: 0.9668\n",
      "Epoch 15/100\n",
      "510/510 [==============================] - 2s 3ms/step - loss: 0.1138 - accuracy: 0.9693 - val_loss: 0.1164 - val_accuracy: 0.9671\n",
      "Epoch 16/100\n",
      "510/510 [==============================] - 2s 3ms/step - loss: 0.1084 - accuracy: 0.9686 - val_loss: 0.1157 - val_accuracy: 0.9673\n",
      "Epoch 17/100\n",
      "510/510 [==============================] - 2s 3ms/step - loss: 0.1123 - accuracy: 0.9665 - val_loss: 0.1147 - val_accuracy: 0.9670\n",
      "Epoch 18/100\n",
      "510/510 [==============================] - 2s 3ms/step - loss: 0.1102 - accuracy: 0.9681 - val_loss: 0.1141 - val_accuracy: 0.9675\n",
      "Epoch 19/100\n",
      "510/510 [==============================] - 2s 3ms/step - loss: 0.1140 - accuracy: 0.9669 - val_loss: 0.1131 - val_accuracy: 0.9679\n",
      "Epoch 20/100\n",
      "510/510 [==============================] - 1s 3ms/step - loss: 0.1057 - accuracy: 0.9679 - val_loss: 0.1120 - val_accuracy: 0.9678\n",
      "Epoch 21/100\n",
      "510/510 [==============================] - 2s 4ms/step - loss: 0.1100 - accuracy: 0.9666 - val_loss: 0.1115 - val_accuracy: 0.9684\n",
      "Epoch 22/100\n",
      "510/510 [==============================] - 1s 2ms/step - loss: 0.1065 - accuracy: 0.9682 - val_loss: 0.1106 - val_accuracy: 0.9683\n",
      "Epoch 23/100\n",
      "510/510 [==============================] - 1s 2ms/step - loss: 0.0970 - accuracy: 0.9724 - val_loss: 0.1101 - val_accuracy: 0.9681\n",
      "Epoch 24/100\n",
      "510/510 [==============================] - 1s 2ms/step - loss: 0.1040 - accuracy: 0.9682 - val_loss: 0.1102 - val_accuracy: 0.9679\n",
      "Epoch 25/100\n",
      "510/510 [==============================] - 1s 2ms/step - loss: 0.1000 - accuracy: 0.9703 - val_loss: 0.1095 - val_accuracy: 0.9681\n",
      "Epoch 26/100\n",
      "510/510 [==============================] - 1s 2ms/step - loss: 0.0966 - accuracy: 0.9698 - val_loss: 0.1093 - val_accuracy: 0.9683\n",
      "Epoch 27/100\n",
      "510/510 [==============================] - 1s 2ms/step - loss: 0.1028 - accuracy: 0.9713 - val_loss: 0.1089 - val_accuracy: 0.9684\n",
      "Epoch 28/100\n",
      "510/510 [==============================] - 1s 2ms/step - loss: 0.0989 - accuracy: 0.9715 - val_loss: 0.1083 - val_accuracy: 0.9689\n",
      "Epoch 29/100\n",
      "510/510 [==============================] - 1s 3ms/step - loss: 0.1000 - accuracy: 0.9705 - val_loss: 0.1085 - val_accuracy: 0.9686\n",
      "Epoch 30/100\n",
      "510/510 [==============================] - 1s 2ms/step - loss: 0.0972 - accuracy: 0.9715 - val_loss: 0.1082 - val_accuracy: 0.9689\n",
      "Epoch 31/100\n",
      "510/510 [==============================] - 1s 2ms/step - loss: 0.0940 - accuracy: 0.9726 - val_loss: 0.1077 - val_accuracy: 0.9683\n",
      "Epoch 32/100\n",
      "510/510 [==============================] - 1s 2ms/step - loss: 0.0953 - accuracy: 0.9712 - val_loss: 0.1075 - val_accuracy: 0.9686\n",
      "Epoch 33/100\n",
      "510/510 [==============================] - 1s 2ms/step - loss: 0.0903 - accuracy: 0.9730 - val_loss: 0.1074 - val_accuracy: 0.9686\n",
      "Epoch 34/100\n",
      "510/510 [==============================] - 1s 2ms/step - loss: 0.0924 - accuracy: 0.9730 - val_loss: 0.1075 - val_accuracy: 0.9686\n",
      "Epoch 35/100\n",
      "510/510 [==============================] - 1s 2ms/step - loss: 0.0906 - accuracy: 0.9756 - val_loss: 0.1073 - val_accuracy: 0.9686\n",
      "Epoch 36/100\n",
      "510/510 [==============================] - 1s 2ms/step - loss: 0.0990 - accuracy: 0.9733 - val_loss: 0.1072 - val_accuracy: 0.9684\n",
      "Epoch 37/100\n",
      "510/510 [==============================] - 1s 2ms/step - loss: 0.0962 - accuracy: 0.9709 - val_loss: 0.1074 - val_accuracy: 0.9681\n",
      "Epoch 38/100\n",
      "510/510 [==============================] - 1s 3ms/step - loss: 0.0918 - accuracy: 0.9732 - val_loss: 0.1070 - val_accuracy: 0.9678\n",
      "Epoch 39/100\n",
      "510/510 [==============================] - 1s 2ms/step - loss: 0.0958 - accuracy: 0.9707 - val_loss: 0.1068 - val_accuracy: 0.9681\n",
      "Epoch 40/100\n",
      "510/510 [==============================] - 1s 2ms/step - loss: 0.0947 - accuracy: 0.9719 - val_loss: 0.1072 - val_accuracy: 0.9670\n",
      "Epoch 41/100\n",
      "510/510 [==============================] - 1s 2ms/step - loss: 0.0889 - accuracy: 0.9741 - val_loss: 0.1072 - val_accuracy: 0.9686\n",
      "Epoch 42/100\n",
      "510/510 [==============================] - 1s 2ms/step - loss: 0.0975 - accuracy: 0.9727 - val_loss: 0.1066 - val_accuracy: 0.9683\n",
      "Epoch 43/100\n",
      "510/510 [==============================] - 1s 2ms/step - loss: 0.0881 - accuracy: 0.9750 - val_loss: 0.1064 - val_accuracy: 0.9683\n",
      "Epoch 44/100\n",
      "510/510 [==============================] - 1s 2ms/step - loss: 0.0961 - accuracy: 0.9718 - val_loss: 0.1062 - val_accuracy: 0.9688\n",
      "Epoch 45/100\n",
      "510/510 [==============================] - 1s 2ms/step - loss: 0.0915 - accuracy: 0.9734 - val_loss: 0.1062 - val_accuracy: 0.9684\n",
      "Epoch 46/100\n",
      "510/510 [==============================] - 1s 2ms/step - loss: 0.0891 - accuracy: 0.9739 - val_loss: 0.1061 - val_accuracy: 0.9684\n",
      "Epoch 47/100\n",
      "510/510 [==============================] - 2s 3ms/step - loss: 0.0911 - accuracy: 0.9733 - val_loss: 0.1061 - val_accuracy: 0.9684\n",
      "Epoch 48/100\n",
      "510/510 [==============================] - 1s 2ms/step - loss: 0.0934 - accuracy: 0.9725 - val_loss: 0.1063 - val_accuracy: 0.9678\n",
      "Epoch 49/100\n",
      "510/510 [==============================] - 1s 2ms/step - loss: 0.0908 - accuracy: 0.9753 - val_loss: 0.1067 - val_accuracy: 0.9678\n",
      "Epoch 50/100\n",
      "510/510 [==============================] - 1s 2ms/step - loss: 0.0906 - accuracy: 0.9751 - val_loss: 0.1064 - val_accuracy: 0.9678\n",
      "Epoch 51/100\n",
      "510/510 [==============================] - 1s 2ms/step - loss: 0.0896 - accuracy: 0.9744 - val_loss: 0.1062 - val_accuracy: 0.9679\n",
      "Epoch 52/100\n",
      "510/510 [==============================] - 1s 2ms/step - loss: 0.0855 - accuracy: 0.9745 - val_loss: 0.1066 - val_accuracy: 0.9673\n",
      "Epoch 53/100\n",
      "510/510 [==============================] - 1s 2ms/step - loss: 0.0886 - accuracy: 0.9752 - val_loss: 0.1064 - val_accuracy: 0.9676\n",
      "Epoch 54/100\n",
      "510/510 [==============================] - 1s 2ms/step - loss: 0.0934 - accuracy: 0.9741 - val_loss: 0.1063 - val_accuracy: 0.9683\n",
      "Epoch 55/100\n",
      "510/510 [==============================] - 1s 2ms/step - loss: 0.0840 - accuracy: 0.9750 - val_loss: 0.1062 - val_accuracy: 0.9686\n",
      "Epoch 56/100\n",
      "510/510 [==============================] - 1s 2ms/step - loss: 0.0816 - accuracy: 0.9768 - val_loss: 0.1064 - val_accuracy: 0.9676\n",
      "255/255 [==============================] - 1s 3ms/step - loss: 0.0956 - accuracy: 0.9729\n",
      "[CV]  n_neurons=28, n_hidden=0, learning_rate=0.00018777478000514062, total= 1.2min\n",
      "[CV] n_neurons=88, n_hidden=2, learning_rate=0.0005935682912014685 ...\n",
      "Epoch 1/100\n",
      "  3/510 [..............................] - ETA: 1:43 - loss: 1.4250 - accuracy: 0.4132"
     ]
    },
    {
     "name": "stderr",
     "output_type": "stream",
     "text": [
      "2023-01-11 12:33:54.594602: I tensorflow/core/profiler/lib/profiler_session.cc:136] Profiler session initializing.\n",
      "2023-01-11 12:33:54.594647: I tensorflow/core/profiler/lib/profiler_session.cc:155] Profiler session started.\n",
      "2023-01-11 12:33:54.829909: I tensorflow/core/profiler/lib/profiler_session.cc:71] Profiler session collecting data.\n",
      "2023-01-11 12:33:54.830164: I tensorflow/core/profiler/internal/gpu/cupti_tracer.cc:1487] CUPTI activity buffer flushed\n",
      "2023-01-11 12:33:54.972249: I tensorflow/core/profiler/internal/gpu/cupti_collector.cc:228]  GpuTracer has collected 83 callback api events and 71 activity events. \n",
      "2023-01-11 12:33:54.976056: I tensorflow/core/profiler/lib/profiler_session.cc:172] Profiler session tear down.\n",
      "2023-01-11 12:33:54.979481: I tensorflow/core/profiler/rpc/client/save_profile.cc:137] Creating directory: ./my_logs/run_2023_01_11-12_16_11/train/plugins/profile/2023_01_11_12_33_54\n",
      "2023-01-11 12:33:54.981835: I tensorflow/core/profiler/rpc/client/save_profile.cc:143] Dumped gzipped tool data for trace.json.gz to ./my_logs/run_2023_01_11-12_16_11/train/plugins/profile/2023_01_11_12_33_54/c9ea16180903.trace.json.gz\n",
      "2023-01-11 12:33:54.985811: I tensorflow/core/profiler/rpc/client/save_profile.cc:137] Creating directory: ./my_logs/run_2023_01_11-12_16_11/train/plugins/profile/2023_01_11_12_33_54\n",
      "2023-01-11 12:33:54.986659: I tensorflow/core/profiler/rpc/client/save_profile.cc:143] Dumped gzipped tool data for memory_profile.json.gz to ./my_logs/run_2023_01_11-12_16_11/train/plugins/profile/2023_01_11_12_33_54/c9ea16180903.memory_profile.json.gz\n",
      "2023-01-11 12:33:54.987091: I tensorflow/core/profiler/rpc/client/capture_profile.cc:251] Creating directory: ./my_logs/run_2023_01_11-12_16_11/train/plugins/profile/2023_01_11_12_33_54Dumped tool data for xplane.pb to ./my_logs/run_2023_01_11-12_16_11/train/plugins/profile/2023_01_11_12_33_54/c9ea16180903.xplane.pb\n",
      "Dumped tool data for overview_page.pb to ./my_logs/run_2023_01_11-12_16_11/train/plugins/profile/2023_01_11_12_33_54/c9ea16180903.overview_page.pb\n",
      "Dumped tool data for input_pipeline.pb to ./my_logs/run_2023_01_11-12_16_11/train/plugins/profile/2023_01_11_12_33_54/c9ea16180903.input_pipeline.pb\n",
      "Dumped tool data for tensorflow_stats.pb to ./my_logs/run_2023_01_11-12_16_11/train/plugins/profile/2023_01_11_12_33_54/c9ea16180903.tensorflow_stats.pb\n",
      "Dumped tool data for kernel_stats.pb to ./my_logs/run_2023_01_11-12_16_11/train/plugins/profile/2023_01_11_12_33_54/c9ea16180903.kernel_stats.pb\n",
      "\n"
     ]
    },
    {
     "name": "stdout",
     "output_type": "stream",
     "text": [
      "510/510 [==============================] - 2s 4ms/step - loss: 0.2695 - accuracy: 0.9203 - val_loss: 0.0986 - val_accuracy: 0.9699\n",
      "Epoch 2/100\n",
      "510/510 [==============================] - 1s 3ms/step - loss: 0.0855 - accuracy: 0.9748 - val_loss: 0.0787 - val_accuracy: 0.9758\n",
      "Epoch 3/100\n",
      "510/510 [==============================] - 1s 3ms/step - loss: 0.0539 - accuracy: 0.9836 - val_loss: 0.0761 - val_accuracy: 0.9753\n",
      "Epoch 4/100\n",
      "510/510 [==============================] - 1s 3ms/step - loss: 0.0451 - accuracy: 0.9868 - val_loss: 0.0585 - val_accuracy: 0.9813\n",
      "Epoch 5/100\n",
      "510/510 [==============================] - 1s 3ms/step - loss: 0.0299 - accuracy: 0.9905 - val_loss: 0.0682 - val_accuracy: 0.9779\n",
      "Epoch 6/100\n",
      "510/510 [==============================] - 1s 3ms/step - loss: 0.0236 - accuracy: 0.9934 - val_loss: 0.0619 - val_accuracy: 0.9811\n",
      "Epoch 7/100\n",
      "510/510 [==============================] - 1s 3ms/step - loss: 0.0168 - accuracy: 0.9940 - val_loss: 0.0534 - val_accuracy: 0.9831\n",
      "Epoch 8/100\n",
      "510/510 [==============================] - 1s 3ms/step - loss: 0.0128 - accuracy: 0.9962 - val_loss: 0.0582 - val_accuracy: 0.9821\n",
      "Epoch 9/100\n",
      "510/510 [==============================] - 1s 3ms/step - loss: 0.0101 - accuracy: 0.9976 - val_loss: 0.0700 - val_accuracy: 0.9793\n",
      "Epoch 10/100\n",
      "510/510 [==============================] - 2s 3ms/step - loss: 0.0079 - accuracy: 0.9975 - val_loss: 0.0520 - val_accuracy: 0.9844\n",
      "Epoch 11/100\n",
      "510/510 [==============================] - 2s 4ms/step - loss: 0.0037 - accuracy: 0.9993 - val_loss: 0.0624 - val_accuracy: 0.9816\n",
      "Epoch 12/100\n",
      "510/510 [==============================] - 2s 5ms/step - loss: 0.0047 - accuracy: 0.9986 - val_loss: 0.0600 - val_accuracy: 0.9850\n",
      "Epoch 13/100\n",
      "510/510 [==============================] - 2s 4ms/step - loss: 0.0012 - accuracy: 0.9999 - val_loss: 0.0708 - val_accuracy: 0.9828\n",
      "Epoch 14/100\n",
      "510/510 [==============================] - 2s 4ms/step - loss: 0.0027 - accuracy: 0.9996 - val_loss: 0.0697 - val_accuracy: 0.9834\n",
      "Epoch 15/100\n",
      "510/510 [==============================] - 2s 3ms/step - loss: 0.0111 - accuracy: 0.9959 - val_loss: 0.0597 - val_accuracy: 0.9847\n",
      "Epoch 16/100\n",
      "510/510 [==============================] - 1s 3ms/step - loss: 0.0019 - accuracy: 0.9994 - val_loss: 0.0562 - val_accuracy: 0.9862\n",
      "Epoch 17/100\n",
      "510/510 [==============================] - 1s 3ms/step - loss: 0.0024 - accuracy: 0.9992 - val_loss: 0.0752 - val_accuracy: 0.9832\n",
      "Epoch 18/100\n",
      "510/510 [==============================] - 1s 3ms/step - loss: 0.0023 - accuracy: 0.9995 - val_loss: 0.0585 - val_accuracy: 0.9850\n",
      "Epoch 19/100\n",
      "510/510 [==============================] - 1s 3ms/step - loss: 4.4466e-04 - accuracy: 1.0000 - val_loss: 0.0571 - val_accuracy: 0.9867\n",
      "Epoch 20/100\n",
      "510/510 [==============================] - 1s 3ms/step - loss: 2.2449e-04 - accuracy: 1.0000 - val_loss: 0.0578 - val_accuracy: 0.9870\n",
      "255/255 [==============================] - 1s 2ms/step - loss: 0.0570 - accuracy: 0.9890\n",
      "[CV]  n_neurons=88, n_hidden=2, learning_rate=0.0005935682912014685, total=  33.4s\n",
      "[CV] n_neurons=88, n_hidden=2, learning_rate=0.0005935682912014685 ...\n",
      "Epoch 1/100\n",
      "  2/510 [..............................] - ETA: 1:51 - loss: 1.7043 - accuracy: 0.2891"
     ]
    },
    {
     "name": "stderr",
     "output_type": "stream",
     "text": [
      "2023-01-11 12:34:27.978715: I tensorflow/core/profiler/lib/profiler_session.cc:136] Profiler session initializing.\n",
      "2023-01-11 12:34:27.978764: I tensorflow/core/profiler/lib/profiler_session.cc:155] Profiler session started.\n",
      "2023-01-11 12:34:28.224569: I tensorflow/core/profiler/lib/profiler_session.cc:71] Profiler session collecting data.\n",
      "2023-01-11 12:34:28.224808: I tensorflow/core/profiler/internal/gpu/cupti_tracer.cc:1487] CUPTI activity buffer flushed\n",
      "2023-01-11 12:34:28.366344: I tensorflow/core/profiler/internal/gpu/cupti_collector.cc:228]  GpuTracer has collected 83 callback api events and 71 activity events. \n",
      "2023-01-11 12:34:28.370305: I tensorflow/core/profiler/lib/profiler_session.cc:172] Profiler session tear down.\n",
      "2023-01-11 12:34:28.373610: I tensorflow/core/profiler/rpc/client/save_profile.cc:137] Creating directory: ./my_logs/run_2023_01_11-12_16_11/train/plugins/profile/2023_01_11_12_34_28\n",
      "2023-01-11 12:34:28.375813: I tensorflow/core/profiler/rpc/client/save_profile.cc:143] Dumped gzipped tool data for trace.json.gz to ./my_logs/run_2023_01_11-12_16_11/train/plugins/profile/2023_01_11_12_34_28/c9ea16180903.trace.json.gz\n",
      "2023-01-11 12:34:28.379880: I tensorflow/core/profiler/rpc/client/save_profile.cc:137] Creating directory: ./my_logs/run_2023_01_11-12_16_11/train/plugins/profile/2023_01_11_12_34_28\n",
      "2023-01-11 12:34:28.380560: I tensorflow/core/profiler/rpc/client/save_profile.cc:143] Dumped gzipped tool data for memory_profile.json.gz to ./my_logs/run_2023_01_11-12_16_11/train/plugins/profile/2023_01_11_12_34_28/c9ea16180903.memory_profile.json.gz\n",
      "2023-01-11 12:34:28.380929: I tensorflow/core/profiler/rpc/client/capture_profile.cc:251] Creating directory: ./my_logs/run_2023_01_11-12_16_11/train/plugins/profile/2023_01_11_12_34_28Dumped tool data for xplane.pb to ./my_logs/run_2023_01_11-12_16_11/train/plugins/profile/2023_01_11_12_34_28/c9ea16180903.xplane.pb\n",
      "Dumped tool data for overview_page.pb to ./my_logs/run_2023_01_11-12_16_11/train/plugins/profile/2023_01_11_12_34_28/c9ea16180903.overview_page.pb\n",
      "Dumped tool data for input_pipeline.pb to ./my_logs/run_2023_01_11-12_16_11/train/plugins/profile/2023_01_11_12_34_28/c9ea16180903.input_pipeline.pb\n",
      "Dumped tool data for tensorflow_stats.pb to ./my_logs/run_2023_01_11-12_16_11/train/plugins/profile/2023_01_11_12_34_28/c9ea16180903.tensorflow_stats.pb\n",
      "Dumped tool data for kernel_stats.pb to ./my_logs/run_2023_01_11-12_16_11/train/plugins/profile/2023_01_11_12_34_28/c9ea16180903.kernel_stats.pb\n",
      "\n"
     ]
    },
    {
     "name": "stdout",
     "output_type": "stream",
     "text": [
      "510/510 [==============================] - 2s 4ms/step - loss: 0.2928 - accuracy: 0.9070 - val_loss: 0.1036 - val_accuracy: 0.9660\n",
      "Epoch 2/100\n",
      "510/510 [==============================] - 1s 3ms/step - loss: 0.0805 - accuracy: 0.9753 - val_loss: 0.0787 - val_accuracy: 0.9754\n",
      "Epoch 3/100\n",
      "510/510 [==============================] - 1s 3ms/step - loss: 0.0529 - accuracy: 0.9838 - val_loss: 0.0745 - val_accuracy: 0.9762\n",
      "Epoch 4/100\n",
      "510/510 [==============================] - 1s 3ms/step - loss: 0.0424 - accuracy: 0.9865 - val_loss: 0.0771 - val_accuracy: 0.9762\n",
      "Epoch 5/100\n",
      "510/510 [==============================] - 1s 3ms/step - loss: 0.0326 - accuracy: 0.9901 - val_loss: 0.0687 - val_accuracy: 0.9774\n",
      "Epoch 6/100\n",
      "510/510 [==============================] - 1s 3ms/step - loss: 0.0217 - accuracy: 0.9948 - val_loss: 0.0506 - val_accuracy: 0.9834\n",
      "Epoch 7/100\n",
      "510/510 [==============================] - 2s 3ms/step - loss: 0.0155 - accuracy: 0.9955 - val_loss: 0.0613 - val_accuracy: 0.9808\n",
      "Epoch 8/100\n",
      "510/510 [==============================] - 1s 3ms/step - loss: 0.0143 - accuracy: 0.9958 - val_loss: 0.0518 - val_accuracy: 0.9855\n",
      "Epoch 9/100\n",
      "510/510 [==============================] - 1s 3ms/step - loss: 0.0102 - accuracy: 0.9975 - val_loss: 0.0635 - val_accuracy: 0.9814\n",
      "Epoch 10/100\n",
      "510/510 [==============================] - 1s 3ms/step - loss: 0.0074 - accuracy: 0.9976 - val_loss: 0.0713 - val_accuracy: 0.9805\n",
      "Epoch 11/100\n",
      "510/510 [==============================] - 1s 3ms/step - loss: 0.0054 - accuracy: 0.9986 - val_loss: 0.0524 - val_accuracy: 0.9849\n",
      "Epoch 12/100\n",
      "510/510 [==============================] - 2s 4ms/step - loss: 0.0023 - accuracy: 0.9996 - val_loss: 0.0702 - val_accuracy: 0.9819\n",
      "Epoch 13/100\n",
      "510/510 [==============================] - 1s 3ms/step - loss: 0.0023 - accuracy: 0.9994 - val_loss: 0.0548 - val_accuracy: 0.9847\n",
      "Epoch 14/100\n",
      "510/510 [==============================] - 1s 3ms/step - loss: 0.0053 - accuracy: 0.9979 - val_loss: 0.0624 - val_accuracy: 0.9841\n",
      "Epoch 15/100\n",
      "510/510 [==============================] - 2s 3ms/step - loss: 0.0056 - accuracy: 0.9983 - val_loss: 0.0719 - val_accuracy: 0.9842\n",
      "Epoch 16/100\n",
      "510/510 [==============================] - 1s 3ms/step - loss: 0.0047 - accuracy: 0.9987 - val_loss: 0.0759 - val_accuracy: 0.9832\n",
      "255/255 [==============================] - 1s 2ms/step - loss: 0.0854 - accuracy: 0.9799\n",
      "[CV]  n_neurons=88, n_hidden=2, learning_rate=0.0005935682912014685, total=  24.4s\n",
      "[CV] n_neurons=88, n_hidden=2, learning_rate=0.0005935682912014685 ...\n",
      "Epoch 1/100\n",
      "  3/510 [..............................] - ETA: 1:42 - loss: 1.7426 - accuracy: 0.1701"
     ]
    },
    {
     "name": "stderr",
     "output_type": "stream",
     "text": [
      "2023-01-11 12:34:52.383478: I tensorflow/core/profiler/lib/profiler_session.cc:136] Profiler session initializing.\n",
      "2023-01-11 12:34:52.383526: I tensorflow/core/profiler/lib/profiler_session.cc:155] Profiler session started.\n",
      "2023-01-11 12:34:52.618801: I tensorflow/core/profiler/lib/profiler_session.cc:71] Profiler session collecting data.\n",
      "2023-01-11 12:34:52.619063: I tensorflow/core/profiler/internal/gpu/cupti_tracer.cc:1487] CUPTI activity buffer flushed\n",
      "2023-01-11 12:34:52.761631: I tensorflow/core/profiler/internal/gpu/cupti_collector.cc:228]  GpuTracer has collected 83 callback api events and 71 activity events. \n",
      "2023-01-11 12:34:52.765306: I tensorflow/core/profiler/lib/profiler_session.cc:172] Profiler session tear down.\n",
      "2023-01-11 12:34:52.768497: I tensorflow/core/profiler/rpc/client/save_profile.cc:137] Creating directory: ./my_logs/run_2023_01_11-12_16_11/train/plugins/profile/2023_01_11_12_34_52\n",
      "2023-01-11 12:34:52.770924: I tensorflow/core/profiler/rpc/client/save_profile.cc:143] Dumped gzipped tool data for trace.json.gz to ./my_logs/run_2023_01_11-12_16_11/train/plugins/profile/2023_01_11_12_34_52/c9ea16180903.trace.json.gz\n",
      "2023-01-11 12:34:52.774933: I tensorflow/core/profiler/rpc/client/save_profile.cc:137] Creating directory: ./my_logs/run_2023_01_11-12_16_11/train/plugins/profile/2023_01_11_12_34_52\n",
      "2023-01-11 12:34:52.775599: I tensorflow/core/profiler/rpc/client/save_profile.cc:143] Dumped gzipped tool data for memory_profile.json.gz to ./my_logs/run_2023_01_11-12_16_11/train/plugins/profile/2023_01_11_12_34_52/c9ea16180903.memory_profile.json.gz\n",
      "2023-01-11 12:34:52.775954: I tensorflow/core/profiler/rpc/client/capture_profile.cc:251] Creating directory: ./my_logs/run_2023_01_11-12_16_11/train/plugins/profile/2023_01_11_12_34_52Dumped tool data for xplane.pb to ./my_logs/run_2023_01_11-12_16_11/train/plugins/profile/2023_01_11_12_34_52/c9ea16180903.xplane.pb\n",
      "Dumped tool data for overview_page.pb to ./my_logs/run_2023_01_11-12_16_11/train/plugins/profile/2023_01_11_12_34_52/c9ea16180903.overview_page.pb\n",
      "Dumped tool data for input_pipeline.pb to ./my_logs/run_2023_01_11-12_16_11/train/plugins/profile/2023_01_11_12_34_52/c9ea16180903.input_pipeline.pb\n",
      "Dumped tool data for tensorflow_stats.pb to ./my_logs/run_2023_01_11-12_16_11/train/plugins/profile/2023_01_11_12_34_52/c9ea16180903.tensorflow_stats.pb\n",
      "Dumped tool data for kernel_stats.pb to ./my_logs/run_2023_01_11-12_16_11/train/plugins/profile/2023_01_11_12_34_52/c9ea16180903.kernel_stats.pb\n",
      "\n"
     ]
    },
    {
     "name": "stdout",
     "output_type": "stream",
     "text": [
      "510/510 [==============================] - 2s 4ms/step - loss: 0.3312 - accuracy: 0.8922 - val_loss: 0.0958 - val_accuracy: 0.9715\n",
      "Epoch 2/100\n",
      "510/510 [==============================] - 1s 3ms/step - loss: 0.0800 - accuracy: 0.9772 - val_loss: 0.0770 - val_accuracy: 0.9756\n",
      "Epoch 3/100\n",
      "510/510 [==============================] - 1s 3ms/step - loss: 0.0563 - accuracy: 0.9822 - val_loss: 0.0747 - val_accuracy: 0.9762\n",
      "Epoch 4/100\n",
      "510/510 [==============================] - 1s 3ms/step - loss: 0.0372 - accuracy: 0.9904 - val_loss: 0.0807 - val_accuracy: 0.9741\n",
      "Epoch 5/100\n",
      "510/510 [==============================] - 2s 3ms/step - loss: 0.0261 - accuracy: 0.9933 - val_loss: 0.0600 - val_accuracy: 0.9808\n",
      "Epoch 6/100\n",
      "510/510 [==============================] - 1s 3ms/step - loss: 0.0228 - accuracy: 0.9946 - val_loss: 0.0564 - val_accuracy: 0.9816\n",
      "Epoch 7/100\n",
      "510/510 [==============================] - 1s 3ms/step - loss: 0.0137 - accuracy: 0.9967 - val_loss: 0.0582 - val_accuracy: 0.9831\n",
      "Epoch 8/100\n",
      "510/510 [==============================] - 1s 3ms/step - loss: 0.0107 - accuracy: 0.9973 - val_loss: 0.0508 - val_accuracy: 0.9857\n",
      "Epoch 9/100\n",
      "510/510 [==============================] - 1s 3ms/step - loss: 0.0075 - accuracy: 0.9985 - val_loss: 0.0523 - val_accuracy: 0.9865\n",
      "Epoch 10/100\n",
      "510/510 [==============================] - 1s 3ms/step - loss: 0.0047 - accuracy: 0.9990 - val_loss: 0.0781 - val_accuracy: 0.9818\n",
      "Epoch 11/100\n",
      "510/510 [==============================] - 1s 3ms/step - loss: 0.0089 - accuracy: 0.9973 - val_loss: 0.0577 - val_accuracy: 0.9854\n",
      "Epoch 12/100\n",
      "510/510 [==============================] - 1s 3ms/step - loss: 0.0029 - accuracy: 0.9996 - val_loss: 0.0664 - val_accuracy: 0.9860\n",
      "Epoch 13/100\n",
      "510/510 [==============================] - 2s 3ms/step - loss: 0.0017 - accuracy: 1.0000 - val_loss: 0.0571 - val_accuracy: 0.9865\n",
      "Epoch 14/100\n",
      "510/510 [==============================] - 1s 3ms/step - loss: 9.1649e-04 - accuracy: 1.0000 - val_loss: 0.0612 - val_accuracy: 0.9878\n",
      "Epoch 15/100\n",
      "510/510 [==============================] - 1s 3ms/step - loss: 0.0012 - accuracy: 0.9998 - val_loss: 0.0619 - val_accuracy: 0.9878\n",
      "Epoch 16/100\n",
      "510/510 [==============================] - 1s 3ms/step - loss: 0.0029 - accuracy: 0.9991 - val_loss: 0.0932 - val_accuracy: 0.9814\n",
      "Epoch 17/100\n",
      "510/510 [==============================] - 2s 4ms/step - loss: 0.0047 - accuracy: 0.9989 - val_loss: 0.0633 - val_accuracy: 0.9868\n",
      "Epoch 18/100\n",
      "510/510 [==============================] - 1s 3ms/step - loss: 0.0013 - accuracy: 0.9998 - val_loss: 0.0620 - val_accuracy: 0.9873\n",
      "255/255 [==============================] - 1s 3ms/step - loss: 0.0535 - accuracy: 0.9887\n",
      "[CV]  n_neurons=88, n_hidden=2, learning_rate=0.0005935682912014685, total=  27.9s\n",
      "[CV] n_neurons=32, n_hidden=0, learning_rate=0.00018126703470238868 ..\n",
      "Epoch 1/100\n",
      "  2/510 [..............................] - ETA: 2:26 - loss: 1.7273 - accuracy: 0.1719"
     ]
    },
    {
     "name": "stderr",
     "output_type": "stream",
     "text": [
      "2023-01-11 12:35:20.293369: I tensorflow/core/profiler/lib/profiler_session.cc:136] Profiler session initializing.\n",
      "2023-01-11 12:35:20.293431: I tensorflow/core/profiler/lib/profiler_session.cc:155] Profiler session started.\n"
     ]
    },
    {
     "name": "stdout",
     "output_type": "stream",
     "text": [
      " 57/510 [==>...........................] - ETA: 5s - loss: 1.6346 - accuracy: 0.2299"
     ]
    },
    {
     "name": "stderr",
     "output_type": "stream",
     "text": [
      "2023-01-11 12:35:20.616256: I tensorflow/core/profiler/lib/profiler_session.cc:71] Profiler session collecting data.\n",
      "2023-01-11 12:35:20.616473: I tensorflow/core/profiler/internal/gpu/cupti_tracer.cc:1487] CUPTI activity buffer flushed\n",
      "2023-01-11 12:35:20.778676: I tensorflow/core/profiler/internal/gpu/cupti_collector.cc:228]  GpuTracer has collected 64 callback api events and 52 activity events. \n",
      "2023-01-11 12:35:20.783838: I tensorflow/core/profiler/lib/profiler_session.cc:172] Profiler session tear down.\n",
      "2023-01-11 12:35:20.788086: I tensorflow/core/profiler/rpc/client/save_profile.cc:137] Creating directory: ./my_logs/run_2023_01_11-12_16_11/train/plugins/profile/2023_01_11_12_35_20\n",
      "2023-01-11 12:35:20.790923: I tensorflow/core/profiler/rpc/client/save_profile.cc:143] Dumped gzipped tool data for trace.json.gz to ./my_logs/run_2023_01_11-12_16_11/train/plugins/profile/2023_01_11_12_35_20/c9ea16180903.trace.json.gz\n",
      "2023-01-11 12:35:20.797359: I tensorflow/core/profiler/rpc/client/save_profile.cc:137] Creating directory: ./my_logs/run_2023_01_11-12_16_11/train/plugins/profile/2023_01_11_12_35_20\n",
      "2023-01-11 12:35:20.798252: I tensorflow/core/profiler/rpc/client/save_profile.cc:143] Dumped gzipped tool data for memory_profile.json.gz to ./my_logs/run_2023_01_11-12_16_11/train/plugins/profile/2023_01_11_12_35_20/c9ea16180903.memory_profile.json.gz\n",
      "2023-01-11 12:35:20.798854: I tensorflow/core/profiler/rpc/client/capture_profile.cc:251] Creating directory: ./my_logs/run_2023_01_11-12_16_11/train/plugins/profile/2023_01_11_12_35_20Dumped tool data for xplane.pb to ./my_logs/run_2023_01_11-12_16_11/train/plugins/profile/2023_01_11_12_35_20/c9ea16180903.xplane.pb\n",
      "Dumped tool data for overview_page.pb to ./my_logs/run_2023_01_11-12_16_11/train/plugins/profile/2023_01_11_12_35_20/c9ea16180903.overview_page.pb\n",
      "Dumped tool data for input_pipeline.pb to ./my_logs/run_2023_01_11-12_16_11/train/plugins/profile/2023_01_11_12_35_20/c9ea16180903.input_pipeline.pb\n",
      "Dumped tool data for tensorflow_stats.pb to ./my_logs/run_2023_01_11-12_16_11/train/plugins/profile/2023_01_11_12_35_20/c9ea16180903.tensorflow_stats.pb\n",
      "Dumped tool data for kernel_stats.pb to ./my_logs/run_2023_01_11-12_16_11/train/plugins/profile/2023_01_11_12_35_20/c9ea16180903.kernel_stats.pb\n",
      "\n"
     ]
    },
    {
     "name": "stdout",
     "output_type": "stream",
     "text": [
      "510/510 [==============================] - 3s 5ms/step - loss: 1.1667 - accuracy: 0.5884 - val_loss: 0.4319 - val_accuracy: 0.9255\n",
      "Epoch 2/100\n",
      "510/510 [==============================] - 2s 4ms/step - loss: 0.3799 - accuracy: 0.9315 - val_loss: 0.2667 - val_accuracy: 0.9429\n",
      "Epoch 3/100\n",
      "510/510 [==============================] - 2s 4ms/step - loss: 0.2479 - accuracy: 0.9458 - val_loss: 0.2095 - val_accuracy: 0.9505\n",
      "Epoch 4/100\n",
      "510/510 [==============================] - 2s 3ms/step - loss: 0.1995 - accuracy: 0.9531 - val_loss: 0.1804 - val_accuracy: 0.9533\n",
      "Epoch 5/100\n",
      "510/510 [==============================] - 1s 2ms/step - loss: 0.1731 - accuracy: 0.9568 - val_loss: 0.1630 - val_accuracy: 0.9552\n",
      "Epoch 6/100\n",
      "510/510 [==============================] - 1s 2ms/step - loss: 0.1536 - accuracy: 0.9596 - val_loss: 0.1511 - val_accuracy: 0.9572\n",
      "Epoch 7/100\n",
      "510/510 [==============================] - 1s 2ms/step - loss: 0.1417 - accuracy: 0.9623 - val_loss: 0.1422 - val_accuracy: 0.9595\n",
      "Epoch 8/100\n",
      "510/510 [==============================] - 1s 3ms/step - loss: 0.1286 - accuracy: 0.9666 - val_loss: 0.1360 - val_accuracy: 0.9605\n",
      "Epoch 9/100\n",
      "510/510 [==============================] - 1s 2ms/step - loss: 0.1300 - accuracy: 0.9643 - val_loss: 0.1308 - val_accuracy: 0.9621\n",
      "Epoch 10/100\n",
      "510/510 [==============================] - 1s 2ms/step - loss: 0.1143 - accuracy: 0.9695 - val_loss: 0.1269 - val_accuracy: 0.9624\n",
      "Epoch 11/100\n",
      "510/510 [==============================] - 1s 2ms/step - loss: 0.1134 - accuracy: 0.9699 - val_loss: 0.1239 - val_accuracy: 0.9631\n",
      "Epoch 12/100\n",
      "510/510 [==============================] - 1s 2ms/step - loss: 0.1126 - accuracy: 0.9689 - val_loss: 0.1212 - val_accuracy: 0.9642\n",
      "Epoch 13/100\n",
      "510/510 [==============================] - 1s 2ms/step - loss: 0.1050 - accuracy: 0.9708 - val_loss: 0.1188 - val_accuracy: 0.9655\n",
      "Epoch 14/100\n",
      "510/510 [==============================] - 1s 2ms/step - loss: 0.1072 - accuracy: 0.9682 - val_loss: 0.1169 - val_accuracy: 0.9648\n",
      "Epoch 15/100\n",
      "510/510 [==============================] - 1s 2ms/step - loss: 0.1043 - accuracy: 0.9694 - val_loss: 0.1157 - val_accuracy: 0.9655\n",
      "Epoch 16/100\n",
      "510/510 [==============================] - 1s 2ms/step - loss: 0.1017 - accuracy: 0.9692 - val_loss: 0.1146 - val_accuracy: 0.9652\n",
      "Epoch 17/100\n",
      "510/510 [==============================] - 1s 3ms/step - loss: 0.1011 - accuracy: 0.9695 - val_loss: 0.1130 - val_accuracy: 0.9663\n",
      "Epoch 18/100\n",
      "510/510 [==============================] - 1s 2ms/step - loss: 0.0916 - accuracy: 0.9735 - val_loss: 0.1115 - val_accuracy: 0.9660\n",
      "Epoch 19/100\n",
      "510/510 [==============================] - 1s 2ms/step - loss: 0.0993 - accuracy: 0.9713 - val_loss: 0.1106 - val_accuracy: 0.9666\n",
      "Epoch 20/100\n",
      "510/510 [==============================] - 1s 3ms/step - loss: 0.0940 - accuracy: 0.9720 - val_loss: 0.1100 - val_accuracy: 0.9663\n",
      "Epoch 21/100\n",
      "510/510 [==============================] - 1s 3ms/step - loss: 0.0982 - accuracy: 0.9715 - val_loss: 0.1091 - val_accuracy: 0.9666\n",
      "Epoch 22/100\n",
      "510/510 [==============================] - 1s 2ms/step - loss: 0.0933 - accuracy: 0.9729 - val_loss: 0.1083 - val_accuracy: 0.9671\n",
      "Epoch 23/100\n",
      "510/510 [==============================] - 1s 2ms/step - loss: 0.0973 - accuracy: 0.9707 - val_loss: 0.1079 - val_accuracy: 0.9671\n",
      "Epoch 24/100\n",
      "510/510 [==============================] - 1s 2ms/step - loss: 0.0901 - accuracy: 0.9728 - val_loss: 0.1070 - val_accuracy: 0.9670\n",
      "Epoch 25/100\n",
      "510/510 [==============================] - 1s 2ms/step - loss: 0.0906 - accuracy: 0.9737 - val_loss: 0.1069 - val_accuracy: 0.9684\n",
      "Epoch 26/100\n",
      "510/510 [==============================] - 1s 3ms/step - loss: 0.0932 - accuracy: 0.9719 - val_loss: 0.1062 - val_accuracy: 0.9683\n",
      "Epoch 27/100\n",
      "510/510 [==============================] - 1s 2ms/step - loss: 0.0931 - accuracy: 0.9733 - val_loss: 0.1060 - val_accuracy: 0.9679\n",
      "Epoch 28/100\n",
      "510/510 [==============================] - 1s 2ms/step - loss: 0.0892 - accuracy: 0.9737 - val_loss: 0.1054 - val_accuracy: 0.9670\n",
      "Epoch 29/100\n",
      "510/510 [==============================] - 1s 2ms/step - loss: 0.0911 - accuracy: 0.9746 - val_loss: 0.1058 - val_accuracy: 0.9671\n",
      "Epoch 30/100\n",
      "510/510 [==============================] - 1s 2ms/step - loss: 0.0886 - accuracy: 0.9734 - val_loss: 0.1046 - val_accuracy: 0.9679\n",
      "Epoch 31/100\n",
      "510/510 [==============================] - 1s 2ms/step - loss: 0.0842 - accuracy: 0.9763 - val_loss: 0.1045 - val_accuracy: 0.9678\n",
      "Epoch 32/100\n",
      "510/510 [==============================] - 1s 2ms/step - loss: 0.0836 - accuracy: 0.9756 - val_loss: 0.1047 - val_accuracy: 0.9671\n",
      "Epoch 33/100\n",
      "510/510 [==============================] - 1s 2ms/step - loss: 0.0856 - accuracy: 0.9765 - val_loss: 0.1040 - val_accuracy: 0.9676\n",
      "Epoch 34/100\n",
      "510/510 [==============================] - 1s 2ms/step - loss: 0.0901 - accuracy: 0.9744 - val_loss: 0.1034 - val_accuracy: 0.9678\n",
      "Epoch 35/100\n",
      "510/510 [==============================] - 1s 2ms/step - loss: 0.0881 - accuracy: 0.9749 - val_loss: 0.1034 - val_accuracy: 0.9678\n",
      "Epoch 36/100\n",
      "510/510 [==============================] - 1s 3ms/step - loss: 0.0805 - accuracy: 0.9771 - val_loss: 0.1035 - val_accuracy: 0.9675\n",
      "Epoch 37/100\n",
      "510/510 [==============================] - 1s 2ms/step - loss: 0.0800 - accuracy: 0.9773 - val_loss: 0.1031 - val_accuracy: 0.9678\n",
      "Epoch 38/100\n",
      "510/510 [==============================] - 1s 2ms/step - loss: 0.0863 - accuracy: 0.9758 - val_loss: 0.1026 - val_accuracy: 0.9679\n",
      "Epoch 39/100\n",
      "510/510 [==============================] - 1s 2ms/step - loss: 0.0787 - accuracy: 0.9783 - val_loss: 0.1029 - val_accuracy: 0.9678\n",
      "Epoch 40/100\n",
      "510/510 [==============================] - 1s 2ms/step - loss: 0.0818 - accuracy: 0.9768 - val_loss: 0.1025 - val_accuracy: 0.9676\n",
      "Epoch 41/100\n",
      "510/510 [==============================] - 1s 2ms/step - loss: 0.0836 - accuracy: 0.9750 - val_loss: 0.1025 - val_accuracy: 0.9679\n",
      "Epoch 42/100\n",
      "510/510 [==============================] - 1s 2ms/step - loss: 0.0778 - accuracy: 0.9787 - val_loss: 0.1022 - val_accuracy: 0.9681\n",
      "Epoch 43/100\n",
      "510/510 [==============================] - 1s 2ms/step - loss: 0.0838 - accuracy: 0.9761 - val_loss: 0.1021 - val_accuracy: 0.9676\n",
      "Epoch 44/100\n",
      "510/510 [==============================] - 1s 2ms/step - loss: 0.0795 - accuracy: 0.9763 - val_loss: 0.1022 - val_accuracy: 0.9675\n",
      "Epoch 45/100\n",
      "510/510 [==============================] - 1s 3ms/step - loss: 0.0785 - accuracy: 0.9738 - val_loss: 0.1019 - val_accuracy: 0.9675\n",
      "Epoch 46/100\n",
      "510/510 [==============================] - 2s 3ms/step - loss: 0.0813 - accuracy: 0.9770 - val_loss: 0.1017 - val_accuracy: 0.9681\n",
      "Epoch 47/100\n",
      "510/510 [==============================] - 1s 2ms/step - loss: 0.0873 - accuracy: 0.9731 - val_loss: 0.1018 - val_accuracy: 0.9683\n",
      "Epoch 48/100\n",
      "510/510 [==============================] - 1s 2ms/step - loss: 0.0822 - accuracy: 0.9760 - val_loss: 0.1019 - val_accuracy: 0.9684\n",
      "Epoch 49/100\n",
      "510/510 [==============================] - 1s 2ms/step - loss: 0.0788 - accuracy: 0.9785 - val_loss: 0.1017 - val_accuracy: 0.9684\n",
      "Epoch 50/100\n",
      "510/510 [==============================] - 1s 2ms/step - loss: 0.0793 - accuracy: 0.9771 - val_loss: 0.1013 - val_accuracy: 0.9689\n",
      "Epoch 51/100\n",
      "510/510 [==============================] - 1s 2ms/step - loss: 0.0785 - accuracy: 0.9787 - val_loss: 0.1014 - val_accuracy: 0.9684\n",
      "Epoch 52/100\n",
      "510/510 [==============================] - 1s 2ms/step - loss: 0.0834 - accuracy: 0.9772 - val_loss: 0.1016 - val_accuracy: 0.9678\n",
      "Epoch 53/100\n",
      "510/510 [==============================] - 1s 2ms/step - loss: 0.0835 - accuracy: 0.9762 - val_loss: 0.1013 - val_accuracy: 0.9684\n",
      "Epoch 54/100\n",
      "510/510 [==============================] - 2s 3ms/step - loss: 0.0796 - accuracy: 0.9783 - val_loss: 0.1015 - val_accuracy: 0.9688\n",
      "Epoch 55/100\n",
      "510/510 [==============================] - 2s 3ms/step - loss: 0.0806 - accuracy: 0.9766 - val_loss: 0.1012 - val_accuracy: 0.9684\n",
      "Epoch 56/100\n",
      "510/510 [==============================] - 2s 3ms/step - loss: 0.0785 - accuracy: 0.9778 - val_loss: 0.1013 - val_accuracy: 0.9681\n",
      "Epoch 57/100\n",
      "510/510 [==============================] - 2s 3ms/step - loss: 0.0791 - accuracy: 0.9780 - val_loss: 0.1012 - val_accuracy: 0.9688\n",
      "Epoch 58/100\n",
      "510/510 [==============================] - 2s 4ms/step - loss: 0.0791 - accuracy: 0.9778 - val_loss: 0.1012 - val_accuracy: 0.9691\n",
      "Epoch 59/100\n",
      "510/510 [==============================] - 2s 3ms/step - loss: 0.0745 - accuracy: 0.9780 - val_loss: 0.1012 - val_accuracy: 0.9691\n",
      "Epoch 60/100\n",
      "510/510 [==============================] - 1s 3ms/step - loss: 0.0792 - accuracy: 0.9774 - val_loss: 0.1014 - val_accuracy: 0.9694\n",
      "Epoch 61/100\n",
      "510/510 [==============================] - 1s 2ms/step - loss: 0.0760 - accuracy: 0.9775 - val_loss: 0.1012 - val_accuracy: 0.9688\n",
      "Epoch 62/100\n",
      "510/510 [==============================] - 1s 2ms/step - loss: 0.0755 - accuracy: 0.9792 - val_loss: 0.1012 - val_accuracy: 0.9692\n",
      "Epoch 63/100\n",
      "510/510 [==============================] - 1s 2ms/step - loss: 0.0767 - accuracy: 0.9798 - val_loss: 0.1012 - val_accuracy: 0.9694\n",
      "Epoch 64/100\n",
      "510/510 [==============================] - 1s 2ms/step - loss: 0.0784 - accuracy: 0.9785 - val_loss: 0.1011 - val_accuracy: 0.9692\n",
      "Epoch 65/100\n",
      "510/510 [==============================] - 1s 2ms/step - loss: 0.0710 - accuracy: 0.9799 - val_loss: 0.1012 - val_accuracy: 0.9692\n",
      "Epoch 66/100\n",
      "510/510 [==============================] - 1s 2ms/step - loss: 0.0816 - accuracy: 0.9764 - val_loss: 0.1013 - val_accuracy: 0.9688\n",
      "Epoch 67/100\n",
      "510/510 [==============================] - 1s 2ms/step - loss: 0.0691 - accuracy: 0.9807 - val_loss: 0.1013 - val_accuracy: 0.9697\n",
      "Epoch 68/100\n",
      "510/510 [==============================] - 1s 2ms/step - loss: 0.0743 - accuracy: 0.9790 - val_loss: 0.1015 - val_accuracy: 0.9691\n",
      "Epoch 69/100\n",
      "510/510 [==============================] - 2s 3ms/step - loss: 0.0747 - accuracy: 0.9789 - val_loss: 0.1015 - val_accuracy: 0.9689\n",
      "Epoch 70/100\n",
      "510/510 [==============================] - 2s 3ms/step - loss: 0.0740 - accuracy: 0.9797 - val_loss: 0.1016 - val_accuracy: 0.9699\n",
      "Epoch 71/100\n",
      "510/510 [==============================] - 1s 2ms/step - loss: 0.0728 - accuracy: 0.9794 - val_loss: 0.1015 - val_accuracy: 0.9696\n",
      "Epoch 72/100\n",
      "510/510 [==============================] - 1s 2ms/step - loss: 0.0724 - accuracy: 0.9800 - val_loss: 0.1013 - val_accuracy: 0.9694\n",
      "Epoch 73/100\n",
      "510/510 [==============================] - 1s 2ms/step - loss: 0.0710 - accuracy: 0.9789 - val_loss: 0.1013 - val_accuracy: 0.9694\n",
      "Epoch 74/100\n",
      "510/510 [==============================] - 1s 2ms/step - loss: 0.0746 - accuracy: 0.9777 - val_loss: 0.1013 - val_accuracy: 0.9688\n",
      "255/255 [==============================] - 1s 2ms/step - loss: 0.1138 - accuracy: 0.9679\n",
      "[CV]  n_neurons=32, n_hidden=0, learning_rate=0.00018126703470238868, total= 1.6min\n",
      "[CV] n_neurons=32, n_hidden=0, learning_rate=0.00018126703470238868 ..\n",
      "Epoch 1/100\n",
      "  3/510 [..............................] - ETA: 1:40 - loss: 1.6879 - accuracy: 0.1510"
     ]
    },
    {
     "name": "stderr",
     "output_type": "stream",
     "text": [
      "2023-01-11 12:36:57.322024: I tensorflow/core/profiler/lib/profiler_session.cc:136] Profiler session initializing.\n",
      "2023-01-11 12:36:57.322159: I tensorflow/core/profiler/lib/profiler_session.cc:155] Profiler session started.\n",
      "2023-01-11 12:36:57.550500: I tensorflow/core/profiler/lib/profiler_session.cc:71] Profiler session collecting data.\n",
      "2023-01-11 12:36:57.550718: I tensorflow/core/profiler/internal/gpu/cupti_tracer.cc:1487] CUPTI activity buffer flushed\n",
      "2023-01-11 12:36:57.695461: I tensorflow/core/profiler/internal/gpu/cupti_collector.cc:228]  GpuTracer has collected 64 callback api events and 52 activity events. \n",
      "2023-01-11 12:36:57.698861: I tensorflow/core/profiler/lib/profiler_session.cc:172] Profiler session tear down.\n",
      "2023-01-11 12:36:57.701422: I tensorflow/core/profiler/rpc/client/save_profile.cc:137] Creating directory: ./my_logs/run_2023_01_11-12_16_11/train/plugins/profile/2023_01_11_12_36_57\n",
      "2023-01-11 12:36:57.703211: I tensorflow/core/profiler/rpc/client/save_profile.cc:143] Dumped gzipped tool data for trace.json.gz to ./my_logs/run_2023_01_11-12_16_11/train/plugins/profile/2023_01_11_12_36_57/c9ea16180903.trace.json.gz\n",
      "2023-01-11 12:36:57.706624: I tensorflow/core/profiler/rpc/client/save_profile.cc:137] Creating directory: ./my_logs/run_2023_01_11-12_16_11/train/plugins/profile/2023_01_11_12_36_57\n",
      "2023-01-11 12:36:57.707239: I tensorflow/core/profiler/rpc/client/save_profile.cc:143] Dumped gzipped tool data for memory_profile.json.gz to ./my_logs/run_2023_01_11-12_16_11/train/plugins/profile/2023_01_11_12_36_57/c9ea16180903.memory_profile.json.gz\n",
      "2023-01-11 12:36:57.707636: I tensorflow/core/profiler/rpc/client/capture_profile.cc:251] Creating directory: ./my_logs/run_2023_01_11-12_16_11/train/plugins/profile/2023_01_11_12_36_57Dumped tool data for xplane.pb to ./my_logs/run_2023_01_11-12_16_11/train/plugins/profile/2023_01_11_12_36_57/c9ea16180903.xplane.pb\n",
      "Dumped tool data for overview_page.pb to ./my_logs/run_2023_01_11-12_16_11/train/plugins/profile/2023_01_11_12_36_57/c9ea16180903.overview_page.pb\n",
      "Dumped tool data for input_pipeline.pb to ./my_logs/run_2023_01_11-12_16_11/train/plugins/profile/2023_01_11_12_36_57/c9ea16180903.input_pipeline.pb\n",
      "Dumped tool data for tensorflow_stats.pb to ./my_logs/run_2023_01_11-12_16_11/train/plugins/profile/2023_01_11_12_36_57/c9ea16180903.tensorflow_stats.pb\n",
      "Dumped tool data for kernel_stats.pb to ./my_logs/run_2023_01_11-12_16_11/train/plugins/profile/2023_01_11_12_36_57/c9ea16180903.kernel_stats.pb\n",
      "\n"
     ]
    },
    {
     "name": "stdout",
     "output_type": "stream",
     "text": [
      "510/510 [==============================] - 2s 3ms/step - loss: 1.1409 - accuracy: 0.6242 - val_loss: 0.4233 - val_accuracy: 0.9276\n",
      "Epoch 2/100\n",
      "510/510 [==============================] - 1s 2ms/step - loss: 0.3619 - accuracy: 0.9360 - val_loss: 0.2640 - val_accuracy: 0.9406\n",
      "Epoch 3/100\n",
      "510/510 [==============================] - 1s 3ms/step - loss: 0.2363 - accuracy: 0.9495 - val_loss: 0.2089 - val_accuracy: 0.9484\n",
      "Epoch 4/100\n",
      "510/510 [==============================] - 1s 2ms/step - loss: 0.1922 - accuracy: 0.9543 - val_loss: 0.1809 - val_accuracy: 0.9525\n",
      "Epoch 5/100\n",
      "510/510 [==============================] - 1s 2ms/step - loss: 0.1697 - accuracy: 0.9581 - val_loss: 0.1647 - val_accuracy: 0.9554\n",
      "Epoch 6/100\n",
      "510/510 [==============================] - 1s 2ms/step - loss: 0.1517 - accuracy: 0.9594 - val_loss: 0.1533 - val_accuracy: 0.9579\n",
      "Epoch 7/100\n",
      "510/510 [==============================] - 1s 2ms/step - loss: 0.1387 - accuracy: 0.9641 - val_loss: 0.1447 - val_accuracy: 0.9590\n",
      "Epoch 8/100\n",
      "510/510 [==============================] - 1s 2ms/step - loss: 0.1336 - accuracy: 0.9631 - val_loss: 0.1387 - val_accuracy: 0.9603\n",
      "Epoch 9/100\n",
      "510/510 [==============================] - 1s 2ms/step - loss: 0.1249 - accuracy: 0.9664 - val_loss: 0.1336 - val_accuracy: 0.9616\n",
      "Epoch 10/100\n",
      "510/510 [==============================] - 1s 2ms/step - loss: 0.1197 - accuracy: 0.9664 - val_loss: 0.1304 - val_accuracy: 0.9611\n",
      "Epoch 11/100\n",
      "510/510 [==============================] - 1s 2ms/step - loss: 0.1143 - accuracy: 0.9680 - val_loss: 0.1269 - val_accuracy: 0.9624\n",
      "Epoch 12/100\n",
      "510/510 [==============================] - 1s 3ms/step - loss: 0.1095 - accuracy: 0.9679 - val_loss: 0.1253 - val_accuracy: 0.9608\n",
      "Epoch 13/100\n",
      "510/510 [==============================] - 1s 2ms/step - loss: 0.1111 - accuracy: 0.9686 - val_loss: 0.1224 - val_accuracy: 0.9629\n",
      "Epoch 14/100\n",
      "510/510 [==============================] - 1s 2ms/step - loss: 0.1027 - accuracy: 0.9706 - val_loss: 0.1205 - val_accuracy: 0.9632\n",
      "Epoch 15/100\n",
      "510/510 [==============================] - 1s 2ms/step - loss: 0.1013 - accuracy: 0.9718 - val_loss: 0.1190 - val_accuracy: 0.9637\n",
      "Epoch 16/100\n",
      "510/510 [==============================] - 1s 2ms/step - loss: 0.1064 - accuracy: 0.9694 - val_loss: 0.1183 - val_accuracy: 0.9645\n",
      "Epoch 17/100\n",
      "510/510 [==============================] - 1s 2ms/step - loss: 0.1101 - accuracy: 0.9662 - val_loss: 0.1170 - val_accuracy: 0.9640\n",
      "Epoch 18/100\n",
      "510/510 [==============================] - 1s 2ms/step - loss: 0.1016 - accuracy: 0.9694 - val_loss: 0.1156 - val_accuracy: 0.9650\n",
      "Epoch 19/100\n",
      "510/510 [==============================] - 1s 2ms/step - loss: 0.1037 - accuracy: 0.9707 - val_loss: 0.1148 - val_accuracy: 0.9652\n",
      "Epoch 20/100\n",
      "510/510 [==============================] - 2s 3ms/step - loss: 0.0978 - accuracy: 0.9707 - val_loss: 0.1141 - val_accuracy: 0.9648\n",
      "Epoch 21/100\n",
      "510/510 [==============================] - 2s 3ms/step - loss: 0.0981 - accuracy: 0.9707 - val_loss: 0.1132 - val_accuracy: 0.9662\n",
      "Epoch 22/100\n",
      "510/510 [==============================] - 1s 2ms/step - loss: 0.0947 - accuracy: 0.9726 - val_loss: 0.1124 - val_accuracy: 0.9655\n",
      "Epoch 23/100\n",
      "510/510 [==============================] - 1s 2ms/step - loss: 0.0941 - accuracy: 0.9734 - val_loss: 0.1118 - val_accuracy: 0.9655\n",
      "Epoch 24/100\n",
      "510/510 [==============================] - 1s 2ms/step - loss: 0.0938 - accuracy: 0.9728 - val_loss: 0.1118 - val_accuracy: 0.9658\n",
      "Epoch 25/100\n",
      "510/510 [==============================] - 1s 2ms/step - loss: 0.0962 - accuracy: 0.9711 - val_loss: 0.1110 - val_accuracy: 0.9657\n",
      "Epoch 26/100\n",
      "510/510 [==============================] - 1s 2ms/step - loss: 0.0883 - accuracy: 0.9730 - val_loss: 0.1104 - val_accuracy: 0.9663\n",
      "Epoch 27/100\n",
      "510/510 [==============================] - 1s 2ms/step - loss: 0.0866 - accuracy: 0.9745 - val_loss: 0.1098 - val_accuracy: 0.9671\n",
      "Epoch 28/100\n",
      "510/510 [==============================] - 1s 2ms/step - loss: 0.0932 - accuracy: 0.9738 - val_loss: 0.1093 - val_accuracy: 0.9671\n",
      "Epoch 29/100\n",
      "510/510 [==============================] - 1s 2ms/step - loss: 0.0941 - accuracy: 0.9729 - val_loss: 0.1095 - val_accuracy: 0.9668\n",
      "Epoch 30/100\n",
      "510/510 [==============================] - 1s 3ms/step - loss: 0.0865 - accuracy: 0.9740 - val_loss: 0.1092 - val_accuracy: 0.9670\n",
      "Epoch 31/100\n",
      "510/510 [==============================] - 1s 2ms/step - loss: 0.0892 - accuracy: 0.9736 - val_loss: 0.1089 - val_accuracy: 0.9670\n",
      "Epoch 32/100\n",
      "510/510 [==============================] - 1s 2ms/step - loss: 0.0840 - accuracy: 0.9762 - val_loss: 0.1087 - val_accuracy: 0.9670\n",
      "Epoch 33/100\n",
      "510/510 [==============================] - 1s 3ms/step - loss: 0.0802 - accuracy: 0.9765 - val_loss: 0.1081 - val_accuracy: 0.9676\n",
      "Epoch 34/100\n",
      "510/510 [==============================] - 2s 3ms/step - loss: 0.0864 - accuracy: 0.9760 - val_loss: 0.1081 - val_accuracy: 0.9671\n",
      "Epoch 35/100\n",
      "510/510 [==============================] - 2s 3ms/step - loss: 0.0822 - accuracy: 0.9760 - val_loss: 0.1077 - val_accuracy: 0.9675\n",
      "Epoch 36/100\n",
      "510/510 [==============================] - 2s 3ms/step - loss: 0.0822 - accuracy: 0.9780 - val_loss: 0.1074 - val_accuracy: 0.9673\n",
      "Epoch 37/100\n",
      "510/510 [==============================] - 2s 3ms/step - loss: 0.0881 - accuracy: 0.9751 - val_loss: 0.1073 - val_accuracy: 0.9673\n",
      "Epoch 38/100\n",
      "510/510 [==============================] - 2s 3ms/step - loss: 0.0864 - accuracy: 0.9758 - val_loss: 0.1073 - val_accuracy: 0.9675\n",
      "Epoch 39/100\n",
      "510/510 [==============================] - 2s 4ms/step - loss: 0.0821 - accuracy: 0.9767 - val_loss: 0.1074 - val_accuracy: 0.9676\n",
      "Epoch 40/100\n",
      "510/510 [==============================] - 1s 3ms/step - loss: 0.0869 - accuracy: 0.9745 - val_loss: 0.1071 - val_accuracy: 0.9683\n",
      "Epoch 41/100\n",
      "510/510 [==============================] - 1s 2ms/step - loss: 0.0785 - accuracy: 0.9778 - val_loss: 0.1067 - val_accuracy: 0.9681\n",
      "Epoch 42/100\n",
      "510/510 [==============================] - 1s 2ms/step - loss: 0.0854 - accuracy: 0.9749 - val_loss: 0.1065 - val_accuracy: 0.9681\n",
      "Epoch 43/100\n",
      "510/510 [==============================] - 2s 3ms/step - loss: 0.0823 - accuracy: 0.9758 - val_loss: 0.1067 - val_accuracy: 0.9678\n",
      "Epoch 44/100\n",
      "510/510 [==============================] - 1s 2ms/step - loss: 0.0827 - accuracy: 0.9782 - val_loss: 0.1062 - val_accuracy: 0.9681\n",
      "Epoch 45/100\n",
      "510/510 [==============================] - 1s 3ms/step - loss: 0.0838 - accuracy: 0.9765 - val_loss: 0.1062 - val_accuracy: 0.9688\n",
      "Epoch 46/100\n",
      "510/510 [==============================] - 1s 2ms/step - loss: 0.0810 - accuracy: 0.9769 - val_loss: 0.1059 - val_accuracy: 0.9691\n",
      "Epoch 47/100\n",
      "510/510 [==============================] - 1s 2ms/step - loss: 0.0753 - accuracy: 0.9788 - val_loss: 0.1059 - val_accuracy: 0.9683\n",
      "Epoch 48/100\n",
      "510/510 [==============================] - 1s 2ms/step - loss: 0.0860 - accuracy: 0.9750 - val_loss: 0.1056 - val_accuracy: 0.9686\n",
      "Epoch 49/100\n",
      "510/510 [==============================] - 1s 2ms/step - loss: 0.0805 - accuracy: 0.9786 - val_loss: 0.1060 - val_accuracy: 0.9684\n",
      "Epoch 50/100\n",
      "510/510 [==============================] - 1s 2ms/step - loss: 0.0832 - accuracy: 0.9762 - val_loss: 0.1062 - val_accuracy: 0.9678\n",
      "Epoch 51/100\n",
      "510/510 [==============================] - 1s 2ms/step - loss: 0.0838 - accuracy: 0.9772 - val_loss: 0.1060 - val_accuracy: 0.9688\n",
      "Epoch 52/100\n",
      "510/510 [==============================] - 1s 2ms/step - loss: 0.0792 - accuracy: 0.9780 - val_loss: 0.1056 - val_accuracy: 0.9679\n",
      "Epoch 53/100\n",
      "510/510 [==============================] - 1s 2ms/step - loss: 0.0828 - accuracy: 0.9774 - val_loss: 0.1053 - val_accuracy: 0.9689\n",
      "Epoch 54/100\n",
      "510/510 [==============================] - 1s 3ms/step - loss: 0.0766 - accuracy: 0.9784 - val_loss: 0.1056 - val_accuracy: 0.9684\n",
      "Epoch 55/100\n",
      "510/510 [==============================] - 1s 2ms/step - loss: 0.0722 - accuracy: 0.9798 - val_loss: 0.1053 - val_accuracy: 0.9688\n",
      "Epoch 56/100\n",
      "510/510 [==============================] - 1s 2ms/step - loss: 0.0770 - accuracy: 0.9780 - val_loss: 0.1055 - val_accuracy: 0.9688\n",
      "Epoch 57/100\n",
      "510/510 [==============================] - 1s 2ms/step - loss: 0.0769 - accuracy: 0.9782 - val_loss: 0.1051 - val_accuracy: 0.9689\n",
      "Epoch 58/100\n",
      "510/510 [==============================] - 1s 2ms/step - loss: 0.0779 - accuracy: 0.9779 - val_loss: 0.1053 - val_accuracy: 0.9684\n",
      "Epoch 59/100\n",
      "510/510 [==============================] - 1s 2ms/step - loss: 0.0750 - accuracy: 0.9790 - val_loss: 0.1054 - val_accuracy: 0.9686\n",
      "Epoch 60/100\n",
      "510/510 [==============================] - 1s 2ms/step - loss: 0.0718 - accuracy: 0.9791 - val_loss: 0.1052 - val_accuracy: 0.9683\n",
      "Epoch 61/100\n",
      "510/510 [==============================] - 1s 2ms/step - loss: 0.0738 - accuracy: 0.9795 - val_loss: 0.1053 - val_accuracy: 0.9684\n",
      "Epoch 62/100\n",
      "510/510 [==============================] - 1s 2ms/step - loss: 0.0745 - accuracy: 0.9786 - val_loss: 0.1055 - val_accuracy: 0.9678\n",
      "Epoch 63/100\n",
      "510/510 [==============================] - 1s 3ms/step - loss: 0.0770 - accuracy: 0.9793 - val_loss: 0.1051 - val_accuracy: 0.9688\n",
      "Epoch 64/100\n",
      "510/510 [==============================] - 1s 3ms/step - loss: 0.0732 - accuracy: 0.9804 - val_loss: 0.1053 - val_accuracy: 0.9691\n",
      "Epoch 65/100\n",
      "510/510 [==============================] - 1s 2ms/step - loss: 0.0740 - accuracy: 0.9789 - val_loss: 0.1049 - val_accuracy: 0.9684\n",
      "Epoch 66/100\n",
      "510/510 [==============================] - 1s 2ms/step - loss: 0.0728 - accuracy: 0.9798 - val_loss: 0.1053 - val_accuracy: 0.9688\n",
      "Epoch 67/100\n",
      "510/510 [==============================] - 1s 2ms/step - loss: 0.0753 - accuracy: 0.9794 - val_loss: 0.1054 - val_accuracy: 0.9684\n",
      "Epoch 68/100\n",
      "510/510 [==============================] - 1s 3ms/step - loss: 0.0730 - accuracy: 0.9796 - val_loss: 0.1053 - val_accuracy: 0.9684\n",
      "Epoch 69/100\n",
      "510/510 [==============================] - 1s 3ms/step - loss: 0.0734 - accuracy: 0.9800 - val_loss: 0.1051 - val_accuracy: 0.9688\n",
      "Epoch 70/100\n",
      "510/510 [==============================] - 1s 2ms/step - loss: 0.0757 - accuracy: 0.9803 - val_loss: 0.1056 - val_accuracy: 0.9676\n",
      "Epoch 71/100\n",
      "510/510 [==============================] - 1s 2ms/step - loss: 0.0724 - accuracy: 0.9808 - val_loss: 0.1052 - val_accuracy: 0.9681\n",
      "Epoch 72/100\n",
      "510/510 [==============================] - 1s 3ms/step - loss: 0.0756 - accuracy: 0.9801 - val_loss: 0.1054 - val_accuracy: 0.9679\n",
      "Epoch 73/100\n",
      "510/510 [==============================] - 1s 2ms/step - loss: 0.0682 - accuracy: 0.9804 - val_loss: 0.1051 - val_accuracy: 0.9689\n",
      "Epoch 74/100\n",
      "510/510 [==============================] - 1s 2ms/step - loss: 0.0705 - accuracy: 0.9804 - val_loss: 0.1055 - val_accuracy: 0.9679\n",
      "Epoch 75/100\n",
      "510/510 [==============================] - 1s 2ms/step - loss: 0.0694 - accuracy: 0.9806 - val_loss: 0.1053 - val_accuracy: 0.9683\n",
      "255/255 [==============================] - 1s 2ms/step - loss: 0.1138 - accuracy: 0.9665\n",
      "[CV]  n_neurons=32, n_hidden=0, learning_rate=0.00018126703470238868, total= 1.6min\n",
      "[CV] n_neurons=32, n_hidden=0, learning_rate=0.00018126703470238868 ..\n",
      "Epoch 1/100\n",
      "  3/510 [..............................] - ETA: 1:37 - loss: 1.7567 - accuracy: 0.1667"
     ]
    },
    {
     "name": "stderr",
     "output_type": "stream",
     "text": [
      "2023-01-11 12:38:33.612493: I tensorflow/core/profiler/lib/profiler_session.cc:136] Profiler session initializing.\n",
      "2023-01-11 12:38:33.612537: I tensorflow/core/profiler/lib/profiler_session.cc:155] Profiler session started.\n",
      "2023-01-11 12:38:33.829635: I tensorflow/core/profiler/lib/profiler_session.cc:71] Profiler session collecting data.\n",
      "2023-01-11 12:38:33.829860: I tensorflow/core/profiler/internal/gpu/cupti_tracer.cc:1487] CUPTI activity buffer flushed\n",
      "2023-01-11 12:38:33.972967: I tensorflow/core/profiler/internal/gpu/cupti_collector.cc:228]  GpuTracer has collected 64 callback api events and 52 activity events. \n",
      "2023-01-11 12:38:33.976383: I tensorflow/core/profiler/lib/profiler_session.cc:172] Profiler session tear down.\n",
      "2023-01-11 12:38:33.978948: I tensorflow/core/profiler/rpc/client/save_profile.cc:137] Creating directory: ./my_logs/run_2023_01_11-12_16_11/train/plugins/profile/2023_01_11_12_38_33\n",
      "2023-01-11 12:38:33.980654: I tensorflow/core/profiler/rpc/client/save_profile.cc:143] Dumped gzipped tool data for trace.json.gz to ./my_logs/run_2023_01_11-12_16_11/train/plugins/profile/2023_01_11_12_38_33/c9ea16180903.trace.json.gz\n",
      "2023-01-11 12:38:33.984136: I tensorflow/core/profiler/rpc/client/save_profile.cc:137] Creating directory: ./my_logs/run_2023_01_11-12_16_11/train/plugins/profile/2023_01_11_12_38_33\n",
      "2023-01-11 12:38:33.984732: I tensorflow/core/profiler/rpc/client/save_profile.cc:143] Dumped gzipped tool data for memory_profile.json.gz to ./my_logs/run_2023_01_11-12_16_11/train/plugins/profile/2023_01_11_12_38_33/c9ea16180903.memory_profile.json.gz\n",
      "2023-01-11 12:38:33.985080: I tensorflow/core/profiler/rpc/client/capture_profile.cc:251] Creating directory: ./my_logs/run_2023_01_11-12_16_11/train/plugins/profile/2023_01_11_12_38_33Dumped tool data for xplane.pb to ./my_logs/run_2023_01_11-12_16_11/train/plugins/profile/2023_01_11_12_38_33/c9ea16180903.xplane.pb\n",
      "Dumped tool data for overview_page.pb to ./my_logs/run_2023_01_11-12_16_11/train/plugins/profile/2023_01_11_12_38_33/c9ea16180903.overview_page.pb\n",
      "Dumped tool data for input_pipeline.pb to ./my_logs/run_2023_01_11-12_16_11/train/plugins/profile/2023_01_11_12_38_33/c9ea16180903.input_pipeline.pb\n",
      "Dumped tool data for tensorflow_stats.pb to ./my_logs/run_2023_01_11-12_16_11/train/plugins/profile/2023_01_11_12_38_33/c9ea16180903.tensorflow_stats.pb\n",
      "Dumped tool data for kernel_stats.pb to ./my_logs/run_2023_01_11-12_16_11/train/plugins/profile/2023_01_11_12_38_33/c9ea16180903.kernel_stats.pb\n",
      "\n"
     ]
    },
    {
     "name": "stdout",
     "output_type": "stream",
     "text": [
      "510/510 [==============================] - 2s 3ms/step - loss: 1.1511 - accuracy: 0.6198 - val_loss: 0.4116 - val_accuracy: 0.9315\n",
      "Epoch 2/100\n",
      "510/510 [==============================] - 1s 2ms/step - loss: 0.3699 - accuracy: 0.9329 - val_loss: 0.2608 - val_accuracy: 0.9429\n",
      "Epoch 3/100\n",
      "510/510 [==============================] - 1s 2ms/step - loss: 0.2517 - accuracy: 0.9434 - val_loss: 0.2081 - val_accuracy: 0.9497\n",
      "Epoch 4/100\n",
      "510/510 [==============================] - 1s 2ms/step - loss: 0.2037 - accuracy: 0.9523 - val_loss: 0.1809 - val_accuracy: 0.9530\n",
      "Epoch 5/100\n",
      "510/510 [==============================] - 1s 3ms/step - loss: 0.1812 - accuracy: 0.9548 - val_loss: 0.1637 - val_accuracy: 0.9567\n",
      "Epoch 6/100\n",
      "510/510 [==============================] - 1s 2ms/step - loss: 0.1644 - accuracy: 0.9564 - val_loss: 0.1522 - val_accuracy: 0.9583\n",
      "Epoch 7/100\n",
      "510/510 [==============================] - 1s 2ms/step - loss: 0.1501 - accuracy: 0.9593 - val_loss: 0.1436 - val_accuracy: 0.9611\n",
      "Epoch 8/100\n",
      "510/510 [==============================] - 1s 2ms/step - loss: 0.1437 - accuracy: 0.9596 - val_loss: 0.1377 - val_accuracy: 0.9619\n",
      "Epoch 9/100\n",
      "510/510 [==============================] - 1s 2ms/step - loss: 0.1402 - accuracy: 0.9613 - val_loss: 0.1328 - val_accuracy: 0.9622\n",
      "Epoch 10/100\n",
      "510/510 [==============================] - 1s 2ms/step - loss: 0.1261 - accuracy: 0.9651 - val_loss: 0.1291 - val_accuracy: 0.9632\n",
      "Epoch 11/100\n",
      "510/510 [==============================] - 1s 2ms/step - loss: 0.1263 - accuracy: 0.9641 - val_loss: 0.1261 - val_accuracy: 0.9639\n",
      "Epoch 12/100\n",
      "510/510 [==============================] - 1s 2ms/step - loss: 0.1238 - accuracy: 0.9644 - val_loss: 0.1238 - val_accuracy: 0.9650\n",
      "Epoch 13/100\n",
      "510/510 [==============================] - 1s 2ms/step - loss: 0.1273 - accuracy: 0.9626 - val_loss: 0.1214 - val_accuracy: 0.9655\n",
      "Epoch 14/100\n",
      "510/510 [==============================] - 2s 4ms/step - loss: 0.1129 - accuracy: 0.9676 - val_loss: 0.1197 - val_accuracy: 0.9663\n",
      "Epoch 15/100\n",
      "510/510 [==============================] - 2s 3ms/step - loss: 0.1161 - accuracy: 0.9686 - val_loss: 0.1181 - val_accuracy: 0.9658\n",
      "Epoch 16/100\n",
      "510/510 [==============================] - 2s 4ms/step - loss: 0.1100 - accuracy: 0.9692 - val_loss: 0.1172 - val_accuracy: 0.9662\n",
      "Epoch 17/100\n",
      "510/510 [==============================] - 2s 4ms/step - loss: 0.1135 - accuracy: 0.9666 - val_loss: 0.1161 - val_accuracy: 0.9662\n",
      "Epoch 18/100\n",
      "510/510 [==============================] - 2s 4ms/step - loss: 0.1121 - accuracy: 0.9675 - val_loss: 0.1156 - val_accuracy: 0.9658\n",
      "Epoch 19/100\n",
      "510/510 [==============================] - 2s 3ms/step - loss: 0.1150 - accuracy: 0.9665 - val_loss: 0.1145 - val_accuracy: 0.9663\n",
      "Epoch 20/100\n",
      "510/510 [==============================] - 1s 3ms/step - loss: 0.1070 - accuracy: 0.9680 - val_loss: 0.1134 - val_accuracy: 0.9668\n",
      "Epoch 21/100\n",
      "510/510 [==============================] - 1s 2ms/step - loss: 0.1107 - accuracy: 0.9665 - val_loss: 0.1128 - val_accuracy: 0.9671\n",
      "Epoch 22/100\n",
      "510/510 [==============================] - 1s 2ms/step - loss: 0.1075 - accuracy: 0.9673 - val_loss: 0.1119 - val_accuracy: 0.9676\n",
      "Epoch 23/100\n",
      "510/510 [==============================] - 1s 2ms/step - loss: 0.0983 - accuracy: 0.9721 - val_loss: 0.1113 - val_accuracy: 0.9670\n",
      "Epoch 24/100\n",
      "510/510 [==============================] - 1s 2ms/step - loss: 0.1047 - accuracy: 0.9680 - val_loss: 0.1114 - val_accuracy: 0.9679\n",
      "Epoch 25/100\n",
      "510/510 [==============================] - 1s 2ms/step - loss: 0.1011 - accuracy: 0.9705 - val_loss: 0.1106 - val_accuracy: 0.9670\n",
      "Epoch 26/100\n",
      "510/510 [==============================] - 1s 2ms/step - loss: 0.0976 - accuracy: 0.9696 - val_loss: 0.1104 - val_accuracy: 0.9675\n",
      "Epoch 27/100\n",
      "510/510 [==============================] - 1s 2ms/step - loss: 0.1041 - accuracy: 0.9709 - val_loss: 0.1100 - val_accuracy: 0.9683\n",
      "Epoch 28/100\n",
      "510/510 [==============================] - 1s 2ms/step - loss: 0.0996 - accuracy: 0.9713 - val_loss: 0.1094 - val_accuracy: 0.9684\n",
      "Epoch 29/100\n",
      "510/510 [==============================] - 1s 2ms/step - loss: 0.1010 - accuracy: 0.9702 - val_loss: 0.1095 - val_accuracy: 0.9684\n",
      "Epoch 30/100\n",
      "510/510 [==============================] - 1s 3ms/step - loss: 0.0983 - accuracy: 0.9704 - val_loss: 0.1092 - val_accuracy: 0.9684\n",
      "Epoch 31/100\n",
      "510/510 [==============================] - 1s 2ms/step - loss: 0.0952 - accuracy: 0.9716 - val_loss: 0.1088 - val_accuracy: 0.9688\n",
      "Epoch 32/100\n",
      "510/510 [==============================] - 1s 2ms/step - loss: 0.0959 - accuracy: 0.9705 - val_loss: 0.1085 - val_accuracy: 0.9686\n",
      "Epoch 33/100\n",
      "510/510 [==============================] - 1s 2ms/step - loss: 0.0907 - accuracy: 0.9731 - val_loss: 0.1085 - val_accuracy: 0.9684\n",
      "Epoch 34/100\n",
      "510/510 [==============================] - 1s 2ms/step - loss: 0.0934 - accuracy: 0.9730 - val_loss: 0.1084 - val_accuracy: 0.9684\n",
      "Epoch 35/100\n",
      "510/510 [==============================] - 1s 2ms/step - loss: 0.0913 - accuracy: 0.9747 - val_loss: 0.1082 - val_accuracy: 0.9688\n",
      "Epoch 36/100\n",
      "510/510 [==============================] - 1s 2ms/step - loss: 0.0996 - accuracy: 0.9734 - val_loss: 0.1082 - val_accuracy: 0.9679\n",
      "Epoch 37/100\n",
      "510/510 [==============================] - 1s 2ms/step - loss: 0.0970 - accuracy: 0.9711 - val_loss: 0.1083 - val_accuracy: 0.9679\n",
      "Epoch 38/100\n",
      "510/510 [==============================] - 1s 2ms/step - loss: 0.0924 - accuracy: 0.9727 - val_loss: 0.1079 - val_accuracy: 0.9679\n",
      "Epoch 39/100\n",
      "510/510 [==============================] - 1s 3ms/step - loss: 0.0963 - accuracy: 0.9709 - val_loss: 0.1077 - val_accuracy: 0.9683\n",
      "Epoch 40/100\n",
      "510/510 [==============================] - 1s 2ms/step - loss: 0.0956 - accuracy: 0.9716 - val_loss: 0.1081 - val_accuracy: 0.9668\n",
      "Epoch 41/100\n",
      "510/510 [==============================] - 1s 3ms/step - loss: 0.0899 - accuracy: 0.9732 - val_loss: 0.1080 - val_accuracy: 0.9679\n",
      "Epoch 42/100\n",
      "510/510 [==============================] - 1s 3ms/step - loss: 0.0984 - accuracy: 0.9724 - val_loss: 0.1074 - val_accuracy: 0.9675\n",
      "Epoch 43/100\n",
      "510/510 [==============================] - 1s 2ms/step - loss: 0.0888 - accuracy: 0.9745 - val_loss: 0.1072 - val_accuracy: 0.9676\n",
      "Epoch 44/100\n",
      "510/510 [==============================] - 1s 2ms/step - loss: 0.0963 - accuracy: 0.9719 - val_loss: 0.1070 - val_accuracy: 0.9675\n",
      "Epoch 45/100\n",
      "510/510 [==============================] - 1s 2ms/step - loss: 0.0921 - accuracy: 0.9728 - val_loss: 0.1070 - val_accuracy: 0.9684\n",
      "Epoch 46/100\n",
      "510/510 [==============================] - 1s 3ms/step - loss: 0.0895 - accuracy: 0.9734 - val_loss: 0.1069 - val_accuracy: 0.9684\n",
      "Epoch 47/100\n",
      "510/510 [==============================] - 1s 2ms/step - loss: 0.0919 - accuracy: 0.9732 - val_loss: 0.1069 - val_accuracy: 0.9684\n",
      "Epoch 48/100\n",
      "510/510 [==============================] - 1s 3ms/step - loss: 0.0939 - accuracy: 0.9729 - val_loss: 0.1071 - val_accuracy: 0.9673\n",
      "Epoch 49/100\n",
      "510/510 [==============================] - 1s 2ms/step - loss: 0.0914 - accuracy: 0.9748 - val_loss: 0.1075 - val_accuracy: 0.9675\n",
      "Epoch 50/100\n",
      "510/510 [==============================] - 1s 2ms/step - loss: 0.0907 - accuracy: 0.9740 - val_loss: 0.1071 - val_accuracy: 0.9675\n",
      "Epoch 51/100\n",
      "510/510 [==============================] - 1s 2ms/step - loss: 0.0901 - accuracy: 0.9743 - val_loss: 0.1069 - val_accuracy: 0.9679\n",
      "Epoch 52/100\n",
      "510/510 [==============================] - 1s 2ms/step - loss: 0.0860 - accuracy: 0.9743 - val_loss: 0.1073 - val_accuracy: 0.9670\n",
      "Epoch 53/100\n",
      "510/510 [==============================] - 1s 2ms/step - loss: 0.0892 - accuracy: 0.9751 - val_loss: 0.1070 - val_accuracy: 0.9678\n",
      "Epoch 54/100\n",
      "510/510 [==============================] - 1s 2ms/step - loss: 0.0943 - accuracy: 0.9730 - val_loss: 0.1070 - val_accuracy: 0.9678\n",
      "Epoch 55/100\n",
      "510/510 [==============================] - 1s 2ms/step - loss: 0.0845 - accuracy: 0.9748 - val_loss: 0.1069 - val_accuracy: 0.9683\n",
      "Epoch 56/100\n",
      "510/510 [==============================] - 1s 2ms/step - loss: 0.0823 - accuracy: 0.9758 - val_loss: 0.1071 - val_accuracy: 0.9679\n",
      "Epoch 57/100\n",
      "510/510 [==============================] - 1s 3ms/step - loss: 0.0812 - accuracy: 0.9754 - val_loss: 0.1066 - val_accuracy: 0.9678\n",
      "Epoch 58/100\n",
      "510/510 [==============================] - 1s 2ms/step - loss: 0.0910 - accuracy: 0.9729 - val_loss: 0.1070 - val_accuracy: 0.9673\n",
      "Epoch 59/100\n",
      "510/510 [==============================] - 1s 2ms/step - loss: 0.0811 - accuracy: 0.9769 - val_loss: 0.1077 - val_accuracy: 0.9668\n",
      "Epoch 60/100\n",
      "510/510 [==============================] - 1s 2ms/step - loss: 0.0839 - accuracy: 0.9759 - val_loss: 0.1065 - val_accuracy: 0.9683\n",
      "Epoch 61/100\n",
      "510/510 [==============================] - 1s 2ms/step - loss: 0.0803 - accuracy: 0.9779 - val_loss: 0.1073 - val_accuracy: 0.9676\n",
      "Epoch 62/100\n",
      "510/510 [==============================] - 1s 2ms/step - loss: 0.0831 - accuracy: 0.9766 - val_loss: 0.1068 - val_accuracy: 0.9676\n",
      "Epoch 63/100\n",
      "510/510 [==============================] - 1s 2ms/step - loss: 0.0822 - accuracy: 0.9759 - val_loss: 0.1075 - val_accuracy: 0.9679\n",
      "Epoch 64/100\n",
      "510/510 [==============================] - 1s 2ms/step - loss: 0.0832 - accuracy: 0.9784 - val_loss: 0.1070 - val_accuracy: 0.9675\n",
      "Epoch 65/100\n",
      "510/510 [==============================] - 1s 2ms/step - loss: 0.0830 - accuracy: 0.9759 - val_loss: 0.1067 - val_accuracy: 0.9675\n",
      "Epoch 66/100\n",
      "510/510 [==============================] - 1s 3ms/step - loss: 0.0808 - accuracy: 0.9767 - val_loss: 0.1074 - val_accuracy: 0.9678\n",
      "Epoch 67/100\n",
      "510/510 [==============================] - 2s 3ms/step - loss: 0.0841 - accuracy: 0.9759 - val_loss: 0.1069 - val_accuracy: 0.9675\n",
      "Epoch 68/100\n",
      "510/510 [==============================] - 1s 2ms/step - loss: 0.0811 - accuracy: 0.9773 - val_loss: 0.1074 - val_accuracy: 0.9670\n",
      "Epoch 69/100\n",
      "510/510 [==============================] - 1s 2ms/step - loss: 0.0825 - accuracy: 0.9760 - val_loss: 0.1067 - val_accuracy: 0.9673\n",
      "Epoch 70/100\n",
      "510/510 [==============================] - 2s 3ms/step - loss: 0.0814 - accuracy: 0.9755 - val_loss: 0.1077 - val_accuracy: 0.9668\n",
      "255/255 [==============================] - 1s 3ms/step - loss: 0.0961 - accuracy: 0.9730\n",
      "[CV]  n_neurons=32, n_hidden=0, learning_rate=0.00018126703470238868, total= 1.5min\n",
      "Epoch 1/100\n"
     ]
    },
    {
     "name": "stderr",
     "output_type": "stream",
     "text": [
      "[Parallel(n_jobs=1)]: Done  30 out of  30 | elapsed: 23.8min finished\n"
     ]
    },
    {
     "name": "stdout",
     "output_type": "stream",
     "text": [
      "  2/765 [..............................] - ETA: 3:33 - loss: 1.9312 - accuracy: 0.1797"
     ]
    },
    {
     "name": "stderr",
     "output_type": "stream",
     "text": [
      "2023-01-11 12:40:04.384337: I tensorflow/core/profiler/lib/profiler_session.cc:136] Profiler session initializing.\n",
      "2023-01-11 12:40:04.384402: I tensorflow/core/profiler/lib/profiler_session.cc:155] Profiler session started.\n"
     ]
    },
    {
     "name": "stdout",
     "output_type": "stream",
     "text": [
      " 46/765 [>.............................] - ETA: 10s - loss: 0.9146 - accuracy: 0.6542"
     ]
    },
    {
     "name": "stderr",
     "output_type": "stream",
     "text": [
      "2023-01-11 12:40:04.706073: I tensorflow/core/profiler/lib/profiler_session.cc:71] Profiler session collecting data.\n",
      "2023-01-11 12:40:04.706376: I tensorflow/core/profiler/internal/gpu/cupti_tracer.cc:1487] CUPTI activity buffer flushed\n",
      "2023-01-11 12:40:04.863470: I tensorflow/core/profiler/internal/gpu/cupti_collector.cc:228]  GpuTracer has collected 109 callback api events and 97 activity events. \n",
      "2023-01-11 12:40:04.870449: I tensorflow/core/profiler/lib/profiler_session.cc:172] Profiler session tear down.\n",
      "2023-01-11 12:40:04.876416: I tensorflow/core/profiler/rpc/client/save_profile.cc:137] Creating directory: ./my_logs/run_2023_01_11-12_16_11/train/plugins/profile/2023_01_11_12_40_04\n",
      "2023-01-11 12:40:04.880503: I tensorflow/core/profiler/rpc/client/save_profile.cc:143] Dumped gzipped tool data for trace.json.gz to ./my_logs/run_2023_01_11-12_16_11/train/plugins/profile/2023_01_11_12_40_04/c9ea16180903.trace.json.gz\n",
      "2023-01-11 12:40:04.888411: I tensorflow/core/profiler/rpc/client/save_profile.cc:137] Creating directory: ./my_logs/run_2023_01_11-12_16_11/train/plugins/profile/2023_01_11_12_40_04\n",
      "2023-01-11 12:40:04.889624: I tensorflow/core/profiler/rpc/client/save_profile.cc:143] Dumped gzipped tool data for memory_profile.json.gz to ./my_logs/run_2023_01_11-12_16_11/train/plugins/profile/2023_01_11_12_40_04/c9ea16180903.memory_profile.json.gz\n",
      "2023-01-11 12:40:04.890394: I tensorflow/core/profiler/rpc/client/capture_profile.cc:251] Creating directory: ./my_logs/run_2023_01_11-12_16_11/train/plugins/profile/2023_01_11_12_40_04Dumped tool data for xplane.pb to ./my_logs/run_2023_01_11-12_16_11/train/plugins/profile/2023_01_11_12_40_04/c9ea16180903.xplane.pb\n",
      "Dumped tool data for overview_page.pb to ./my_logs/run_2023_01_11-12_16_11/train/plugins/profile/2023_01_11_12_40_04/c9ea16180903.overview_page.pb\n",
      "Dumped tool data for input_pipeline.pb to ./my_logs/run_2023_01_11-12_16_11/train/plugins/profile/2023_01_11_12_40_04/c9ea16180903.input_pipeline.pb\n",
      "Dumped tool data for tensorflow_stats.pb to ./my_logs/run_2023_01_11-12_16_11/train/plugins/profile/2023_01_11_12_40_04/c9ea16180903.tensorflow_stats.pb\n",
      "Dumped tool data for kernel_stats.pb to ./my_logs/run_2023_01_11-12_16_11/train/plugins/profile/2023_01_11_12_40_04/c9ea16180903.kernel_stats.pb\n",
      "\n"
     ]
    },
    {
     "name": "stdout",
     "output_type": "stream",
     "text": [
      "765/765 [==============================] - 5s 5ms/step - loss: 0.2314 - accuracy: 0.9225 - val_loss: 0.0699 - val_accuracy: 0.9787\n",
      "Epoch 2/100\n",
      "765/765 [==============================] - 3s 4ms/step - loss: 0.0539 - accuracy: 0.9828 - val_loss: 0.0591 - val_accuracy: 0.9834\n",
      "Epoch 3/100\n",
      "765/765 [==============================] - 2s 3ms/step - loss: 0.0395 - accuracy: 0.9871 - val_loss: 0.0571 - val_accuracy: 0.9836\n",
      "Epoch 4/100\n",
      "765/765 [==============================] - 2s 3ms/step - loss: 0.0292 - accuracy: 0.9907 - val_loss: 0.0696 - val_accuracy: 0.9805\n",
      "Epoch 5/100\n",
      "765/765 [==============================] - 2s 2ms/step - loss: 0.0196 - accuracy: 0.9942 - val_loss: 0.0488 - val_accuracy: 0.9867\n",
      "Epoch 6/100\n",
      "765/765 [==============================] - 2s 3ms/step - loss: 0.0170 - accuracy: 0.9939 - val_loss: 0.0462 - val_accuracy: 0.9868\n",
      "Epoch 7/100\n",
      "765/765 [==============================] - 2s 3ms/step - loss: 0.0128 - accuracy: 0.9955 - val_loss: 0.0552 - val_accuracy: 0.9886\n",
      "Epoch 8/100\n",
      "765/765 [==============================] - 2s 3ms/step - loss: 0.0145 - accuracy: 0.9952 - val_loss: 0.0505 - val_accuracy: 0.9893\n",
      "Epoch 9/100\n",
      "765/765 [==============================] - 2s 3ms/step - loss: 0.0079 - accuracy: 0.9976 - val_loss: 0.0608 - val_accuracy: 0.9860\n",
      "Epoch 10/100\n",
      "765/765 [==============================] - 2s 3ms/step - loss: 0.0117 - accuracy: 0.9955 - val_loss: 0.0570 - val_accuracy: 0.9871\n",
      "Epoch 11/100\n",
      "765/765 [==============================] - 3s 4ms/step - loss: 0.0086 - accuracy: 0.9974 - val_loss: 0.0691 - val_accuracy: 0.9837\n",
      "Epoch 12/100\n",
      "765/765 [==============================] - 2s 2ms/step - loss: 0.0073 - accuracy: 0.9979 - val_loss: 0.0738 - val_accuracy: 0.9816\n",
      "Epoch 13/100\n",
      "765/765 [==============================] - 2s 2ms/step - loss: 0.0114 - accuracy: 0.9968 - val_loss: 0.0477 - val_accuracy: 0.9876\n",
      "Epoch 14/100\n",
      "765/765 [==============================] - 2s 2ms/step - loss: 0.0060 - accuracy: 0.9980 - val_loss: 0.0520 - val_accuracy: 0.9880\n",
      "Epoch 15/100\n",
      "765/765 [==============================] - 2s 2ms/step - loss: 0.0037 - accuracy: 0.9987 - val_loss: 0.0833 - val_accuracy: 0.9834\n",
      "Epoch 16/100\n",
      "765/765 [==============================] - 2s 2ms/step - loss: 0.0105 - accuracy: 0.9962 - val_loss: 0.0677 - val_accuracy: 0.9857\n"
     ]
    }
   ],
   "source": [
    "from scipy.stats import reciprocal\n",
    "from sklearn.model_selection import RandomizedSearchCV\n",
    "\n",
    "param_distribs = {\n",
    "    \"n_hidden\": [0, 1, 2, 3,4,5],\n",
    "    \"n_neurons\": np.arange(1, 100)               .tolist(),\n",
    "    \"learning_rate\": reciprocal(1e-4, 1e-2)      .rvs(1000).tolist(),\n",
    "}\n",
    "\n",
    "rnd_search_cv = RandomizedSearchCV(keras_reg, param_distribs, n_iter=10, cv=3, verbose=2)\n",
    "history=rnd_search_cv.fit(X_train_A, y_train_A, epochs=100,\n",
    "                  validation_data=(X_valid_A, y_valid_A),\n",
    "                  callbacks=[checkpoint_cb,early_stopping,tensorboard_cv])"
   ]
  },
  {
   "cell_type": "code",
   "execution_count": 39,
   "id": "86377c9b",
   "metadata": {
    "execution": {
     "iopub.execute_input": "2023-01-11T12:40:51.916620Z",
     "iopub.status.busy": "2023-01-11T12:40:51.914257Z",
     "iopub.status.idle": "2023-01-11T12:40:51.919282Z",
     "shell.execute_reply": "2023-01-11T12:40:51.918623Z",
     "shell.execute_reply.started": "2023-01-11T11:52:29.802795Z"
    },
    "papermill": {
     "duration": 5.849486,
     "end_time": "2023-01-11T12:40:51.919441",
     "exception": false,
     "start_time": "2023-01-11T12:40:46.069955",
     "status": "completed"
    },
    "tags": []
   },
   "outputs": [
    {
     "data": {
      "text/plain": [
       "{'n_neurons': 49, 'n_hidden': 5, 'learning_rate': 0.0009621255553195554}"
      ]
     },
     "execution_count": 39,
     "metadata": {},
     "output_type": "execute_result"
    }
   ],
   "source": [
    "rnd_search_cv.best_params_"
   ]
  },
  {
   "cell_type": "code",
   "execution_count": 40,
   "id": "ade0a263",
   "metadata": {
    "execution": {
     "iopub.execute_input": "2023-01-11T12:41:03.946536Z",
     "iopub.status.busy": "2023-01-11T12:41:03.945752Z",
     "iopub.status.idle": "2023-01-11T12:41:03.948500Z",
     "shell.execute_reply": "2023-01-11T12:41:03.948898Z",
     "shell.execute_reply.started": "2023-01-11T11:52:29.810846Z"
    },
    "papermill": {
     "duration": 6.294412,
     "end_time": "2023-01-11T12:41:03.949038",
     "exception": false,
     "start_time": "2023-01-11T12:40:57.654626",
     "status": "completed"
    },
    "tags": []
   },
   "outputs": [
    {
     "data": {
      "text/plain": [
       "0.986217220624288"
      ]
     },
     "execution_count": 40,
     "metadata": {},
     "output_type": "execute_result"
    }
   ],
   "source": [
    "rnd_search_cv.best_score_"
   ]
  },
  {
   "cell_type": "code",
   "execution_count": 41,
   "id": "199c8cec",
   "metadata": {
    "execution": {
     "iopub.execute_input": "2023-01-11T12:41:15.299392Z",
     "iopub.status.busy": "2023-01-11T12:41:15.298548Z",
     "iopub.status.idle": "2023-01-11T12:41:15.301515Z",
     "shell.execute_reply": "2023-01-11T12:41:15.301929Z",
     "shell.execute_reply.started": "2023-01-11T11:52:29.820974Z"
    },
    "papermill": {
     "duration": 5.772395,
     "end_time": "2023-01-11T12:41:15.302067",
     "exception": false,
     "start_time": "2023-01-11T12:41:09.529672",
     "status": "completed"
    },
    "tags": []
   },
   "outputs": [
    {
     "data": {
      "text/plain": [
       "<tensorflow.python.keras.wrappers.scikit_learn.KerasClassifier at 0x7f38c0a9c650>"
      ]
     },
     "execution_count": 41,
     "metadata": {},
     "output_type": "execute_result"
    }
   ],
   "source": [
    "rnd_search_cv.best_estimator_"
   ]
  },
  {
   "cell_type": "code",
   "execution_count": 42,
   "id": "b25ea783",
   "metadata": {
    "execution": {
     "iopub.execute_input": "2023-01-11T12:41:26.764490Z",
     "iopub.status.busy": "2023-01-11T12:41:26.763306Z",
     "iopub.status.idle": "2023-01-11T12:41:27.224526Z",
     "shell.execute_reply": "2023-01-11T12:41:27.225019Z",
     "shell.execute_reply.started": "2023-01-11T11:52:29.830759Z"
    },
    "papermill": {
     "duration": 6.330338,
     "end_time": "2023-01-11T12:41:27.225206",
     "exception": false,
     "start_time": "2023-01-11T12:41:20.894868",
     "status": "completed"
    },
    "tags": []
   },
   "outputs": [
    {
     "name": "stdout",
     "output_type": "stream",
     "text": [
      "161/161 [==============================] - 0s 2ms/step - loss: 0.0353 - accuracy: 0.9918\n"
     ]
    },
    {
     "data": {
      "text/plain": [
       "0.9918271899223328"
      ]
     },
     "execution_count": 42,
     "metadata": {},
     "output_type": "execute_result"
    }
   ],
   "source": [
    "rnd_search_cv.score(X_test_A,y_test_A)"
   ]
  },
  {
   "cell_type": "code",
   "execution_count": 43,
   "id": "934b3d11",
   "metadata": {
    "execution": {
     "iopub.execute_input": "2023-01-11T12:41:39.159669Z",
     "iopub.status.busy": "2023-01-11T12:41:39.158728Z",
     "iopub.status.idle": "2023-01-11T12:41:39.160774Z",
     "shell.execute_reply": "2023-01-11T12:41:39.161210Z",
     "shell.execute_reply.started": "2023-01-11T11:52:30.307044Z"
    },
    "papermill": {
     "duration": 5.915174,
     "end_time": "2023-01-11T12:41:39.161356",
     "exception": false,
     "start_time": "2023-01-11T12:41:33.246182",
     "status": "completed"
    },
    "tags": []
   },
   "outputs": [],
   "source": [
    "rnd_search_model=rnd_search_cv.best_estimator_.model"
   ]
  },
  {
   "cell_type": "code",
   "execution_count": 44,
   "id": "e85a61af",
   "metadata": {
    "execution": {
     "iopub.execute_input": "2023-01-11T12:41:50.502810Z",
     "iopub.status.busy": "2023-01-11T12:41:50.501740Z",
     "iopub.status.idle": "2023-01-11T12:41:50.826778Z",
     "shell.execute_reply": "2023-01-11T12:41:50.826014Z",
     "shell.execute_reply.started": "2023-01-11T11:52:30.313148Z"
    },
    "papermill": {
     "duration": 6.175816,
     "end_time": "2023-01-11T12:41:50.826922",
     "exception": false,
     "start_time": "2023-01-11T12:41:44.651106",
     "status": "completed"
    },
    "tags": []
   },
   "outputs": [
    {
     "name": "stdout",
     "output_type": "stream",
     "text": [
      "161/161 [==============================] - 0s 2ms/step - loss: 0.0353 - accuracy: 0.9918\n"
     ]
    }
   ],
   "source": [
    "loss,accuracy=rnd_search_model.evaluate(X_test_A,y_test_A)"
   ]
  },
  {
   "cell_type": "code",
   "execution_count": 45,
   "id": "6fdcaf9f",
   "metadata": {
    "execution": {
     "iopub.execute_input": "2023-01-11T12:42:02.390638Z",
     "iopub.status.busy": "2023-01-11T12:42:02.389946Z",
     "iopub.status.idle": "2023-01-11T12:42:02.393002Z",
     "shell.execute_reply": "2023-01-11T12:42:02.393601Z",
     "shell.execute_reply.started": "2023-01-11T11:52:30.642361Z"
    },
    "papermill": {
     "duration": 5.885077,
     "end_time": "2023-01-11T12:42:02.393789",
     "exception": false,
     "start_time": "2023-01-11T12:41:56.508712",
     "status": "completed"
    },
    "tags": []
   },
   "outputs": [
    {
     "name": "stdout",
     "output_type": "stream",
     "text": [
      "Rnd Model Loss:  0.03529118746519089\n",
      "Rnd Model Accuracy:  0.9918271899223328\n"
     ]
    }
   ],
   "source": [
    "print(\"Rnd Model Loss: \",loss)\n",
    "print(\"Rnd Model Accuracy: \",accuracy)"
   ]
  },
  {
   "cell_type": "markdown",
   "id": "b550aeb4",
   "metadata": {
    "papermill": {
     "duration": 5.895897,
     "end_time": "2023-01-11T12:42:14.318726",
     "exception": false,
     "start_time": "2023-01-11T12:42:08.422829",
     "status": "completed"
    },
    "tags": []
   },
   "source": [
    "Loss:  0.03795506805181503</br>\n",
    "Accuracy:  0.9926055669784546"
   ]
  },
  {
   "cell_type": "code",
   "execution_count": 46,
   "id": "a70e9ad2",
   "metadata": {
    "execution": {
     "iopub.execute_input": "2023-01-11T12:42:25.837956Z",
     "iopub.status.busy": "2023-01-11T12:42:25.837047Z",
     "iopub.status.idle": "2023-01-11T12:42:26.633567Z",
     "shell.execute_reply": "2023-01-11T12:42:26.634177Z",
     "shell.execute_reply.started": "2023-01-11T11:52:30.649782Z"
    },
    "papermill": {
     "duration": 6.463799,
     "end_time": "2023-01-11T12:42:26.634373",
     "exception": false,
     "start_time": "2023-01-11T12:42:20.170574",
     "status": "completed"
    },
    "tags": []
   },
   "outputs": [
    {
     "name": "stdout",
     "output_type": "stream",
     "text": [
      "161/161 [==============================] - 0s 2ms/step - loss: 0.0348 - accuracy: 0.9936\n",
      "Originial Loss:  0.034804265946149826\n",
      "Oringinal Accuracy:  0.9935784935951233\n"
     ]
    }
   ],
   "source": [
    "saved_model=keras.models.load_model('model0To4')\n",
    "loss,accuracy=saved_model.evaluate(X_test_A,y_test_A)\n",
    "print(\"Originial Loss: \",loss)\n",
    "print(\"Oringinal Accuracy: \",accuracy)"
   ]
  },
  {
   "cell_type": "markdown",
   "id": "d127fceb",
   "metadata": {
    "papermill": {
     "duration": 6.118878,
     "end_time": "2023-01-11T12:42:38.576464",
     "exception": false,
     "start_time": "2023-01-11T12:42:32.457586",
     "status": "completed"
    },
    "tags": []
   },
   "source": [
    "The orignial model work better than the tunning model"
   ]
  },
  {
   "cell_type": "code",
   "execution_count": 47,
   "id": "75b40baa",
   "metadata": {
    "execution": {
     "iopub.execute_input": "2023-01-11T12:42:50.024642Z",
     "iopub.status.busy": "2023-01-11T12:42:50.024039Z",
     "iopub.status.idle": "2023-01-11T12:42:50.029464Z",
     "shell.execute_reply": "2023-01-11T12:42:50.029960Z",
     "shell.execute_reply.started": "2023-01-11T11:55:02.852410Z"
    },
    "papermill": {
     "duration": 5.586974,
     "end_time": "2023-01-11T12:42:50.030209",
     "exception": false,
     "start_time": "2023-01-11T12:42:44.443235",
     "status": "completed"
    },
    "tags": []
   },
   "outputs": [
    {
     "data": {
      "text/html": [
       "<div>\n",
       "<style scoped>\n",
       "    .dataframe tbody tr th:only-of-type {\n",
       "        vertical-align: middle;\n",
       "    }\n",
       "\n",
       "    .dataframe tbody tr th {\n",
       "        vertical-align: top;\n",
       "    }\n",
       "\n",
       "    .dataframe thead th {\n",
       "        text-align: right;\n",
       "    }\n",
       "</style>\n",
       "<table border=\"1\" class=\"dataframe\">\n",
       "  <thead>\n",
       "    <tr style=\"text-align: right;\">\n",
       "      <th></th>\n",
       "      <th>Model</th>\n",
       "      <th>Loss</th>\n",
       "      <th>Accuracy</th>\n",
       "      <th>Epochs</th>\n",
       "    </tr>\n",
       "  </thead>\n",
       "  <tbody>\n",
       "    <tr>\n",
       "      <th>0</th>\n",
       "      <td>Basic Model</td>\n",
       "      <td>0.034804</td>\n",
       "      <td>0.993578</td>\n",
       "      <td>15.0</td>\n",
       "    </tr>\n",
       "    <tr>\n",
       "      <th>1</th>\n",
       "      <td>Cross Validation Model</td>\n",
       "      <td>0.034804</td>\n",
       "      <td>0.993578</td>\n",
       "      <td>0.0</td>\n",
       "    </tr>\n",
       "  </tbody>\n",
       "</table>\n",
       "</div>"
      ],
      "text/plain": [
       "                    Model      Loss  Accuracy  Epochs\n",
       "0             Basic Model  0.034804  0.993578    15.0\n",
       "1  Cross Validation Model  0.034804  0.993578     0.0"
      ]
     },
     "execution_count": 47,
     "metadata": {},
     "output_type": "execute_result"
    }
   ],
   "source": [
    "r = evaluation.shape[0]\n",
    "evaluation.loc[r] = ['Cross Validation Model',loss,accuracy,0]\n",
    "evaluation"
   ]
  },
  {
   "cell_type": "markdown",
   "id": "90dc1f1f",
   "metadata": {
    "papermill": {
     "duration": 5.58996,
     "end_time": "2023-01-11T12:43:01.377788",
     "exception": false,
     "start_time": "2023-01-11T12:42:55.787828",
     "status": "completed"
    },
    "tags": []
   },
   "source": [
    "Save the Rnd model"
   ]
  },
  {
   "cell_type": "code",
   "execution_count": 48,
   "id": "2006675e",
   "metadata": {
    "execution": {
     "iopub.execute_input": "2023-01-11T12:43:13.266854Z",
     "iopub.status.busy": "2023-01-11T12:43:13.266038Z",
     "iopub.status.idle": "2023-01-11T12:43:14.176895Z",
     "shell.execute_reply": "2023-01-11T12:43:14.176163Z",
     "shell.execute_reply.started": "2023-01-11T11:55:29.644310Z"
    },
    "papermill": {
     "duration": 6.48638,
     "end_time": "2023-01-11T12:43:14.177106",
     "exception": false,
     "start_time": "2023-01-11T12:43:07.690726",
     "status": "completed"
    },
    "tags": []
   },
   "outputs": [],
   "source": [
    "rnd_model=rnd_search_cv.best_estimator_.model\n",
    "rnd_model.save('rnd_model0To4')"
   ]
  },
  {
   "cell_type": "markdown",
   "id": "c76d6b58",
   "metadata": {
    "papermill": {
     "duration": 5.806072,
     "end_time": "2023-01-11T12:43:25.786936",
     "exception": false,
     "start_time": "2023-01-11T12:43:19.980864",
     "status": "completed"
    },
    "tags": []
   },
   "source": [
    "## Tune hyperparameters with the Keras Tuner"
   ]
  },
  {
   "cell_type": "markdown",
   "id": "baa9c5f7",
   "metadata": {
    "papermill": {
     "duration": 6.149901,
     "end_time": "2023-01-11T12:43:37.637329",
     "exception": false,
     "start_time": "2023-01-11T12:43:31.487428",
     "status": "completed"
    },
    "tags": []
   },
   "source": [
    "We can also use the Keras Tuner library to find the optimal set of hyperparameters."
   ]
  },
  {
   "cell_type": "markdown",
   "id": "c27a35a5",
   "metadata": {
    "papermill": {
     "duration": 5.764584,
     "end_time": "2023-01-11T12:43:49.265120",
     "exception": false,
     "start_time": "2023-01-11T12:43:43.500536",
     "status": "completed"
    },
    "tags": []
   },
   "source": [
    "Define the hyperparameter search space in addition to the model architecture. The model you set up for hypertuning is called a hypermodel."
   ]
  },
  {
   "cell_type": "code",
   "execution_count": 49,
   "id": "9fccbcf1",
   "metadata": {
    "execution": {
     "iopub.execute_input": "2023-01-11T12:44:00.802581Z",
     "iopub.status.busy": "2023-01-11T12:44:00.801858Z",
     "iopub.status.idle": "2023-01-11T12:44:00.805628Z",
     "shell.execute_reply": "2023-01-11T12:44:00.805174Z",
     "shell.execute_reply.started": "2023-01-11T11:55:30.596663Z"
    },
    "papermill": {
     "duration": 5.888045,
     "end_time": "2023-01-11T12:44:00.805746",
     "exception": false,
     "start_time": "2023-01-11T12:43:54.917701",
     "status": "completed"
    },
    "tags": []
   },
   "outputs": [],
   "source": [
    "def model_builder(hp):\n",
    "    model=keras.models.Sequential()\n",
    "    model.add(keras.layers.Flatten(input_shape=[28,28])) \n",
    "    \n",
    "    hp_hidden=hp.Int('hidden',min_value=0,max_value=5,step=1)\n",
    "    hp_units=hp.Int(\"units\",min_value=32,max_value=512,step=32)\n",
    "    for layer in range(hp_hidden):\n",
    "        model.add(keras.layers.Dense(units=hp_units,activation='elu',kernel_initializer='he_normal'))\n",
    "    model.add(keras.layers.Dense(5,activation='softmax'))\n",
    "\n",
    "    hp_learning_rate = hp.Choice('learning_rate', values=[1e-2, 1e-3, 1e-4])\n",
    "     \n",
    "    model.compile(loss='sparse_categorical_crossentropy',\n",
    "              optimizer=keras.optimizers.Adam(learning_rate=hp_learning_rate),\n",
    "              metrics=['accuracy'])\n",
    "    return model        "
   ]
  },
  {
   "cell_type": "markdown",
   "id": "bd38e7bc",
   "metadata": {
    "papermill": {
     "duration": 6.286893,
     "end_time": "2023-01-11T12:44:12.708853",
     "exception": false,
     "start_time": "2023-01-11T12:44:06.421960",
     "status": "completed"
    },
    "tags": []
   },
   "source": [
    "Instantiate the tuner to perform the hypertuning. "
   ]
  },
  {
   "cell_type": "code",
   "execution_count": 50,
   "id": "6d6180d3",
   "metadata": {
    "execution": {
     "iopub.execute_input": "2023-01-11T12:44:24.253012Z",
     "iopub.status.busy": "2023-01-11T12:44:24.248840Z",
     "iopub.status.idle": "2023-01-11T12:44:24.539533Z",
     "shell.execute_reply": "2023-01-11T12:44:24.538854Z",
     "shell.execute_reply.started": "2023-01-11T11:55:30.606205Z"
    },
    "papermill": {
     "duration": 6.235859,
     "end_time": "2023-01-11T12:44:24.539678",
     "exception": false,
     "start_time": "2023-01-11T12:44:18.303819",
     "status": "completed"
    },
    "tags": []
   },
   "outputs": [],
   "source": [
    "tuner=kt.Hyperband(model_builder,\n",
    "                   objective='val_accuracy',\n",
    "                   max_epochs=10,\n",
    "                   factor=3,\n",
    "                   directory='kt_tuner',\n",
    "                   project_name='kt_tuner_project')"
   ]
  },
  {
   "cell_type": "markdown",
   "id": "ee40bba4",
   "metadata": {
    "papermill": {
     "duration": 5.883552,
     "end_time": "2023-01-11T12:44:36.013158",
     "exception": false,
     "start_time": "2023-01-11T12:44:30.129606",
     "status": "completed"
    },
    "tags": []
   },
   "source": [
    "Run the hyperparameter search. "
   ]
  },
  {
   "cell_type": "code",
   "execution_count": 51,
   "id": "4336d729",
   "metadata": {
    "execution": {
     "iopub.execute_input": "2023-01-11T12:44:47.875857Z",
     "iopub.status.busy": "2023-01-11T12:44:47.874302Z",
     "iopub.status.idle": "2023-01-11T12:49:34.547677Z",
     "shell.execute_reply": "2023-01-11T12:49:34.548527Z",
     "shell.execute_reply.started": "2023-01-11T11:55:30.917877Z"
    },
    "papermill": {
     "duration": 292.453288,
     "end_time": "2023-01-11T12:49:34.548721",
     "exception": false,
     "start_time": "2023-01-11T12:44:42.095433",
     "status": "completed"
    },
    "tags": []
   },
   "outputs": [
    {
     "name": "stdout",
     "output_type": "stream",
     "text": [
      "Trial 30 Complete [00h 00m 16s]\n",
      "val_accuracy: 0.9864931106567383\n",
      "\n",
      "Best val_accuracy So Far: 0.9892595410346985\n",
      "Total elapsed time: 00h 04m 46s\n"
     ]
    }
   ],
   "source": [
    "stop_early = tf.keras.callbacks.EarlyStopping(monitor='val_loss', patience=5)\n",
    "tuner.search(X_train_A,y_train_A,epochs=30,validation_data=(X_valid_A,y_valid_A),callbacks=[stop_early])\n",
    "\n",
    "# Get the optimal hyperparameters\n",
    "best_hps=tuner.get_best_hyperparameters(num_trials=1)[0]"
   ]
  },
  {
   "cell_type": "code",
   "execution_count": 52,
   "id": "2ab67ae1",
   "metadata": {
    "execution": {
     "iopub.execute_input": "2023-01-11T12:49:45.888814Z",
     "iopub.status.busy": "2023-01-11T12:49:45.886725Z",
     "iopub.status.idle": "2023-01-11T12:49:45.891332Z",
     "shell.execute_reply": "2023-01-11T12:49:45.890697Z",
     "shell.execute_reply.started": "2023-01-11T12:00:22.161744Z"
    },
    "papermill": {
     "duration": 5.465175,
     "end_time": "2023-01-11T12:49:45.891486",
     "exception": false,
     "start_time": "2023-01-11T12:49:40.426311",
     "status": "completed"
    },
    "tags": []
   },
   "outputs": [
    {
     "name": "stdout",
     "output_type": "stream",
     "text": [
      "\n",
      "The hyperparameter search is complete. The optimal number of units in the first densely-connected\n",
      "layer is 288 and the optimal learning rate for the optimizer\n",
      "is 0.001 and the optimal hidden layer is 4.\n",
      "\n"
     ]
    }
   ],
   "source": [
    "\n",
    "print(f\"\"\"\n",
    "The hyperparameter search is complete. The optimal number of units in the first densely-connected\n",
    "layer is {best_hps.get('units')} and the optimal learning rate for the optimizer\n",
    "is {best_hps.get('learning_rate')} and the optimal hidden layer is {best_hps.get(\"hidden\")}.\n",
    "\"\"\")"
   ]
  },
  {
   "cell_type": "markdown",
   "id": "1e72c1b2",
   "metadata": {
    "papermill": {
     "duration": 6.170602,
     "end_time": "2023-01-11T12:49:57.828142",
     "exception": false,
     "start_time": "2023-01-11T12:49:51.657540",
     "status": "completed"
    },
    "tags": []
   },
   "source": [
    "Find the optimal number of epochs to train the model with the hyperparameters obtained from the search."
   ]
  },
  {
   "cell_type": "code",
   "execution_count": 53,
   "id": "c001eca7",
   "metadata": {
    "execution": {
     "iopub.execute_input": "2023-01-11T12:50:09.193769Z",
     "iopub.status.busy": "2023-01-11T12:50:09.192902Z",
     "iopub.status.idle": "2023-01-11T12:50:09.414905Z",
     "shell.execute_reply": "2023-01-11T12:50:09.414395Z",
     "shell.execute_reply.started": "2023-01-11T12:00:22.168965Z"
    },
    "papermill": {
     "duration": 5.788296,
     "end_time": "2023-01-11T12:50:09.415032",
     "exception": false,
     "start_time": "2023-01-11T12:50:03.626736",
     "status": "completed"
    },
    "tags": []
   },
   "outputs": [],
   "source": [
    "model=tuner.hypermodel.build(best_hps)"
   ]
  },
  {
   "cell_type": "code",
   "execution_count": 54,
   "id": "dff86ee9",
   "metadata": {
    "execution": {
     "iopub.execute_input": "2023-01-11T12:50:20.745702Z",
     "iopub.status.busy": "2023-01-11T12:50:20.744597Z",
     "iopub.status.idle": "2023-01-11T12:50:20.748185Z",
     "shell.execute_reply": "2023-01-11T12:50:20.749463Z",
     "shell.execute_reply.started": "2023-01-11T12:00:22.411950Z"
    },
    "papermill": {
     "duration": 5.568894,
     "end_time": "2023-01-11T12:50:20.749694",
     "exception": false,
     "start_time": "2023-01-11T12:50:15.180800",
     "status": "completed"
    },
    "tags": []
   },
   "outputs": [
    {
     "name": "stdout",
     "output_type": "stream",
     "text": [
      "Model: \"sequential\"\n",
      "_________________________________________________________________\n",
      "Layer (type)                 Output Shape              Param #   \n",
      "=================================================================\n",
      "flatten (Flatten)            (None, 784)               0         \n",
      "_________________________________________________________________\n",
      "dense (Dense)                (None, 288)               226080    \n",
      "_________________________________________________________________\n",
      "dense_1 (Dense)              (None, 288)               83232     \n",
      "_________________________________________________________________\n",
      "dense_2 (Dense)              (None, 288)               83232     \n",
      "_________________________________________________________________\n",
      "dense_3 (Dense)              (None, 288)               83232     \n",
      "_________________________________________________________________\n",
      "dense_4 (Dense)              (None, 5)                 1445      \n",
      "=================================================================\n",
      "Total params: 477,221\n",
      "Trainable params: 477,221\n",
      "Non-trainable params: 0\n",
      "_________________________________________________________________\n"
     ]
    }
   ],
   "source": [
    "model.summary()"
   ]
  },
  {
   "cell_type": "code",
   "execution_count": 55,
   "id": "b36c7e46",
   "metadata": {
    "execution": {
     "iopub.execute_input": "2023-01-11T12:50:32.912705Z",
     "iopub.status.busy": "2023-01-11T12:50:32.906574Z",
     "iopub.status.idle": "2023-01-11T12:51:16.508429Z",
     "shell.execute_reply": "2023-01-11T12:51:16.508882Z",
     "shell.execute_reply.started": "2023-01-11T12:00:22.426827Z"
    },
    "papermill": {
     "duration": 49.491143,
     "end_time": "2023-01-11T12:51:16.509044",
     "exception": false,
     "start_time": "2023-01-11T12:50:27.017901",
     "status": "completed"
    },
    "tags": []
   },
   "outputs": [
    {
     "name": "stderr",
     "output_type": "stream",
     "text": [
      "2023-01-11 12:50:32.564936: I tensorflow/core/profiler/lib/profiler_session.cc:136] Profiler session initializing.\n",
      "2023-01-11 12:50:32.564993: I tensorflow/core/profiler/lib/profiler_session.cc:155] Profiler session started.\n",
      "2023-01-11 12:50:32.758882: I tensorflow/core/profiler/lib/profiler_session.cc:172] Profiler session tear down.\n",
      "2023-01-11 12:50:32.759026: I tensorflow/core/profiler/internal/gpu/cupti_tracer.cc:1487] CUPTI activity buffer flushed\n"
     ]
    },
    {
     "name": "stdout",
     "output_type": "stream",
     "text": [
      "Epoch 1/100\n",
      "  2/765 [..............................] - ETA: 2:40 - loss: 2.2719 - accuracy: 0.1484"
     ]
    },
    {
     "name": "stderr",
     "output_type": "stream",
     "text": [
      "2023-01-11 12:50:33.347840: I tensorflow/core/profiler/lib/profiler_session.cc:136] Profiler session initializing.\n",
      "2023-01-11 12:50:33.347886: I tensorflow/core/profiler/lib/profiler_session.cc:155] Profiler session started.\n"
     ]
    },
    {
     "name": "stdout",
     "output_type": "stream",
     "text": [
      " 45/765 [>.............................] - ETA: 25s - loss: 0.7747 - accuracy: 0.7278"
     ]
    },
    {
     "name": "stderr",
     "output_type": "stream",
     "text": [
      "2023-01-11 12:50:34.564248: I tensorflow/core/profiler/lib/profiler_session.cc:71] Profiler session collecting data.\n",
      "2023-01-11 12:50:34.570159: I tensorflow/core/profiler/internal/gpu/cupti_tracer.cc:1487] CUPTI activity buffer flushed\n",
      "2023-01-11 12:50:34.727300: I tensorflow/core/profiler/internal/gpu/cupti_collector.cc:228]  GpuTracer has collected 108 callback api events and 96 activity events. \n",
      "2023-01-11 12:50:34.736590: I tensorflow/core/profiler/lib/profiler_session.cc:172] Profiler session tear down.\n",
      "2023-01-11 12:50:34.743569: I tensorflow/core/profiler/rpc/client/save_profile.cc:137] Creating directory: ./my_logs/run_2023_01_11-12_50_32/train/plugins/profile/2023_01_11_12_50_34\n",
      "2023-01-11 12:50:34.747208: I tensorflow/core/profiler/rpc/client/save_profile.cc:143] Dumped gzipped tool data for trace.json.gz to ./my_logs/run_2023_01_11-12_50_32/train/plugins/profile/2023_01_11_12_50_34/c9ea16180903.trace.json.gz\n",
      "2023-01-11 12:50:34.757283: I tensorflow/core/profiler/rpc/client/save_profile.cc:137] Creating directory: ./my_logs/run_2023_01_11-12_50_32/train/plugins/profile/2023_01_11_12_50_34\n",
      "2023-01-11 12:50:34.758804: I tensorflow/core/profiler/rpc/client/save_profile.cc:143] Dumped gzipped tool data for memory_profile.json.gz to ./my_logs/run_2023_01_11-12_50_32/train/plugins/profile/2023_01_11_12_50_34/c9ea16180903.memory_profile.json.gz\n",
      "2023-01-11 12:50:34.759561: I tensorflow/core/profiler/rpc/client/capture_profile.cc:251] Creating directory: ./my_logs/run_2023_01_11-12_50_32/train/plugins/profile/2023_01_11_12_50_34Dumped tool data for xplane.pb to ./my_logs/run_2023_01_11-12_50_32/train/plugins/profile/2023_01_11_12_50_34/c9ea16180903.xplane.pb\n",
      "Dumped tool data for overview_page.pb to ./my_logs/run_2023_01_11-12_50_32/train/plugins/profile/2023_01_11_12_50_34/c9ea16180903.overview_page.pb\n",
      "Dumped tool data for input_pipeline.pb to ./my_logs/run_2023_01_11-12_50_32/train/plugins/profile/2023_01_11_12_50_34/c9ea16180903.input_pipeline.pb\n",
      "Dumped tool data for tensorflow_stats.pb to ./my_logs/run_2023_01_11-12_50_32/train/plugins/profile/2023_01_11_12_50_34/c9ea16180903.tensorflow_stats.pb\n",
      "Dumped tool data for kernel_stats.pb to ./my_logs/run_2023_01_11-12_50_32/train/plugins/profile/2023_01_11_12_50_34/c9ea16180903.kernel_stats.pb\n",
      "\n"
     ]
    },
    {
     "name": "stdout",
     "output_type": "stream",
     "text": [
      "765/765 [==============================] - 4s 5ms/step - loss: 0.2088 - accuracy: 0.9331 - val_loss: 0.0968 - val_accuracy: 0.9754\n",
      "Epoch 2/100\n",
      "765/765 [==============================] - 2s 3ms/step - loss: 0.0713 - accuracy: 0.9786 - val_loss: 0.0606 - val_accuracy: 0.9841\n",
      "Epoch 3/100\n",
      "765/765 [==============================] - 2s 3ms/step - loss: 0.0542 - accuracy: 0.9840 - val_loss: 0.1175 - val_accuracy: 0.9738\n",
      "Epoch 4/100\n",
      "765/765 [==============================] - 2s 3ms/step - loss: 0.0472 - accuracy: 0.9858 - val_loss: 0.0686 - val_accuracy: 0.9808\n",
      "Epoch 5/100\n",
      "765/765 [==============================] - 2s 3ms/step - loss: 0.0277 - accuracy: 0.9923 - val_loss: 0.0618 - val_accuracy: 0.9831\n",
      "Epoch 6/100\n",
      "765/765 [==============================] - 2s 3ms/step - loss: 0.0290 - accuracy: 0.9914 - val_loss: 0.1548 - val_accuracy: 0.9679\n",
      "Epoch 7/100\n",
      "765/765 [==============================] - 2s 3ms/step - loss: 0.0368 - accuracy: 0.9892 - val_loss: 0.0550 - val_accuracy: 0.9857\n",
      "Epoch 8/100\n",
      "765/765 [==============================] - 2s 3ms/step - loss: 0.0242 - accuracy: 0.9932 - val_loss: 0.0735 - val_accuracy: 0.9810\n",
      "Epoch 9/100\n",
      "765/765 [==============================] - 3s 4ms/step - loss: 0.0205 - accuracy: 0.9940 - val_loss: 0.0770 - val_accuracy: 0.9860\n",
      "Epoch 10/100\n",
      "765/765 [==============================] - 2s 3ms/step - loss: 0.0258 - accuracy: 0.9932 - val_loss: 0.0559 - val_accuracy: 0.9873\n",
      "Epoch 11/100\n",
      "765/765 [==============================] - 2s 3ms/step - loss: 0.0113 - accuracy: 0.9962 - val_loss: 0.1326 - val_accuracy: 0.9761\n",
      "Epoch 12/100\n",
      "765/765 [==============================] - 2s 3ms/step - loss: 0.0200 - accuracy: 0.9936 - val_loss: 0.1004 - val_accuracy: 0.9832\n",
      "Epoch 13/100\n",
      "765/765 [==============================] - 2s 3ms/step - loss: 0.0179 - accuracy: 0.9945 - val_loss: 0.0893 - val_accuracy: 0.9841\n",
      "Epoch 14/100\n",
      "765/765 [==============================] - 2s 3ms/step - loss: 0.0170 - accuracy: 0.9960 - val_loss: 0.1041 - val_accuracy: 0.9832\n",
      "Epoch 15/100\n",
      "765/765 [==============================] - 2s 3ms/step - loss: 0.0207 - accuracy: 0.9950 - val_loss: 0.0602 - val_accuracy: 0.9894\n",
      "Epoch 16/100\n",
      "765/765 [==============================] - 2s 3ms/step - loss: 0.0069 - accuracy: 0.9975 - val_loss: 0.1121 - val_accuracy: 0.9868\n",
      "Epoch 17/100\n",
      "765/765 [==============================] - 2s 3ms/step - loss: 0.0205 - accuracy: 0.9956 - val_loss: 0.1198 - val_accuracy: 0.9862\n"
     ]
    }
   ],
   "source": [
    "early_stopping=keras.callbacks.EarlyStopping(patience=10)\n",
    "checkpoint_cb=keras.callbacks.ModelCheckpoint('modelKerasTuner',save_best_only=True)\n",
    "tensorboard_cv=keras.callbacks.TensorBoard(get_run_logdir())\n",
    "\n",
    "history=model.fit(X_train_A,y_train_A,\n",
    "                  epochs=100,\n",
    "                  validation_data=(X_valid_A,y_valid_A),\n",
    "                  callbacks=[checkpoint_cb,early_stopping,tensorboard_cv])"
   ]
  },
  {
   "cell_type": "code",
   "execution_count": 56,
   "id": "b2aea21c",
   "metadata": {
    "execution": {
     "iopub.execute_input": "2023-01-11T12:51:28.295508Z",
     "iopub.status.busy": "2023-01-11T12:51:28.294599Z",
     "iopub.status.idle": "2023-01-11T12:51:28.910446Z",
     "shell.execute_reply": "2023-01-11T12:51:28.911585Z",
     "shell.execute_reply.started": "2023-01-11T12:01:24.469858Z"
    },
    "papermill": {
     "duration": 6.36808,
     "end_time": "2023-01-11T12:51:28.911823",
     "exception": false,
     "start_time": "2023-01-11T12:51:22.543743",
     "status": "completed"
    },
    "tags": []
   },
   "outputs": [
    {
     "data": {
      "image/png": "[encoded data removed]",
      "text/plain": [
       "<Figure size 432x288 with 1 Axes>"
      ]
     },
     "metadata": {
      "needs_background": "light"
     },
     "output_type": "display_data"
    },
    {
     "data": {
      "image/png": "[encoded data removed]",
      "text/plain": [
       "<Figure size 432x288 with 1 Axes>"
      ]
     },
     "metadata": {
      "needs_background": "light"
     },
     "output_type": "display_data"
    }
   ],
   "source": [
    "# summarize history for accuracy\n",
    "plt.plot(history.history['accuracy'])\n",
    "plt.plot(history.history['val_accuracy'])\n",
    "plt.title('model accuracy')\n",
    "plt.ylabel('accuracy')\n",
    "plt.xlabel('epoch')\n",
    "plt.legend(['train', 'test'], loc='upper left')\n",
    "plt.show()\n",
    "# summarize history for loss\n",
    "plt.plot(history.history['loss'])\n",
    "plt.plot(history.history['val_loss'])\n",
    "plt.title('model loss')\n",
    "plt.ylabel('loss')\n",
    "plt.xlabel('epoch')\n",
    "plt.legend(['train', 'test'], loc='upper left')\n",
    "plt.show()"
   ]
  },
  {
   "cell_type": "code",
   "execution_count": 57,
   "id": "4b91d1de",
   "metadata": {
    "execution": {
     "iopub.execute_input": "2023-01-11T12:51:41.214547Z",
     "iopub.status.busy": "2023-01-11T12:51:41.213349Z",
     "iopub.status.idle": "2023-01-11T12:51:41.589911Z",
     "shell.execute_reply": "2023-01-11T12:51:41.590622Z",
     "shell.execute_reply.started": "2023-01-11T12:01:24.918106Z"
    },
    "papermill": {
     "duration": 6.459585,
     "end_time": "2023-01-11T12:51:41.590791",
     "exception": false,
     "start_time": "2023-01-11T12:51:35.131206",
     "status": "completed"
    },
    "tags": []
   },
   "outputs": [
    {
     "name": "stdout",
     "output_type": "stream",
     "text": [
      "161/161 [==============================] - 0s 2ms/step - loss: 0.0402 - accuracy: 0.9920\n"
     ]
    }
   ],
   "source": [
    "loss,accuracy=model.evaluate(X_test_A,y_test_A)"
   ]
  },
  {
   "cell_type": "code",
   "execution_count": 58,
   "id": "0af256d6",
   "metadata": {
    "execution": {
     "iopub.execute_input": "2023-01-11T12:51:53.258236Z",
     "iopub.status.busy": "2023-01-11T12:51:53.256289Z",
     "iopub.status.idle": "2023-01-11T12:51:53.260847Z",
     "shell.execute_reply": "2023-01-11T12:51:53.260209Z",
     "shell.execute_reply.started": "2023-01-11T12:01:25.287818Z"
    },
    "papermill": {
     "duration": 5.969322,
     "end_time": "2023-01-11T12:51:53.261007",
     "exception": false,
     "start_time": "2023-01-11T12:51:47.291685",
     "status": "completed"
    },
    "tags": []
   },
   "outputs": [
    {
     "name": "stdout",
     "output_type": "stream",
     "text": [
      "Keras Tuner Model Loss:  0.04017774760723114\n",
      "Keras Tuner Model Accuracy:  0.9920217990875244\n"
     ]
    }
   ],
   "source": [
    "print(\"Keras Tuner Model Loss: \",loss)\n",
    "print(\"Keras Tuner Model Accuracy: \",accuracy)"
   ]
  },
  {
   "cell_type": "markdown",
   "id": "679693cf",
   "metadata": {
    "papermill": {
     "duration": 6.532638,
     "end_time": "2023-01-11T12:52:05.528245",
     "exception": false,
     "start_time": "2023-01-11T12:51:58.995607",
     "status": "completed"
    },
    "tags": []
   },
   "source": [
    "Keras Tuner model perfrom better than the original model"
   ]
  },
  {
   "cell_type": "code",
   "execution_count": 59,
   "id": "06384902",
   "metadata": {
    "execution": {
     "iopub.execute_input": "2023-01-11T12:52:17.108181Z",
     "iopub.status.busy": "2023-01-11T12:52:17.107549Z",
     "iopub.status.idle": "2023-01-11T12:52:17.113008Z",
     "shell.execute_reply": "2023-01-11T12:52:17.113473Z",
     "shell.execute_reply.started": "2023-01-11T12:01:25.295000Z"
    },
    "papermill": {
     "duration": 5.941815,
     "end_time": "2023-01-11T12:52:17.113625",
     "exception": false,
     "start_time": "2023-01-11T12:52:11.171810",
     "status": "completed"
    },
    "tags": []
   },
   "outputs": [
    {
     "data": {
      "text/html": [
       "<div>\n",
       "<style scoped>\n",
       "    .dataframe tbody tr th:only-of-type {\n",
       "        vertical-align: middle;\n",
       "    }\n",
       "\n",
       "    .dataframe tbody tr th {\n",
       "        vertical-align: top;\n",
       "    }\n",
       "\n",
       "    .dataframe thead th {\n",
       "        text-align: right;\n",
       "    }\n",
       "</style>\n",
       "<table border=\"1\" class=\"dataframe\">\n",
       "  <thead>\n",
       "    <tr style=\"text-align: right;\">\n",
       "      <th></th>\n",
       "      <th>Model</th>\n",
       "      <th>Loss</th>\n",
       "      <th>Accuracy</th>\n",
       "      <th>Epochs</th>\n",
       "    </tr>\n",
       "  </thead>\n",
       "  <tbody>\n",
       "    <tr>\n",
       "      <th>0</th>\n",
       "      <td>Basic Model</td>\n",
       "      <td>0.034804</td>\n",
       "      <td>0.993578</td>\n",
       "      <td>15.0</td>\n",
       "    </tr>\n",
       "    <tr>\n",
       "      <th>1</th>\n",
       "      <td>Cross Validation Model</td>\n",
       "      <td>0.034804</td>\n",
       "      <td>0.993578</td>\n",
       "      <td>0.0</td>\n",
       "    </tr>\n",
       "    <tr>\n",
       "      <th>2</th>\n",
       "      <td>Keras Tuner Model</td>\n",
       "      <td>0.040178</td>\n",
       "      <td>0.992022</td>\n",
       "      <td>17.0</td>\n",
       "    </tr>\n",
       "  </tbody>\n",
       "</table>\n",
       "</div>"
      ],
      "text/plain": [
       "                    Model      Loss  Accuracy  Epochs\n",
       "0             Basic Model  0.034804  0.993578    15.0\n",
       "1  Cross Validation Model  0.034804  0.993578     0.0\n",
       "2       Keras Tuner Model  0.040178  0.992022    17.0"
      ]
     },
     "execution_count": 59,
     "metadata": {},
     "output_type": "execute_result"
    }
   ],
   "source": [
    "r = evaluation.shape[0]\n",
    "evaluation.loc[r] = ['Keras Tuner Model',loss,accuracy,len(history.history['loss'])]\n",
    "evaluation"
   ]
  },
  {
   "cell_type": "markdown",
   "id": "8569ea7c",
   "metadata": {
    "papermill": {
     "duration": 5.976156,
     "end_time": "2023-01-11T12:52:28.795499",
     "exception": false,
     "start_time": "2023-01-11T12:52:22.819343",
     "status": "completed"
    },
    "tags": []
   },
   "source": [
    "# Batch Normalization"
   ]
  },
  {
   "cell_type": "markdown",
   "id": "2eadcb2a",
   "metadata": {
    "papermill": {
     "duration": 6.171543,
     "end_time": "2023-01-11T12:52:41.203880",
     "exception": false,
     "start_time": "2023-01-11T12:52:35.032337",
     "status": "completed"
    },
    "tags": []
   },
   "source": [
    "I added a BN layer after every Dense layer (before the activation function), except for the output layer. I also added a BN layer before the first hidden layer."
   ]
  },
  {
   "cell_type": "code",
   "execution_count": 60,
   "id": "d78e551d",
   "metadata": {
    "execution": {
     "iopub.execute_input": "2023-01-11T12:52:52.836024Z",
     "iopub.status.busy": "2023-01-11T12:52:52.835121Z",
     "iopub.status.idle": "2023-01-11T12:52:53.297699Z",
     "shell.execute_reply": "2023-01-11T12:52:53.296984Z",
     "shell.execute_reply.started": "2023-01-11T12:01:25.316997Z"
    },
    "papermill": {
     "duration": 6.135314,
     "end_time": "2023-01-11T12:52:53.297875",
     "exception": false,
     "start_time": "2023-01-11T12:52:47.162561",
     "status": "completed"
    },
    "tags": []
   },
   "outputs": [
    {
     "name": "stderr",
     "output_type": "stream",
     "text": [
      "2023-01-11 12:52:52.933289: I tensorflow/core/profiler/lib/profiler_session.cc:136] Profiler session initializing.\n",
      "2023-01-11 12:52:52.933340: I tensorflow/core/profiler/lib/profiler_session.cc:155] Profiler session started.\n",
      "2023-01-11 12:52:53.137008: I tensorflow/core/profiler/lib/profiler_session.cc:172] Profiler session tear down.\n",
      "2023-01-11 12:52:53.137526: I tensorflow/core/profiler/internal/gpu/cupti_tracer.cc:1487] CUPTI activity buffer flushed\n"
     ]
    }
   ],
   "source": [
    "model=keras.models.Sequential()\n",
    "model.add(keras.layers.Flatten(input_shape=[28,28]))\n",
    "model.add(keras.layers.BatchNormalization())\n",
    "for _ in range(best_hps.get(\"hidden\")):\n",
    "    model.add(keras.layers.Dense(best_hps.get(\"units\"),activation='elu',kernel_initializer='he_normal'))\n",
    "    model.add(keras.layers.BatchNormalization())\n",
    "model.add(keras.layers.Dense(5,activation='softmax'))\n",
    "\n",
    "optimizer=keras.optimizers.Adam(learning_rate=best_hps.get(\"learning_rate\"))\n",
    "model.compile(loss='sparse_categorical_crossentropy',\n",
    "              optimizer=optimizer,\n",
    "              metrics=['accuracy'])\n",
    "\n",
    "\n",
    "early_stopping=keras.callbacks.EarlyStopping(patience=10)\n",
    "checkpoint_cb=keras.callbacks.ModelCheckpoint('model_digit0To4BN',save_best_only=True)\n",
    "tensorboard_cv=keras.callbacks.TensorBoard(get_run_logdir())"
   ]
  },
  {
   "cell_type": "code",
   "execution_count": 61,
   "id": "9cc20c76",
   "metadata": {
    "execution": {
     "iopub.execute_input": "2023-01-11T12:53:05.585956Z",
     "iopub.status.busy": "2023-01-11T12:53:05.585076Z",
     "iopub.status.idle": "2023-01-11T12:53:05.589641Z",
     "shell.execute_reply": "2023-01-11T12:53:05.590033Z",
     "shell.execute_reply.started": "2023-01-11T12:01:25.798501Z"
    },
    "papermill": {
     "duration": 6.237918,
     "end_time": "2023-01-11T12:53:05.590199",
     "exception": false,
     "start_time": "2023-01-11T12:52:59.352281",
     "status": "completed"
    },
    "tags": []
   },
   "outputs": [
    {
     "name": "stdout",
     "output_type": "stream",
     "text": [
      "Model: \"sequential_1\"\n",
      "_________________________________________________________________\n",
      "Layer (type)                 Output Shape              Param #   \n",
      "=================================================================\n",
      "flatten_1 (Flatten)          (None, 784)               0         \n",
      "_________________________________________________________________\n",
      "batch_normalization (BatchNo (None, 784)               3136      \n",
      "_________________________________________________________________\n",
      "dense_5 (Dense)              (None, 288)               226080    \n",
      "_________________________________________________________________\n",
      "batch_normalization_1 (Batch (None, 288)               1152      \n",
      "_________________________________________________________________\n",
      "dense_6 (Dense)              (None, 288)               83232     \n",
      "_________________________________________________________________\n",
      "batch_normalization_2 (Batch (None, 288)               1152      \n",
      "_________________________________________________________________\n",
      "dense_7 (Dense)              (None, 288)               83232     \n",
      "_________________________________________________________________\n",
      "batch_normalization_3 (Batch (None, 288)               1152      \n",
      "_________________________________________________________________\n",
      "dense_8 (Dense)              (None, 288)               83232     \n",
      "_________________________________________________________________\n",
      "batch_normalization_4 (Batch (None, 288)               1152      \n",
      "_________________________________________________________________\n",
      "dense_9 (Dense)              (None, 5)                 1445      \n",
      "=================================================================\n",
      "Total params: 484,965\n",
      "Trainable params: 481,093\n",
      "Non-trainable params: 3,872\n",
      "_________________________________________________________________\n"
     ]
    }
   ],
   "source": [
    "model.summary()"
   ]
  },
  {
   "cell_type": "code",
   "execution_count": 62,
   "id": "1d6543d2",
   "metadata": {
    "execution": {
     "iopub.execute_input": "2023-01-11T12:53:17.221102Z",
     "iopub.status.busy": "2023-01-11T12:53:17.219969Z",
     "iopub.status.idle": "2023-01-11T12:55:29.109282Z",
     "shell.execute_reply": "2023-01-11T12:55:28.963112Z",
     "shell.execute_reply.started": "2023-01-11T12:01:25.814839Z"
    },
    "papermill": {
     "duration": 137.555458,
     "end_time": "2023-01-11T12:55:29.109476",
     "exception": false,
     "start_time": "2023-01-11T12:53:11.554018",
     "status": "completed"
    },
    "tags": []
   },
   "outputs": [
    {
     "name": "stdout",
     "output_type": "stream",
     "text": [
      "Epoch 1/100\n",
      "  2/765 [..............................] - ETA: 2:58 - loss: 1.8144 - accuracy: 0.2812 "
     ]
    },
    {
     "name": "stderr",
     "output_type": "stream",
     "text": [
      "2023-01-11 12:53:18.447156: I tensorflow/core/profiler/lib/profiler_session.cc:136] Profiler session initializing.\n",
      "2023-01-11 12:53:18.447198: I tensorflow/core/profiler/lib/profiler_session.cc:155] Profiler session started.\n"
     ]
    },
    {
     "name": "stdout",
     "output_type": "stream",
     "text": [
      " 35/765 [>.............................] - ETA: 14s - loss: 0.6126 - accuracy: 0.7644"
     ]
    },
    {
     "name": "stderr",
     "output_type": "stream",
     "text": [
      "2023-01-11 12:53:18.714613: I tensorflow/core/profiler/lib/profiler_session.cc:71] Profiler session collecting data.\n",
      "2023-01-11 12:53:18.715135: I tensorflow/core/profiler/internal/gpu/cupti_tracer.cc:1487] CUPTI activity buffer flushed\n",
      "2023-01-11 12:53:18.860326: I tensorflow/core/profiler/internal/gpu/cupti_collector.cc:228]  GpuTracer has collected 298 callback api events and 286 activity events. \n",
      "2023-01-11 12:53:18.871592: I tensorflow/core/profiler/lib/profiler_session.cc:172] Profiler session tear down.\n",
      "2023-01-11 12:53:18.884231: I tensorflow/core/profiler/rpc/client/save_profile.cc:137] Creating directory: ./my_logs/run_2023_01_11-12_52_52/train/plugins/profile/2023_01_11_12_53_18\n",
      "2023-01-11 12:53:18.892475: I tensorflow/core/profiler/rpc/client/save_profile.cc:143] Dumped gzipped tool data for trace.json.gz to ./my_logs/run_2023_01_11-12_52_52/train/plugins/profile/2023_01_11_12_53_18/c9ea16180903.trace.json.gz\n",
      "2023-01-11 12:53:18.907203: I tensorflow/core/profiler/rpc/client/save_profile.cc:137] Creating directory: ./my_logs/run_2023_01_11-12_52_52/train/plugins/profile/2023_01_11_12_53_18\n",
      "2023-01-11 12:53:18.909851: I tensorflow/core/profiler/rpc/client/save_profile.cc:143] Dumped gzipped tool data for memory_profile.json.gz to ./my_logs/run_2023_01_11-12_52_52/train/plugins/profile/2023_01_11_12_53_18/c9ea16180903.memory_profile.json.gz\n",
      "2023-01-11 12:53:18.910812: I tensorflow/core/profiler/rpc/client/capture_profile.cc:251] Creating directory: ./my_logs/run_2023_01_11-12_52_52/train/plugins/profile/2023_01_11_12_53_18Dumped tool data for xplane.pb to ./my_logs/run_2023_01_11-12_52_52/train/plugins/profile/2023_01_11_12_53_18/c9ea16180903.xplane.pb\n",
      "Dumped tool data for overview_page.pb to ./my_logs/run_2023_01_11-12_52_52/train/plugins/profile/2023_01_11_12_53_18/c9ea16180903.overview_page.pb\n",
      "Dumped tool data for input_pipeline.pb to ./my_logs/run_2023_01_11-12_52_52/train/plugins/profile/2023_01_11_12_53_18/c9ea16180903.input_pipeline.pb\n",
      "Dumped tool data for tensorflow_stats.pb to ./my_logs/run_2023_01_11-12_52_52/train/plugins/profile/2023_01_11_12_53_18/c9ea16180903.tensorflow_stats.pb\n",
      "Dumped tool data for kernel_stats.pb to ./my_logs/run_2023_01_11-12_52_52/train/plugins/profile/2023_01_11_12_53_18/c9ea16180903.kernel_stats.pb\n",
      "\n"
     ]
    },
    {
     "name": "stdout",
     "output_type": "stream",
     "text": [
      "765/765 [==============================] - 6s 7ms/step - loss: 0.2026 - accuracy: 0.9330 - val_loss: 0.0674 - val_accuracy: 0.9803\n",
      "Epoch 2/100\n",
      "765/765 [==============================] - 4s 5ms/step - loss: 0.0598 - accuracy: 0.9802 - val_loss: 0.0692 - val_accuracy: 0.9808\n",
      "Epoch 3/100\n",
      "765/765 [==============================] - 5s 6ms/step - loss: 0.0653 - accuracy: 0.9766 - val_loss: 0.0578 - val_accuracy: 0.9847\n",
      "Epoch 4/100\n",
      "765/765 [==============================] - 4s 5ms/step - loss: 0.0345 - accuracy: 0.9899 - val_loss: 0.0569 - val_accuracy: 0.9863\n",
      "Epoch 5/100\n",
      "765/765 [==============================] - 4s 5ms/step - loss: 0.0398 - accuracy: 0.9881 - val_loss: 0.0528 - val_accuracy: 0.9855\n",
      "Epoch 6/100\n",
      "765/765 [==============================] - 4s 6ms/step - loss: 0.0335 - accuracy: 0.9901 - val_loss: 0.0558 - val_accuracy: 0.9862\n",
      "Epoch 7/100\n",
      "765/765 [==============================] - 4s 5ms/step - loss: 0.0337 - accuracy: 0.9890 - val_loss: 0.0731 - val_accuracy: 0.9819\n",
      "Epoch 8/100\n",
      "765/765 [==============================] - 4s 5ms/step - loss: 0.0255 - accuracy: 0.9917 - val_loss: 0.0562 - val_accuracy: 0.9854\n",
      "Epoch 9/100\n",
      "765/765 [==============================] - 5s 6ms/step - loss: 0.0241 - accuracy: 0.9925 - val_loss: 0.0629 - val_accuracy: 0.9860\n",
      "Epoch 10/100\n",
      "765/765 [==============================] - 4s 5ms/step - loss: 0.0188 - accuracy: 0.9942 - val_loss: 0.0896 - val_accuracy: 0.9836\n",
      "Epoch 11/100\n",
      "765/765 [==============================] - 4s 6ms/step - loss: 0.0190 - accuracy: 0.9938 - val_loss: 0.0667 - val_accuracy: 0.9852\n",
      "Epoch 12/100\n",
      "765/765 [==============================] - 4s 5ms/step - loss: 0.0122 - accuracy: 0.9961 - val_loss: 0.0553 - val_accuracy: 0.9880\n",
      "Epoch 13/100\n",
      "765/765 [==============================] - 4s 5ms/step - loss: 0.0209 - accuracy: 0.9938 - val_loss: 0.0545 - val_accuracy: 0.9894\n",
      "Epoch 14/100\n",
      "765/765 [==============================] - 4s 6ms/step - loss: 0.0095 - accuracy: 0.9973 - val_loss: 0.0472 - val_accuracy: 0.9883\n",
      "Epoch 15/100\n",
      "765/765 [==============================] - 4s 5ms/step - loss: 0.0070 - accuracy: 0.9979 - val_loss: 0.0633 - val_accuracy: 0.9847\n",
      "Epoch 16/100\n",
      "765/765 [==============================] - 5s 7ms/step - loss: 0.0228 - accuracy: 0.9929 - val_loss: 0.0435 - val_accuracy: 0.9891\n",
      "Epoch 17/100\n",
      "765/765 [==============================] - 4s 5ms/step - loss: 0.0120 - accuracy: 0.9965 - val_loss: 0.0494 - val_accuracy: 0.9886\n",
      "Epoch 18/100\n",
      "765/765 [==============================] - 4s 6ms/step - loss: 0.0044 - accuracy: 0.9989 - val_loss: 0.0760 - val_accuracy: 0.9865\n",
      "Epoch 19/100\n",
      "765/765 [==============================] - 4s 5ms/step - loss: 0.0103 - accuracy: 0.9968 - val_loss: 0.0579 - val_accuracy: 0.9891\n",
      "Epoch 20/100\n",
      "765/765 [==============================] - 4s 5ms/step - loss: 0.0082 - accuracy: 0.9975 - val_loss: 0.0755 - val_accuracy: 0.9865\n",
      "Epoch 21/100\n",
      "765/765 [==============================] - 4s 6ms/step - loss: 0.0106 - accuracy: 0.9960 - val_loss: 0.0703 - val_accuracy: 0.9870\n",
      "Epoch 22/100\n",
      "765/765 [==============================] - 4s 5ms/step - loss: 0.0122 - accuracy: 0.9962 - val_loss: 0.0554 - val_accuracy: 0.9904\n",
      "Epoch 23/100\n",
      "765/765 [==============================] - 5s 6ms/step - loss: 0.0068 - accuracy: 0.9980 - val_loss: 0.0570 - val_accuracy: 0.9896\n",
      "Epoch 24/100\n",
      "765/765 [==============================] - 4s 5ms/step - loss: 0.0088 - accuracy: 0.9978 - val_loss: 0.0582 - val_accuracy: 0.9883\n",
      "Epoch 25/100\n",
      "765/765 [==============================] - 5s 7ms/step - loss: 0.0078 - accuracy: 0.9977 - val_loss: 0.0450 - val_accuracy: 0.9902\n",
      "Epoch 26/100\n",
      "765/765 [==============================] - 6s 8ms/step - loss: 0.0048 - accuracy: 0.9983 - val_loss: 0.0583 - val_accuracy: 0.9893\n"
     ]
    }
   ],
   "source": [
    "history=model.fit(X_train_A,y_train_A,\n",
    "                  epochs=100,\n",
    "                  validation_data=(X_valid_A,y_valid_A),\n",
    "                  callbacks=[checkpoint_cb,early_stopping,tensorboard_cv])"
   ]
  },
  {
   "cell_type": "code",
   "execution_count": 63,
   "id": "59bdd079",
   "metadata": {
    "execution": {
     "iopub.execute_input": "2023-01-11T12:55:42.380773Z",
     "iopub.status.busy": "2023-01-11T12:55:42.379887Z",
     "iopub.status.idle": "2023-01-11T12:55:42.954017Z",
     "shell.execute_reply": "2023-01-11T12:55:42.954918Z",
     "shell.execute_reply.started": "2023-01-11T12:02:50.682021Z"
    },
    "papermill": {
     "duration": 7.331615,
     "end_time": "2023-01-11T12:55:42.955141",
     "exception": false,
     "start_time": "2023-01-11T12:55:35.623526",
     "status": "completed"
    },
    "tags": []
   },
   "outputs": [
    {
     "data": {
      "image/png": "[encoded data removed]",
      "text/plain": [
       "<Figure size 432x288 with 1 Axes>"
      ]
     },
     "metadata": {
      "needs_background": "light"
     },
     "output_type": "display_data"
    },
    {
     "data": {
      "image/png": "[encoded data removed]",
      "text/plain": [
       "<Figure size 432x288 with 1 Axes>"
      ]
     },
     "metadata": {
      "needs_background": "light"
     },
     "output_type": "display_data"
    }
   ],
   "source": [
    "# summarize history for accuracy\n",
    "plt.plot(history.history['accuracy'])\n",
    "plt.plot(history.history['val_accuracy'])\n",
    "plt.title('model accuracy')\n",
    "plt.ylabel('accuracy')\n",
    "plt.xlabel('epoch')\n",
    "plt.legend(['train', 'test'], loc='upper left')\n",
    "plt.show()\n",
    "# summarize history for loss\n",
    "plt.plot(history.history['loss'])\n",
    "plt.plot(history.history['val_loss'])\n",
    "plt.title('model loss')\n",
    "plt.ylabel('loss')\n",
    "plt.xlabel('epoch')\n",
    "plt.legend(['train', 'test'], loc='upper left')\n",
    "plt.show()"
   ]
  },
  {
   "cell_type": "code",
   "execution_count": 64,
   "id": "57a70876",
   "metadata": {
    "execution": {
     "iopub.execute_input": "2023-01-11T12:55:55.690847Z",
     "iopub.status.busy": "2023-01-11T12:55:55.689760Z",
     "iopub.status.idle": "2023-01-11T12:55:56.083412Z",
     "shell.execute_reply": "2023-01-11T12:55:56.084350Z",
     "shell.execute_reply.started": "2023-01-11T12:02:51.133042Z"
    },
    "papermill": {
     "duration": 6.82205,
     "end_time": "2023-01-11T12:55:56.084521",
     "exception": false,
     "start_time": "2023-01-11T12:55:49.262471",
     "status": "completed"
    },
    "tags": []
   },
   "outputs": [
    {
     "name": "stdout",
     "output_type": "stream",
     "text": [
      "161/161 [==============================] - 0s 2ms/step - loss: 0.0426 - accuracy: 0.9907\n"
     ]
    }
   ],
   "source": [
    "loss,accuracy=model.evaluate(X_test_A,y_test_A)"
   ]
  },
  {
   "cell_type": "code",
   "execution_count": 65,
   "id": "a588af21",
   "metadata": {
    "execution": {
     "iopub.execute_input": "2023-01-11T12:56:08.795424Z",
     "iopub.status.busy": "2023-01-11T12:56:08.794664Z",
     "iopub.status.idle": "2023-01-11T12:56:08.797698Z",
     "shell.execute_reply": "2023-01-11T12:56:08.798317Z",
     "shell.execute_reply.started": "2023-01-11T12:02:51.557963Z"
    },
    "papermill": {
     "duration": 6.429324,
     "end_time": "2023-01-11T12:56:08.798533",
     "exception": false,
     "start_time": "2023-01-11T12:56:02.369209",
     "status": "completed"
    },
    "tags": []
   },
   "outputs": [
    {
     "name": "stdout",
     "output_type": "stream",
     "text": [
      "Loss:  0.04260221868753433\n",
      "Accuracy:  0.9906596541404724\n"
     ]
    }
   ],
   "source": [
    "print(\"Loss: \",loss)\n",
    "print(\"Accuracy: \",accuracy)"
   ]
  },
  {
   "cell_type": "code",
   "execution_count": 66,
   "id": "55a51630",
   "metadata": {
    "execution": {
     "iopub.execute_input": "2023-01-11T12:56:21.824856Z",
     "iopub.status.busy": "2023-01-11T12:56:21.823393Z",
     "iopub.status.idle": "2023-01-11T12:56:21.827334Z",
     "shell.execute_reply": "2023-01-11T12:56:21.826859Z",
     "shell.execute_reply.started": "2023-01-11T12:02:51.566538Z"
    },
    "papermill": {
     "duration": 6.417008,
     "end_time": "2023-01-11T12:56:21.827459",
     "exception": false,
     "start_time": "2023-01-11T12:56:15.410451",
     "status": "completed"
    },
    "tags": []
   },
   "outputs": [
    {
     "data": {
      "text/html": [
       "<div>\n",
       "<style scoped>\n",
       "    .dataframe tbody tr th:only-of-type {\n",
       "        vertical-align: middle;\n",
       "    }\n",
       "\n",
       "    .dataframe tbody tr th {\n",
       "        vertical-align: top;\n",
       "    }\n",
       "\n",
       "    .dataframe thead th {\n",
       "        text-align: right;\n",
       "    }\n",
       "</style>\n",
       "<table border=\"1\" class=\"dataframe\">\n",
       "  <thead>\n",
       "    <tr style=\"text-align: right;\">\n",
       "      <th></th>\n",
       "      <th>Model</th>\n",
       "      <th>Loss</th>\n",
       "      <th>Accuracy</th>\n",
       "      <th>Epochs</th>\n",
       "    </tr>\n",
       "  </thead>\n",
       "  <tbody>\n",
       "    <tr>\n",
       "      <th>0</th>\n",
       "      <td>Basic Model</td>\n",
       "      <td>0.034804</td>\n",
       "      <td>0.993578</td>\n",
       "      <td>15.0</td>\n",
       "    </tr>\n",
       "    <tr>\n",
       "      <th>1</th>\n",
       "      <td>Cross Validation Model</td>\n",
       "      <td>0.034804</td>\n",
       "      <td>0.993578</td>\n",
       "      <td>0.0</td>\n",
       "    </tr>\n",
       "    <tr>\n",
       "      <th>2</th>\n",
       "      <td>Keras Tuner Model</td>\n",
       "      <td>0.040178</td>\n",
       "      <td>0.992022</td>\n",
       "      <td>17.0</td>\n",
       "    </tr>\n",
       "    <tr>\n",
       "      <th>3</th>\n",
       "      <td>Keras Tuner BatchNormalization Model</td>\n",
       "      <td>0.042602</td>\n",
       "      <td>0.990660</td>\n",
       "      <td>26.0</td>\n",
       "    </tr>\n",
       "  </tbody>\n",
       "</table>\n",
       "</div>"
      ],
      "text/plain": [
       "                                  Model      Loss  Accuracy  Epochs\n",
       "0                           Basic Model  0.034804  0.993578    15.0\n",
       "1                Cross Validation Model  0.034804  0.993578     0.0\n",
       "2                     Keras Tuner Model  0.040178  0.992022    17.0\n",
       "3  Keras Tuner BatchNormalization Model  0.042602  0.990660    26.0"
      ]
     },
     "execution_count": 66,
     "metadata": {},
     "output_type": "execute_result"
    }
   ],
   "source": [
    "r = evaluation.shape[0]\n",
    "evaluation.loc[r] = ['Keras Tuner BatchNormalization Model',loss,accuracy,len(history.history['loss'])]\n",
    "evaluation"
   ]
  },
  {
   "cell_type": "code",
   "execution_count": 67,
   "id": "6f2f90ca",
   "metadata": {
    "execution": {
     "iopub.execute_input": "2023-01-11T12:56:34.567511Z",
     "iopub.status.busy": "2023-01-11T12:56:34.566657Z",
     "iopub.status.idle": "2023-01-11T12:56:37.160330Z",
     "shell.execute_reply": "2023-01-11T12:56:37.161046Z",
     "shell.execute_reply.started": "2023-01-11T12:02:51.587340Z"
    },
    "papermill": {
     "duration": 8.757495,
     "end_time": "2023-01-11T12:56:37.161333",
     "exception": false,
     "start_time": "2023-01-11T12:56:28.403838",
     "status": "completed"
    },
    "tags": []
   },
   "outputs": [],
   "source": [
    "model.save('model0To4BN')"
   ]
  },
  {
   "cell_type": "markdown",
   "id": "d715c23c",
   "metadata": {
    "papermill": {
     "duration": 6.485834,
     "end_time": "2023-01-11T12:56:50.651262",
     "exception": false,
     "start_time": "2023-01-11T12:56:44.165428",
     "status": "completed"
    },
    "tags": []
   },
   "source": [
    "The model convergence faster and the model less overfit</br></br>\n",
    "BatchNorm impacts network training in a fundamental way: it makes the landscape of the corresponding optimization problem be significantly more smooth. This ensures, in particular, that the gradients are more predictive and thus allow for use of larger range of learning rates and faster network convergence."
   ]
  },
  {
   "cell_type": "markdown",
   "id": "57db81d7",
   "metadata": {
    "papermill": {
     "duration": 6.505943,
     "end_time": "2023-01-11T12:57:03.374862",
     "exception": false,
     "start_time": "2023-01-11T12:56:56.868919",
     "status": "completed"
    },
    "tags": []
   },
   "source": [
    "# Dropout"
   ]
  },
  {
   "cell_type": "markdown",
   "id": "c7e485d5",
   "metadata": {
    "papermill": {
     "duration": 6.836481,
     "end_time": "2023-01-11T12:57:16.386222",
     "exception": false,
     "start_time": "2023-01-11T12:57:09.549741",
     "status": "completed"
    },
    "tags": []
   },
   "source": [
    "Since the model is overfitting let dropout to every layer"
   ]
  },
  {
   "cell_type": "code",
   "execution_count": 68,
   "id": "4ec3b7d4",
   "metadata": {
    "execution": {
     "iopub.execute_input": "2023-01-11T12:57:28.965242Z",
     "iopub.status.busy": "2023-01-11T12:57:28.964321Z",
     "iopub.status.idle": "2023-01-11T12:57:29.451542Z",
     "shell.execute_reply": "2023-01-11T12:57:29.452362Z",
     "shell.execute_reply.started": "2023-01-11T12:02:54.629028Z"
    },
    "papermill": {
     "duration": 6.65237,
     "end_time": "2023-01-11T12:57:29.452575",
     "exception": false,
     "start_time": "2023-01-11T12:57:22.800205",
     "status": "completed"
    },
    "tags": []
   },
   "outputs": [
    {
     "name": "stderr",
     "output_type": "stream",
     "text": [
      "2023-01-11 12:57:29.071676: I tensorflow/core/profiler/lib/profiler_session.cc:136] Profiler session initializing.\n",
      "2023-01-11 12:57:29.071728: I tensorflow/core/profiler/lib/profiler_session.cc:155] Profiler session started.\n",
      "2023-01-11 12:57:29.280360: I tensorflow/core/profiler/lib/profiler_session.cc:172] Profiler session tear down.\n",
      "2023-01-11 12:57:29.280507: I tensorflow/core/profiler/internal/gpu/cupti_tracer.cc:1487] CUPTI activity buffer flushed\n"
     ]
    }
   ],
   "source": [
    "model=keras.models.Sequential()\n",
    "model.add(keras.layers.Flatten(input_shape=[28,28]))\n",
    "model.add(keras.layers.BatchNormalization())\n",
    "for _ in range(best_hps.get(\"hidden\")):\n",
    "    model.add(keras.layers.Dense(best_hps.get(\"units\"),activation='elu',kernel_initializer='he_normal'))\n",
    "    model.add(keras.layers.BatchNormalization())\n",
    "    model.add(keras.layers.Dropout(rate=0.2))\n",
    "model.add(keras.layers.Dense(5,activation='softmax'))\n",
    "\n",
    "optimizer=keras.optimizers.Adam(learning_rate=best_hps.get(\"learning_rate\"))\n",
    "model.compile(loss='sparse_categorical_crossentropy',\n",
    "              optimizer=optimizer,\n",
    "              metrics=['accuracy'])\n",
    "\n",
    "\n",
    "early_stopping=keras.callbacks.EarlyStopping(patience=10)\n",
    "checkpoint_cb=keras.callbacks.ModelCheckpoint('model_digit0To4BNDropout',save_best_only=True)\n",
    "tensorboard_cv=keras.callbacks.TensorBoard(get_run_logdir())"
   ]
  },
  {
   "cell_type": "code",
   "execution_count": 69,
   "id": "d4583c6f",
   "metadata": {
    "execution": {
     "iopub.execute_input": "2023-01-11T12:57:42.223837Z",
     "iopub.status.busy": "2023-01-11T12:57:42.222881Z",
     "iopub.status.idle": "2023-01-11T12:57:42.226804Z",
     "shell.execute_reply": "2023-01-11T12:57:42.226072Z",
     "shell.execute_reply.started": "2023-01-11T12:02:55.287931Z"
    },
    "papermill": {
     "duration": 6.286259,
     "end_time": "2023-01-11T12:57:42.226967",
     "exception": false,
     "start_time": "2023-01-11T12:57:35.940708",
     "status": "completed"
    },
    "tags": []
   },
   "outputs": [
    {
     "name": "stdout",
     "output_type": "stream",
     "text": [
      "Model: \"sequential_2\"\n",
      "_________________________________________________________________\n",
      "Layer (type)                 Output Shape              Param #   \n",
      "=================================================================\n",
      "flatten_2 (Flatten)          (None, 784)               0         \n",
      "_________________________________________________________________\n",
      "batch_normalization_5 (Batch (None, 784)               3136      \n",
      "_________________________________________________________________\n",
      "dense_10 (Dense)             (None, 288)               226080    \n",
      "_________________________________________________________________\n",
      "batch_normalization_6 (Batch (None, 288)               1152      \n",
      "_________________________________________________________________\n",
      "dropout (Dropout)            (None, 288)               0         \n",
      "_________________________________________________________________\n",
      "dense_11 (Dense)             (None, 288)               83232     \n",
      "_________________________________________________________________\n",
      "batch_normalization_7 (Batch (None, 288)               1152      \n",
      "_________________________________________________________________\n",
      "dropout_1 (Dropout)          (None, 288)               0         \n",
      "_________________________________________________________________\n",
      "dense_12 (Dense)             (None, 288)               83232     \n",
      "_________________________________________________________________\n",
      "batch_normalization_8 (Batch (None, 288)               1152      \n",
      "_________________________________________________________________\n",
      "dropout_2 (Dropout)          (None, 288)               0         \n",
      "_________________________________________________________________\n",
      "dense_13 (Dense)             (None, 288)               83232     \n",
      "_________________________________________________________________\n",
      "batch_normalization_9 (Batch (None, 288)               1152      \n",
      "_________________________________________________________________\n",
      "dropout_3 (Dropout)          (None, 288)               0         \n",
      "_________________________________________________________________\n",
      "dense_14 (Dense)             (None, 5)                 1445      \n",
      "=================================================================\n",
      "Total params: 484,965\n",
      "Trainable params: 481,093\n",
      "Non-trainable params: 3,872\n",
      "_________________________________________________________________\n"
     ]
    }
   ],
   "source": [
    "model.summary()"
   ]
  },
  {
   "cell_type": "code",
   "execution_count": 70,
   "id": "5e518cd1",
   "metadata": {
    "execution": {
     "iopub.execute_input": "2023-01-11T12:57:55.596674Z",
     "iopub.status.busy": "2023-01-11T12:57:55.595493Z",
     "iopub.status.idle": "2023-01-11T12:59:42.207644Z",
     "shell.execute_reply": "2023-01-11T12:59:42.208200Z",
     "shell.execute_reply.started": "2023-01-11T12:02:55.304637Z"
    },
    "papermill": {
     "duration": 113.085112,
     "end_time": "2023-01-11T12:59:42.208407",
     "exception": false,
     "start_time": "2023-01-11T12:57:49.123295",
     "status": "completed"
    },
    "tags": []
   },
   "outputs": [
    {
     "name": "stdout",
     "output_type": "stream",
     "text": [
      "Epoch 1/100\n",
      "  2/765 [..............................] - ETA: 3:01 - loss: 2.2647 - accuracy: 0.2734 "
     ]
    },
    {
     "name": "stderr",
     "output_type": "stream",
     "text": [
      "2023-01-11 12:57:56.875088: I tensorflow/core/profiler/lib/profiler_session.cc:136] Profiler session initializing.\n",
      "2023-01-11 12:57:56.875156: I tensorflow/core/profiler/lib/profiler_session.cc:155] Profiler session started.\n"
     ]
    },
    {
     "name": "stdout",
     "output_type": "stream",
     "text": [
      " 31/765 [>.............................] - ETA: 16s - loss: 0.9714 - accuracy: 0.6806"
     ]
    },
    {
     "name": "stderr",
     "output_type": "stream",
     "text": [
      "2023-01-11 12:57:57.150896: I tensorflow/core/profiler/lib/profiler_session.cc:71] Profiler session collecting data.\n",
      "2023-01-11 12:57:57.151319: I tensorflow/core/profiler/internal/gpu/cupti_tracer.cc:1487] CUPTI activity buffer flushed\n",
      "2023-01-11 12:57:57.298783: I tensorflow/core/profiler/internal/gpu/cupti_collector.cc:228]  GpuTracer has collected 326 callback api events and 314 activity events. \n",
      "2023-01-11 12:57:57.310910: I tensorflow/core/profiler/lib/profiler_session.cc:172] Profiler session tear down.\n",
      "2023-01-11 12:57:57.324454: I tensorflow/core/profiler/rpc/client/save_profile.cc:137] Creating directory: ./my_logs/run_2023_01_11-12_57_29/train/plugins/profile/2023_01_11_12_57_57\n",
      "2023-01-11 12:57:57.333418: I tensorflow/core/profiler/rpc/client/save_profile.cc:143] Dumped gzipped tool data for trace.json.gz to ./my_logs/run_2023_01_11-12_57_29/train/plugins/profile/2023_01_11_12_57_57/c9ea16180903.trace.json.gz\n",
      "2023-01-11 12:57:57.350347: I tensorflow/core/profiler/rpc/client/save_profile.cc:137] Creating directory: ./my_logs/run_2023_01_11-12_57_29/train/plugins/profile/2023_01_11_12_57_57\n",
      "2023-01-11 12:57:57.353110: I tensorflow/core/profiler/rpc/client/save_profile.cc:143] Dumped gzipped tool data for memory_profile.json.gz to ./my_logs/run_2023_01_11-12_57_29/train/plugins/profile/2023_01_11_12_57_57/c9ea16180903.memory_profile.json.gz\n",
      "2023-01-11 12:57:57.354166: I tensorflow/core/profiler/rpc/client/capture_profile.cc:251] Creating directory: ./my_logs/run_2023_01_11-12_57_29/train/plugins/profile/2023_01_11_12_57_57Dumped tool data for xplane.pb to ./my_logs/run_2023_01_11-12_57_29/train/plugins/profile/2023_01_11_12_57_57/c9ea16180903.xplane.pb\n",
      "Dumped tool data for overview_page.pb to ./my_logs/run_2023_01_11-12_57_29/train/plugins/profile/2023_01_11_12_57_57/c9ea16180903.overview_page.pb\n",
      "Dumped tool data for input_pipeline.pb to ./my_logs/run_2023_01_11-12_57_29/train/plugins/profile/2023_01_11_12_57_57/c9ea16180903.input_pipeline.pb\n",
      "Dumped tool data for tensorflow_stats.pb to ./my_logs/run_2023_01_11-12_57_29/train/plugins/profile/2023_01_11_12_57_57/c9ea16180903.tensorflow_stats.pb\n",
      "Dumped tool data for kernel_stats.pb to ./my_logs/run_2023_01_11-12_57_29/train/plugins/profile/2023_01_11_12_57_57/c9ea16180903.kernel_stats.pb\n",
      "\n"
     ]
    },
    {
     "name": "stdout",
     "output_type": "stream",
     "text": [
      "765/765 [==============================] - 6s 6ms/step - loss: 0.2759 - accuracy: 0.9127 - val_loss: 0.0721 - val_accuracy: 0.9788\n",
      "Epoch 2/100\n",
      "765/765 [==============================] - 5s 6ms/step - loss: 0.0878 - accuracy: 0.9735 - val_loss: 0.0691 - val_accuracy: 0.9800\n",
      "Epoch 3/100\n",
      "765/765 [==============================] - 4s 6ms/step - loss: 0.0862 - accuracy: 0.9728 - val_loss: 0.0626 - val_accuracy: 0.9800\n",
      "Epoch 4/100\n",
      "765/765 [==============================] - 4s 6ms/step - loss: 0.0551 - accuracy: 0.9830 - val_loss: 0.0548 - val_accuracy: 0.9837\n",
      "Epoch 5/100\n",
      "765/765 [==============================] - 5s 6ms/step - loss: 0.0520 - accuracy: 0.9824 - val_loss: 0.0596 - val_accuracy: 0.9844\n",
      "Epoch 6/100\n",
      "765/765 [==============================] - 4s 6ms/step - loss: 0.0437 - accuracy: 0.9863 - val_loss: 0.0496 - val_accuracy: 0.9860\n",
      "Epoch 7/100\n",
      "765/765 [==============================] - 5s 6ms/step - loss: 0.0461 - accuracy: 0.9847 - val_loss: 0.0449 - val_accuracy: 0.9868\n",
      "Epoch 8/100\n",
      "765/765 [==============================] - 5s 7ms/step - loss: 0.0295 - accuracy: 0.9904 - val_loss: 0.0630 - val_accuracy: 0.9841\n",
      "Epoch 9/100\n",
      "765/765 [==============================] - 4s 6ms/step - loss: 0.0299 - accuracy: 0.9912 - val_loss: 0.0445 - val_accuracy: 0.9865\n",
      "Epoch 10/100\n",
      "765/765 [==============================] - 5s 6ms/step - loss: 0.0389 - accuracy: 0.9882 - val_loss: 0.0477 - val_accuracy: 0.9871\n",
      "Epoch 11/100\n",
      "765/765 [==============================] - 4s 6ms/step - loss: 0.0276 - accuracy: 0.9904 - val_loss: 0.0538 - val_accuracy: 0.9865\n",
      "Epoch 12/100\n",
      "765/765 [==============================] - 4s 6ms/step - loss: 0.0241 - accuracy: 0.9921 - val_loss: 0.0546 - val_accuracy: 0.9854\n",
      "Epoch 13/100\n",
      "765/765 [==============================] - 4s 6ms/step - loss: 0.0260 - accuracy: 0.9916 - val_loss: 0.0556 - val_accuracy: 0.9870\n",
      "Epoch 14/100\n",
      "765/765 [==============================] - 4s 6ms/step - loss: 0.0170 - accuracy: 0.9943 - val_loss: 0.0529 - val_accuracy: 0.9891\n",
      "Epoch 15/100\n",
      "765/765 [==============================] - 5s 7ms/step - loss: 0.0135 - accuracy: 0.9955 - val_loss: 0.0606 - val_accuracy: 0.9870\n",
      "Epoch 16/100\n",
      "765/765 [==============================] - 4s 6ms/step - loss: 0.0200 - accuracy: 0.9936 - val_loss: 0.0534 - val_accuracy: 0.9881\n",
      "Epoch 17/100\n",
      "765/765 [==============================] - 4s 6ms/step - loss: 0.0217 - accuracy: 0.9933 - val_loss: 0.0496 - val_accuracy: 0.9888\n",
      "Epoch 18/100\n",
      "765/765 [==============================] - 5s 6ms/step - loss: 0.0144 - accuracy: 0.9945 - val_loss: 0.0615 - val_accuracy: 0.9875\n",
      "Epoch 19/100\n",
      "765/765 [==============================] - 4s 6ms/step - loss: 0.0175 - accuracy: 0.9942 - val_loss: 0.0571 - val_accuracy: 0.9878\n"
     ]
    }
   ],
   "source": [
    "history=model.fit(X_train_A,y_train_A,\n",
    "                  epochs=100,\n",
    "                  validation_data=(X_valid_A,y_valid_A),\n",
    "                  callbacks=[checkpoint_cb,early_stopping,tensorboard_cv])"
   ]
  },
  {
   "cell_type": "code",
   "execution_count": 71,
   "id": "d9d45620",
   "metadata": {
    "execution": {
     "iopub.execute_input": "2023-01-11T12:59:56.331250Z",
     "iopub.status.busy": "2023-01-11T12:59:56.330405Z",
     "iopub.status.idle": "2023-01-11T12:59:56.766945Z",
     "shell.execute_reply": "2023-01-11T12:59:56.766509Z",
     "shell.execute_reply.started": "2023-01-11T12:06:37.393372Z"
    },
    "papermill": {
     "duration": 7.678184,
     "end_time": "2023-01-11T12:59:56.767071",
     "exception": false,
     "start_time": "2023-01-11T12:59:49.088887",
     "status": "completed"
    },
    "tags": []
   },
   "outputs": [
    {
     "data": {
      "image/png": "[encoded data removed]",
      "text/plain": [
       "<Figure size 432x288 with 1 Axes>"
      ]
     },
     "metadata": {
      "needs_background": "light"
     },
     "output_type": "display_data"
    },
    {
     "data": {
      "image/png": "[encoded data removed]",
      "text/plain": [
       "<Figure size 432x288 with 1 Axes>"
      ]
     },
     "metadata": {
      "needs_background": "light"
     },
     "output_type": "display_data"
    }
   ],
   "source": [
    "# summarize history for accuracy\n",
    "plt.plot(history.history['accuracy'])\n",
    "plt.plot(history.history['val_accuracy'])\n",
    "plt.title('model accuracy')\n",
    "plt.ylabel('accuracy')\n",
    "plt.xlabel('epoch')\n",
    "plt.legend(['train', 'test'], loc='upper left')\n",
    "plt.show()\n",
    "# summarize history for loss\n",
    "plt.plot(history.history['loss'])\n",
    "plt.plot(history.history['val_loss'])\n",
    "plt.title('model loss')\n",
    "plt.ylabel('loss')\n",
    "plt.xlabel('epoch')\n",
    "plt.legend(['train', 'test'], loc='upper left')\n",
    "plt.show()"
   ]
  },
  {
   "cell_type": "code",
   "execution_count": 72,
   "id": "a30883f8",
   "metadata": {
    "execution": {
     "iopub.execute_input": "2023-01-11T13:00:10.276666Z",
     "iopub.status.busy": "2023-01-11T13:00:10.275551Z",
     "iopub.status.idle": "2023-01-11T13:00:10.697869Z",
     "shell.execute_reply": "2023-01-11T13:00:10.698819Z",
     "shell.execute_reply.started": "2023-01-11T12:06:37.843796Z"
    },
    "papermill": {
     "duration": 7.295957,
     "end_time": "2023-01-11T13:00:10.698991",
     "exception": false,
     "start_time": "2023-01-11T13:00:03.403034",
     "status": "completed"
    },
    "tags": []
   },
   "outputs": [
    {
     "name": "stdout",
     "output_type": "stream",
     "text": [
      "161/161 [==============================] - 0s 2ms/step - loss: 0.0532 - accuracy: 0.9899\n"
     ]
    }
   ],
   "source": [
    "loss,accuracy=model.evaluate(X_test_A,y_test_A)"
   ]
  },
  {
   "cell_type": "code",
   "execution_count": 73,
   "id": "84d67e83",
   "metadata": {
    "execution": {
     "iopub.execute_input": "2023-01-11T13:00:24.598925Z",
     "iopub.status.busy": "2023-01-11T13:00:24.597262Z",
     "iopub.status.idle": "2023-01-11T13:00:24.601239Z",
     "shell.execute_reply": "2023-01-11T13:00:24.600756Z",
     "shell.execute_reply.started": "2023-01-11T12:06:38.278797Z"
    },
    "papermill": {
     "duration": 7.38108,
     "end_time": "2023-01-11T13:00:24.601361",
     "exception": false,
     "start_time": "2023-01-11T13:00:17.220281",
     "status": "completed"
    },
    "tags": []
   },
   "outputs": [
    {
     "name": "stdout",
     "output_type": "stream",
     "text": [
      "Loss:  0.05318303033709526\n",
      "Accuracy:  0.9898812770843506\n"
     ]
    }
   ],
   "source": [
    "print(\"Loss: \",loss)\n",
    "print(\"Accuracy: \",accuracy)"
   ]
  },
  {
   "cell_type": "code",
   "execution_count": 74,
   "id": "e128f3f6",
   "metadata": {
    "execution": {
     "iopub.execute_input": "2023-01-11T13:00:38.078452Z",
     "iopub.status.busy": "2023-01-11T13:00:38.070256Z",
     "iopub.status.idle": "2023-01-11T13:00:38.082686Z",
     "shell.execute_reply": "2023-01-11T13:00:38.082213Z",
     "shell.execute_reply.started": "2023-01-11T12:06:38.287528Z"
    },
    "papermill": {
     "duration": 6.668782,
     "end_time": "2023-01-11T13:00:38.082804",
     "exception": false,
     "start_time": "2023-01-11T13:00:31.414022",
     "status": "completed"
    },
    "tags": []
   },
   "outputs": [
    {
     "data": {
      "text/html": [
       "<div>\n",
       "<style scoped>\n",
       "    .dataframe tbody tr th:only-of-type {\n",
       "        vertical-align: middle;\n",
       "    }\n",
       "\n",
       "    .dataframe tbody tr th {\n",
       "        vertical-align: top;\n",
       "    }\n",
       "\n",
       "    .dataframe thead th {\n",
       "        text-align: right;\n",
       "    }\n",
       "</style>\n",
       "<table border=\"1\" class=\"dataframe\">\n",
       "  <thead>\n",
       "    <tr style=\"text-align: right;\">\n",
       "      <th></th>\n",
       "      <th>Model</th>\n",
       "      <th>Loss</th>\n",
       "      <th>Accuracy</th>\n",
       "      <th>Epochs</th>\n",
       "    </tr>\n",
       "  </thead>\n",
       "  <tbody>\n",
       "    <tr>\n",
       "      <th>0</th>\n",
       "      <td>Basic Model</td>\n",
       "      <td>0.034804</td>\n",
       "      <td>0.993578</td>\n",
       "      <td>15.0</td>\n",
       "    </tr>\n",
       "    <tr>\n",
       "      <th>1</th>\n",
       "      <td>Cross Validation Model</td>\n",
       "      <td>0.034804</td>\n",
       "      <td>0.993578</td>\n",
       "      <td>0.0</td>\n",
       "    </tr>\n",
       "    <tr>\n",
       "      <th>2</th>\n",
       "      <td>Keras Tuner Model</td>\n",
       "      <td>0.040178</td>\n",
       "      <td>0.992022</td>\n",
       "      <td>17.0</td>\n",
       "    </tr>\n",
       "    <tr>\n",
       "      <th>3</th>\n",
       "      <td>Keras Tuner BatchNormalization Model</td>\n",
       "      <td>0.042602</td>\n",
       "      <td>0.990660</td>\n",
       "      <td>26.0</td>\n",
       "    </tr>\n",
       "    <tr>\n",
       "      <th>4</th>\n",
       "      <td>Keras Tuner BatchNormalization Dropout Model</td>\n",
       "      <td>0.053183</td>\n",
       "      <td>0.989881</td>\n",
       "      <td>19.0</td>\n",
       "    </tr>\n",
       "  </tbody>\n",
       "</table>\n",
       "</div>"
      ],
      "text/plain": [
       "                                          Model      Loss  Accuracy  Epochs\n",
       "0                                   Basic Model  0.034804  0.993578    15.0\n",
       "1                        Cross Validation Model  0.034804  0.993578     0.0\n",
       "2                             Keras Tuner Model  0.040178  0.992022    17.0\n",
       "3          Keras Tuner BatchNormalization Model  0.042602  0.990660    26.0\n",
       "4  Keras Tuner BatchNormalization Dropout Model  0.053183  0.989881    19.0"
      ]
     },
     "execution_count": 74,
     "metadata": {},
     "output_type": "execute_result"
    }
   ],
   "source": [
    "r = evaluation.shape[0]\n",
    "evaluation.loc[r] = ['Keras Tuner BatchNormalization Dropout Model',loss,accuracy,len(history.history['loss'])]\n",
    "evaluation"
   ]
  },
  {
   "cell_type": "code",
   "execution_count": 75,
   "id": "ecb87ec2",
   "metadata": {
    "execution": {
     "iopub.execute_input": "2023-01-11T13:00:51.736461Z",
     "iopub.status.busy": "2023-01-11T13:00:51.735570Z",
     "iopub.status.idle": "2023-01-11T13:00:54.678905Z",
     "shell.execute_reply": "2023-01-11T13:00:54.680038Z",
     "shell.execute_reply.started": "2023-01-11T12:06:38.312014Z"
    },
    "papermill": {
     "duration": 9.739991,
     "end_time": "2023-01-11T13:00:54.680336",
     "exception": false,
     "start_time": "2023-01-11T13:00:44.940345",
     "status": "completed"
    },
    "tags": []
   },
   "outputs": [],
   "source": [
    "model.save('model0To4BNDropout')"
   ]
  },
  {
   "cell_type": "markdown",
   "id": "8265e4f9",
   "metadata": {
    "papermill": {
     "duration": 6.899971,
     "end_time": "2023-01-11T13:01:08.777620",
     "exception": false,
     "start_time": "2023-01-11T13:01:01.877649",
     "status": "completed"
    },
    "tags": []
   },
   "source": [
    "Model is less overfitting than the original model and the accuracy also very high"
   ]
  },
  {
   "cell_type": "markdown",
   "id": "6e644848",
   "metadata": {
    "papermill": {
     "duration": 6.564597,
     "end_time": "2023-01-11T13:01:22.187063",
     "exception": false,
     "start_time": "2023-01-11T13:01:15.622466",
     "status": "completed"
    },
    "tags": []
   },
   "source": [
    "# Transfer Learning"
   ]
  },
  {
   "cell_type": "markdown",
   "id": "d20a5c4a",
   "metadata": {
    "papermill": {
     "duration": 6.825518,
     "end_time": "2023-01-11T13:01:36.316965",
     "exception": false,
     "start_time": "2023-01-11T13:01:29.491447",
     "status": "completed"
    },
    "tags": []
   },
   "source": [
    "Create a new DNN that reuses all the pretrained hidden layers of the previous\n",
    "model, freezes them, and replaces the softmax output layer with a new one.\n"
   ]
  },
  {
   "cell_type": "markdown",
   "id": "7a53dfd0",
   "metadata": {
    "papermill": {
     "duration": 6.838466,
     "end_time": "2023-01-11T13:01:49.837018",
     "exception": false,
     "start_time": "2023-01-11T13:01:42.998552",
     "status": "completed"
    },
    "tags": []
   },
   "source": [
    "Separate dataset B to 100 images per digit"
   ]
  },
  {
   "cell_type": "code",
   "execution_count": 76,
   "id": "cb35f55f",
   "metadata": {
    "execution": {
     "iopub.execute_input": "2023-01-11T13:02:03.870195Z",
     "iopub.status.busy": "2023-01-11T13:02:03.868498Z",
     "iopub.status.idle": "2023-01-11T13:02:03.870858Z",
     "shell.execute_reply": "2023-01-11T13:02:03.871351Z",
     "shell.execute_reply.started": "2023-01-11T12:06:41.402649Z"
    },
    "papermill": {
     "duration": 7.412641,
     "end_time": "2023-01-11T13:02:03.871525",
     "exception": false,
     "start_time": "2023-01-11T13:01:56.458884",
     "status": "completed"
    },
    "tags": []
   },
   "outputs": [],
   "source": [
    "def sample_n_instances_per_class(X,y,n=100):\n",
    "    Xs,ys=[],[]\n",
    "    for label in np.unique(y):\n",
    "        idx=(y==label)\n",
    "        Xc=X[idx][:n]\n",
    "        yc=y[idx][:n]\n",
    "        Xs.append(Xc)\n",
    "        ys.append(yc)\n",
    "    return np.concatenate(Xs),np.concatenate(ys)"
   ]
  },
  {
   "cell_type": "code",
   "execution_count": 77,
   "id": "3fa4bf4c",
   "metadata": {
    "execution": {
     "iopub.execute_input": "2023-01-11T13:02:17.346305Z",
     "iopub.status.busy": "2023-01-11T13:02:17.344811Z",
     "iopub.status.idle": "2023-01-11T13:02:17.390393Z",
     "shell.execute_reply": "2023-01-11T13:02:17.389861Z",
     "shell.execute_reply.started": "2023-01-11T12:06:41.412162Z"
    },
    "papermill": {
     "duration": 6.722411,
     "end_time": "2023-01-11T13:02:17.390533",
     "exception": false,
     "start_time": "2023-01-11T13:02:10.668122",
     "status": "completed"
    },
    "tags": []
   },
   "outputs": [],
   "source": [
    "X_train_B100,y_train_B100=sample_n_instances_per_class(X_train_B,y_train_B,n=100)\n",
    "X_valid_B100,y_valid_B100=sample_n_instances_per_class(X_valid_B,y_valid_B,100)"
   ]
  },
  {
   "cell_type": "markdown",
   "id": "94f6eecc",
   "metadata": {
    "papermill": {
     "duration": 7.417093,
     "end_time": "2023-01-11T13:02:31.724790",
     "exception": false,
     "start_time": "2023-01-11T13:02:24.307697",
     "status": "completed"
    },
    "tags": []
   },
   "source": [
    "Load the pretrained model"
   ]
  },
  {
   "cell_type": "code",
   "execution_count": 78,
   "id": "1db6a598",
   "metadata": {
    "execution": {
     "iopub.execute_input": "2023-01-11T13:02:45.068415Z",
     "iopub.status.busy": "2023-01-11T13:02:45.067621Z",
     "iopub.status.idle": "2023-01-11T13:02:45.895888Z",
     "shell.execute_reply": "2023-01-11T13:02:45.895158Z",
     "shell.execute_reply.started": "2023-01-11T12:06:41.464109Z"
    },
    "papermill": {
     "duration": 7.646847,
     "end_time": "2023-01-11T13:02:45.896090",
     "exception": false,
     "start_time": "2023-01-11T13:02:38.249243",
     "status": "completed"
    },
    "tags": []
   },
   "outputs": [],
   "source": [
    "model_A=keras.models.load_model('model0To4BNDropout')"
   ]
  },
  {
   "cell_type": "code",
   "execution_count": 79,
   "id": "bdf2d92b",
   "metadata": {
    "execution": {
     "iopub.execute_input": "2023-01-11T13:02:59.231075Z",
     "iopub.status.busy": "2023-01-11T13:02:59.230194Z",
     "iopub.status.idle": "2023-01-11T13:02:59.241032Z",
     "shell.execute_reply": "2023-01-11T13:02:59.240269Z",
     "shell.execute_reply.started": "2023-01-11T12:06:42.894665Z"
    },
    "papermill": {
     "duration": 6.55658,
     "end_time": "2023-01-11T13:02:59.241243",
     "exception": false,
     "start_time": "2023-01-11T13:02:52.684663",
     "status": "completed"
    },
    "tags": []
   },
   "outputs": [
    {
     "name": "stdout",
     "output_type": "stream",
     "text": [
      "Model: \"sequential_2\"\n",
      "_________________________________________________________________\n",
      "Layer (type)                 Output Shape              Param #   \n",
      "=================================================================\n",
      "flatten_2 (Flatten)          (None, 784)               0         \n",
      "_________________________________________________________________\n",
      "batch_normalization_5 (Batch (None, 784)               3136      \n",
      "_________________________________________________________________\n",
      "dense_10 (Dense)             (None, 288)               226080    \n",
      "_________________________________________________________________\n",
      "batch_normalization_6 (Batch (None, 288)               1152      \n",
      "_________________________________________________________________\n",
      "dropout (Dropout)            (None, 288)               0         \n",
      "_________________________________________________________________\n",
      "dense_11 (Dense)             (None, 288)               83232     \n",
      "_________________________________________________________________\n",
      "batch_normalization_7 (Batch (None, 288)               1152      \n",
      "_________________________________________________________________\n",
      "dropout_1 (Dropout)          (None, 288)               0         \n",
      "_________________________________________________________________\n",
      "dense_12 (Dense)             (None, 288)               83232     \n",
      "_________________________________________________________________\n",
      "batch_normalization_8 (Batch (None, 288)               1152      \n",
      "_________________________________________________________________\n",
      "dropout_2 (Dropout)          (None, 288)               0         \n",
      "_________________________________________________________________\n",
      "dense_13 (Dense)             (None, 288)               83232     \n",
      "_________________________________________________________________\n",
      "batch_normalization_9 (Batch (None, 288)               1152      \n",
      "_________________________________________________________________\n",
      "dropout_3 (Dropout)          (None, 288)               0         \n",
      "_________________________________________________________________\n",
      "dense_14 (Dense)             (None, 5)                 1445      \n",
      "=================================================================\n",
      "Total params: 484,965\n",
      "Trainable params: 481,093\n",
      "Non-trainable params: 3,872\n",
      "_________________________________________________________________\n"
     ]
    }
   ],
   "source": [
    "model_A.summary()"
   ]
  },
  {
   "cell_type": "markdown",
   "id": "0e335580",
   "metadata": {
    "papermill": {
     "duration": 6.566115,
     "end_time": "2023-01-11T13:03:13.115833",
     "exception": false,
     "start_time": "2023-01-11T13:03:06.549718",
     "status": "completed"
    },
    "tags": []
   },
   "source": [
    "Note that model_B_on_A and model_A actually share layers now, so when we train one, it will update both models. If we want to avoid that, we need to build model_B_on_A on top of a clone of model_A:"
   ]
  },
  {
   "cell_type": "code",
   "execution_count": 80,
   "id": "dc03ea3b",
   "metadata": {
    "execution": {
     "iopub.execute_input": "2023-01-11T13:03:26.861666Z",
     "iopub.status.busy": "2023-01-11T13:03:26.858898Z",
     "iopub.status.idle": "2023-01-11T13:03:27.057907Z",
     "shell.execute_reply": "2023-01-11T13:03:27.056975Z",
     "shell.execute_reply.started": "2023-01-11T12:12:03.551585Z"
    },
    "papermill": {
     "duration": 7.107414,
     "end_time": "2023-01-11T13:03:27.058069",
     "exception": false,
     "start_time": "2023-01-11T13:03:19.950655",
     "status": "completed"
    },
    "tags": []
   },
   "outputs": [],
   "source": [
    "model_A_clone=keras.models.clone_model(model_A)\n",
    "model_A_clone.set_weights(model_A.get_weights())\n",
    "model_B_on_A=keras.models.Sequential(model_A_clone.layers[:-1])\n",
    "model_B_on_A.add(keras.layers.Dense(10,activation='softmax'))"
   ]
  },
  {
   "cell_type": "code",
   "execution_count": 81,
   "id": "d5cdda65",
   "metadata": {
    "execution": {
     "iopub.execute_input": "2023-01-11T13:03:41.080480Z",
     "iopub.status.busy": "2023-01-11T13:03:41.079643Z",
     "iopub.status.idle": "2023-01-11T13:03:41.279448Z",
     "shell.execute_reply": "2023-01-11T13:03:41.278582Z",
     "shell.execute_reply.started": "2023-01-11T12:12:03.920607Z"
    },
    "papermill": {
     "duration": 7.115707,
     "end_time": "2023-01-11T13:03:41.279593",
     "exception": false,
     "start_time": "2023-01-11T13:03:34.163886",
     "status": "completed"
    },
    "tags": []
   },
   "outputs": [],
   "source": [
    "model_A_clone=keras.models.clone_model(model_A)\n",
    "model_A_clone.set_weights(model_A.get_weights())\n",
    "model_B_on_A=keras.models.Sequential(model_A_clone.layers[:-1])\n",
    "model_B_on_A.add(keras.layers.Dense(5,activation='softmax'))"
   ]
  },
  {
   "cell_type": "code",
   "execution_count": 82,
   "id": "d0e18123",
   "metadata": {
    "execution": {
     "iopub.execute_input": "2023-01-11T13:03:54.904659Z",
     "iopub.status.busy": "2023-01-11T13:03:54.903734Z",
     "iopub.status.idle": "2023-01-11T13:03:54.909035Z",
     "shell.execute_reply": "2023-01-11T13:03:54.908566Z",
     "shell.execute_reply.started": "2023-01-11T12:12:04.300432Z"
    },
    "papermill": {
     "duration": 6.598461,
     "end_time": "2023-01-11T13:03:54.909181",
     "exception": false,
     "start_time": "2023-01-11T13:03:48.310720",
     "status": "completed"
    },
    "tags": []
   },
   "outputs": [],
   "source": [
    "optimizer=keras.optimizers.Adam(learning_rate=1e-3)\n",
    "\n",
    "for layer in model_B_on_A.layers[:-1]:\n",
    "    layer.trainable=False\n",
    "model_B_on_A.compile(\n",
    "    loss=\"sparse_categorical_crossentropy\",\n",
    "                     optimizer=keras.optimizers.Adam(learning_rate=1e-3),\n",
    "                     metrics=[\"accuracy\"])"
   ]
  },
  {
   "cell_type": "code",
   "execution_count": 83,
   "id": "0b9163be",
   "metadata": {
    "execution": {
     "iopub.execute_input": "2023-01-11T13:04:08.890465Z",
     "iopub.status.busy": "2023-01-11T13:04:08.889623Z",
     "iopub.status.idle": "2023-01-11T13:04:08.901665Z",
     "shell.execute_reply": "2023-01-11T13:04:08.902227Z",
     "shell.execute_reply.started": "2023-01-11T12:12:05.371691Z"
    },
    "papermill": {
     "duration": 7.185329,
     "end_time": "2023-01-11T13:04:08.902416",
     "exception": false,
     "start_time": "2023-01-11T13:04:01.717087",
     "status": "completed"
    },
    "tags": []
   },
   "outputs": [
    {
     "name": "stdout",
     "output_type": "stream",
     "text": [
      "Model: \"sequential_4\"\n",
      "_________________________________________________________________\n",
      "Layer (type)                 Output Shape              Param #   \n",
      "=================================================================\n",
      "flatten_2 (Flatten)          (None, 784)               0         \n",
      "_________________________________________________________________\n",
      "batch_normalization_5 (Batch (None, 784)               3136      \n",
      "_________________________________________________________________\n",
      "dense_10 (Dense)             (None, 288)               226080    \n",
      "_________________________________________________________________\n",
      "batch_normalization_6 (Batch (None, 288)               1152      \n",
      "_________________________________________________________________\n",
      "dropout (Dropout)            (None, 288)               0         \n",
      "_________________________________________________________________\n",
      "dense_11 (Dense)             (None, 288)               83232     \n",
      "_________________________________________________________________\n",
      "batch_normalization_7 (Batch (None, 288)               1152      \n",
      "_________________________________________________________________\n",
      "dropout_1 (Dropout)          (None, 288)               0         \n",
      "_________________________________________________________________\n",
      "dense_12 (Dense)             (None, 288)               83232     \n",
      "_________________________________________________________________\n",
      "batch_normalization_8 (Batch (None, 288)               1152      \n",
      "_________________________________________________________________\n",
      "dropout_2 (Dropout)          (None, 288)               0         \n",
      "_________________________________________________________________\n",
      "dense_13 (Dense)             (None, 288)               83232     \n",
      "_________________________________________________________________\n",
      "batch_normalization_9 (Batch (None, 288)               1152      \n",
      "_________________________________________________________________\n",
      "dropout_3 (Dropout)          (None, 288)               0         \n",
      "_________________________________________________________________\n",
      "dense_16 (Dense)             (None, 5)                 1445      \n",
      "=================================================================\n",
      "Total params: 484,965\n",
      "Trainable params: 1,445\n",
      "Non-trainable params: 483,520\n",
      "_________________________________________________________________\n"
     ]
    }
   ],
   "source": [
    "model_B_on_A.summary()"
   ]
  },
  {
   "cell_type": "code",
   "execution_count": 84,
   "id": "76ff45aa",
   "metadata": {
    "execution": {
     "iopub.execute_input": "2023-01-11T13:04:22.609155Z",
     "iopub.status.busy": "2023-01-11T13:04:22.608238Z",
     "iopub.status.idle": "2023-01-11T13:04:46.318221Z",
     "shell.execute_reply": "2023-01-11T13:04:46.319180Z",
     "shell.execute_reply.started": "2023-01-11T12:12:13.241665Z"
    },
    "papermill": {
     "duration": 30.818044,
     "end_time": "2023-01-11T13:04:46.319432",
     "exception": false,
     "start_time": "2023-01-11T13:04:15.501388",
     "status": "completed"
    },
    "tags": []
   },
   "outputs": [
    {
     "name": "stderr",
     "output_type": "stream",
     "text": [
      "2023-01-11 13:04:22.268474: I tensorflow/core/profiler/lib/profiler_session.cc:136] Profiler session initializing.\n",
      "2023-01-11 13:04:22.268525: I tensorflow/core/profiler/lib/profiler_session.cc:155] Profiler session started.\n",
      "2023-01-11 13:04:22.463431: I tensorflow/core/profiler/lib/profiler_session.cc:172] Profiler session tear down.\n",
      "2023-01-11 13:04:22.463576: I tensorflow/core/profiler/internal/gpu/cupti_tracer.cc:1487] CUPTI activity buffer flushed\n"
     ]
    },
    {
     "name": "stdout",
     "output_type": "stream",
     "text": [
      "Epoch 1/100\n",
      "  2/736 [..............................] - ETA: 2:37 - loss: nan - accuracy: 0.0000e+00"
     ]
    },
    {
     "name": "stderr",
     "output_type": "stream",
     "text": [
      "2023-01-11 13:04:23.286920: I tensorflow/core/profiler/lib/profiler_session.cc:136] Profiler session initializing.\n",
      "2023-01-11 13:04:23.286966: I tensorflow/core/profiler/lib/profiler_session.cc:155] Profiler session started.\n"
     ]
    },
    {
     "name": "stdout",
     "output_type": "stream",
     "text": [
      " 59/736 [=>............................] - ETA: 6s - loss: nan - accuracy: 0.0000e+00"
     ]
    },
    {
     "name": "stderr",
     "output_type": "stream",
     "text": [
      "2023-01-11 13:04:23.524961: I tensorflow/core/profiler/lib/profiler_session.cc:71] Profiler session collecting data.\n",
      "2023-01-11 13:04:23.525237: I tensorflow/core/profiler/internal/gpu/cupti_tracer.cc:1487] CUPTI activity buffer flushed\n",
      "2023-01-11 13:04:23.667134: I tensorflow/core/profiler/internal/gpu/cupti_collector.cc:228]  GpuTracer has collected 136 callback api events and 124 activity events. \n",
      "2023-01-11 13:04:23.672959: I tensorflow/core/profiler/lib/profiler_session.cc:172] Profiler session tear down.\n",
      "2023-01-11 13:04:23.678738: I tensorflow/core/profiler/rpc/client/save_profile.cc:137] Creating directory: ./my_logs/run_2023_01_11-13_04_22/train/plugins/profile/2023_01_11_13_04_23\n",
      "2023-01-11 13:04:23.682728: I tensorflow/core/profiler/rpc/client/save_profile.cc:143] Dumped gzipped tool data for trace.json.gz to ./my_logs/run_2023_01_11-13_04_22/train/plugins/profile/2023_01_11_13_04_23/c9ea16180903.trace.json.gz\n",
      "2023-01-11 13:04:23.688699: I tensorflow/core/profiler/rpc/client/save_profile.cc:137] Creating directory: ./my_logs/run_2023_01_11-13_04_22/train/plugins/profile/2023_01_11_13_04_23\n",
      "2023-01-11 13:04:23.689742: I tensorflow/core/profiler/rpc/client/save_profile.cc:143] Dumped gzipped tool data for memory_profile.json.gz to ./my_logs/run_2023_01_11-13_04_22/train/plugins/profile/2023_01_11_13_04_23/c9ea16180903.memory_profile.json.gz\n",
      "2023-01-11 13:04:23.690337: I tensorflow/core/profiler/rpc/client/capture_profile.cc:251] Creating directory: ./my_logs/run_2023_01_11-13_04_22/train/plugins/profile/2023_01_11_13_04_23Dumped tool data for xplane.pb to ./my_logs/run_2023_01_11-13_04_22/train/plugins/profile/2023_01_11_13_04_23/c9ea16180903.xplane.pb\n",
      "Dumped tool data for overview_page.pb to ./my_logs/run_2023_01_11-13_04_22/train/plugins/profile/2023_01_11_13_04_23/c9ea16180903.overview_page.pb\n",
      "Dumped tool data for input_pipeline.pb to ./my_logs/run_2023_01_11-13_04_22/train/plugins/profile/2023_01_11_13_04_23/c9ea16180903.input_pipeline.pb\n",
      "Dumped tool data for tensorflow_stats.pb to ./my_logs/run_2023_01_11-13_04_22/train/plugins/profile/2023_01_11_13_04_23/c9ea16180903.tensorflow_stats.pb\n",
      "Dumped tool data for kernel_stats.pb to ./my_logs/run_2023_01_11-13_04_22/train/plugins/profile/2023_01_11_13_04_23/c9ea16180903.kernel_stats.pb\n",
      "\n"
     ]
    },
    {
     "name": "stdout",
     "output_type": "stream",
     "text": [
      "736/736 [==============================] - 3s 4ms/step - loss: nan - accuracy: 0.0000e+00 - val_loss: nan - val_accuracy: 0.0000e+00\n",
      "Epoch 2/100\n",
      "736/736 [==============================] - 2s 3ms/step - loss: nan - accuracy: 0.0000e+00 - val_loss: nan - val_accuracy: 0.0000e+00\n",
      "Epoch 3/100\n",
      "736/736 [==============================] - 2s 3ms/step - loss: nan - accuracy: 0.0000e+00 - val_loss: nan - val_accuracy: 0.0000e+00\n",
      "Epoch 4/100\n",
      "736/736 [==============================] - 2s 3ms/step - loss: nan - accuracy: 0.0000e+00 - val_loss: nan - val_accuracy: 0.0000e+00\n",
      "Epoch 5/100\n",
      "736/736 [==============================] - 3s 3ms/step - loss: nan - accuracy: 0.0000e+00 - val_loss: nan - val_accuracy: 0.0000e+00\n",
      "Epoch 6/100\n",
      "736/736 [==============================] - 2s 3ms/step - loss: nan - accuracy: 0.0000e+00 - val_loss: nan - val_accuracy: 0.0000e+00\n",
      "Epoch 7/100\n",
      "736/736 [==============================] - 2s 3ms/step - loss: nan - accuracy: 0.0000e+00 - val_loss: nan - val_accuracy: 0.0000e+00\n",
      "Epoch 8/100\n",
      "736/736 [==============================] - 2s 3ms/step - loss: nan - accuracy: 0.0000e+00 - val_loss: nan - val_accuracy: 0.0000e+00\n",
      "Epoch 9/100\n",
      "736/736 [==============================] - 2s 3ms/step - loss: nan - accuracy: 0.0000e+00 - val_loss: nan - val_accuracy: 0.0000e+00\n",
      "Epoch 10/100\n",
      "736/736 [==============================] - 2s 3ms/step - loss: nan - accuracy: 0.0000e+00 - val_loss: nan - val_accuracy: 0.0000e+00\n"
     ]
    }
   ],
   "source": [
    "early_stopping=keras.callbacks.EarlyStopping(patience=10)\n",
    "checkpoint_cb=keras.callbacks.ModelCheckpoint('model_digit5To9TransferLearning',save_best_only=True)\n",
    "tensorboard_cv=keras.callbacks.TensorBoard(get_run_logdir())\n",
    "\n",
    "history=model_B_on_A.fit(X_train_B,y_train_B,\n",
    "                  epochs=100,\n",
    "                  validation_data=(X_valid_B,y_valid_B),\n",
    "                  callbacks=[checkpoint_cb,early_stopping,tensorboard_cv])"
   ]
  },
  {
   "cell_type": "code",
   "execution_count": 85,
   "id": "b515ee36",
   "metadata": {
    "execution": {
     "iopub.execute_input": "2023-01-11T13:04:59.901790Z",
     "iopub.status.busy": "2023-01-11T13:04:59.900870Z",
     "iopub.status.idle": "2023-01-11T13:05:00.663115Z",
     "shell.execute_reply": "2023-01-11T13:05:00.663570Z",
     "shell.execute_reply.started": "2023-01-11T12:09:19.585850Z"
    },
    "papermill": {
     "duration": 7.423033,
     "end_time": "2023-01-11T13:05:00.663733",
     "exception": false,
     "start_time": "2023-01-11T13:04:53.240700",
     "status": "completed"
    },
    "tags": []
   },
   "outputs": [
    {
     "data": {
      "image/png": "[encoded data removed]",
      "text/plain": [
       "<Figure size 432x288 with 1 Axes>"
      ]
     },
     "metadata": {
      "needs_background": "light"
     },
     "output_type": "display_data"
    },
    {
     "data": {
      "image/png": "[encoded data removed]",
      "text/plain": [
       "<Figure size 432x288 with 1 Axes>"
      ]
     },
     "metadata": {
      "needs_background": "light"
     },
     "output_type": "display_data"
    }
   ],
   "source": [
    "# summarize history for accuracy\n",
    "plt.plot(history.history['accuracy'])\n",
    "plt.plot(history.history['val_accuracy'])\n",
    "plt.title('model accuracy')\n",
    "plt.ylabel('accuracy')\n",
    "plt.xlabel('epoch')\n",
    "plt.legend(['train', 'test'], loc='upper left')\n",
    "plt.show()\n",
    "# summarize history for loss\n",
    "plt.plot(history.history['loss'])\n",
    "plt.plot(history.history['val_loss'])\n",
    "plt.title('model loss')\n",
    "plt.ylabel('loss')\n",
    "plt.xlabel('epoch')\n",
    "plt.legend(['train', 'test'], loc='upper left')\n",
    "plt.show()"
   ]
  },
  {
   "cell_type": "code",
   "execution_count": 86,
   "id": "9428f59f",
   "metadata": {
    "execution": {
     "iopub.execute_input": "2023-01-11T13:05:14.854618Z",
     "iopub.status.busy": "2023-01-11T13:05:14.853366Z",
     "iopub.status.idle": "2023-01-11T13:05:15.326490Z",
     "shell.execute_reply": "2023-01-11T13:05:15.325969Z",
     "shell.execute_reply.started": "2023-01-11T12:09:20.131959Z"
    },
    "papermill": {
     "duration": 7.212913,
     "end_time": "2023-01-11T13:05:15.326634",
     "exception": false,
     "start_time": "2023-01-11T13:05:08.113721",
     "status": "completed"
    },
    "tags": []
   },
   "outputs": [
    {
     "name": "stdout",
     "output_type": "stream",
     "text": [
      "152/152 [==============================] - 0s 3ms/step - loss: nan - accuracy: 0.0000e+00\n"
     ]
    }
   ],
   "source": [
    "loss,accuracy=model_B_on_A.evaluate(X_test_B,y_test_B)"
   ]
  },
  {
   "cell_type": "code",
   "execution_count": 87,
   "id": "7301dd05",
   "metadata": {
    "execution": {
     "iopub.execute_input": "2023-01-11T13:05:29.081113Z",
     "iopub.status.busy": "2023-01-11T13:05:29.080351Z",
     "iopub.status.idle": "2023-01-11T13:05:29.084358Z",
     "shell.execute_reply": "2023-01-11T13:05:29.083543Z",
     "shell.execute_reply.started": "2023-01-11T12:09:20.616629Z"
    },
    "papermill": {
     "duration": 6.965933,
     "end_time": "2023-01-11T13:05:29.084519",
     "exception": false,
     "start_time": "2023-01-11T13:05:22.118586",
     "status": "completed"
    },
    "tags": []
   },
   "outputs": [
    {
     "name": "stdout",
     "output_type": "stream",
     "text": [
      "Loss:  nan\n",
      "Accuracy:  0.0\n"
     ]
    }
   ],
   "source": [
    "print(\"Loss: \",loss)\n",
    "print(\"Accuracy: \",accuracy)"
   ]
  },
  {
   "cell_type": "code",
   "execution_count": 88,
   "id": "c2147ef7",
   "metadata": {
    "execution": {
     "iopub.execute_input": "2023-01-11T13:05:43.233901Z",
     "iopub.status.busy": "2023-01-11T13:05:43.232997Z",
     "iopub.status.idle": "2023-01-11T13:05:45.795232Z",
     "shell.execute_reply": "2023-01-11T13:05:45.794374Z",
     "shell.execute_reply.started": "2023-01-11T12:09:20.624107Z"
    },
    "papermill": {
     "duration": 10.030394,
     "end_time": "2023-01-11T13:05:45.795406",
     "exception": false,
     "start_time": "2023-01-11T13:05:35.765012",
     "status": "completed"
    },
    "tags": []
   },
   "outputs": [],
   "source": [
    "model.save('mode5To9TranferLearning')"
   ]
  },
  {
   "cell_type": "markdown",
   "id": "2bbf2338",
   "metadata": {
    "papermill": {
     "duration": 6.933754,
     "end_time": "2023-01-11T13:05:59.741266",
     "exception": false,
     "start_time": "2023-01-11T13:05:52.807512",
     "status": "completed"
    },
    "tags": []
   },
   "source": [
    "This result show that even we use the model we trained on another dataset but also give a result on the similar dataset"
   ]
  },
  {
   "cell_type": "code",
   "execution_count": null,
   "id": "be2c7a77",
   "metadata": {
    "papermill": {
     "duration": 7.324871,
     "end_time": "2023-01-11T13:06:13.713644",
     "exception": false,
     "start_time": "2023-01-11T13:06:06.388773",
     "status": "completed"
    },
    "tags": []
   },
   "outputs": [],
   "source": []
  }
 ],
 "metadata": {
  "kernelspec": {
   "display_name": "Python 3",
   "language": "python",
   "name": "python3"
  },
  "language_info": {
   "codemirror_mode": {
    "name": "ipython",
    "version": 3
   },
   "file_extension": ".py",
   "mimetype": "text/x-python",
   "name": "python",
   "nbconvert_exporter": "python",
   "pygments_lexer": "ipython3",
   "version": "3.7.10"
  },
  "papermill": {
   "default_parameters": {},
   "duration": 3099.515462,
   "end_time": "2023-01-11T13:06:23.311484",
   "environment_variables": {},
   "exception": null,
   "input_path": "__notebook__.ipynb",
   "output_path": "__notebook__.ipynb",
   "parameters": {},
   "start_time": "2023-01-11T12:14:43.796022",
   "version": "2.3.3"
  }
 },
 "nbformat": 4,
 "nbformat_minor": 5
}
